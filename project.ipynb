{
 "cells": [
  {
   "cell_type": "markdown",
   "metadata": {},
   "source": [
    "# Анализ рынка компьютерных игр"
   ]
  },
  {
   "cell_type": "markdown",
   "metadata": {},
   "source": [
    "**Шаг 1. Откроем файл с данными и изучим общую информацию**"
   ]
  },
  {
   "cell_type": "code",
   "execution_count": 1,
   "metadata": {},
   "outputs": [],
   "source": [
    "import pandas as pd"
   ]
  },
  {
   "cell_type": "code",
   "execution_count": 2,
   "metadata": {},
   "outputs": [],
   "source": [
    "import seaborn as sns"
   ]
  },
  {
   "cell_type": "code",
   "execution_count": 3,
   "metadata": {},
   "outputs": [],
   "source": [
    "import matplotlib.pyplot as plt"
   ]
  },
  {
   "cell_type": "code",
   "execution_count": 4,
   "metadata": {},
   "outputs": [],
   "source": [
    "import numpy as np\n",
    "import scipy.stats\n",
    "from scipy.stats import t"
   ]
  },
  {
   "cell_type": "code",
   "execution_count": 5,
   "metadata": {},
   "outputs": [],
   "source": [
    "df = pd.read_csv('/datasets/games.csv')"
   ]
  },
  {
   "cell_type": "code",
   "execution_count": 6,
   "metadata": {},
   "outputs": [
    {
     "data": {
      "text/html": [
       "<div>\n",
       "<style scoped>\n",
       "    .dataframe tbody tr th:only-of-type {\n",
       "        vertical-align: middle;\n",
       "    }\n",
       "\n",
       "    .dataframe tbody tr th {\n",
       "        vertical-align: top;\n",
       "    }\n",
       "\n",
       "    .dataframe thead th {\n",
       "        text-align: right;\n",
       "    }\n",
       "</style>\n",
       "<table border=\"1\" class=\"dataframe\">\n",
       "  <thead>\n",
       "    <tr style=\"text-align: right;\">\n",
       "      <th></th>\n",
       "      <th>Name</th>\n",
       "      <th>Platform</th>\n",
       "      <th>Year_of_Release</th>\n",
       "      <th>Genre</th>\n",
       "      <th>NA_sales</th>\n",
       "      <th>EU_sales</th>\n",
       "      <th>JP_sales</th>\n",
       "      <th>Other_sales</th>\n",
       "      <th>Critic_Score</th>\n",
       "      <th>User_Score</th>\n",
       "      <th>Rating</th>\n",
       "    </tr>\n",
       "  </thead>\n",
       "  <tbody>\n",
       "    <tr>\n",
       "      <th>0</th>\n",
       "      <td>Wii Sports</td>\n",
       "      <td>Wii</td>\n",
       "      <td>2006.0</td>\n",
       "      <td>Sports</td>\n",
       "      <td>41.36</td>\n",
       "      <td>28.96</td>\n",
       "      <td>3.77</td>\n",
       "      <td>8.45</td>\n",
       "      <td>76.0</td>\n",
       "      <td>8</td>\n",
       "      <td>E</td>\n",
       "    </tr>\n",
       "    <tr>\n",
       "      <th>1</th>\n",
       "      <td>Super Mario Bros.</td>\n",
       "      <td>NES</td>\n",
       "      <td>1985.0</td>\n",
       "      <td>Platform</td>\n",
       "      <td>29.08</td>\n",
       "      <td>3.58</td>\n",
       "      <td>6.81</td>\n",
       "      <td>0.77</td>\n",
       "      <td>NaN</td>\n",
       "      <td>NaN</td>\n",
       "      <td>NaN</td>\n",
       "    </tr>\n",
       "    <tr>\n",
       "      <th>2</th>\n",
       "      <td>Mario Kart Wii</td>\n",
       "      <td>Wii</td>\n",
       "      <td>2008.0</td>\n",
       "      <td>Racing</td>\n",
       "      <td>15.68</td>\n",
       "      <td>12.76</td>\n",
       "      <td>3.79</td>\n",
       "      <td>3.29</td>\n",
       "      <td>82.0</td>\n",
       "      <td>8.3</td>\n",
       "      <td>E</td>\n",
       "    </tr>\n",
       "    <tr>\n",
       "      <th>3</th>\n",
       "      <td>Wii Sports Resort</td>\n",
       "      <td>Wii</td>\n",
       "      <td>2009.0</td>\n",
       "      <td>Sports</td>\n",
       "      <td>15.61</td>\n",
       "      <td>10.93</td>\n",
       "      <td>3.28</td>\n",
       "      <td>2.95</td>\n",
       "      <td>80.0</td>\n",
       "      <td>8</td>\n",
       "      <td>E</td>\n",
       "    </tr>\n",
       "    <tr>\n",
       "      <th>4</th>\n",
       "      <td>Pokemon Red/Pokemon Blue</td>\n",
       "      <td>GB</td>\n",
       "      <td>1996.0</td>\n",
       "      <td>Role-Playing</td>\n",
       "      <td>11.27</td>\n",
       "      <td>8.89</td>\n",
       "      <td>10.22</td>\n",
       "      <td>1.00</td>\n",
       "      <td>NaN</td>\n",
       "      <td>NaN</td>\n",
       "      <td>NaN</td>\n",
       "    </tr>\n",
       "  </tbody>\n",
       "</table>\n",
       "</div>"
      ],
      "text/plain": [
       "                       Name Platform  Year_of_Release         Genre  NA_sales  \\\n",
       "0                Wii Sports      Wii           2006.0        Sports     41.36   \n",
       "1         Super Mario Bros.      NES           1985.0      Platform     29.08   \n",
       "2            Mario Kart Wii      Wii           2008.0        Racing     15.68   \n",
       "3         Wii Sports Resort      Wii           2009.0        Sports     15.61   \n",
       "4  Pokemon Red/Pokemon Blue       GB           1996.0  Role-Playing     11.27   \n",
       "\n",
       "   EU_sales  JP_sales  Other_sales  Critic_Score User_Score Rating  \n",
       "0     28.96      3.77         8.45          76.0          8      E  \n",
       "1      3.58      6.81         0.77           NaN        NaN    NaN  \n",
       "2     12.76      3.79         3.29          82.0        8.3      E  \n",
       "3     10.93      3.28         2.95          80.0          8      E  \n",
       "4      8.89     10.22         1.00           NaN        NaN    NaN  "
      ]
     },
     "execution_count": 6,
     "metadata": {},
     "output_type": "execute_result"
    }
   ],
   "source": [
    "df.head()"
   ]
  },
  {
   "cell_type": "code",
   "execution_count": 7,
   "metadata": {},
   "outputs": [
    {
     "name": "stdout",
     "output_type": "stream",
     "text": [
      "<class 'pandas.core.frame.DataFrame'>\n",
      "RangeIndex: 16715 entries, 0 to 16714\n",
      "Data columns (total 11 columns):\n",
      " #   Column           Non-Null Count  Dtype  \n",
      "---  ------           --------------  -----  \n",
      " 0   Name             16713 non-null  object \n",
      " 1   Platform         16715 non-null  object \n",
      " 2   Year_of_Release  16446 non-null  float64\n",
      " 3   Genre            16713 non-null  object \n",
      " 4   NA_sales         16715 non-null  float64\n",
      " 5   EU_sales         16715 non-null  float64\n",
      " 6   JP_sales         16715 non-null  float64\n",
      " 7   Other_sales      16715 non-null  float64\n",
      " 8   Critic_Score     8137 non-null   float64\n",
      " 9   User_Score       10014 non-null  object \n",
      " 10  Rating           9949 non-null   object \n",
      "dtypes: float64(6), object(5)\n",
      "memory usage: 1.4+ MB\n"
     ]
    }
   ],
   "source": [
    "df.info()"
   ]
  },
  {
   "cell_type": "code",
   "execution_count": 8,
   "metadata": {},
   "outputs": [
    {
     "data": {
      "text/html": [
       "<div>\n",
       "<style scoped>\n",
       "    .dataframe tbody tr th:only-of-type {\n",
       "        vertical-align: middle;\n",
       "    }\n",
       "\n",
       "    .dataframe tbody tr th {\n",
       "        vertical-align: top;\n",
       "    }\n",
       "\n",
       "    .dataframe thead th {\n",
       "        text-align: right;\n",
       "    }\n",
       "</style>\n",
       "<table border=\"1\" class=\"dataframe\">\n",
       "  <thead>\n",
       "    <tr style=\"text-align: right;\">\n",
       "      <th></th>\n",
       "      <th>Year_of_Release</th>\n",
       "      <th>NA_sales</th>\n",
       "      <th>EU_sales</th>\n",
       "      <th>JP_sales</th>\n",
       "      <th>Other_sales</th>\n",
       "      <th>Critic_Score</th>\n",
       "    </tr>\n",
       "  </thead>\n",
       "  <tbody>\n",
       "    <tr>\n",
       "      <th>count</th>\n",
       "      <td>16446.000000</td>\n",
       "      <td>16715.000000</td>\n",
       "      <td>16715.000000</td>\n",
       "      <td>16715.000000</td>\n",
       "      <td>16715.000000</td>\n",
       "      <td>8137.000000</td>\n",
       "    </tr>\n",
       "    <tr>\n",
       "      <th>mean</th>\n",
       "      <td>2006.484616</td>\n",
       "      <td>0.263377</td>\n",
       "      <td>0.145060</td>\n",
       "      <td>0.077617</td>\n",
       "      <td>0.047342</td>\n",
       "      <td>68.967679</td>\n",
       "    </tr>\n",
       "    <tr>\n",
       "      <th>std</th>\n",
       "      <td>5.877050</td>\n",
       "      <td>0.813604</td>\n",
       "      <td>0.503339</td>\n",
       "      <td>0.308853</td>\n",
       "      <td>0.186731</td>\n",
       "      <td>13.938165</td>\n",
       "    </tr>\n",
       "    <tr>\n",
       "      <th>min</th>\n",
       "      <td>1980.000000</td>\n",
       "      <td>0.000000</td>\n",
       "      <td>0.000000</td>\n",
       "      <td>0.000000</td>\n",
       "      <td>0.000000</td>\n",
       "      <td>13.000000</td>\n",
       "    </tr>\n",
       "    <tr>\n",
       "      <th>25%</th>\n",
       "      <td>2003.000000</td>\n",
       "      <td>0.000000</td>\n",
       "      <td>0.000000</td>\n",
       "      <td>0.000000</td>\n",
       "      <td>0.000000</td>\n",
       "      <td>60.000000</td>\n",
       "    </tr>\n",
       "    <tr>\n",
       "      <th>50%</th>\n",
       "      <td>2007.000000</td>\n",
       "      <td>0.080000</td>\n",
       "      <td>0.020000</td>\n",
       "      <td>0.000000</td>\n",
       "      <td>0.010000</td>\n",
       "      <td>71.000000</td>\n",
       "    </tr>\n",
       "    <tr>\n",
       "      <th>75%</th>\n",
       "      <td>2010.000000</td>\n",
       "      <td>0.240000</td>\n",
       "      <td>0.110000</td>\n",
       "      <td>0.040000</td>\n",
       "      <td>0.030000</td>\n",
       "      <td>79.000000</td>\n",
       "    </tr>\n",
       "    <tr>\n",
       "      <th>max</th>\n",
       "      <td>2016.000000</td>\n",
       "      <td>41.360000</td>\n",
       "      <td>28.960000</td>\n",
       "      <td>10.220000</td>\n",
       "      <td>10.570000</td>\n",
       "      <td>98.000000</td>\n",
       "    </tr>\n",
       "  </tbody>\n",
       "</table>\n",
       "</div>"
      ],
      "text/plain": [
       "       Year_of_Release      NA_sales      EU_sales      JP_sales  \\\n",
       "count     16446.000000  16715.000000  16715.000000  16715.000000   \n",
       "mean       2006.484616      0.263377      0.145060      0.077617   \n",
       "std           5.877050      0.813604      0.503339      0.308853   \n",
       "min        1980.000000      0.000000      0.000000      0.000000   \n",
       "25%        2003.000000      0.000000      0.000000      0.000000   \n",
       "50%        2007.000000      0.080000      0.020000      0.000000   \n",
       "75%        2010.000000      0.240000      0.110000      0.040000   \n",
       "max        2016.000000     41.360000     28.960000     10.220000   \n",
       "\n",
       "        Other_sales  Critic_Score  \n",
       "count  16715.000000   8137.000000  \n",
       "mean       0.047342     68.967679  \n",
       "std        0.186731     13.938165  \n",
       "min        0.000000     13.000000  \n",
       "25%        0.000000     60.000000  \n",
       "50%        0.010000     71.000000  \n",
       "75%        0.030000     79.000000  \n",
       "max       10.570000     98.000000  "
      ]
     },
     "execution_count": 8,
     "metadata": {},
     "output_type": "execute_result"
    }
   ],
   "source": [
    "df.describe()"
   ]
  },
  {
   "cell_type": "markdown",
   "metadata": {},
   "source": [
    "**Шаг 2. Подготовьте данные**"
   ]
  },
  {
   "cell_type": "code",
   "execution_count": 9,
   "metadata": {},
   "outputs": [],
   "source": [
    "#приведем все названия столбцов к единому нижнему регистру\n",
    "df.columns = df.columns.str.lower()"
   ]
  },
  {
   "cell_type": "code",
   "execution_count": 10,
   "metadata": {},
   "outputs": [
    {
     "data": {
      "text/plain": [
       "name                  2\n",
       "platform              0\n",
       "year_of_release     269\n",
       "genre                 2\n",
       "na_sales              0\n",
       "eu_sales              0\n",
       "jp_sales              0\n",
       "other_sales           0\n",
       "critic_score       8578\n",
       "user_score         6701\n",
       "rating             6766\n",
       "dtype: int64"
      ]
     },
     "execution_count": 10,
     "metadata": {},
     "output_type": "execute_result"
    }
   ],
   "source": [
    "#посмотрим на пропуски данных\n",
    "df.isna().sum()"
   ]
  },
  {
   "cell_type": "code",
   "execution_count": 11,
   "metadata": {},
   "outputs": [],
   "source": [
    "df['genre'] = df['genre'].fillna('Unknown Genre')"
   ]
  },
  {
   "cell_type": "code",
   "execution_count": 12,
   "metadata": {},
   "outputs": [
    {
     "data": {
      "text/plain": [
       "name                  0\n",
       "platform              0\n",
       "year_of_release     269\n",
       "genre                 0\n",
       "na_sales              0\n",
       "eu_sales              0\n",
       "jp_sales              0\n",
       "other_sales           0\n",
       "critic_score       8578\n",
       "user_score         6701\n",
       "rating             6766\n",
       "dtype: int64"
      ]
     },
     "execution_count": 12,
     "metadata": {},
     "output_type": "execute_result"
    }
   ],
   "source": [
    "df['name'] = df['name'].fillna('Unknown Name')\n",
    "df.isna().sum()"
   ]
  },
  {
   "cell_type": "code",
   "execution_count": 13,
   "metadata": {},
   "outputs": [
    {
     "data": {
      "text/html": [
       "<div>\n",
       "<style scoped>\n",
       "    .dataframe tbody tr th:only-of-type {\n",
       "        vertical-align: middle;\n",
       "    }\n",
       "\n",
       "    .dataframe tbody tr th {\n",
       "        vertical-align: top;\n",
       "    }\n",
       "\n",
       "    .dataframe thead th {\n",
       "        text-align: right;\n",
       "    }\n",
       "</style>\n",
       "<table border=\"1\" class=\"dataframe\">\n",
       "  <thead>\n",
       "    <tr style=\"text-align: right;\">\n",
       "      <th></th>\n",
       "      <th>name</th>\n",
       "      <th>platform</th>\n",
       "      <th>year_of_release</th>\n",
       "      <th>genre</th>\n",
       "      <th>na_sales</th>\n",
       "      <th>eu_sales</th>\n",
       "      <th>jp_sales</th>\n",
       "      <th>other_sales</th>\n",
       "      <th>critic_score</th>\n",
       "      <th>user_score</th>\n",
       "      <th>rating</th>\n",
       "    </tr>\n",
       "  </thead>\n",
       "  <tbody>\n",
       "    <tr>\n",
       "      <th>0</th>\n",
       "      <td>Wii Sports</td>\n",
       "      <td>Wii</td>\n",
       "      <td>2006</td>\n",
       "      <td>Sports</td>\n",
       "      <td>41.36</td>\n",
       "      <td>28.96</td>\n",
       "      <td>3.77</td>\n",
       "      <td>8.45</td>\n",
       "      <td>76.0</td>\n",
       "      <td>8</td>\n",
       "      <td>E</td>\n",
       "    </tr>\n",
       "    <tr>\n",
       "      <th>1</th>\n",
       "      <td>Super Mario Bros.</td>\n",
       "      <td>NES</td>\n",
       "      <td>1985</td>\n",
       "      <td>Platform</td>\n",
       "      <td>29.08</td>\n",
       "      <td>3.58</td>\n",
       "      <td>6.81</td>\n",
       "      <td>0.77</td>\n",
       "      <td>NaN</td>\n",
       "      <td>NaN</td>\n",
       "      <td>NaN</td>\n",
       "    </tr>\n",
       "    <tr>\n",
       "      <th>2</th>\n",
       "      <td>Mario Kart Wii</td>\n",
       "      <td>Wii</td>\n",
       "      <td>2008</td>\n",
       "      <td>Racing</td>\n",
       "      <td>15.68</td>\n",
       "      <td>12.76</td>\n",
       "      <td>3.79</td>\n",
       "      <td>3.29</td>\n",
       "      <td>82.0</td>\n",
       "      <td>8.3</td>\n",
       "      <td>E</td>\n",
       "    </tr>\n",
       "    <tr>\n",
       "      <th>3</th>\n",
       "      <td>Wii Sports Resort</td>\n",
       "      <td>Wii</td>\n",
       "      <td>2009</td>\n",
       "      <td>Sports</td>\n",
       "      <td>15.61</td>\n",
       "      <td>10.93</td>\n",
       "      <td>3.28</td>\n",
       "      <td>2.95</td>\n",
       "      <td>80.0</td>\n",
       "      <td>8</td>\n",
       "      <td>E</td>\n",
       "    </tr>\n",
       "    <tr>\n",
       "      <th>4</th>\n",
       "      <td>Pokemon Red/Pokemon Blue</td>\n",
       "      <td>GB</td>\n",
       "      <td>1996</td>\n",
       "      <td>Role-Playing</td>\n",
       "      <td>11.27</td>\n",
       "      <td>8.89</td>\n",
       "      <td>10.22</td>\n",
       "      <td>1.00</td>\n",
       "      <td>NaN</td>\n",
       "      <td>NaN</td>\n",
       "      <td>NaN</td>\n",
       "    </tr>\n",
       "  </tbody>\n",
       "</table>\n",
       "</div>"
      ],
      "text/plain": [
       "                       name platform  year_of_release         genre  na_sales  \\\n",
       "0                Wii Sports      Wii             2006        Sports     41.36   \n",
       "1         Super Mario Bros.      NES             1985      Platform     29.08   \n",
       "2            Mario Kart Wii      Wii             2008        Racing     15.68   \n",
       "3         Wii Sports Resort      Wii             2009        Sports     15.61   \n",
       "4  Pokemon Red/Pokemon Blue       GB             1996  Role-Playing     11.27   \n",
       "\n",
       "   eu_sales  jp_sales  other_sales  critic_score user_score rating  \n",
       "0     28.96      3.77         8.45          76.0          8      E  \n",
       "1      3.58      6.81         0.77           NaN        NaN    NaN  \n",
       "2     12.76      3.79         3.29          82.0        8.3      E  \n",
       "3     10.93      3.28         2.95          80.0          8      E  \n",
       "4      8.89     10.22         1.00           NaN        NaN    NaN  "
      ]
     },
     "execution_count": 13,
     "metadata": {},
     "output_type": "execute_result"
    }
   ],
   "source": [
    "df.dropna(subset=['year_of_release'], inplace=True)\n",
    "#год релиза приведем к соответствующему типу\n",
    "df['year_of_release'] = df['year_of_release'].astype(int)\n",
    "df.head()"
   ]
  },
  {
   "cell_type": "code",
   "execution_count": 14,
   "metadata": {},
   "outputs": [
    {
     "name": "stdout",
     "output_type": "stream",
     "text": [
      "genre\n",
      "Action           68.0\n",
      "Adventure        66.0\n",
      "Fighting         72.0\n",
      "Misc             69.0\n",
      "Platform         69.5\n",
      "Puzzle           70.0\n",
      "Racing           69.0\n",
      "Role-Playing     74.0\n",
      "Shooter          73.0\n",
      "Simulation       70.0\n",
      "Sports           75.0\n",
      "Strategy         73.0\n",
      "Unknown Genre     NaN\n",
      "Name: critic_score, dtype: float64\n"
     ]
    },
    {
     "data": {
      "text/html": [
       "<div>\n",
       "<style scoped>\n",
       "    .dataframe tbody tr th:only-of-type {\n",
       "        vertical-align: middle;\n",
       "    }\n",
       "\n",
       "    .dataframe tbody tr th {\n",
       "        vertical-align: top;\n",
       "    }\n",
       "\n",
       "    .dataframe thead th {\n",
       "        text-align: right;\n",
       "    }\n",
       "</style>\n",
       "<table border=\"1\" class=\"dataframe\">\n",
       "  <thead>\n",
       "    <tr style=\"text-align: right;\">\n",
       "      <th></th>\n",
       "      <th>name</th>\n",
       "      <th>platform</th>\n",
       "      <th>year_of_release</th>\n",
       "      <th>genre</th>\n",
       "      <th>na_sales</th>\n",
       "      <th>eu_sales</th>\n",
       "      <th>jp_sales</th>\n",
       "      <th>other_sales</th>\n",
       "      <th>critic_score</th>\n",
       "      <th>user_score</th>\n",
       "      <th>rating</th>\n",
       "    </tr>\n",
       "  </thead>\n",
       "  <tbody>\n",
       "    <tr>\n",
       "      <th>0</th>\n",
       "      <td>Wii Sports</td>\n",
       "      <td>Wii</td>\n",
       "      <td>2006</td>\n",
       "      <td>Sports</td>\n",
       "      <td>41.36</td>\n",
       "      <td>28.96</td>\n",
       "      <td>3.77</td>\n",
       "      <td>8.45</td>\n",
       "      <td>76.0</td>\n",
       "      <td>8</td>\n",
       "      <td>E</td>\n",
       "    </tr>\n",
       "    <tr>\n",
       "      <th>1</th>\n",
       "      <td>Super Mario Bros.</td>\n",
       "      <td>NES</td>\n",
       "      <td>1985</td>\n",
       "      <td>Platform</td>\n",
       "      <td>29.08</td>\n",
       "      <td>3.58</td>\n",
       "      <td>6.81</td>\n",
       "      <td>0.77</td>\n",
       "      <td>69.5</td>\n",
       "      <td>NaN</td>\n",
       "      <td>NaN</td>\n",
       "    </tr>\n",
       "    <tr>\n",
       "      <th>2</th>\n",
       "      <td>Mario Kart Wii</td>\n",
       "      <td>Wii</td>\n",
       "      <td>2008</td>\n",
       "      <td>Racing</td>\n",
       "      <td>15.68</td>\n",
       "      <td>12.76</td>\n",
       "      <td>3.79</td>\n",
       "      <td>3.29</td>\n",
       "      <td>82.0</td>\n",
       "      <td>8.3</td>\n",
       "      <td>E</td>\n",
       "    </tr>\n",
       "    <tr>\n",
       "      <th>3</th>\n",
       "      <td>Wii Sports Resort</td>\n",
       "      <td>Wii</td>\n",
       "      <td>2009</td>\n",
       "      <td>Sports</td>\n",
       "      <td>15.61</td>\n",
       "      <td>10.93</td>\n",
       "      <td>3.28</td>\n",
       "      <td>2.95</td>\n",
       "      <td>80.0</td>\n",
       "      <td>8</td>\n",
       "      <td>E</td>\n",
       "    </tr>\n",
       "    <tr>\n",
       "      <th>4</th>\n",
       "      <td>Pokemon Red/Pokemon Blue</td>\n",
       "      <td>GB</td>\n",
       "      <td>1996</td>\n",
       "      <td>Role-Playing</td>\n",
       "      <td>11.27</td>\n",
       "      <td>8.89</td>\n",
       "      <td>10.22</td>\n",
       "      <td>1.00</td>\n",
       "      <td>74.0</td>\n",
       "      <td>NaN</td>\n",
       "      <td>NaN</td>\n",
       "    </tr>\n",
       "  </tbody>\n",
       "</table>\n",
       "</div>"
      ],
      "text/plain": [
       "                       name platform  year_of_release         genre  na_sales  \\\n",
       "0                Wii Sports      Wii             2006        Sports     41.36   \n",
       "1         Super Mario Bros.      NES             1985      Platform     29.08   \n",
       "2            Mario Kart Wii      Wii             2008        Racing     15.68   \n",
       "3         Wii Sports Resort      Wii             2009        Sports     15.61   \n",
       "4  Pokemon Red/Pokemon Blue       GB             1996  Role-Playing     11.27   \n",
       "\n",
       "   eu_sales  jp_sales  other_sales  critic_score user_score rating  \n",
       "0     28.96      3.77         8.45          76.0          8      E  \n",
       "1      3.58      6.81         0.77          69.5        NaN    NaN  \n",
       "2     12.76      3.79         3.29          82.0        8.3      E  \n",
       "3     10.93      3.28         2.95          80.0          8      E  \n",
       "4      8.89     10.22         1.00          74.0        NaN    NaN  "
      ]
     },
     "execution_count": 14,
     "metadata": {},
     "output_type": "execute_result"
    }
   ],
   "source": [
    "medians = df.groupby('genre')['critic_score'].median()\n",
    "print(medians)\n",
    "row = df['genre'].unique()\n",
    "for i in row:\n",
    "    df.loc[df['genre'] == i, 'critic_score'] = df.loc[df['genre'] == i, 'critic_score'].fillna(medians[i])\n",
    "df.head()   "
   ]
  },
  {
   "cell_type": "code",
   "execution_count": 15,
   "metadata": {},
   "outputs": [
    {
     "data": {
      "text/plain": [
       "name                  0\n",
       "platform              0\n",
       "year_of_release       0\n",
       "genre                 0\n",
       "na_sales              0\n",
       "eu_sales              0\n",
       "jp_sales              0\n",
       "other_sales           0\n",
       "critic_score          2\n",
       "user_score         6607\n",
       "rating             6678\n",
       "dtype: int64"
      ]
     },
     "execution_count": 15,
     "metadata": {},
     "output_type": "execute_result"
    }
   ],
   "source": [
    "df.isna().sum()"
   ]
  },
  {
   "cell_type": "code",
   "execution_count": 16,
   "metadata": {},
   "outputs": [
    {
     "data": {
      "text/html": [
       "<div>\n",
       "<style scoped>\n",
       "    .dataframe tbody tr th:only-of-type {\n",
       "        vertical-align: middle;\n",
       "    }\n",
       "\n",
       "    .dataframe tbody tr th {\n",
       "        vertical-align: top;\n",
       "    }\n",
       "\n",
       "    .dataframe thead th {\n",
       "        text-align: right;\n",
       "    }\n",
       "</style>\n",
       "<table border=\"1\" class=\"dataframe\">\n",
       "  <thead>\n",
       "    <tr style=\"text-align: right;\">\n",
       "      <th></th>\n",
       "      <th>name</th>\n",
       "      <th>platform</th>\n",
       "      <th>year_of_release</th>\n",
       "      <th>genre</th>\n",
       "      <th>na_sales</th>\n",
       "      <th>eu_sales</th>\n",
       "      <th>jp_sales</th>\n",
       "      <th>other_sales</th>\n",
       "      <th>critic_score</th>\n",
       "      <th>user_score</th>\n",
       "      <th>rating</th>\n",
       "    </tr>\n",
       "  </thead>\n",
       "  <tbody>\n",
       "    <tr>\n",
       "      <th>659</th>\n",
       "      <td>Unknown Name</td>\n",
       "      <td>GEN</td>\n",
       "      <td>1993</td>\n",
       "      <td>Unknown Genre</td>\n",
       "      <td>1.78</td>\n",
       "      <td>0.53</td>\n",
       "      <td>0.00</td>\n",
       "      <td>0.08</td>\n",
       "      <td>NaN</td>\n",
       "      <td>NaN</td>\n",
       "      <td>NaN</td>\n",
       "    </tr>\n",
       "    <tr>\n",
       "      <th>14244</th>\n",
       "      <td>Unknown Name</td>\n",
       "      <td>GEN</td>\n",
       "      <td>1993</td>\n",
       "      <td>Unknown Genre</td>\n",
       "      <td>0.00</td>\n",
       "      <td>0.00</td>\n",
       "      <td>0.03</td>\n",
       "      <td>0.00</td>\n",
       "      <td>NaN</td>\n",
       "      <td>NaN</td>\n",
       "      <td>NaN</td>\n",
       "    </tr>\n",
       "  </tbody>\n",
       "</table>\n",
       "</div>"
      ],
      "text/plain": [
       "               name platform  year_of_release          genre  na_sales  \\\n",
       "659    Unknown Name      GEN             1993  Unknown Genre      1.78   \n",
       "14244  Unknown Name      GEN             1993  Unknown Genre      0.00   \n",
       "\n",
       "       eu_sales  jp_sales  other_sales  critic_score user_score rating  \n",
       "659        0.53      0.00         0.08           NaN        NaN    NaN  \n",
       "14244      0.00      0.03         0.00           NaN        NaN    NaN  "
      ]
     },
     "execution_count": 16,
     "metadata": {},
     "output_type": "execute_result"
    }
   ],
   "source": [
    "bool1 = pd.isnull(df['critic_score']) # Посмотрим на оставшиеся пропуски в critic_score. \n",
    "df[bool1]"
   ]
  },
  {
   "cell_type": "code",
   "execution_count": 17,
   "metadata": {},
   "outputs": [],
   "source": [
    "#dctuj 2 строки с пропусками и они практически не содержат данных, поэтому удалим их.\n",
    "df = df[df['critic_score'].notna()] \n"
   ]
  },
  {
   "cell_type": "code",
   "execution_count": 18,
   "metadata": {},
   "outputs": [
    {
     "data": {
      "text/plain": [
       "name                  0\n",
       "platform              0\n",
       "year_of_release       0\n",
       "genre                 0\n",
       "na_sales              0\n",
       "eu_sales              0\n",
       "jp_sales              0\n",
       "other_sales           0\n",
       "critic_score          0\n",
       "user_score         6605\n",
       "rating             6676\n",
       "dtype: int64"
      ]
     },
     "execution_count": 18,
     "metadata": {},
     "output_type": "execute_result"
    }
   ],
   "source": [
    "df.isna().sum()"
   ]
  },
  {
   "cell_type": "code",
   "execution_count": 19,
   "metadata": {},
   "outputs": [],
   "source": [
    "#Поскольку в столбце user_score имеются значения, требующие уточнения (tbd), то для начала очистим наши данные от данных, требующих уточнения\n",
    "tbd = df.loc[df['user_score'] == \"tbd\"]\n",
    "df = df.loc[df['user_score'] != \"tbd\"]\n",
    "#\"Очищенные\" данные переведем в числовой формат и заполним пропуски медианными значениями  в зависимости от жанра\n",
    "df['user_score'] = pd.to_numeric(df['user_score'])\n",
    "groups = df.groupby('genre')['user_score'].median()\n",
    "row = df['genre'].unique()\n",
    "for i in row:\n",
    "    df.loc[df['genre'] == i, 'user_score'] = df.loc[df['genre'] == i, 'user_score'].fillna(groups[i])\n",
    "\n",
    "#Теперь обработаем \"tbd-оценки\" пользователей. Для начала заменим \"tbd-оценки\" на значения типа NaN\n",
    "tbd['user_score'] = np.nan\n",
    "#Теперь сможем заменить значения Nan на медианные значения в зависимости от жанра \n",
    "row = tbd['genre'].unique()\n",
    "for i in row:\n",
    "    tbd.loc[tbd['genre'] == i, 'user_score'] = tbd.loc[tbd['genre'] == i, 'user_score'].fillna(groups[i])\n",
    "    \n",
    "#Теперь объединим обратно оба датафрейма\n",
    "frames = [df, tbd]\n",
    "df = pd.concat(frames)\n",
    "\n"
   ]
  },
  {
   "cell_type": "code",
   "execution_count": 20,
   "metadata": {},
   "outputs": [
    {
     "data": {
      "text/plain": [
       "name                  0\n",
       "platform              0\n",
       "year_of_release       0\n",
       "genre                 0\n",
       "na_sales              0\n",
       "eu_sales              0\n",
       "jp_sales              0\n",
       "other_sales           0\n",
       "critic_score          0\n",
       "user_score            0\n",
       "rating             6676\n",
       "dtype: int64"
      ]
     },
     "execution_count": 20,
     "metadata": {},
     "output_type": "execute_result"
    }
   ],
   "source": [
    "df.isna().sum()"
   ]
  },
  {
   "cell_type": "code",
   "execution_count": 21,
   "metadata": {},
   "outputs": [],
   "source": [
    "df['rating'] = df['rating'].fillna('no rating')"
   ]
  },
  {
   "cell_type": "code",
   "execution_count": 22,
   "metadata": {},
   "outputs": [
    {
     "data": {
      "text/plain": [
       "name               0\n",
       "platform           0\n",
       "year_of_release    0\n",
       "genre              0\n",
       "na_sales           0\n",
       "eu_sales           0\n",
       "jp_sales           0\n",
       "other_sales        0\n",
       "critic_score       0\n",
       "user_score         0\n",
       "rating             0\n",
       "dtype: int64"
      ]
     },
     "execution_count": 22,
     "metadata": {},
     "output_type": "execute_result"
    }
   ],
   "source": [
    "df.isna().sum()"
   ]
  },
  {
   "cell_type": "code",
   "execution_count": 23,
   "metadata": {},
   "outputs": [],
   "source": [
    "#Добавим столбец \"total_sales\"\n",
    "df['total_sales'] = df['na_sales'] + df['eu_sales'] + df['jp_sales'] + df['other_sales']"
   ]
  },
  {
   "cell_type": "code",
   "execution_count": 24,
   "metadata": {},
   "outputs": [
    {
     "data": {
      "text/html": [
       "<div>\n",
       "<style scoped>\n",
       "    .dataframe tbody tr th:only-of-type {\n",
       "        vertical-align: middle;\n",
       "    }\n",
       "\n",
       "    .dataframe tbody tr th {\n",
       "        vertical-align: top;\n",
       "    }\n",
       "\n",
       "    .dataframe thead th {\n",
       "        text-align: right;\n",
       "    }\n",
       "</style>\n",
       "<table border=\"1\" class=\"dataframe\">\n",
       "  <thead>\n",
       "    <tr style=\"text-align: right;\">\n",
       "      <th></th>\n",
       "      <th>name</th>\n",
       "      <th>platform</th>\n",
       "      <th>year_of_release</th>\n",
       "      <th>genre</th>\n",
       "      <th>na_sales</th>\n",
       "      <th>eu_sales</th>\n",
       "      <th>jp_sales</th>\n",
       "      <th>other_sales</th>\n",
       "      <th>critic_score</th>\n",
       "      <th>user_score</th>\n",
       "      <th>rating</th>\n",
       "      <th>total_sales</th>\n",
       "    </tr>\n",
       "  </thead>\n",
       "  <tbody>\n",
       "    <tr>\n",
       "      <th>0</th>\n",
       "      <td>Wii Sports</td>\n",
       "      <td>Wii</td>\n",
       "      <td>2006</td>\n",
       "      <td>Sports</td>\n",
       "      <td>41.36</td>\n",
       "      <td>28.96</td>\n",
       "      <td>3.77</td>\n",
       "      <td>8.45</td>\n",
       "      <td>76.0</td>\n",
       "      <td>8.0</td>\n",
       "      <td>E</td>\n",
       "      <td>82.54</td>\n",
       "    </tr>\n",
       "    <tr>\n",
       "      <th>1</th>\n",
       "      <td>Super Mario Bros.</td>\n",
       "      <td>NES</td>\n",
       "      <td>1985</td>\n",
       "      <td>Platform</td>\n",
       "      <td>29.08</td>\n",
       "      <td>3.58</td>\n",
       "      <td>6.81</td>\n",
       "      <td>0.77</td>\n",
       "      <td>69.5</td>\n",
       "      <td>7.7</td>\n",
       "      <td>no rating</td>\n",
       "      <td>40.24</td>\n",
       "    </tr>\n",
       "    <tr>\n",
       "      <th>2</th>\n",
       "      <td>Mario Kart Wii</td>\n",
       "      <td>Wii</td>\n",
       "      <td>2008</td>\n",
       "      <td>Racing</td>\n",
       "      <td>15.68</td>\n",
       "      <td>12.76</td>\n",
       "      <td>3.79</td>\n",
       "      <td>3.29</td>\n",
       "      <td>82.0</td>\n",
       "      <td>8.3</td>\n",
       "      <td>E</td>\n",
       "      <td>35.52</td>\n",
       "    </tr>\n",
       "    <tr>\n",
       "      <th>3</th>\n",
       "      <td>Wii Sports Resort</td>\n",
       "      <td>Wii</td>\n",
       "      <td>2009</td>\n",
       "      <td>Sports</td>\n",
       "      <td>15.61</td>\n",
       "      <td>10.93</td>\n",
       "      <td>3.28</td>\n",
       "      <td>2.95</td>\n",
       "      <td>80.0</td>\n",
       "      <td>8.0</td>\n",
       "      <td>E</td>\n",
       "      <td>32.77</td>\n",
       "    </tr>\n",
       "    <tr>\n",
       "      <th>4</th>\n",
       "      <td>Pokemon Red/Pokemon Blue</td>\n",
       "      <td>GB</td>\n",
       "      <td>1996</td>\n",
       "      <td>Role-Playing</td>\n",
       "      <td>11.27</td>\n",
       "      <td>8.89</td>\n",
       "      <td>10.22</td>\n",
       "      <td>1.00</td>\n",
       "      <td>74.0</td>\n",
       "      <td>7.8</td>\n",
       "      <td>no rating</td>\n",
       "      <td>31.38</td>\n",
       "    </tr>\n",
       "    <tr>\n",
       "      <th>5</th>\n",
       "      <td>Tetris</td>\n",
       "      <td>GB</td>\n",
       "      <td>1989</td>\n",
       "      <td>Puzzle</td>\n",
       "      <td>23.20</td>\n",
       "      <td>2.26</td>\n",
       "      <td>4.22</td>\n",
       "      <td>0.58</td>\n",
       "      <td>70.0</td>\n",
       "      <td>7.5</td>\n",
       "      <td>no rating</td>\n",
       "      <td>30.26</td>\n",
       "    </tr>\n",
       "    <tr>\n",
       "      <th>6</th>\n",
       "      <td>New Super Mario Bros.</td>\n",
       "      <td>DS</td>\n",
       "      <td>2006</td>\n",
       "      <td>Platform</td>\n",
       "      <td>11.28</td>\n",
       "      <td>9.14</td>\n",
       "      <td>6.50</td>\n",
       "      <td>2.88</td>\n",
       "      <td>89.0</td>\n",
       "      <td>8.5</td>\n",
       "      <td>E</td>\n",
       "      <td>29.80</td>\n",
       "    </tr>\n",
       "    <tr>\n",
       "      <th>7</th>\n",
       "      <td>Wii Play</td>\n",
       "      <td>Wii</td>\n",
       "      <td>2006</td>\n",
       "      <td>Misc</td>\n",
       "      <td>13.96</td>\n",
       "      <td>9.18</td>\n",
       "      <td>2.93</td>\n",
       "      <td>2.84</td>\n",
       "      <td>58.0</td>\n",
       "      <td>6.6</td>\n",
       "      <td>E</td>\n",
       "      <td>28.91</td>\n",
       "    </tr>\n",
       "    <tr>\n",
       "      <th>8</th>\n",
       "      <td>New Super Mario Bros. Wii</td>\n",
       "      <td>Wii</td>\n",
       "      <td>2009</td>\n",
       "      <td>Platform</td>\n",
       "      <td>14.44</td>\n",
       "      <td>6.94</td>\n",
       "      <td>4.70</td>\n",
       "      <td>2.24</td>\n",
       "      <td>87.0</td>\n",
       "      <td>8.4</td>\n",
       "      <td>E</td>\n",
       "      <td>28.32</td>\n",
       "    </tr>\n",
       "    <tr>\n",
       "      <th>9</th>\n",
       "      <td>Duck Hunt</td>\n",
       "      <td>NES</td>\n",
       "      <td>1984</td>\n",
       "      <td>Shooter</td>\n",
       "      <td>26.93</td>\n",
       "      <td>0.63</td>\n",
       "      <td>0.28</td>\n",
       "      <td>0.47</td>\n",
       "      <td>73.0</td>\n",
       "      <td>7.4</td>\n",
       "      <td>no rating</td>\n",
       "      <td>28.31</td>\n",
       "    </tr>\n",
       "  </tbody>\n",
       "</table>\n",
       "</div>"
      ],
      "text/plain": [
       "                        name platform  year_of_release         genre  \\\n",
       "0                 Wii Sports      Wii             2006        Sports   \n",
       "1          Super Mario Bros.      NES             1985      Platform   \n",
       "2             Mario Kart Wii      Wii             2008        Racing   \n",
       "3          Wii Sports Resort      Wii             2009        Sports   \n",
       "4   Pokemon Red/Pokemon Blue       GB             1996  Role-Playing   \n",
       "5                     Tetris       GB             1989        Puzzle   \n",
       "6      New Super Mario Bros.       DS             2006      Platform   \n",
       "7                   Wii Play      Wii             2006          Misc   \n",
       "8  New Super Mario Bros. Wii      Wii             2009      Platform   \n",
       "9                  Duck Hunt      NES             1984       Shooter   \n",
       "\n",
       "   na_sales  eu_sales  jp_sales  other_sales  critic_score  user_score  \\\n",
       "0     41.36     28.96      3.77         8.45          76.0         8.0   \n",
       "1     29.08      3.58      6.81         0.77          69.5         7.7   \n",
       "2     15.68     12.76      3.79         3.29          82.0         8.3   \n",
       "3     15.61     10.93      3.28         2.95          80.0         8.0   \n",
       "4     11.27      8.89     10.22         1.00          74.0         7.8   \n",
       "5     23.20      2.26      4.22         0.58          70.0         7.5   \n",
       "6     11.28      9.14      6.50         2.88          89.0         8.5   \n",
       "7     13.96      9.18      2.93         2.84          58.0         6.6   \n",
       "8     14.44      6.94      4.70         2.24          87.0         8.4   \n",
       "9     26.93      0.63      0.28         0.47          73.0         7.4   \n",
       "\n",
       "      rating  total_sales  \n",
       "0          E        82.54  \n",
       "1  no rating        40.24  \n",
       "2          E        35.52  \n",
       "3          E        32.77  \n",
       "4  no rating        31.38  \n",
       "5  no rating        30.26  \n",
       "6          E        29.80  \n",
       "7          E        28.91  \n",
       "8          E        28.32  \n",
       "9  no rating        28.31  "
      ]
     },
     "execution_count": 24,
     "metadata": {},
     "output_type": "execute_result"
    }
   ],
   "source": [
    "df.head(10)"
   ]
  },
  {
   "cell_type": "markdown",
   "metadata": {},
   "source": [
    "**Шаг 3. Проведите исследовательский анализ данных**"
   ]
  },
  {
   "cell_type": "code",
   "execution_count": 25,
   "metadata": {
    "scrolled": false
   },
   "outputs": [
    {
     "data": {
      "text/plain": [
       "year_of_release\n",
       "1980       9\n",
       "1981      46\n",
       "1982      36\n",
       "1983      17\n",
       "1984      14\n",
       "1985      14\n",
       "1986      21\n",
       "1987      16\n",
       "1988      15\n",
       "1989      17\n",
       "1990      16\n",
       "1991      41\n",
       "1992      43\n",
       "1993      60\n",
       "1994     121\n",
       "1995     219\n",
       "1996     263\n",
       "1997     289\n",
       "1998     379\n",
       "1999     338\n",
       "2000     350\n",
       "2001     482\n",
       "2002     829\n",
       "2003     775\n",
       "2004     762\n",
       "2005     939\n",
       "2006    1006\n",
       "2007    1197\n",
       "2008    1427\n",
       "2009    1426\n",
       "2010    1255\n",
       "2011    1136\n",
       "2012     653\n",
       "2013     544\n",
       "2014     581\n",
       "2015     606\n",
       "2016     502\n",
       "dtype: int64"
      ]
     },
     "execution_count": 25,
     "metadata": {},
     "output_type": "execute_result"
    }
   ],
   "source": [
    "# Кол-во игр, вышедших по годам\n",
    "df.groupby('year_of_release').size() "
   ]
  },
  {
   "cell_type": "code",
   "execution_count": 26,
   "metadata": {},
   "outputs": [
    {
     "data": {
      "text/plain": [
       "<AxesSubplot:xlabel='year_of_release'>"
      ]
     },
     "execution_count": 26,
     "metadata": {},
     "output_type": "execute_result"
    },
    {
     "data": {
      "image/png": "[encoded data removed]",
      "text/plain": [
       "<Figure size 1440x720 with 1 Axes>"
      ]
     },
     "metadata": {
      "needs_background": "light"
     },
     "output_type": "display_data"
    }
   ],
   "source": [
    "df.groupby('year_of_release').size().plot(kind='line', rot=45, figsize=(20,10))"
   ]
  },
  {
   "cell_type": "markdown",
   "metadata": {},
   "source": [
    "Как мы видим на графике, развитие индустрии компьютерных игр с середины 90-ых годов начинает устойчивый рост, с бурным пиком к 2007-2010 гг.  Затем наблюдается спад который обусловлен,  по видимому, вытеснением десктопных устройств мобильными гаджетами со своими игровыми сервисами.\n",
    "Наибольшую ценность для нас будут иметь данные начиная с 1994 по 2016 гг."
   ]
  },
  {
   "cell_type": "code",
   "execution_count": 27,
   "metadata": {},
   "outputs": [
    {
     "data": {
      "text/html": [
       "        <script type=\"text/javascript\">\n",
       "        window.PlotlyConfig = {MathJaxConfig: 'local'};\n",
       "        if (window.MathJax) {MathJax.Hub.Config({SVG: {font: \"STIX-Web\"}});}\n",
       "        if (typeof require !== 'undefined') {\n",
       "        require.undef(\"plotly\");\n",
       "        requirejs.config({\n",
       "            paths: {\n",
       "                'plotly': ['https://cdn.plot.ly/plotly-2.6.3.min']\n",
       "            }\n",
       "        });\n",
       "        require(['plotly'], function(Plotly) {\n",
       "            window._Plotly = Plotly;\n",
       "        });\n",
       "        }\n",
       "        </script>\n",
       "        "
      ]
     },
     "metadata": {},
     "output_type": "display_data"
    }
   ],
   "source": [
    "from plotly.offline import download_plotlyjs, init_notebook_mode, plot, iplot\n",
    "import plotly\n",
    "import plotly.graph_objs as go\n",
    "\n",
    "init_notebook_mode(connected=True)"
   ]
  },
  {
   "cell_type": "code",
   "execution_count": 28,
   "metadata": {},
   "outputs": [
    {
     "data": {
      "application/vnd.plotly.v1+json": {
       "config": {
        "linkText": "Export to plot.ly",
        "plotlyServerURL": "https://plot.ly",
        "showLink": false
       },
       "data": [
        {
         "type": "bar",
         "x": [
          "PS2",
          "X360",
          "PS3",
          "Wii",
          "DS",
          "PS",
          "PS4",
          "GBA",
          "PSP",
          "3DS",
          "PC",
          "GB",
          "XB",
          "NES",
          "N64",
          "SNES",
          "GC",
          "XOne",
          "2600",
          "WiiU",
          "PSV",
          "SAT",
          "GEN",
          "DC",
          "SCD",
          "NG",
          "WS",
          "TG16",
          "3DO",
          "GG",
          "PCFX"
         ],
         "y": [
          1233.5599999999822,
          961.2399999999982,
          931.3399999999984,
          891.179999999996,
          802.7799999999861,
          727.5799999999957,
          314.1399999999991,
          312.8799999999979,
          289.52999999999525,
          257.80999999999966,
          255.76000000000073,
          254.4299999999999,
          251.57000000000048,
          251.0499999999999,
          218.00999999999985,
          200.04000000000022,
          196.73000000000064,
          159.32,
          86.48000000000005,
          82.19,
          53.81000000000013,
          33.59000000000002,
          28.35,
          15.95,
          1.8600000000000003,
          1.4400000000000004,
          1.42,
          0.16,
          0.1,
          0.04,
          0.03
         ]
        }
       ],
       "layout": {
        "template": {
         "data": {
          "bar": [
           {
            "error_x": {
             "color": "#2a3f5f"
            },
            "error_y": {
             "color": "#2a3f5f"
            },
            "marker": {
             "line": {
              "color": "#E5ECF6",
              "width": 0.5
             },
             "pattern": {
              "fillmode": "overlay",
              "size": 10,
              "solidity": 0.2
             }
            },
            "type": "bar"
           }
          ],
          "barpolar": [
           {
            "marker": {
             "line": {
              "color": "#E5ECF6",
              "width": 0.5
             },
             "pattern": {
              "fillmode": "overlay",
              "size": 10,
              "solidity": 0.2
             }
            },
            "type": "barpolar"
           }
          ],
          "carpet": [
           {
            "aaxis": {
             "endlinecolor": "#2a3f5f",
             "gridcolor": "white",
             "linecolor": "white",
             "minorgridcolor": "white",
             "startlinecolor": "#2a3f5f"
            },
            "baxis": {
             "endlinecolor": "#2a3f5f",
             "gridcolor": "white",
             "linecolor": "white",
             "minorgridcolor": "white",
             "startlinecolor": "#2a3f5f"
            },
            "type": "carpet"
           }
          ],
          "choropleth": [
           {
            "colorbar": {
             "outlinewidth": 0,
             "ticks": ""
            },
            "type": "choropleth"
           }
          ],
          "contour": [
           {
            "colorbar": {
             "outlinewidth": 0,
             "ticks": ""
            },
            "colorscale": [
             [
              0,
              "#0d0887"
             ],
             [
              0.1111111111111111,
              "#46039f"
             ],
             [
              0.2222222222222222,
              "#7201a8"
             ],
             [
              0.3333333333333333,
              "#9c179e"
             ],
             [
              0.4444444444444444,
              "#bd3786"
             ],
             [
              0.5555555555555556,
              "#d8576b"
             ],
             [
              0.6666666666666666,
              "#ed7953"
             ],
             [
              0.7777777777777778,
              "#fb9f3a"
             ],
             [
              0.8888888888888888,
              "#fdca26"
             ],
             [
              1,
              "#f0f921"
             ]
            ],
            "type": "contour"
           }
          ],
          "contourcarpet": [
           {
            "colorbar": {
             "outlinewidth": 0,
             "ticks": ""
            },
            "type": "contourcarpet"
           }
          ],
          "heatmap": [
           {
            "colorbar": {
             "outlinewidth": 0,
             "ticks": ""
            },
            "colorscale": [
             [
              0,
              "#0d0887"
             ],
             [
              0.1111111111111111,
              "#46039f"
             ],
             [
              0.2222222222222222,
              "#7201a8"
             ],
             [
              0.3333333333333333,
              "#9c179e"
             ],
             [
              0.4444444444444444,
              "#bd3786"
             ],
             [
              0.5555555555555556,
              "#d8576b"
             ],
             [
              0.6666666666666666,
              "#ed7953"
             ],
             [
              0.7777777777777778,
              "#fb9f3a"
             ],
             [
              0.8888888888888888,
              "#fdca26"
             ],
             [
              1,
              "#f0f921"
             ]
            ],
            "type": "heatmap"
           }
          ],
          "heatmapgl": [
           {
            "colorbar": {
             "outlinewidth": 0,
             "ticks": ""
            },
            "colorscale": [
             [
              0,
              "#0d0887"
             ],
             [
              0.1111111111111111,
              "#46039f"
             ],
             [
              0.2222222222222222,
              "#7201a8"
             ],
             [
              0.3333333333333333,
              "#9c179e"
             ],
             [
              0.4444444444444444,
              "#bd3786"
             ],
             [
              0.5555555555555556,
              "#d8576b"
             ],
             [
              0.6666666666666666,
              "#ed7953"
             ],
             [
              0.7777777777777778,
              "#fb9f3a"
             ],
             [
              0.8888888888888888,
              "#fdca26"
             ],
             [
              1,
              "#f0f921"
             ]
            ],
            "type": "heatmapgl"
           }
          ],
          "histogram": [
           {
            "marker": {
             "pattern": {
              "fillmode": "overlay",
              "size": 10,
              "solidity": 0.2
             }
            },
            "type": "histogram"
           }
          ],
          "histogram2d": [
           {
            "colorbar": {
             "outlinewidth": 0,
             "ticks": ""
            },
            "colorscale": [
             [
              0,
              "#0d0887"
             ],
             [
              0.1111111111111111,
              "#46039f"
             ],
             [
              0.2222222222222222,
              "#7201a8"
             ],
             [
              0.3333333333333333,
              "#9c179e"
             ],
             [
              0.4444444444444444,
              "#bd3786"
             ],
             [
              0.5555555555555556,
              "#d8576b"
             ],
             [
              0.6666666666666666,
              "#ed7953"
             ],
             [
              0.7777777777777778,
              "#fb9f3a"
             ],
             [
              0.8888888888888888,
              "#fdca26"
             ],
             [
              1,
              "#f0f921"
             ]
            ],
            "type": "histogram2d"
           }
          ],
          "histogram2dcontour": [
           {
            "colorbar": {
             "outlinewidth": 0,
             "ticks": ""
            },
            "colorscale": [
             [
              0,
              "#0d0887"
             ],
             [
              0.1111111111111111,
              "#46039f"
             ],
             [
              0.2222222222222222,
              "#7201a8"
             ],
             [
              0.3333333333333333,
              "#9c179e"
             ],
             [
              0.4444444444444444,
              "#bd3786"
             ],
             [
              0.5555555555555556,
              "#d8576b"
             ],
             [
              0.6666666666666666,
              "#ed7953"
             ],
             [
              0.7777777777777778,
              "#fb9f3a"
             ],
             [
              0.8888888888888888,
              "#fdca26"
             ],
             [
              1,
              "#f0f921"
             ]
            ],
            "type": "histogram2dcontour"
           }
          ],
          "mesh3d": [
           {
            "colorbar": {
             "outlinewidth": 0,
             "ticks": ""
            },
            "type": "mesh3d"
           }
          ],
          "parcoords": [
           {
            "line": {
             "colorbar": {
              "outlinewidth": 0,
              "ticks": ""
             }
            },
            "type": "parcoords"
           }
          ],
          "pie": [
           {
            "automargin": true,
            "type": "pie"
           }
          ],
          "scatter": [
           {
            "marker": {
             "colorbar": {
              "outlinewidth": 0,
              "ticks": ""
             }
            },
            "type": "scatter"
           }
          ],
          "scatter3d": [
           {
            "line": {
             "colorbar": {
              "outlinewidth": 0,
              "ticks": ""
             }
            },
            "marker": {
             "colorbar": {
              "outlinewidth": 0,
              "ticks": ""
             }
            },
            "type": "scatter3d"
           }
          ],
          "scattercarpet": [
           {
            "marker": {
             "colorbar": {
              "outlinewidth": 0,
              "ticks": ""
             }
            },
            "type": "scattercarpet"
           }
          ],
          "scattergeo": [
           {
            "marker": {
             "colorbar": {
              "outlinewidth": 0,
              "ticks": ""
             }
            },
            "type": "scattergeo"
           }
          ],
          "scattergl": [
           {
            "marker": {
             "colorbar": {
              "outlinewidth": 0,
              "ticks": ""
             }
            },
            "type": "scattergl"
           }
          ],
          "scattermapbox": [
           {
            "marker": {
             "colorbar": {
              "outlinewidth": 0,
              "ticks": ""
             }
            },
            "type": "scattermapbox"
           }
          ],
          "scatterpolar": [
           {
            "marker": {
             "colorbar": {
              "outlinewidth": 0,
              "ticks": ""
             }
            },
            "type": "scatterpolar"
           }
          ],
          "scatterpolargl": [
           {
            "marker": {
             "colorbar": {
              "outlinewidth": 0,
              "ticks": ""
             }
            },
            "type": "scatterpolargl"
           }
          ],
          "scatterternary": [
           {
            "marker": {
             "colorbar": {
              "outlinewidth": 0,
              "ticks": ""
             }
            },
            "type": "scatterternary"
           }
          ],
          "surface": [
           {
            "colorbar": {
             "outlinewidth": 0,
             "ticks": ""
            },
            "colorscale": [
             [
              0,
              "#0d0887"
             ],
             [
              0.1111111111111111,
              "#46039f"
             ],
             [
              0.2222222222222222,
              "#7201a8"
             ],
             [
              0.3333333333333333,
              "#9c179e"
             ],
             [
              0.4444444444444444,
              "#bd3786"
             ],
             [
              0.5555555555555556,
              "#d8576b"
             ],
             [
              0.6666666666666666,
              "#ed7953"
             ],
             [
              0.7777777777777778,
              "#fb9f3a"
             ],
             [
              0.8888888888888888,
              "#fdca26"
             ],
             [
              1,
              "#f0f921"
             ]
            ],
            "type": "surface"
           }
          ],
          "table": [
           {
            "cells": {
             "fill": {
              "color": "#EBF0F8"
             },
             "line": {
              "color": "white"
             }
            },
            "header": {
             "fill": {
              "color": "#C8D4E3"
             },
             "line": {
              "color": "white"
             }
            },
            "type": "table"
           }
          ]
         },
         "layout": {
          "annotationdefaults": {
           "arrowcolor": "#2a3f5f",
           "arrowhead": 0,
           "arrowwidth": 1
          },
          "autotypenumbers": "strict",
          "coloraxis": {
           "colorbar": {
            "outlinewidth": 0,
            "ticks": ""
           }
          },
          "colorscale": {
           "diverging": [
            [
             0,
             "#8e0152"
            ],
            [
             0.1,
             "#c51b7d"
            ],
            [
             0.2,
             "#de77ae"
            ],
            [
             0.3,
             "#f1b6da"
            ],
            [
             0.4,
             "#fde0ef"
            ],
            [
             0.5,
             "#f7f7f7"
            ],
            [
             0.6,
             "#e6f5d0"
            ],
            [
             0.7,
             "#b8e186"
            ],
            [
             0.8,
             "#7fbc41"
            ],
            [
             0.9,
             "#4d9221"
            ],
            [
             1,
             "#276419"
            ]
           ],
           "sequential": [
            [
             0,
             "#0d0887"
            ],
            [
             0.1111111111111111,
             "#46039f"
            ],
            [
             0.2222222222222222,
             "#7201a8"
            ],
            [
             0.3333333333333333,
             "#9c179e"
            ],
            [
             0.4444444444444444,
             "#bd3786"
            ],
            [
             0.5555555555555556,
             "#d8576b"
            ],
            [
             0.6666666666666666,
             "#ed7953"
            ],
            [
             0.7777777777777778,
             "#fb9f3a"
            ],
            [
             0.8888888888888888,
             "#fdca26"
            ],
            [
             1,
             "#f0f921"
            ]
           ],
           "sequentialminus": [
            [
             0,
             "#0d0887"
            ],
            [
             0.1111111111111111,
             "#46039f"
            ],
            [
             0.2222222222222222,
             "#7201a8"
            ],
            [
             0.3333333333333333,
             "#9c179e"
            ],
            [
             0.4444444444444444,
             "#bd3786"
            ],
            [
             0.5555555555555556,
             "#d8576b"
            ],
            [
             0.6666666666666666,
             "#ed7953"
            ],
            [
             0.7777777777777778,
             "#fb9f3a"
            ],
            [
             0.8888888888888888,
             "#fdca26"
            ],
            [
             1,
             "#f0f921"
            ]
           ]
          },
          "colorway": [
           "#636efa",
           "#EF553B",
           "#00cc96",
           "#ab63fa",
           "#FFA15A",
           "#19d3f3",
           "#FF6692",
           "#B6E880",
           "#FF97FF",
           "#FECB52"
          ],
          "font": {
           "color": "#2a3f5f"
          },
          "geo": {
           "bgcolor": "white",
           "lakecolor": "white",
           "landcolor": "#E5ECF6",
           "showlakes": true,
           "showland": true,
           "subunitcolor": "white"
          },
          "hoverlabel": {
           "align": "left"
          },
          "hovermode": "closest",
          "mapbox": {
           "style": "light"
          },
          "paper_bgcolor": "white",
          "plot_bgcolor": "#E5ECF6",
          "polar": {
           "angularaxis": {
            "gridcolor": "white",
            "linecolor": "white",
            "ticks": ""
           },
           "bgcolor": "#E5ECF6",
           "radialaxis": {
            "gridcolor": "white",
            "linecolor": "white",
            "ticks": ""
           }
          },
          "scene": {
           "xaxis": {
            "backgroundcolor": "#E5ECF6",
            "gridcolor": "white",
            "gridwidth": 2,
            "linecolor": "white",
            "showbackground": true,
            "ticks": "",
            "zerolinecolor": "white"
           },
           "yaxis": {
            "backgroundcolor": "#E5ECF6",
            "gridcolor": "white",
            "gridwidth": 2,
            "linecolor": "white",
            "showbackground": true,
            "ticks": "",
            "zerolinecolor": "white"
           },
           "zaxis": {
            "backgroundcolor": "#E5ECF6",
            "gridcolor": "white",
            "gridwidth": 2,
            "linecolor": "white",
            "showbackground": true,
            "ticks": "",
            "zerolinecolor": "white"
           }
          },
          "shapedefaults": {
           "line": {
            "color": "#2a3f5f"
           }
          },
          "ternary": {
           "aaxis": {
            "gridcolor": "white",
            "linecolor": "white",
            "ticks": ""
           },
           "baxis": {
            "gridcolor": "white",
            "linecolor": "white",
            "ticks": ""
           },
           "bgcolor": "#E5ECF6",
           "caxis": {
            "gridcolor": "white",
            "linecolor": "white",
            "ticks": ""
           }
          },
          "title": {
           "x": 0.05
          },
          "xaxis": {
           "automargin": true,
           "gridcolor": "white",
           "linecolor": "white",
           "ticks": "",
           "title": {
            "standoff": 15
           },
           "zerolinecolor": "white",
           "zerolinewidth": 2
          },
          "yaxis": {
           "automargin": true,
           "gridcolor": "white",
           "linecolor": "white",
           "ticks": "",
           "title": {
            "standoff": 15
           },
           "zerolinecolor": "white",
           "zerolinewidth": 2
          }
         }
        },
        "title": {
         "text": "Общая выручка по платформам"
        },
        "xaxis": {
         "title": {
          "text": "platform"
         }
        }
       }
      },
      "text/html": [
       "<div>                            <div id=\"5edbc6ba-4267-49f3-b1a8-38a9b2288a38\" class=\"plotly-graph-div\" style=\"height:525px; width:100%;\"></div>            <script type=\"text/javascript\">                require([\"plotly\"], function(Plotly) {                    window.PLOTLYENV=window.PLOTLYENV || {};                                    if (document.getElementById(\"5edbc6ba-4267-49f3-b1a8-38a9b2288a38\")) {                    Plotly.newPlot(                        \"5edbc6ba-4267-49f3-b1a8-38a9b2288a38\",                        [{\"x\":[\"PS2\",\"X360\",\"PS3\",\"Wii\",\"DS\",\"PS\",\"PS4\",\"GBA\",\"PSP\",\"3DS\",\"PC\",\"GB\",\"XB\",\"NES\",\"N64\",\"SNES\",\"GC\",\"XOne\",\"2600\",\"WiiU\",\"PSV\",\"SAT\",\"GEN\",\"DC\",\"SCD\",\"NG\",\"WS\",\"TG16\",\"3DO\",\"GG\",\"PCFX\"],\"y\":[1233.5599999999822,961.2399999999982,931.3399999999984,891.179999999996,802.7799999999861,727.5799999999957,314.1399999999991,312.8799999999979,289.52999999999525,257.80999999999966,255.76000000000073,254.4299999999999,251.57000000000048,251.0499999999999,218.00999999999985,200.04000000000022,196.73000000000064,159.32,86.48000000000005,82.19,53.81000000000013,33.59000000000002,28.35,15.95,1.8600000000000003,1.4400000000000004,1.42,0.16,0.1,0.04,0.03],\"type\":\"bar\"}],                        {\"template\":{\"data\":{\"barpolar\":[{\"marker\":{\"line\":{\"color\":\"#E5ECF6\",\"width\":0.5},\"pattern\":{\"fillmode\":\"overlay\",\"size\":10,\"solidity\":0.2}},\"type\":\"barpolar\"}],\"bar\":[{\"error_x\":{\"color\":\"#2a3f5f\"},\"error_y\":{\"color\":\"#2a3f5f\"},\"marker\":{\"line\":{\"color\":\"#E5ECF6\",\"width\":0.5},\"pattern\":{\"fillmode\":\"overlay\",\"size\":10,\"solidity\":0.2}},\"type\":\"bar\"}],\"carpet\":[{\"aaxis\":{\"endlinecolor\":\"#2a3f5f\",\"gridcolor\":\"white\",\"linecolor\":\"white\",\"minorgridcolor\":\"white\",\"startlinecolor\":\"#2a3f5f\"},\"baxis\":{\"endlinecolor\":\"#2a3f5f\",\"gridcolor\":\"white\",\"linecolor\":\"white\",\"minorgridcolor\":\"white\",\"startlinecolor\":\"#2a3f5f\"},\"type\":\"carpet\"}],\"choropleth\":[{\"colorbar\":{\"outlinewidth\":0,\"ticks\":\"\"},\"type\":\"choropleth\"}],\"contourcarpet\":[{\"colorbar\":{\"outlinewidth\":0,\"ticks\":\"\"},\"type\":\"contourcarpet\"}],\"contour\":[{\"colorbar\":{\"outlinewidth\":0,\"ticks\":\"\"},\"colorscale\":[[0.0,\"#0d0887\"],[0.1111111111111111,\"#46039f\"],[0.2222222222222222,\"#7201a8\"],[0.3333333333333333,\"#9c179e\"],[0.4444444444444444,\"#bd3786\"],[0.5555555555555556,\"#d8576b\"],[0.6666666666666666,\"#ed7953\"],[0.7777777777777778,\"#fb9f3a\"],[0.8888888888888888,\"#fdca26\"],[1.0,\"#f0f921\"]],\"type\":\"contour\"}],\"heatmapgl\":[{\"colorbar\":{\"outlinewidth\":0,\"ticks\":\"\"},\"colorscale\":[[0.0,\"#0d0887\"],[0.1111111111111111,\"#46039f\"],[0.2222222222222222,\"#7201a8\"],[0.3333333333333333,\"#9c179e\"],[0.4444444444444444,\"#bd3786\"],[0.5555555555555556,\"#d8576b\"],[0.6666666666666666,\"#ed7953\"],[0.7777777777777778,\"#fb9f3a\"],[0.8888888888888888,\"#fdca26\"],[1.0,\"#f0f921\"]],\"type\":\"heatmapgl\"}],\"heatmap\":[{\"colorbar\":{\"outlinewidth\":0,\"ticks\":\"\"},\"colorscale\":[[0.0,\"#0d0887\"],[0.1111111111111111,\"#46039f\"],[0.2222222222222222,\"#7201a8\"],[0.3333333333333333,\"#9c179e\"],[0.4444444444444444,\"#bd3786\"],[0.5555555555555556,\"#d8576b\"],[0.6666666666666666,\"#ed7953\"],[0.7777777777777778,\"#fb9f3a\"],[0.8888888888888888,\"#fdca26\"],[1.0,\"#f0f921\"]],\"type\":\"heatmap\"}],\"histogram2dcontour\":[{\"colorbar\":{\"outlinewidth\":0,\"ticks\":\"\"},\"colorscale\":[[0.0,\"#0d0887\"],[0.1111111111111111,\"#46039f\"],[0.2222222222222222,\"#7201a8\"],[0.3333333333333333,\"#9c179e\"],[0.4444444444444444,\"#bd3786\"],[0.5555555555555556,\"#d8576b\"],[0.6666666666666666,\"#ed7953\"],[0.7777777777777778,\"#fb9f3a\"],[0.8888888888888888,\"#fdca26\"],[1.0,\"#f0f921\"]],\"type\":\"histogram2dcontour\"}],\"histogram2d\":[{\"colorbar\":{\"outlinewidth\":0,\"ticks\":\"\"},\"colorscale\":[[0.0,\"#0d0887\"],[0.1111111111111111,\"#46039f\"],[0.2222222222222222,\"#7201a8\"],[0.3333333333333333,\"#9c179e\"],[0.4444444444444444,\"#bd3786\"],[0.5555555555555556,\"#d8576b\"],[0.6666666666666666,\"#ed7953\"],[0.7777777777777778,\"#fb9f3a\"],[0.8888888888888888,\"#fdca26\"],[1.0,\"#f0f921\"]],\"type\":\"histogram2d\"}],\"histogram\":[{\"marker\":{\"pattern\":{\"fillmode\":\"overlay\",\"size\":10,\"solidity\":0.2}},\"type\":\"histogram\"}],\"mesh3d\":[{\"colorbar\":{\"outlinewidth\":0,\"ticks\":\"\"},\"type\":\"mesh3d\"}],\"parcoords\":[{\"line\":{\"colorbar\":{\"outlinewidth\":0,\"ticks\":\"\"}},\"type\":\"parcoords\"}],\"pie\":[{\"automargin\":true,\"type\":\"pie\"}],\"scatter3d\":[{\"line\":{\"colorbar\":{\"outlinewidth\":0,\"ticks\":\"\"}},\"marker\":{\"colorbar\":{\"outlinewidth\":0,\"ticks\":\"\"}},\"type\":\"scatter3d\"}],\"scattercarpet\":[{\"marker\":{\"colorbar\":{\"outlinewidth\":0,\"ticks\":\"\"}},\"type\":\"scattercarpet\"}],\"scattergeo\":[{\"marker\":{\"colorbar\":{\"outlinewidth\":0,\"ticks\":\"\"}},\"type\":\"scattergeo\"}],\"scattergl\":[{\"marker\":{\"colorbar\":{\"outlinewidth\":0,\"ticks\":\"\"}},\"type\":\"scattergl\"}],\"scattermapbox\":[{\"marker\":{\"colorbar\":{\"outlinewidth\":0,\"ticks\":\"\"}},\"type\":\"scattermapbox\"}],\"scatterpolargl\":[{\"marker\":{\"colorbar\":{\"outlinewidth\":0,\"ticks\":\"\"}},\"type\":\"scatterpolargl\"}],\"scatterpolar\":[{\"marker\":{\"colorbar\":{\"outlinewidth\":0,\"ticks\":\"\"}},\"type\":\"scatterpolar\"}],\"scatter\":[{\"marker\":{\"colorbar\":{\"outlinewidth\":0,\"ticks\":\"\"}},\"type\":\"scatter\"}],\"scatterternary\":[{\"marker\":{\"colorbar\":{\"outlinewidth\":0,\"ticks\":\"\"}},\"type\":\"scatterternary\"}],\"surface\":[{\"colorbar\":{\"outlinewidth\":0,\"ticks\":\"\"},\"colorscale\":[[0.0,\"#0d0887\"],[0.1111111111111111,\"#46039f\"],[0.2222222222222222,\"#7201a8\"],[0.3333333333333333,\"#9c179e\"],[0.4444444444444444,\"#bd3786\"],[0.5555555555555556,\"#d8576b\"],[0.6666666666666666,\"#ed7953\"],[0.7777777777777778,\"#fb9f3a\"],[0.8888888888888888,\"#fdca26\"],[1.0,\"#f0f921\"]],\"type\":\"surface\"}],\"table\":[{\"cells\":{\"fill\":{\"color\":\"#EBF0F8\"},\"line\":{\"color\":\"white\"}},\"header\":{\"fill\":{\"color\":\"#C8D4E3\"},\"line\":{\"color\":\"white\"}},\"type\":\"table\"}]},\"layout\":{\"annotationdefaults\":{\"arrowcolor\":\"#2a3f5f\",\"arrowhead\":0,\"arrowwidth\":1},\"autotypenumbers\":\"strict\",\"coloraxis\":{\"colorbar\":{\"outlinewidth\":0,\"ticks\":\"\"}},\"colorscale\":{\"diverging\":[[0,\"#8e0152\"],[0.1,\"#c51b7d\"],[0.2,\"#de77ae\"],[0.3,\"#f1b6da\"],[0.4,\"#fde0ef\"],[0.5,\"#f7f7f7\"],[0.6,\"#e6f5d0\"],[0.7,\"#b8e186\"],[0.8,\"#7fbc41\"],[0.9,\"#4d9221\"],[1,\"#276419\"]],\"sequential\":[[0.0,\"#0d0887\"],[0.1111111111111111,\"#46039f\"],[0.2222222222222222,\"#7201a8\"],[0.3333333333333333,\"#9c179e\"],[0.4444444444444444,\"#bd3786\"],[0.5555555555555556,\"#d8576b\"],[0.6666666666666666,\"#ed7953\"],[0.7777777777777778,\"#fb9f3a\"],[0.8888888888888888,\"#fdca26\"],[1.0,\"#f0f921\"]],\"sequentialminus\":[[0.0,\"#0d0887\"],[0.1111111111111111,\"#46039f\"],[0.2222222222222222,\"#7201a8\"],[0.3333333333333333,\"#9c179e\"],[0.4444444444444444,\"#bd3786\"],[0.5555555555555556,\"#d8576b\"],[0.6666666666666666,\"#ed7953\"],[0.7777777777777778,\"#fb9f3a\"],[0.8888888888888888,\"#fdca26\"],[1.0,\"#f0f921\"]]},\"colorway\":[\"#636efa\",\"#EF553B\",\"#00cc96\",\"#ab63fa\",\"#FFA15A\",\"#19d3f3\",\"#FF6692\",\"#B6E880\",\"#FF97FF\",\"#FECB52\"],\"font\":{\"color\":\"#2a3f5f\"},\"geo\":{\"bgcolor\":\"white\",\"lakecolor\":\"white\",\"landcolor\":\"#E5ECF6\",\"showlakes\":true,\"showland\":true,\"subunitcolor\":\"white\"},\"hoverlabel\":{\"align\":\"left\"},\"hovermode\":\"closest\",\"mapbox\":{\"style\":\"light\"},\"paper_bgcolor\":\"white\",\"plot_bgcolor\":\"#E5ECF6\",\"polar\":{\"angularaxis\":{\"gridcolor\":\"white\",\"linecolor\":\"white\",\"ticks\":\"\"},\"bgcolor\":\"#E5ECF6\",\"radialaxis\":{\"gridcolor\":\"white\",\"linecolor\":\"white\",\"ticks\":\"\"}},\"scene\":{\"xaxis\":{\"backgroundcolor\":\"#E5ECF6\",\"gridcolor\":\"white\",\"gridwidth\":2,\"linecolor\":\"white\",\"showbackground\":true,\"ticks\":\"\",\"zerolinecolor\":\"white\"},\"yaxis\":{\"backgroundcolor\":\"#E5ECF6\",\"gridcolor\":\"white\",\"gridwidth\":2,\"linecolor\":\"white\",\"showbackground\":true,\"ticks\":\"\",\"zerolinecolor\":\"white\"},\"zaxis\":{\"backgroundcolor\":\"#E5ECF6\",\"gridcolor\":\"white\",\"gridwidth\":2,\"linecolor\":\"white\",\"showbackground\":true,\"ticks\":\"\",\"zerolinecolor\":\"white\"}},\"shapedefaults\":{\"line\":{\"color\":\"#2a3f5f\"}},\"ternary\":{\"aaxis\":{\"gridcolor\":\"white\",\"linecolor\":\"white\",\"ticks\":\"\"},\"baxis\":{\"gridcolor\":\"white\",\"linecolor\":\"white\",\"ticks\":\"\"},\"bgcolor\":\"#E5ECF6\",\"caxis\":{\"gridcolor\":\"white\",\"linecolor\":\"white\",\"ticks\":\"\"}},\"title\":{\"x\":0.05},\"xaxis\":{\"automargin\":true,\"gridcolor\":\"white\",\"linecolor\":\"white\",\"ticks\":\"\",\"title\":{\"standoff\":15},\"zerolinecolor\":\"white\",\"zerolinewidth\":2},\"yaxis\":{\"automargin\":true,\"gridcolor\":\"white\",\"linecolor\":\"white\",\"ticks\":\"\",\"title\":{\"standoff\":15},\"zerolinecolor\":\"white\",\"zerolinewidth\":2}}},\"title\":{\"text\":\"\\u041e\\u0431\\u0449\\u0430\\u044f \\u0432\\u044b\\u0440\\u0443\\u0447\\u043a\\u0430 \\u043f\\u043e \\u043f\\u043b\\u0430\\u0442\\u0444\\u043e\\u0440\\u043c\\u0430\\u043c\"},\"xaxis\":{\"title\":{\"text\":\"platform\"}}},                        {\"responsive\": true}                    ).then(function(){\n",
       "                            \n",
       "var gd = document.getElementById('5edbc6ba-4267-49f3-b1a8-38a9b2288a38');\n",
       "var x = new MutationObserver(function (mutations, observer) {{\n",
       "        var display = window.getComputedStyle(gd).display;\n",
       "        if (!display || display === 'none') {{\n",
       "            console.log([gd, 'removed!']);\n",
       "            Plotly.purge(gd);\n",
       "            observer.disconnect();\n",
       "        }}\n",
       "}});\n",
       "\n",
       "// Listen for the removal of the full notebook cells\n",
       "var notebookContainer = gd.closest('#notebook-container');\n",
       "if (notebookContainer) {{\n",
       "    x.observe(notebookContainer, {childList: true});\n",
       "}}\n",
       "\n",
       "// Listen for the clearing of the current output cell\n",
       "var outputEl = gd.closest('.output');\n",
       "if (outputEl) {{\n",
       "    x.observe(outputEl, {childList: true});\n",
       "}}\n",
       "\n",
       "                        })                };                });            </script>        </div>"
      ]
     },
     "metadata": {},
     "output_type": "display_data"
    }
   ],
   "source": [
    "# Посмотрим распределение выручки от продажи игр по платформам\n",
    "platforms_df = df.groupby('platform')[['total_sales']].sum()\n",
    "    \n",
    "platforms_df.columns = ['total_sales']\n",
    "platforms_df.sort_values('total_sales', ascending=False, inplace=True)\n",
    "\n",
    "trace = go.Bar(\n",
    "    x=platforms_df.index,\n",
    "    y=platforms_df.total_sales,\n",
    ")\n",
    "data = [trace]\n",
    "layout = {'title': 'Общая выручка по платформам', 'xaxis': {'title': 'platform'}}\n",
    "\n",
    "fig = go.Figure(data=data, layout=layout)\n",
    "iplot(fig, show_link=False)"
   ]
  },
  {
   "cell_type": "markdown",
   "metadata": {},
   "source": [
    "Лидерами продаж (со значительным отрывом) являются платформы PS2, X360, PS3, Wii, DS и PS (так сказать ТОП-6)"
   ]
  },
  {
   "cell_type": "code",
   "execution_count": 29,
   "metadata": {},
   "outputs": [],
   "source": [
    "# сгруппируем суммарные продажи по платформам и годам\n",
    "sales_by_platform=(df.pivot_table(index='platform', columns='year_of_release', values='total_sales', aggfunc='sum')\n",
    "                   .reset_index())"
   ]
  },
  {
   "cell_type": "code",
   "execution_count": 30,
   "metadata": {},
   "outputs": [
    {
     "data": {
      "image/png": "[encoded data removed]",
      "text/plain": [
       "<Figure size 1080x504 with 1 Axes>"
      ]
     },
     "metadata": {
      "needs_background": "light"
     },
     "output_type": "display_data"
    }
   ],
   "source": [
    "# построим график динамики суммарных продаж по годам для ТОП-6 платформ. Для этого:\n",
    "# создалим топ-6 платформ по продажам:\n",
    "top_platforms=(df.groupby('platform')['total_sales']\n",
    "                .sum()\n",
    "                .sort_values(ascending=False)[:6]\n",
    "                .reset_index())\n",
    "\n",
    "# возьмем в датафрейме sales_by_platform наш топ-6 и выведем график продаж по годам\n",
    "sales_by_platform['top6'] = (sales_by_platform.platform.isin(top_platforms.platform) == True)\n",
    "(sales_by_platform[sales_by_platform['top6']==True]\n",
    "     .set_index('platform').T.drop('top6')\n",
    "     .plot(figsize=(15,7))\n",
    "     .set(xlabel='year_of_release', ylabel='total_sales'))\n",
    "plt.title('Динамика суммарных продаж по годам')\n",
    "plt.xticks([y for y in range(1994,2017)[1994%2::2]]);"
   ]
  },
  {
   "cell_type": "markdown",
   "metadata": {},
   "source": [
    "Из графика можем видеть, что платформы-лидеры по продажам в среднем проходят 7-10-летний цикл в своеи развитиии. Окло 2-3-х лет уходит на достижение пика продаж с момента релиза игры, затем около 2-х лет продажи держатся на макимальных значениях и постепенно в течение 2-5 лет сходят на минимум, усьупая место новым.  \n",
    "Исходя из всех предыдцщих данных возьмем для дальнейшего анализа как \"актуальный период\" 2014-2016 гг."
   ]
  },
  {
   "cell_type": "code",
   "execution_count": 31,
   "metadata": {},
   "outputs": [
    {
     "data": {
      "text/plain": [
       "platform\n",
       "PS4     288.15\n",
       "XOne    140.36\n",
       "3DS      86.68\n",
       "PS3      68.18\n",
       "X360     48.22\n",
       "dtype: float64"
      ]
     },
     "execution_count": 31,
     "metadata": {},
     "output_type": "execute_result"
    },
    {
     "data": {
      "image/png": "[encoded data removed]",
      "text/plain": [
       "<Figure size 1080x576 with 1 Axes>"
      ]
     },
     "metadata": {
      "needs_background": "light"
     },
     "output_type": "display_data"
    }
   ],
   "source": [
    "#Проанализируем платформы по динамике продаж за \"актуальный период\".\n",
    "#Для этого выделим в отдельный датафрейм те игры, которые были выпущены после 2011 года\n",
    "list_of_years=[ y for y in range(2014, 2017)]\n",
    "df_2014_2016=df[df['year_of_release'].isin(list_of_years)]\n",
    "\n",
    "#построим график общих продаж для платформ за \"актуальный период\"\n",
    "platforms_actual=df_2014_2016.pivot_table(index='platform', columns='year_of_release', values='total_sales', aggfunc='sum')\n",
    "\n",
    "(platforms_actual.T\n",
    "     .plot(figsize=(15,8), title='Продажи за 2014-2016 гг')\n",
    "     .set(xlabel='Year of release', ylabel='total_sales'));\n",
    "plt.xticks([y for y in range(2014,2017)[2014%2::1]]);\n",
    "plt.legend(loc=(1.03,0.65));\n",
    "platforms_actual.T.sum().sort_values(ascending=False).head()"
   ]
  },
  {
   "cell_type": "code",
   "execution_count": 32,
   "metadata": {},
   "outputs": [
    {
     "data": {
      "text/plain": [
       "platform\n",
       "PS4     376.0\n",
       "PSV     295.0\n",
       "XOne    228.0\n",
       "PS3     219.0\n",
       "3DS     212.0\n",
       "dtype: float64"
      ]
     },
     "execution_count": 32,
     "metadata": {},
     "output_type": "execute_result"
    },
    {
     "data": {
      "image/png": "[encoded data removed]",
      "text/plain": [
       "<Figure size 1080x576 with 1 Axes>"
      ]
     },
     "metadata": {
      "needs_background": "light"
     },
     "output_type": "display_data"
    }
   ],
   "source": [
    "#Посмотрим на платформы по количеству выпущенных игр за \"актуальный период\".\n",
    "games_by_platform_actual=df_2014_2016.pivot_table(index='platform', columns='year_of_release', values='name', aggfunc='count')\n",
    "\n",
    "ax=games_by_platform_actual.T.plot(figsize=(15,8), title='Количество вышедших игр по платформам за 2014-2016');\n",
    "ax.set(xlabel='Год релиза игры', ylabel='Количество игр')\n",
    "plt.xticks([y for y in range(2014,2017)[2014%2::1]]);\n",
    "plt.legend(loc=(1.03,0.65));\n",
    "games_by_platform_actual.T.sum().sort_values(ascending=False).head()"
   ]
  },
  {
   "cell_type": "code",
   "execution_count": 33,
   "metadata": {},
   "outputs": [
    {
     "data": {
      "image/png": "[encoded data removed]",
      "text/plain": [
       "<Figure size 864x432 with 1 Axes>"
      ]
     },
     "metadata": {
      "needs_background": "light"
     },
     "output_type": "display_data"
    }
   ],
   "source": [
    "#Посмотрим на средние продажи по платформам:\n",
    "ax=sns.catplot(x=\"platform\", y=\"total_sales\",\n",
    "            kind=\"box\", dodge=False, data=df_2014_2016, height=6, aspect=2)\\\n",
    "            .set(title='Продажи игр по платформам 2014-2016', ylim=(0,3))\n",
    "ax.set(xlabel='Платформа', ylabel='Продажи игр');"
   ]
  },
  {
   "cell_type": "markdown",
   "metadata": {},
   "source": [
    "По графикам видно, что лидерами по продажам и выпущенным играм за последние 3 года являются платформы Wii, PS4, XOne и WiiU. Можно предположить, что данные платформы имеют наибольший потенциал по выпуску и продажам игр на следующий год. Остальные платформы либо стагнируют, либо находятся в самом конце своего \"жизненного цикла\". \n"
   ]
  },
  {
   "cell_type": "code",
   "execution_count": 34,
   "metadata": {
    "scrolled": false
   },
   "outputs": [
    {
     "data": {
      "image/png": "[encoded data removed]",
      "text/plain": [
       "<Figure size 720x360 with 1 Axes>"
      ]
     },
     "metadata": {
      "needs_background": "light"
     },
     "output_type": "display_data"
    },
    {
     "data": {
      "text/plain": [
       "1.0"
      ]
     },
     "execution_count": 34,
     "metadata": {},
     "output_type": "execute_result"
    }
   ],
   "source": [
    "#Посмотрим зависимость продаж одной из лидирующих платформ-PS4 от оценок пользователей\n",
    "fig, ax = plt.subplots(figsize=(10, 5))\n",
    "ax.scatter(x = df_2014_2016.loc[df_2014_2016['platform'] == 'PS4']['user_score'], y = df_2014_2016.loc[df_2014_2016['platform'] == 'PS4']['total_sales'])\n",
    "plt.xlabel(\"User Score\")\n",
    "plt.ylabel(\"Total Sales\")\n",
    "plt.title('Зависимость продаж PS4 от  пользовательских оценок')\n",
    "plt.show()\n",
    "\n",
    "df_2014_2016.loc[df_2014_2016['platform'] == 'PS4']['total_sales'].corr(df_2014_2016.loc[df_2014_2016['platform'] == 'PS4']['total_sales'])"
   ]
  },
  {
   "cell_type": "markdown",
   "metadata": {},
   "source": [
    "Зависимость продаж от пользовательских оценок прямая и очень сильная. Кожффициент корреляции 1"
   ]
  },
  {
   "cell_type": "code",
   "execution_count": 35,
   "metadata": {},
   "outputs": [
    {
     "data": {
      "image/png": "[encoded data removed]",
      "text/plain": [
       "<Figure size 720x360 with 1 Axes>"
      ]
     },
     "metadata": {
      "needs_background": "light"
     },
     "output_type": "display_data"
    },
    {
     "data": {
      "text/plain": [
       "0.34616355123267806"
      ]
     },
     "execution_count": 35,
     "metadata": {},
     "output_type": "execute_result"
    }
   ],
   "source": [
    "#Посмотрим корреляцию\n",
    "fig, ax = plt.subplots(figsize=(10, 5))\n",
    "ax.scatter(x = df_2014_2016.loc[df_2014_2016['platform'] == 'PS4']['critic_score'], y = df_2014_2016.loc[df_2014_2016['platform'] == 'PS4']['total_sales'])\n",
    "plt.xlabel(\"Critic Score\")\n",
    "plt.ylabel(\"Total Sales\")\n",
    "plt.title('Зависимость продаж PS4 от от оценок критиков')\n",
    "plt.show()\n",
    "\n",
    "df_2014_2016.loc[df_2014_2016['platform'] == 'PS4']['critic_score'].corr(df_2014_2016.loc[df_2014_2016['platform'] == 'PS4']['total_sales']) "
   ]
  },
  {
   "cell_type": "markdown",
   "metadata": {},
   "source": [
    "Влияние оценок критиков на продажи тоже прямое, но намного слабее. Коэффициент корреляции 0,35 "
   ]
  },
  {
   "cell_type": "code",
   "execution_count": 36,
   "metadata": {},
   "outputs": [
    {
     "data": {
      "image/png": "[encoded data removed]",
      "text/plain": [
       "<Figure size 720x360 with 1 Axes>"
      ]
     },
     "metadata": {
      "needs_background": "light"
     },
     "output_type": "display_data"
    },
    {
     "data": {
      "text/plain": [
       "1.0"
      ]
     },
     "execution_count": 36,
     "metadata": {},
     "output_type": "execute_result"
    }
   ],
   "source": [
    "#Посмотрим зависимость продаж от пользовательских оценок по всем платформам\n",
    "fig, ax = plt.subplots(figsize=(10, 5))\n",
    "ax.scatter(x = df_2014_2016['user_score'], y = df_2014_2016['total_sales'])\n",
    "plt.xlabel(\"User Score\")\n",
    "plt.ylabel(\"Total Sales\")\n",
    "plt.title('Зависимость продаж от  пользовательских оценок')\n",
    "plt.show()\n",
    "\n",
    "df_2014_2016['total_sales'].corr(df_2014_2016['total_sales'])"
   ]
  },
  {
   "cell_type": "code",
   "execution_count": 37,
   "metadata": {
    "scrolled": false
   },
   "outputs": [
    {
     "data": {
      "image/png": "[encoded data removed]",
      "text/plain": [
       "<Figure size 720x360 with 1 Axes>"
      ]
     },
     "metadata": {
      "needs_background": "light"
     },
     "output_type": "display_data"
    },
    {
     "data": {
      "text/plain": [
       "0.2829476057098637"
      ]
     },
     "execution_count": 37,
     "metadata": {},
     "output_type": "execute_result"
    }
   ],
   "source": [
    "#Посмотрим зависимость продаж от оценок критиков по всем платформам\n",
    "fig, ax = plt.subplots(figsize=(10, 5))\n",
    "ax.scatter(x = df_2014_2016['critic_score'], y = df_2014_2016['total_sales'])\n",
    "plt.xlabel(\"Critic Score\")\n",
    "plt.ylabel(\"Total Sales\")\n",
    "plt.title('Зависимость продаж от оценок критиков')\n",
    "plt.show()\n",
    "\n",
    "df_2014_2016['critic_score'].corr(df_2014_2016['total_sales']) "
   ]
  },
  {
   "cell_type": "markdown",
   "metadata": {},
   "source": [
    "По всем платформам в целом прослеживается такая же прямая и сильная зависимость продаж от пользовательских оценок и более слабая от оценок критиков."
   ]
  },
  {
   "cell_type": "code",
   "execution_count": 38,
   "metadata": {},
   "outputs": [
    {
     "data": {
      "image/png": "[encoded data removed]",
      "text/plain": [
       "<Figure size 864x432 with 1 Axes>"
      ]
     },
     "metadata": {
      "needs_background": "light"
     },
     "output_type": "display_data"
    }
   ],
   "source": [
    "#Посмотрим на средние продажи по жанрам\n",
    "ax=sns.catplot(x=\"genre\", y=\"total_sales\",\n",
    "            kind=\"box\", dodge=False, data=df_2014_2016, height=6, aspect=2)\\\n",
    "            .set(title='Продажи игр по жанрам 2014-2016', ylim=(0,5))\n",
    "ax.set(xlabel='Жанр игры', ylabel='Продажи игр');"
   ]
  },
  {
   "cell_type": "markdown",
   "metadata": {},
   "source": [
    "Среди жанров игр лидерами по медианным продажам являются Shooter, Sports и Platform"
   ]
  },
  {
   "cell_type": "code",
   "execution_count": 39,
   "metadata": {
    "scrolled": false
   },
   "outputs": [
    {
     "data": {
      "text/plain": [
       "<AxesSubplot:xlabel='platform'>"
      ]
     },
     "execution_count": 39,
     "metadata": {},
     "output_type": "execute_result"
    },
    {
     "data": {
      "image/png": "[encoded data removed]",
      "text/plain": [
       "<Figure size 1080x504 with 1 Axes>"
      ]
     },
     "metadata": {
      "needs_background": "light"
     },
     "output_type": "display_data"
    }
   ],
   "source": [
    "#Топ-5 самых популярных платформ по регионам продаж\n",
    "df_2014_2016.groupby('platform')[['na_sales', 'eu_sales', 'jp_sales']].agg(sum).sort_values(by= 'na_sales', ascending=False).head().plot(kind='bar', figsize=(15, 7))"
   ]
  },
  {
   "cell_type": "markdown",
   "metadata": {},
   "source": [
    "Лидерами по продажам в Северной америке и в Европе являются платформы PS4 и XOne  \n",
    "В Японии пользователи отдают явное предпочтение платфомам 3DS, а платформа Xbox One в явных аутсайдерах на японском рынке (возможно ее продажи на японском рынке временно не осуществляются)"
   ]
  },
  {
   "cell_type": "code",
   "execution_count": 40,
   "metadata": {
    "scrolled": false
   },
   "outputs": [
    {
     "data": {
      "text/plain": [
       "<AxesSubplot:xlabel='genre'>"
      ]
     },
     "execution_count": 40,
     "metadata": {},
     "output_type": "execute_result"
    },
    {
     "data": {
      "image/png": "[encoded data removed]",
      "text/plain": [
       "<Figure size 1080x504 with 1 Axes>"
      ]
     },
     "metadata": {
      "needs_background": "light"
     },
     "output_type": "display_data"
    }
   ],
   "source": [
    "#Топ-5 самых популярных жанров по регионам продаж\n",
    "df_2014_2016.groupby('genre')[['na_sales', 'eu_sales', 'jp_sales']].agg(sum).head(5).sort_values(by= 'na_sales', ascending=False).head().plot(kind='bar', figsize=(15, 7))"
   ]
  },
  {
   "cell_type": "markdown",
   "metadata": {},
   "source": [
    "Среди жанров проданных игр по всем регионам лидирует жанр Action, причем со значительным отрывом."
   ]
  },
  {
   "cell_type": "code",
   "execution_count": 41,
   "metadata": {},
   "outputs": [
    {
     "data": {
      "text/plain": [
       "<AxesSubplot:xlabel='rating'>"
      ]
     },
     "execution_count": 41,
     "metadata": {},
     "output_type": "execute_result"
    },
    {
     "data": {
      "image/png": "[encoded data removed]",
      "text/plain": [
       "<Figure size 1080x504 with 1 Axes>"
      ]
     },
     "metadata": {
      "needs_background": "light"
     },
     "output_type": "display_data"
    }
   ],
   "source": [
    "# Влияет ли рейтинг ESRB на продажи в отдельном регионе?\n",
    "df_2014_2016.groupby('rating')[['na_sales', 'eu_sales', 'jp_sales', 'other_sales']].agg(sum).sort_values(by= 'na_sales', ascending=False).head(20).plot(kind='bar', figsize=(15, 7))"
   ]
  },
  {
   "cell_type": "markdown",
   "metadata": {},
   "source": [
    "Можем сделать вывод о наличии зависимости продаж от рейтинга ESRB на североамериканском и европейстком рынках. Самые высокие продажи у игр с рейтингом М.  \n",
    "В Японии самые высокие продажи у игр с \"no_rating\". Видимо это связано с использованием в Японии другой системы рейтинга игр"
   ]
  },
  {
   "cell_type": "markdown",
   "metadata": {},
   "source": [
    "**Проверка гипотез**"
   ]
  },
  {
   "cell_type": "markdown",
   "metadata": {},
   "source": [
    "Поскольку сравниваемые генеральные совокупности имеют достаточный размер и равны между собой по размеру (количество оценок в обеих совокупностях равное), можно испольщовать критерий Стьюдента"
   ]
  },
  {
   "cell_type": "markdown",
   "metadata": {},
   "source": [
    "**Сравнение пользовательских оценок платформ Xbox One и PC**  \n",
    "H_0: Средние пользовательские оценки Xbox One (sample_0) == Средние пользовательские оценки PC (sample_1)  \n",
    "H_1: Средние пользовательские оценки Xbox One (sample_0) != Средние пользовательские оценки PC (sample_1)  \n",
    "\n",
    "alpha: 0.05"
   ]
  },
  {
   "cell_type": "code",
   "execution_count": 42,
   "metadata": {},
   "outputs": [
    {
     "name": "stdout",
     "output_type": "stream",
     "text": [
      "p-значение:  1.399889865032334e-50\n",
      "Отвергаем нулевую гипотезу\n"
     ]
    }
   ],
   "source": [
    "from scipy import stats as st\n",
    "from scipy.stats import f_oneway\n",
    "\n",
    "alpha = 0.05\n",
    "sample_0 = df.loc[(df['platform'] == 'PS'), 'user_score']\n",
    "sample_1 = df.loc[(df['platform'] == 'XOne'), 'user_score']\n",
    "results = st.ttest_ind(sample_0, sample_1)\n",
    "print('p-значение: ', results.pvalue)\n",
    "if results.pvalue < alpha:\n",
    "    print(\"Отвергаем нулевую гипотезу\")\n",
    "else:\n",
    "    print(\"Не получилось отвергнуть нулевую гипотезу\") \n"
   ]
  },
  {
   "cell_type": "markdown",
   "metadata": {},
   "source": [
    "Средние пользовательские рейтинги платформ Xbox One и PC разные, так как мы отвергли нулевую гипотезу, основанную на задании, а мы отвергли ее. То есть пользовательские рейтинги платформ разные.\n",
    "Так нам даны две генеральные совокупности, и нам нужно сравить их средние. Для этого мы использовали st.ttest_ind для проведения двустороннего теста проверки равенства среднего двух генеральных совокупностей. Используем alpha=0.05, так как значений в совокупностях немного. \n",
    "Мы обозначили нулевую и альтернативную гипотезы:  \n",
    "Нулевая гипотеза -cредние двух совокупностей равны  \n",
    "Альтернативная гипотеза - cредние двух совокупностей различны  \n",
    "Так как мы отвергаем нулевую гипотезу, значит, альтернативная гипотеза верна. Отсюда следует, что средние двух совокупностей различны."
   ]
  },
  {
   "cell_type": "markdown",
   "metadata": {},
   "source": [
    "**Сравнение пользовательских оценок жанров Action и Sports**  \n",
    "H_0: Средние пользовательские оценки Action (sample_0) == Средние пользовательские оценки Sports (sample_1)  \n",
    "H_1: Средние пользовательские оценки Action (sample_0) != Средние пользовательские оценки Sports (sample_1) \n",
    "\n",
    "alpha: 0.05"
   ]
  },
  {
   "cell_type": "code",
   "execution_count": 43,
   "metadata": {},
   "outputs": [
    {
     "name": "stdout",
     "output_type": "stream",
     "text": [
      "p-значение:  0.4059173001251195\n",
      "Не получилось отвергнуть нулевую гипотезу\n"
     ]
    }
   ],
   "source": [
    "from scipy import stats as st\n",
    "from scipy.stats import f_oneway\n",
    "\n",
    "alpha = 0.05\n",
    "sample_0 = df.loc[df['genre'] == 'Action', 'user_score']\n",
    "sample_1 = df.loc[df['genre'] == 'Sports', 'user_score']\n",
    "results = st.ttest_ind(sample_0, sample_1)\n",
    "print('p-значение: ', results.pvalue)\n",
    "if results.pvalue< alpha:\n",
    "    print(\"Отвергаем нулевую гипотезу\")\n",
    "else:\n",
    "    print(\"Не получилось отвергнуть нулевую гипотезу\")\n",
    "    "
   ]
  },
  {
   "cell_type": "markdown",
   "metadata": {},
   "source": [
    "Средние пользовательские рейтинги жанров Action  и Sports разные.  \n",
    "Нам даны две генеральные совокупности, и нам нужно сравить их средние. Для этого мы использовали st.ttest_ind для проведения двустороннего теста проверки равенства среднего двух генеральных совокупностей. Используем alpha=0.05, так как значений в совокупностях немного.  \n",
    "Мы обозначили нулевую и альтернативную гипотезы:   \n",
    "Нулевая гипотеза - Средние двух совокупностей равны.   \n",
    "Альтернативная гипотеза - Средние двух совокупностей различны.  \n",
    "Так как мы не можем отвергнуть нулевую гипотезу, значит, нулевая гипотеза верна"
   ]
  },
  {
   "cell_type": "markdown",
   "metadata": {},
   "source": [
    "**Вывод**"
   ]
  },
  {
   "cell_type": "markdown",
   "metadata": {},
   "source": [
    "В своей работе Я провел анализ продажи компьютерных игр различных платформ, жанров на различных рынках (региолнах продаж).  \n",
    "В процессе исследовательского анализа данных мы выявили, что развитие индустрии компьютерных игр с середины 90-ых годов начинает устойчивый рост, с бурным пиком к 2007-2010 гг. Затем наблюдается спад который обусловлен, по видимому, вытеснением десктопных устройств мобильными гаджетами со своими игровыми сервисами. Лидерами продаж (со значительным отрывом) являются платформы PS2, X360, PS3, Wii, DS и PS.  \n",
    "Окло 2-3-х лет уходит на достижение пика продаж с момента релиза игры, затем около 2-х лет продажи держатся на макимальных значениях и постепенно в течение 5 лет сходят на минимум, усьупая место новым.\n",
    "Исходя из всех предыдцщих данных возьмем для дальнейшего анализа как \"актуальный период\" 2014-2016 гг.\n",
    "Из анализа актуального периода видим, что лидерами по выпущенным играм за последние 3 года являются платформы PS4, PSV и XOne. Можно предположить, что данные платформы имеют наибольший потенциал по выпуску и продажам игр на следующий год. Остальные платформы либо стагнируют, либо находятся в самом конце своего \"жизненного цикла\".\n",
    "Наибольшие средние продажи в 2014-2016 гг. отмечаются у платформ: Wii, PS4, XOne и WiiU  \n",
    "На величину продаж сильно влияют пользовательские оценки (клэффициент корреляции стремится к 1). Оценки критиков обладают значительно меньшим влиянием, хотя связь тоже прямая (коэффициент корреляции 0,3).  \n",
    "Самые удачнве жанры с точки зрения продаж - Shooter, Sports и Platform.  \n",
    "Проанализировав ТОП-5 самых успешных платформ на разных рынках сбыта, можно порекомендовать нашему \"магазинчику\" сконценгтрировать внимание в 2017 году на:\n",
    " Североамериканском рынке - платформы: PS4 и XOne в жанре Action с рейтингом ESRB в категориях М.     \n",
    " Европейском рынке - платформы: PS4 и XOne, в жанре Action с рейтингом ESRB в категориях М.  \n",
    " Японском рынке - платформы: 3DS в жанре Action.  \n",
    " "
   ]
  }
 ],
 "metadata": {
  "ExecuteTimeLog": [
   {
    "duration": 438,
    "start_time": "2022-10-17T15:55:56.850Z"
   },
   {
    "duration": 71,
    "start_time": "2022-10-17T15:56:03.829Z"
   },
   {
    "duration": 2,
    "start_time": "2022-10-17T15:56:13.922Z"
   },
   {
    "duration": 201,
    "start_time": "2022-10-17T15:56:37.948Z"
   },
   {
    "duration": 20,
    "start_time": "2022-10-17T15:56:58.843Z"
   },
   {
    "duration": 13,
    "start_time": "2022-10-17T15:57:10.950Z"
   },
   {
    "duration": 57,
    "start_time": "2022-10-17T16:40:56.642Z"
   },
   {
    "duration": 9,
    "start_time": "2022-10-17T16:42:34.012Z"
   },
   {
    "duration": 14,
    "start_time": "2022-10-17T16:42:45.384Z"
   },
   {
    "duration": 3,
    "start_time": "2022-10-17T16:43:48.924Z"
   },
   {
    "duration": 3,
    "start_time": "2022-10-17T16:44:08.647Z"
   },
   {
    "duration": 3,
    "start_time": "2022-10-17T16:45:07.853Z"
   },
   {
    "duration": 12,
    "start_time": "2022-10-17T16:45:18.188Z"
   },
   {
    "duration": 53,
    "start_time": "2022-10-17T16:47:54.739Z"
   },
   {
    "duration": 13,
    "start_time": "2022-10-17T16:47:59.120Z"
   },
   {
    "duration": 2,
    "start_time": "2022-10-17T16:48:34.360Z"
   },
   {
    "duration": 14,
    "start_time": "2022-10-17T16:48:36.030Z"
   },
   {
    "duration": 50,
    "start_time": "2022-10-17T16:48:59.781Z"
   },
   {
    "duration": 2,
    "start_time": "2022-10-17T16:52:41.235Z"
   },
   {
    "duration": 49,
    "start_time": "2022-10-17T16:52:42.450Z"
   },
   {
    "duration": 15,
    "start_time": "2022-10-17T16:52:43.111Z"
   },
   {
    "duration": 384,
    "start_time": "2022-10-17T16:52:50.853Z"
   },
   {
    "duration": 109,
    "start_time": "2022-10-17T16:52:51.239Z"
   },
   {
    "duration": 2,
    "start_time": "2022-10-17T16:52:51.350Z"
   },
   {
    "duration": 8,
    "start_time": "2022-10-17T16:52:51.355Z"
   },
   {
    "duration": 56,
    "start_time": "2022-10-17T16:52:51.364Z"
   },
   {
    "duration": 20,
    "start_time": "2022-10-17T16:52:51.421Z"
   },
   {
    "duration": 15,
    "start_time": "2022-10-17T16:52:51.442Z"
   },
   {
    "duration": 56,
    "start_time": "2022-10-18T00:05:46.051Z"
   },
   {
    "duration": 409,
    "start_time": "2022-10-18T00:05:51.107Z"
   },
   {
    "duration": 60,
    "start_time": "2022-10-18T00:05:51.518Z"
   },
   {
    "duration": 2,
    "start_time": "2022-10-18T00:05:51.580Z"
   },
   {
    "duration": 86,
    "start_time": "2022-10-18T00:05:51.583Z"
   },
   {
    "duration": 21,
    "start_time": "2022-10-18T00:05:51.670Z"
   },
   {
    "duration": 18,
    "start_time": "2022-10-18T00:05:51.692Z"
   },
   {
    "duration": 15,
    "start_time": "2022-10-18T00:05:51.712Z"
   },
   {
    "duration": 13,
    "start_time": "2022-10-18T00:05:59.824Z"
   },
   {
    "duration": 66,
    "start_time": "2022-10-18T00:06:57.062Z"
   },
   {
    "duration": 18,
    "start_time": "2022-10-18T00:07:38.130Z"
   },
   {
    "duration": 4,
    "start_time": "2022-10-18T00:07:58.669Z"
   },
   {
    "duration": 10,
    "start_time": "2022-10-18T00:09:48.169Z"
   },
   {
    "duration": 9,
    "start_time": "2022-10-18T00:09:56.189Z"
   },
   {
    "duration": 4,
    "start_time": "2022-10-18T00:10:47.284Z"
   },
   {
    "duration": 5,
    "start_time": "2022-10-18T00:11:08.061Z"
   },
   {
    "duration": 6,
    "start_time": "2022-10-18T00:11:31.823Z"
   },
   {
    "duration": 7,
    "start_time": "2022-10-18T00:11:42.083Z"
   },
   {
    "duration": 3,
    "start_time": "2022-10-18T00:11:48.591Z"
   },
   {
    "duration": 4,
    "start_time": "2022-10-18T00:11:50.926Z"
   },
   {
    "duration": 8,
    "start_time": "2022-10-18T00:12:14.848Z"
   },
   {
    "duration": 14,
    "start_time": "2022-10-18T00:13:11.468Z"
   },
   {
    "duration": 1089,
    "start_time": "2022-10-18T00:21:02.330Z"
   },
   {
    "duration": 748,
    "start_time": "2022-10-18T00:42:24.976Z"
   },
   {
    "duration": 701,
    "start_time": "2022-10-18T00:43:45.656Z"
   },
   {
    "duration": 277,
    "start_time": "2022-10-18T00:45:35.362Z"
   },
   {
    "duration": 10,
    "start_time": "2022-10-18T00:46:16.661Z"
   },
   {
    "duration": 378,
    "start_time": "2022-10-18T04:49:54.384Z"
   },
   {
    "duration": 73,
    "start_time": "2022-10-18T04:49:54.764Z"
   },
   {
    "duration": 2,
    "start_time": "2022-10-18T04:49:54.839Z"
   },
   {
    "duration": 202,
    "start_time": "2022-10-18T04:49:54.843Z"
   },
   {
    "duration": 19,
    "start_time": "2022-10-18T04:49:55.047Z"
   },
   {
    "duration": 53,
    "start_time": "2022-10-18T04:49:55.068Z"
   },
   {
    "duration": 9,
    "start_time": "2022-10-18T04:49:55.123Z"
   },
   {
    "duration": 45,
    "start_time": "2022-10-18T04:49:55.133Z"
   },
   {
    "duration": 11,
    "start_time": "2022-10-18T04:49:55.179Z"
   },
   {
    "duration": 10,
    "start_time": "2022-10-18T04:49:55.191Z"
   },
   {
    "duration": 49,
    "start_time": "2022-10-18T04:49:55.203Z"
   },
   {
    "duration": 20,
    "start_time": "2022-10-18T04:49:55.253Z"
   },
   {
    "duration": 284,
    "start_time": "2022-10-18T04:49:55.274Z"
   },
   {
    "duration": 7,
    "start_time": "2022-10-18T04:49:55.561Z"
   },
   {
    "duration": 260,
    "start_time": "2022-10-18T04:59:25.261Z"
   },
   {
    "duration": 10,
    "start_time": "2022-10-18T04:59:34.157Z"
   },
   {
    "duration": 367,
    "start_time": "2022-10-18T04:59:52.603Z"
   },
   {
    "duration": 91,
    "start_time": "2022-10-18T04:59:52.972Z"
   },
   {
    "duration": 3,
    "start_time": "2022-10-18T04:59:53.064Z"
   },
   {
    "duration": 99,
    "start_time": "2022-10-18T04:59:53.070Z"
   },
   {
    "duration": 32,
    "start_time": "2022-10-18T04:59:53.172Z"
   },
   {
    "duration": 15,
    "start_time": "2022-10-18T04:59:53.206Z"
   },
   {
    "duration": 8,
    "start_time": "2022-10-18T04:59:53.222Z"
   },
   {
    "duration": 25,
    "start_time": "2022-10-18T04:59:53.232Z"
   },
   {
    "duration": 38,
    "start_time": "2022-10-18T04:59:53.259Z"
   },
   {
    "duration": 21,
    "start_time": "2022-10-18T04:59:53.299Z"
   },
   {
    "duration": 9,
    "start_time": "2022-10-18T04:59:53.321Z"
   },
   {
    "duration": 15,
    "start_time": "2022-10-18T04:59:53.331Z"
   },
   {
    "duration": 324,
    "start_time": "2022-10-18T04:59:53.348Z"
   },
   {
    "duration": 16,
    "start_time": "2022-10-18T04:59:53.674Z"
   },
   {
    "duration": 1172,
    "start_time": "2022-10-18T05:02:56.088Z"
   },
   {
    "duration": 2620,
    "start_time": "2022-10-18T05:20:01.112Z"
   },
   {
    "duration": 29,
    "start_time": "2022-10-18T05:23:44.669Z"
   },
   {
    "duration": 29,
    "start_time": "2022-10-18T05:24:38.644Z"
   },
   {
    "duration": 27,
    "start_time": "2022-10-18T05:27:22.061Z"
   },
   {
    "duration": 4,
    "start_time": "2022-10-18T05:38:34.195Z"
   },
   {
    "duration": 433,
    "start_time": "2022-10-18T05:38:49.688Z"
   },
   {
    "duration": 60,
    "start_time": "2022-10-18T05:38:50.122Z"
   },
   {
    "duration": 3,
    "start_time": "2022-10-18T05:38:50.184Z"
   },
   {
    "duration": 68,
    "start_time": "2022-10-18T05:38:50.188Z"
   },
   {
    "duration": 21,
    "start_time": "2022-10-18T05:38:50.259Z"
   },
   {
    "duration": 16,
    "start_time": "2022-10-18T05:38:50.281Z"
   },
   {
    "duration": 4,
    "start_time": "2022-10-18T05:38:50.298Z"
   },
   {
    "duration": 15,
    "start_time": "2022-10-18T05:38:50.304Z"
   },
   {
    "duration": 34,
    "start_time": "2022-10-18T05:38:50.320Z"
   },
   {
    "duration": 12,
    "start_time": "2022-10-18T05:38:50.355Z"
   },
   {
    "duration": 10,
    "start_time": "2022-10-18T05:38:50.369Z"
   },
   {
    "duration": 6,
    "start_time": "2022-10-18T05:38:50.386Z"
   },
   {
    "duration": 1239,
    "start_time": "2022-10-18T05:38:50.394Z"
   },
   {
    "duration": 0,
    "start_time": "2022-10-18T05:38:51.635Z"
   },
   {
    "duration": 14,
    "start_time": "2022-10-18T05:39:24.238Z"
   },
   {
    "duration": 1254,
    "start_time": "2022-10-18T05:41:29.832Z"
   },
   {
    "duration": 14,
    "start_time": "2022-10-18T05:44:20.775Z"
   },
   {
    "duration": 4,
    "start_time": "2022-10-18T05:44:39.975Z"
   },
   {
    "duration": 11,
    "start_time": "2022-10-18T05:44:41.794Z"
   },
   {
    "duration": 443,
    "start_time": "2022-10-18T05:44:52.585Z"
   },
   {
    "duration": 74,
    "start_time": "2022-10-18T05:44:53.031Z"
   },
   {
    "duration": 3,
    "start_time": "2022-10-18T05:44:53.107Z"
   },
   {
    "duration": 68,
    "start_time": "2022-10-18T05:44:53.112Z"
   },
   {
    "duration": 20,
    "start_time": "2022-10-18T05:44:53.181Z"
   },
   {
    "duration": 17,
    "start_time": "2022-10-18T05:44:53.203Z"
   },
   {
    "duration": 8,
    "start_time": "2022-10-18T05:44:53.222Z"
   },
   {
    "duration": 101,
    "start_time": "2022-10-18T05:44:53.232Z"
   },
   {
    "duration": 0,
    "start_time": "2022-10-18T05:44:53.335Z"
   },
   {
    "duration": 0,
    "start_time": "2022-10-18T05:44:53.336Z"
   },
   {
    "duration": 0,
    "start_time": "2022-10-18T05:44:53.337Z"
   },
   {
    "duration": 0,
    "start_time": "2022-10-18T05:44:53.338Z"
   },
   {
    "duration": 0,
    "start_time": "2022-10-18T05:44:53.339Z"
   },
   {
    "duration": 0,
    "start_time": "2022-10-18T05:44:53.340Z"
   },
   {
    "duration": 18,
    "start_time": "2022-10-18T05:45:24.740Z"
   },
   {
    "duration": 26,
    "start_time": "2022-10-18T05:45:39.389Z"
   },
   {
    "duration": 462,
    "start_time": "2022-10-18T05:45:51.460Z"
   },
   {
    "duration": 78,
    "start_time": "2022-10-18T05:45:51.924Z"
   },
   {
    "duration": 3,
    "start_time": "2022-10-18T05:45:52.004Z"
   },
   {
    "duration": 119,
    "start_time": "2022-10-18T05:45:52.010Z"
   },
   {
    "duration": 20,
    "start_time": "2022-10-18T05:45:52.131Z"
   },
   {
    "duration": 16,
    "start_time": "2022-10-18T05:45:52.153Z"
   },
   {
    "duration": 15,
    "start_time": "2022-10-18T05:45:52.171Z"
   },
   {
    "duration": 38,
    "start_time": "2022-10-18T05:45:52.188Z"
   },
   {
    "duration": 13,
    "start_time": "2022-10-18T05:45:52.227Z"
   },
   {
    "duration": 17,
    "start_time": "2022-10-18T05:45:52.242Z"
   },
   {
    "duration": 20,
    "start_time": "2022-10-18T05:45:52.261Z"
   },
   {
    "duration": 12,
    "start_time": "2022-10-18T05:45:52.283Z"
   },
   {
    "duration": 1202,
    "start_time": "2022-10-18T05:45:52.297Z"
   },
   {
    "duration": 0,
    "start_time": "2022-10-18T05:45:53.502Z"
   },
   {
    "duration": 23,
    "start_time": "2022-10-18T05:47:36.278Z"
   },
   {
    "duration": 14,
    "start_time": "2022-10-18T05:49:05.606Z"
   },
   {
    "duration": 17,
    "start_time": "2022-10-18T05:50:33.748Z"
   },
   {
    "duration": 12,
    "start_time": "2022-10-18T05:51:33.966Z"
   },
   {
    "duration": 405,
    "start_time": "2022-10-18T05:53:10.971Z"
   },
   {
    "duration": 72,
    "start_time": "2022-10-18T05:53:11.378Z"
   },
   {
    "duration": 2,
    "start_time": "2022-10-18T05:53:11.452Z"
   },
   {
    "duration": 56,
    "start_time": "2022-10-18T05:53:11.456Z"
   },
   {
    "duration": 19,
    "start_time": "2022-10-18T05:53:11.514Z"
   },
   {
    "duration": 13,
    "start_time": "2022-10-18T05:53:11.535Z"
   },
   {
    "duration": 2,
    "start_time": "2022-10-18T05:53:11.550Z"
   },
   {
    "duration": 107,
    "start_time": "2022-10-18T05:53:11.554Z"
   },
   {
    "duration": 0,
    "start_time": "2022-10-18T05:53:11.663Z"
   },
   {
    "duration": 0,
    "start_time": "2022-10-18T05:53:11.664Z"
   },
   {
    "duration": 0,
    "start_time": "2022-10-18T05:53:11.666Z"
   },
   {
    "duration": 0,
    "start_time": "2022-10-18T05:53:11.667Z"
   },
   {
    "duration": 0,
    "start_time": "2022-10-18T05:53:11.668Z"
   },
   {
    "duration": 0,
    "start_time": "2022-10-18T05:53:11.670Z"
   },
   {
    "duration": 11,
    "start_time": "2022-10-18T05:53:22.659Z"
   },
   {
    "duration": 15,
    "start_time": "2022-10-18T05:54:29.107Z"
   },
   {
    "duration": 19,
    "start_time": "2022-10-18T05:54:55.936Z"
   },
   {
    "duration": 13,
    "start_time": "2022-10-18T05:55:18.509Z"
   },
   {
    "duration": 8,
    "start_time": "2022-10-18T05:56:21.915Z"
   },
   {
    "duration": 3,
    "start_time": "2022-10-18T05:58:12.062Z"
   },
   {
    "duration": 4,
    "start_time": "2022-10-18T05:58:20.701Z"
   },
   {
    "duration": 16,
    "start_time": "2022-10-18T05:58:27.777Z"
   },
   {
    "duration": 22,
    "start_time": "2022-10-18T05:58:42.877Z"
   },
   {
    "duration": 43,
    "start_time": "2022-10-19T23:14:25.886Z"
   },
   {
    "duration": 344,
    "start_time": "2022-10-19T23:14:31.239Z"
   },
   {
    "duration": 57,
    "start_time": "2022-10-19T23:14:31.585Z"
   },
   {
    "duration": 2,
    "start_time": "2022-10-19T23:14:31.644Z"
   },
   {
    "duration": 79,
    "start_time": "2022-10-19T23:14:31.648Z"
   },
   {
    "duration": 18,
    "start_time": "2022-10-19T23:14:31.728Z"
   },
   {
    "duration": 12,
    "start_time": "2022-10-19T23:14:31.747Z"
   },
   {
    "duration": 5,
    "start_time": "2022-10-19T23:14:31.760Z"
   },
   {
    "duration": 15,
    "start_time": "2022-10-19T23:14:31.766Z"
   },
   {
    "duration": 18,
    "start_time": "2022-10-19T23:14:31.782Z"
   },
   {
    "duration": 10,
    "start_time": "2022-10-19T23:14:31.802Z"
   },
   {
    "duration": 8,
    "start_time": "2022-10-19T23:14:31.813Z"
   },
   {
    "duration": 800,
    "start_time": "2022-10-19T23:14:31.822Z"
   },
   {
    "duration": 0,
    "start_time": "2022-10-19T23:14:32.624Z"
   },
   {
    "duration": 10,
    "start_time": "2022-10-19T23:17:24.747Z"
   },
   {
    "duration": 6,
    "start_time": "2022-10-19T23:18:06.049Z"
   },
   {
    "duration": 163,
    "start_time": "2022-10-19T23:20:00.640Z"
   },
   {
    "duration": 9,
    "start_time": "2022-10-19T23:20:12.165Z"
   },
   {
    "duration": 25,
    "start_time": "2022-10-19T23:20:51.063Z"
   },
   {
    "duration": 14,
    "start_time": "2022-10-19T23:21:06.882Z"
   },
   {
    "duration": 3,
    "start_time": "2022-10-19T23:21:49.121Z"
   },
   {
    "duration": 6,
    "start_time": "2022-10-19T23:21:54.396Z"
   },
   {
    "duration": 8,
    "start_time": "2022-10-19T23:22:16.713Z"
   },
   {
    "duration": 6,
    "start_time": "2022-10-19T23:24:46.581Z"
   },
   {
    "duration": 10,
    "start_time": "2022-10-19T23:24:55.993Z"
   },
   {
    "duration": 8,
    "start_time": "2022-10-19T23:25:02.163Z"
   },
   {
    "duration": 10,
    "start_time": "2022-10-19T23:25:12.676Z"
   },
   {
    "duration": 9,
    "start_time": "2022-10-19T23:25:22.816Z"
   },
   {
    "duration": 12,
    "start_time": "2022-10-19T23:26:41.050Z"
   },
   {
    "duration": 11,
    "start_time": "2022-10-19T23:27:03.763Z"
   },
   {
    "duration": 14,
    "start_time": "2022-10-19T23:27:46.097Z"
   },
   {
    "duration": 229,
    "start_time": "2022-10-19T23:29:08.234Z"
   },
   {
    "duration": 365,
    "start_time": "2022-10-19T23:30:07.608Z"
   },
   {
    "duration": 388,
    "start_time": "2022-10-19T23:30:15.406Z"
   },
   {
    "duration": 339,
    "start_time": "2022-10-19T23:36:06.039Z"
   },
   {
    "duration": 343,
    "start_time": "2022-10-19T23:36:57.885Z"
   },
   {
    "duration": 572,
    "start_time": "2022-10-19T23:37:05.907Z"
   },
   {
    "duration": 410,
    "start_time": "2022-10-19T23:37:44.040Z"
   },
   {
    "duration": 8,
    "start_time": "2022-10-19T23:37:50.168Z"
   },
   {
    "duration": 13,
    "start_time": "2022-10-19T23:38:55.339Z"
   },
   {
    "duration": 429,
    "start_time": "2022-10-20T13:28:06.925Z"
   },
   {
    "duration": 102,
    "start_time": "2022-10-20T13:28:08.026Z"
   },
   {
    "duration": 2,
    "start_time": "2022-10-20T13:28:08.130Z"
   },
   {
    "duration": 79,
    "start_time": "2022-10-20T13:28:08.134Z"
   },
   {
    "duration": 22,
    "start_time": "2022-10-20T13:28:08.215Z"
   },
   {
    "duration": 15,
    "start_time": "2022-10-20T13:28:08.238Z"
   },
   {
    "duration": 6,
    "start_time": "2022-10-20T13:28:08.254Z"
   },
   {
    "duration": 19,
    "start_time": "2022-10-20T13:28:08.261Z"
   },
   {
    "duration": 9,
    "start_time": "2022-10-20T13:28:08.282Z"
   },
   {
    "duration": 5,
    "start_time": "2022-10-20T13:28:08.292Z"
   },
   {
    "duration": 14,
    "start_time": "2022-10-20T13:28:08.299Z"
   },
   {
    "duration": 7,
    "start_time": "2022-10-20T13:28:08.314Z"
   },
   {
    "duration": 205,
    "start_time": "2022-10-20T13:28:08.323Z"
   },
   {
    "duration": 25,
    "start_time": "2022-10-20T13:28:08.530Z"
   },
   {
    "duration": 11,
    "start_time": "2022-10-20T13:28:08.557Z"
   },
   {
    "duration": 6,
    "start_time": "2022-10-20T13:28:08.570Z"
   },
   {
    "duration": 12,
    "start_time": "2022-10-20T13:28:08.577Z"
   },
   {
    "duration": 11,
    "start_time": "2022-10-20T13:28:08.590Z"
   },
   {
    "duration": 1192,
    "start_time": "2022-10-20T13:28:08.603Z"
   },
   {
    "duration": 16,
    "start_time": "2022-10-20T13:28:17.095Z"
   },
   {
    "duration": 13,
    "start_time": "2022-10-20T13:28:27.635Z"
   },
   {
    "duration": 745,
    "start_time": "2022-10-20T13:29:59.533Z"
   },
   {
    "duration": 49,
    "start_time": "2022-10-20T13:30:53.112Z"
   },
   {
    "duration": 25,
    "start_time": "2022-10-20T13:32:47.223Z"
   },
   {
    "duration": 17,
    "start_time": "2022-10-20T13:33:42.643Z"
   },
   {
    "duration": 9,
    "start_time": "2022-10-20T13:34:09.052Z"
   },
   {
    "duration": 13,
    "start_time": "2022-10-20T13:34:18.341Z"
   },
   {
    "duration": 13,
    "start_time": "2022-10-20T13:42:27.929Z"
   },
   {
    "duration": 14,
    "start_time": "2022-10-20T13:47:31.430Z"
   },
   {
    "duration": 17,
    "start_time": "2022-10-20T13:49:45.457Z"
   },
   {
    "duration": 15,
    "start_time": "2022-10-20T13:50:55.362Z"
   },
   {
    "duration": 793,
    "start_time": "2022-10-20T13:51:51.492Z"
   },
   {
    "duration": 970,
    "start_time": "2022-10-20T13:52:10.082Z"
   },
   {
    "duration": 1014,
    "start_time": "2022-10-20T13:53:39.355Z"
   },
   {
    "duration": 156,
    "start_time": "2022-10-20T13:54:20.215Z"
   },
   {
    "duration": 158,
    "start_time": "2022-10-20T14:06:55.899Z"
   },
   {
    "duration": 1300,
    "start_time": "2022-10-20T14:07:12.549Z"
   },
   {
    "duration": 1064,
    "start_time": "2022-10-20T14:07:37.197Z"
   },
   {
    "duration": 396,
    "start_time": "2022-10-20T14:08:09.584Z"
   },
   {
    "duration": 68,
    "start_time": "2022-10-20T14:08:09.982Z"
   },
   {
    "duration": 2,
    "start_time": "2022-10-20T14:08:10.052Z"
   },
   {
    "duration": 49,
    "start_time": "2022-10-20T14:08:10.057Z"
   },
   {
    "duration": 22,
    "start_time": "2022-10-20T14:08:10.108Z"
   },
   {
    "duration": 15,
    "start_time": "2022-10-20T14:08:10.132Z"
   },
   {
    "duration": 3,
    "start_time": "2022-10-20T14:08:10.154Z"
   },
   {
    "duration": 19,
    "start_time": "2022-10-20T14:08:10.158Z"
   },
   {
    "duration": 21,
    "start_time": "2022-10-20T14:08:10.179Z"
   },
   {
    "duration": 7,
    "start_time": "2022-10-20T14:08:10.203Z"
   },
   {
    "duration": 13,
    "start_time": "2022-10-20T14:08:10.212Z"
   },
   {
    "duration": 5,
    "start_time": "2022-10-20T14:08:10.227Z"
   },
   {
    "duration": 210,
    "start_time": "2022-10-20T14:08:10.234Z"
   },
   {
    "duration": 11,
    "start_time": "2022-10-20T14:08:10.453Z"
   },
   {
    "duration": 12,
    "start_time": "2022-10-20T14:08:10.465Z"
   },
   {
    "duration": 6,
    "start_time": "2022-10-20T14:08:10.479Z"
   },
   {
    "duration": 11,
    "start_time": "2022-10-20T14:08:10.487Z"
   },
   {
    "duration": 18,
    "start_time": "2022-10-20T14:08:10.499Z"
   },
   {
    "duration": 199,
    "start_time": "2022-10-20T14:08:10.518Z"
   },
   {
    "duration": 402,
    "start_time": "2022-10-20T14:08:28.413Z"
   },
   {
    "duration": 96,
    "start_time": "2022-10-20T14:08:28.817Z"
   },
   {
    "duration": 3,
    "start_time": "2022-10-20T14:08:28.914Z"
   },
   {
    "duration": 46,
    "start_time": "2022-10-20T14:08:28.919Z"
   },
   {
    "duration": 22,
    "start_time": "2022-10-20T14:08:28.967Z"
   },
   {
    "duration": 15,
    "start_time": "2022-10-20T14:08:28.990Z"
   },
   {
    "duration": 4,
    "start_time": "2022-10-20T14:08:29.006Z"
   },
   {
    "duration": 23,
    "start_time": "2022-10-20T14:08:29.011Z"
   },
   {
    "duration": 9,
    "start_time": "2022-10-20T14:08:29.055Z"
   },
   {
    "duration": 6,
    "start_time": "2022-10-20T14:08:29.066Z"
   },
   {
    "duration": 15,
    "start_time": "2022-10-20T14:08:29.074Z"
   },
   {
    "duration": 5,
    "start_time": "2022-10-20T14:08:29.091Z"
   },
   {
    "duration": 208,
    "start_time": "2022-10-20T14:08:29.098Z"
   },
   {
    "duration": 10,
    "start_time": "2022-10-20T14:08:29.307Z"
   },
   {
    "duration": 13,
    "start_time": "2022-10-20T14:08:29.318Z"
   },
   {
    "duration": 21,
    "start_time": "2022-10-20T14:08:29.333Z"
   },
   {
    "duration": 9,
    "start_time": "2022-10-20T14:08:29.356Z"
   },
   {
    "duration": 15,
    "start_time": "2022-10-20T14:08:29.367Z"
   },
   {
    "duration": 185,
    "start_time": "2022-10-20T14:08:29.384Z"
   },
   {
    "duration": 1840,
    "start_time": "2022-10-20T14:10:43.592Z"
   },
   {
    "duration": 425,
    "start_time": "2022-10-20T14:10:55.366Z"
   },
   {
    "duration": 54,
    "start_time": "2022-10-20T14:10:55.793Z"
   },
   {
    "duration": 2,
    "start_time": "2022-10-20T14:10:55.849Z"
   },
   {
    "duration": 72,
    "start_time": "2022-10-20T14:10:55.853Z"
   },
   {
    "duration": 22,
    "start_time": "2022-10-20T14:10:55.928Z"
   },
   {
    "duration": 37,
    "start_time": "2022-10-20T14:10:55.952Z"
   },
   {
    "duration": 33,
    "start_time": "2022-10-20T14:10:55.991Z"
   },
   {
    "duration": 51,
    "start_time": "2022-10-20T14:10:56.026Z"
   },
   {
    "duration": 44,
    "start_time": "2022-10-20T14:10:56.079Z"
   },
   {
    "duration": 52,
    "start_time": "2022-10-20T14:10:56.125Z"
   },
   {
    "duration": 45,
    "start_time": "2022-10-20T14:10:56.179Z"
   },
   {
    "duration": 31,
    "start_time": "2022-10-20T14:10:56.226Z"
   },
   {
    "duration": 220,
    "start_time": "2022-10-20T14:10:56.259Z"
   },
   {
    "duration": 11,
    "start_time": "2022-10-20T14:10:56.482Z"
   },
   {
    "duration": 45,
    "start_time": "2022-10-20T14:10:56.494Z"
   },
   {
    "duration": 49,
    "start_time": "2022-10-20T14:10:56.541Z"
   },
   {
    "duration": 24,
    "start_time": "2022-10-20T14:10:56.592Z"
   },
   {
    "duration": 44,
    "start_time": "2022-10-20T14:10:56.618Z"
   },
   {
    "duration": 202,
    "start_time": "2022-10-20T14:10:56.664Z"
   },
   {
    "duration": 9,
    "start_time": "2022-10-20T14:11:03.608Z"
   },
   {
    "duration": 433,
    "start_time": "2022-10-20T14:11:27.669Z"
   },
   {
    "duration": 135,
    "start_time": "2022-10-20T14:11:28.104Z"
   },
   {
    "duration": 4,
    "start_time": "2022-10-20T14:11:28.241Z"
   },
   {
    "duration": 58,
    "start_time": "2022-10-20T14:11:28.247Z"
   },
   {
    "duration": 22,
    "start_time": "2022-10-20T14:11:28.308Z"
   },
   {
    "duration": 17,
    "start_time": "2022-10-20T14:11:28.331Z"
   },
   {
    "duration": 9,
    "start_time": "2022-10-20T14:11:28.350Z"
   },
   {
    "duration": 23,
    "start_time": "2022-10-20T14:11:28.361Z"
   },
   {
    "duration": 12,
    "start_time": "2022-10-20T14:11:28.385Z"
   },
   {
    "duration": 6,
    "start_time": "2022-10-20T14:11:28.399Z"
   },
   {
    "duration": 15,
    "start_time": "2022-10-20T14:11:28.407Z"
   },
   {
    "duration": 7,
    "start_time": "2022-10-20T14:11:28.424Z"
   },
   {
    "duration": 200,
    "start_time": "2022-10-20T14:11:28.454Z"
   },
   {
    "duration": 11,
    "start_time": "2022-10-20T14:11:28.658Z"
   },
   {
    "duration": 13,
    "start_time": "2022-10-20T14:11:28.671Z"
   },
   {
    "duration": 5,
    "start_time": "2022-10-20T14:11:28.686Z"
   },
   {
    "duration": 10,
    "start_time": "2022-10-20T14:11:28.693Z"
   },
   {
    "duration": 10,
    "start_time": "2022-10-20T14:11:28.705Z"
   },
   {
    "duration": 199,
    "start_time": "2022-10-20T14:11:28.717Z"
   },
   {
    "duration": 13,
    "start_time": "2022-10-20T14:11:28.918Z"
   },
   {
    "duration": 458,
    "start_time": "2022-10-20T14:11:37.538Z"
   },
   {
    "duration": 82,
    "start_time": "2022-10-20T14:11:37.998Z"
   },
   {
    "duration": 3,
    "start_time": "2022-10-20T14:11:38.082Z"
   },
   {
    "duration": 64,
    "start_time": "2022-10-20T14:11:38.086Z"
   },
   {
    "duration": 26,
    "start_time": "2022-10-20T14:11:38.152Z"
   },
   {
    "duration": 35,
    "start_time": "2022-10-20T14:11:38.181Z"
   },
   {
    "duration": 6,
    "start_time": "2022-10-20T14:11:38.219Z"
   },
   {
    "duration": 43,
    "start_time": "2022-10-20T14:11:38.228Z"
   },
   {
    "duration": 15,
    "start_time": "2022-10-20T14:11:38.273Z"
   },
   {
    "duration": 6,
    "start_time": "2022-10-20T14:11:38.290Z"
   },
   {
    "duration": 16,
    "start_time": "2022-10-20T14:11:38.298Z"
   },
   {
    "duration": 8,
    "start_time": "2022-10-20T14:11:38.317Z"
   },
   {
    "duration": 241,
    "start_time": "2022-10-20T14:11:38.354Z"
   },
   {
    "duration": 10,
    "start_time": "2022-10-20T14:11:38.597Z"
   },
   {
    "duration": 31,
    "start_time": "2022-10-20T14:11:38.609Z"
   },
   {
    "duration": 21,
    "start_time": "2022-10-20T14:11:38.642Z"
   },
   {
    "duration": 38,
    "start_time": "2022-10-20T14:11:38.665Z"
   },
   {
    "duration": 36,
    "start_time": "2022-10-20T14:11:38.705Z"
   },
   {
    "duration": 198,
    "start_time": "2022-10-20T14:11:38.743Z"
   },
   {
    "duration": 15,
    "start_time": "2022-10-20T14:11:38.943Z"
   },
   {
    "duration": 118,
    "start_time": "2022-10-20T14:12:10.436Z"
   },
   {
    "duration": 14,
    "start_time": "2022-10-20T14:12:15.747Z"
   },
   {
    "duration": 393,
    "start_time": "2022-10-20T14:12:55.571Z"
   },
   {
    "duration": 57,
    "start_time": "2022-10-20T14:12:55.966Z"
   },
   {
    "duration": 3,
    "start_time": "2022-10-20T14:12:56.025Z"
   },
   {
    "duration": 54,
    "start_time": "2022-10-20T14:12:56.030Z"
   },
   {
    "duration": 22,
    "start_time": "2022-10-20T14:12:56.086Z"
   },
   {
    "duration": 15,
    "start_time": "2022-10-20T14:12:56.110Z"
   },
   {
    "duration": 4,
    "start_time": "2022-10-20T14:12:56.127Z"
   },
   {
    "duration": 32,
    "start_time": "2022-10-20T14:12:56.133Z"
   },
   {
    "duration": 9,
    "start_time": "2022-10-20T14:12:56.167Z"
   },
   {
    "duration": 39,
    "start_time": "2022-10-20T14:12:56.178Z"
   },
   {
    "duration": 26,
    "start_time": "2022-10-20T14:12:56.220Z"
   },
   {
    "duration": 20,
    "start_time": "2022-10-20T14:12:56.247Z"
   },
   {
    "duration": 193,
    "start_time": "2022-10-20T14:12:56.269Z"
   },
   {
    "duration": 10,
    "start_time": "2022-10-20T14:12:56.465Z"
   },
   {
    "duration": 15,
    "start_time": "2022-10-20T14:12:56.477Z"
   },
   {
    "duration": 8,
    "start_time": "2022-10-20T14:12:56.494Z"
   },
   {
    "duration": 16,
    "start_time": "2022-10-20T14:12:56.504Z"
   },
   {
    "duration": 36,
    "start_time": "2022-10-20T14:12:56.522Z"
   },
   {
    "duration": 156,
    "start_time": "2022-10-20T14:12:56.559Z"
   },
   {
    "duration": 13,
    "start_time": "2022-10-20T14:12:56.718Z"
   },
   {
    "duration": 5,
    "start_time": "2022-10-20T14:13:41.100Z"
   },
   {
    "duration": 9,
    "start_time": "2022-10-20T14:13:56.589Z"
   },
   {
    "duration": 90,
    "start_time": "2022-10-20T14:14:02.913Z"
   },
   {
    "duration": 5,
    "start_time": "2022-10-20T14:14:20.836Z"
   },
   {
    "duration": 9,
    "start_time": "2022-10-20T14:14:22.638Z"
   },
   {
    "duration": 8,
    "start_time": "2022-10-20T14:14:26.706Z"
   },
   {
    "duration": 436,
    "start_time": "2022-10-20T14:14:30.939Z"
   },
   {
    "duration": 60,
    "start_time": "2022-10-20T14:14:31.377Z"
   },
   {
    "duration": 3,
    "start_time": "2022-10-20T14:14:31.440Z"
   },
   {
    "duration": 81,
    "start_time": "2022-10-20T14:14:31.445Z"
   },
   {
    "duration": 27,
    "start_time": "2022-10-20T14:14:31.530Z"
   },
   {
    "duration": 36,
    "start_time": "2022-10-20T14:14:31.560Z"
   },
   {
    "duration": 20,
    "start_time": "2022-10-20T14:14:31.599Z"
   },
   {
    "duration": 52,
    "start_time": "2022-10-20T14:14:31.621Z"
   },
   {
    "duration": 56,
    "start_time": "2022-10-20T14:14:31.676Z"
   },
   {
    "duration": 39,
    "start_time": "2022-10-20T14:14:31.734Z"
   },
   {
    "duration": 56,
    "start_time": "2022-10-20T14:14:31.774Z"
   },
   {
    "duration": 65,
    "start_time": "2022-10-20T14:14:31.831Z"
   },
   {
    "duration": 219,
    "start_time": "2022-10-20T14:14:31.898Z"
   },
   {
    "duration": 9,
    "start_time": "2022-10-20T14:14:32.120Z"
   },
   {
    "duration": 23,
    "start_time": "2022-10-20T14:14:32.131Z"
   },
   {
    "duration": 15,
    "start_time": "2022-10-20T14:14:32.156Z"
   },
   {
    "duration": 36,
    "start_time": "2022-10-20T14:14:32.173Z"
   },
   {
    "duration": 37,
    "start_time": "2022-10-20T14:14:32.211Z"
   },
   {
    "duration": 154,
    "start_time": "2022-10-20T14:14:32.250Z"
   },
   {
    "duration": 15,
    "start_time": "2022-10-20T14:14:32.406Z"
   },
   {
    "duration": 33,
    "start_time": "2022-10-20T14:14:32.423Z"
   },
   {
    "duration": 45,
    "start_time": "2022-10-20T14:14:32.458Z"
   },
   {
    "duration": 398,
    "start_time": "2022-10-20T14:15:05.181Z"
   },
   {
    "duration": 61,
    "start_time": "2022-10-20T14:15:05.581Z"
   },
   {
    "duration": 2,
    "start_time": "2022-10-20T14:15:05.644Z"
   },
   {
    "duration": 55,
    "start_time": "2022-10-20T14:15:05.648Z"
   },
   {
    "duration": 22,
    "start_time": "2022-10-20T14:15:05.705Z"
   },
   {
    "duration": 14,
    "start_time": "2022-10-20T14:15:05.729Z"
   },
   {
    "duration": 6,
    "start_time": "2022-10-20T14:15:05.745Z"
   },
   {
    "duration": 26,
    "start_time": "2022-10-20T14:15:05.752Z"
   },
   {
    "duration": 13,
    "start_time": "2022-10-20T14:15:05.780Z"
   },
   {
    "duration": 6,
    "start_time": "2022-10-20T14:15:05.795Z"
   },
   {
    "duration": 17,
    "start_time": "2022-10-20T14:15:05.803Z"
   },
   {
    "duration": 6,
    "start_time": "2022-10-20T14:15:05.822Z"
   },
   {
    "duration": 205,
    "start_time": "2022-10-20T14:15:05.829Z"
   },
   {
    "duration": 20,
    "start_time": "2022-10-20T14:15:06.038Z"
   },
   {
    "duration": 13,
    "start_time": "2022-10-20T14:15:06.060Z"
   },
   {
    "duration": 13,
    "start_time": "2022-10-20T14:15:06.074Z"
   },
   {
    "duration": 12,
    "start_time": "2022-10-20T14:15:06.089Z"
   },
   {
    "duration": 11,
    "start_time": "2022-10-20T14:15:06.102Z"
   },
   {
    "duration": 159,
    "start_time": "2022-10-20T14:15:06.115Z"
   },
   {
    "duration": 13,
    "start_time": "2022-10-20T14:15:06.276Z"
   },
   {
    "duration": 5,
    "start_time": "2022-10-20T14:15:06.291Z"
   },
   {
    "duration": 16,
    "start_time": "2022-10-20T14:15:06.297Z"
   },
   {
    "duration": 6,
    "start_time": "2022-10-20T14:15:33.120Z"
   },
   {
    "duration": 6,
    "start_time": "2022-10-20T14:15:51.274Z"
   },
   {
    "duration": 9,
    "start_time": "2022-10-20T14:15:52.043Z"
   },
   {
    "duration": 6,
    "start_time": "2022-10-20T14:15:59.223Z"
   },
   {
    "duration": 10,
    "start_time": "2022-10-20T14:15:59.943Z"
   },
   {
    "duration": 3,
    "start_time": "2022-10-20T14:16:19.134Z"
   },
   {
    "duration": 84,
    "start_time": "2022-10-20T14:16:50.440Z"
   },
   {
    "duration": 161,
    "start_time": "2022-10-20T14:17:53.050Z"
   },
   {
    "duration": 60,
    "start_time": "2022-10-20T14:18:12.220Z"
   },
   {
    "duration": 9,
    "start_time": "2022-10-20T14:18:15.700Z"
   },
   {
    "duration": 10,
    "start_time": "2022-10-20T14:19:15.911Z"
   },
   {
    "duration": 8,
    "start_time": "2022-10-20T14:19:23.720Z"
   },
   {
    "duration": 9,
    "start_time": "2022-10-20T14:19:45.381Z"
   },
   {
    "duration": 9,
    "start_time": "2022-10-20T14:19:49.411Z"
   },
   {
    "duration": 80,
    "start_time": "2022-10-20T14:20:21.548Z"
   },
   {
    "duration": 329,
    "start_time": "2022-10-20T14:20:24.931Z"
   },
   {
    "duration": 30,
    "start_time": "2022-10-20T14:20:52.976Z"
   },
   {
    "duration": 30,
    "start_time": "2022-10-20T14:21:05.075Z"
   },
   {
    "duration": 330,
    "start_time": "2022-10-20T14:21:11.448Z"
   },
   {
    "duration": 11,
    "start_time": "2022-10-20T15:28:40.600Z"
   },
   {
    "duration": 9,
    "start_time": "2022-10-20T15:29:09.040Z"
   },
   {
    "duration": 11,
    "start_time": "2022-10-20T15:32:23.702Z"
   },
   {
    "duration": 10,
    "start_time": "2022-10-20T15:32:33.379Z"
   },
   {
    "duration": 10,
    "start_time": "2022-10-20T15:32:41.858Z"
   },
   {
    "duration": 13,
    "start_time": "2022-10-20T15:33:04.979Z"
   },
   {
    "duration": 8,
    "start_time": "2022-10-20T15:33:26.342Z"
   },
   {
    "duration": 12,
    "start_time": "2022-10-20T15:33:31.580Z"
   },
   {
    "duration": 10,
    "start_time": "2022-10-20T15:33:36.848Z"
   },
   {
    "duration": 12,
    "start_time": "2022-10-20T15:38:47.509Z"
   },
   {
    "duration": 11,
    "start_time": "2022-10-20T15:41:43.979Z"
   },
   {
    "duration": 957,
    "start_time": "2022-10-20T15:42:38.654Z"
   },
   {
    "duration": 407,
    "start_time": "2022-10-20T15:45:53.884Z"
   },
   {
    "duration": 58,
    "start_time": "2022-10-20T15:45:54.293Z"
   },
   {
    "duration": 3,
    "start_time": "2022-10-20T15:45:54.353Z"
   },
   {
    "duration": 86,
    "start_time": "2022-10-20T15:45:54.358Z"
   },
   {
    "duration": 22,
    "start_time": "2022-10-20T15:45:54.447Z"
   },
   {
    "duration": 106,
    "start_time": "2022-10-20T15:45:54.471Z"
   },
   {
    "duration": 116,
    "start_time": "2022-10-20T15:45:54.579Z"
   },
   {
    "duration": 35,
    "start_time": "2022-10-20T15:45:54.697Z"
   },
   {
    "duration": 33,
    "start_time": "2022-10-20T15:45:54.735Z"
   },
   {
    "duration": 6,
    "start_time": "2022-10-20T15:45:54.770Z"
   },
   {
    "duration": 21,
    "start_time": "2022-10-20T15:45:54.778Z"
   },
   {
    "duration": 6,
    "start_time": "2022-10-20T15:45:54.801Z"
   },
   {
    "duration": 215,
    "start_time": "2022-10-20T15:45:54.808Z"
   },
   {
    "duration": 11,
    "start_time": "2022-10-20T15:45:55.025Z"
   },
   {
    "duration": 114,
    "start_time": "2022-10-20T15:45:55.038Z"
   },
   {
    "duration": 46,
    "start_time": "2022-10-20T15:45:55.154Z"
   },
   {
    "duration": 66,
    "start_time": "2022-10-20T15:45:55.202Z"
   },
   {
    "duration": 30,
    "start_time": "2022-10-20T15:45:55.270Z"
   },
   {
    "duration": 175,
    "start_time": "2022-10-20T15:45:55.301Z"
   },
   {
    "duration": 15,
    "start_time": "2022-10-20T15:45:55.477Z"
   },
   {
    "duration": 7,
    "start_time": "2022-10-20T15:45:55.493Z"
   },
   {
    "duration": 45,
    "start_time": "2022-10-20T15:45:55.501Z"
   },
   {
    "duration": 24,
    "start_time": "2022-10-20T15:45:55.548Z"
   },
   {
    "duration": 183,
    "start_time": "2022-10-20T15:45:55.574Z"
   },
   {
    "duration": 9,
    "start_time": "2022-10-20T15:45:55.758Z"
   },
   {
    "duration": 855,
    "start_time": "2022-10-20T15:45:55.769Z"
   },
   {
    "duration": 10,
    "start_time": "2022-10-20T15:46:08.683Z"
   },
   {
    "duration": 143,
    "start_time": "2022-10-20T15:46:54.311Z"
   },
   {
    "duration": 9,
    "start_time": "2022-10-20T15:46:58.803Z"
   },
   {
    "duration": 10,
    "start_time": "2022-10-20T15:48:47.970Z"
   },
   {
    "duration": 13,
    "start_time": "2022-10-20T15:48:52.069Z"
   },
   {
    "duration": 47,
    "start_time": "2022-10-20T15:50:36.122Z"
   },
   {
    "duration": 7,
    "start_time": "2022-10-20T15:54:24.799Z"
   },
   {
    "duration": 16,
    "start_time": "2022-10-20T15:54:28.754Z"
   },
   {
    "duration": 58,
    "start_time": "2022-10-21T19:53:08.132Z"
   },
   {
    "duration": 412,
    "start_time": "2022-10-21T19:53:17.762Z"
   },
   {
    "duration": 75,
    "start_time": "2022-10-21T19:53:18.176Z"
   },
   {
    "duration": 3,
    "start_time": "2022-10-21T19:53:18.252Z"
   },
   {
    "duration": 252,
    "start_time": "2022-10-21T19:53:18.257Z"
   },
   {
    "duration": 20,
    "start_time": "2022-10-21T19:53:18.511Z"
   },
   {
    "duration": 15,
    "start_time": "2022-10-21T19:53:18.533Z"
   },
   {
    "duration": 4,
    "start_time": "2022-10-21T19:53:18.550Z"
   },
   {
    "duration": 16,
    "start_time": "2022-10-21T19:53:18.556Z"
   },
   {
    "duration": 39,
    "start_time": "2022-10-21T19:53:18.573Z"
   },
   {
    "duration": 6,
    "start_time": "2022-10-21T19:53:18.616Z"
   },
   {
    "duration": 19,
    "start_time": "2022-10-21T19:53:18.624Z"
   },
   {
    "duration": 7,
    "start_time": "2022-10-21T19:53:18.645Z"
   },
   {
    "duration": 210,
    "start_time": "2022-10-21T19:53:18.654Z"
   },
   {
    "duration": 9,
    "start_time": "2022-10-21T19:53:18.866Z"
   },
   {
    "duration": 20,
    "start_time": "2022-10-21T19:53:18.897Z"
   },
   {
    "duration": 11,
    "start_time": "2022-10-21T19:53:18.919Z"
   },
   {
    "duration": 10,
    "start_time": "2022-10-21T19:53:18.932Z"
   },
   {
    "duration": 13,
    "start_time": "2022-10-21T19:53:18.943Z"
   },
   {
    "duration": 165,
    "start_time": "2022-10-21T19:53:18.958Z"
   },
   {
    "duration": 17,
    "start_time": "2022-10-21T19:53:19.126Z"
   },
   {
    "duration": 6,
    "start_time": "2022-10-21T19:53:19.145Z"
   },
   {
    "duration": 14,
    "start_time": "2022-10-21T19:53:19.153Z"
   },
   {
    "duration": 5,
    "start_time": "2022-10-21T19:53:19.169Z"
   },
   {
    "duration": 145,
    "start_time": "2022-10-21T19:53:19.201Z"
   },
   {
    "duration": 9,
    "start_time": "2022-10-21T19:53:19.348Z"
   },
   {
    "duration": 153,
    "start_time": "2022-10-21T19:53:19.359Z"
   },
   {
    "duration": 8,
    "start_time": "2022-10-21T19:53:19.516Z"
   },
   {
    "duration": 12,
    "start_time": "2022-10-21T19:53:19.527Z"
   },
   {
    "duration": 6,
    "start_time": "2022-10-21T19:53:19.541Z"
   },
   {
    "duration": 17,
    "start_time": "2022-10-21T19:53:19.550Z"
   },
   {
    "duration": 29,
    "start_time": "2022-10-21T19:53:19.568Z"
   },
   {
    "duration": 83,
    "start_time": "2022-10-21T19:54:36.824Z"
   },
   {
    "duration": 10,
    "start_time": "2022-10-21T19:56:10.884Z"
   },
   {
    "duration": 456,
    "start_time": "2022-10-21T19:56:30.483Z"
   },
   {
    "duration": 110,
    "start_time": "2022-10-21T19:56:30.942Z"
   },
   {
    "duration": 3,
    "start_time": "2022-10-21T19:56:31.054Z"
   },
   {
    "duration": 91,
    "start_time": "2022-10-21T19:56:31.059Z"
   },
   {
    "duration": 27,
    "start_time": "2022-10-21T19:56:31.152Z"
   },
   {
    "duration": 21,
    "start_time": "2022-10-21T19:56:31.181Z"
   },
   {
    "duration": 25,
    "start_time": "2022-10-21T19:56:31.208Z"
   },
   {
    "duration": 89,
    "start_time": "2022-10-21T19:56:31.235Z"
   },
   {
    "duration": 0,
    "start_time": "2022-10-21T19:56:31.327Z"
   },
   {
    "duration": 0,
    "start_time": "2022-10-21T19:56:31.328Z"
   },
   {
    "duration": 0,
    "start_time": "2022-10-21T19:56:31.330Z"
   },
   {
    "duration": 0,
    "start_time": "2022-10-21T19:56:31.331Z"
   },
   {
    "duration": 0,
    "start_time": "2022-10-21T19:56:31.334Z"
   },
   {
    "duration": 0,
    "start_time": "2022-10-21T19:56:31.336Z"
   },
   {
    "duration": 0,
    "start_time": "2022-10-21T19:56:31.337Z"
   },
   {
    "duration": 0,
    "start_time": "2022-10-21T19:56:31.339Z"
   },
   {
    "duration": 0,
    "start_time": "2022-10-21T19:56:31.340Z"
   },
   {
    "duration": 1,
    "start_time": "2022-10-21T19:56:31.341Z"
   },
   {
    "duration": 0,
    "start_time": "2022-10-21T19:56:31.343Z"
   },
   {
    "duration": 0,
    "start_time": "2022-10-21T19:56:31.344Z"
   },
   {
    "duration": 0,
    "start_time": "2022-10-21T19:56:31.346Z"
   },
   {
    "duration": 0,
    "start_time": "2022-10-21T19:56:31.347Z"
   },
   {
    "duration": 0,
    "start_time": "2022-10-21T19:56:31.349Z"
   },
   {
    "duration": 0,
    "start_time": "2022-10-21T19:56:31.441Z"
   },
   {
    "duration": 0,
    "start_time": "2022-10-21T19:56:31.442Z"
   },
   {
    "duration": 0,
    "start_time": "2022-10-21T19:56:31.443Z"
   },
   {
    "duration": 0,
    "start_time": "2022-10-21T19:56:31.446Z"
   },
   {
    "duration": 0,
    "start_time": "2022-10-21T19:56:31.447Z"
   },
   {
    "duration": 0,
    "start_time": "2022-10-21T19:56:31.448Z"
   },
   {
    "duration": 0,
    "start_time": "2022-10-21T19:56:31.450Z"
   },
   {
    "duration": 0,
    "start_time": "2022-10-21T19:56:31.452Z"
   },
   {
    "duration": 0,
    "start_time": "2022-10-21T19:56:31.453Z"
   },
   {
    "duration": 421,
    "start_time": "2022-10-21T19:56:39.597Z"
   },
   {
    "duration": 102,
    "start_time": "2022-10-21T19:56:40.021Z"
   },
   {
    "duration": 3,
    "start_time": "2022-10-21T19:56:40.125Z"
   },
   {
    "duration": 57,
    "start_time": "2022-10-21T19:56:40.131Z"
   },
   {
    "duration": 29,
    "start_time": "2022-10-21T19:56:40.190Z"
   },
   {
    "duration": 16,
    "start_time": "2022-10-21T19:56:40.221Z"
   },
   {
    "duration": 5,
    "start_time": "2022-10-21T19:56:40.239Z"
   },
   {
    "duration": 20,
    "start_time": "2022-10-21T19:56:40.246Z"
   },
   {
    "duration": 36,
    "start_time": "2022-10-21T19:56:40.268Z"
   },
   {
    "duration": 20,
    "start_time": "2022-10-21T19:56:40.307Z"
   },
   {
    "duration": 14,
    "start_time": "2022-10-21T19:56:40.330Z"
   },
   {
    "duration": 7,
    "start_time": "2022-10-21T19:56:40.346Z"
   },
   {
    "duration": 248,
    "start_time": "2022-10-21T19:56:40.355Z"
   },
   {
    "duration": 12,
    "start_time": "2022-10-21T19:56:40.610Z"
   },
   {
    "duration": 16,
    "start_time": "2022-10-21T19:56:40.624Z"
   },
   {
    "duration": 7,
    "start_time": "2022-10-21T19:56:40.642Z"
   },
   {
    "duration": 14,
    "start_time": "2022-10-21T19:56:40.651Z"
   },
   {
    "duration": 45,
    "start_time": "2022-10-21T19:56:40.667Z"
   },
   {
    "duration": 220,
    "start_time": "2022-10-21T19:56:40.714Z"
   },
   {
    "duration": 18,
    "start_time": "2022-10-21T19:56:40.936Z"
   },
   {
    "duration": 7,
    "start_time": "2022-10-21T19:56:40.956Z"
   },
   {
    "duration": 43,
    "start_time": "2022-10-21T19:56:40.965Z"
   },
   {
    "duration": 16,
    "start_time": "2022-10-21T19:56:41.014Z"
   },
   {
    "duration": 146,
    "start_time": "2022-10-21T19:56:41.032Z"
   },
   {
    "duration": 23,
    "start_time": "2022-10-21T19:56:41.180Z"
   },
   {
    "duration": 156,
    "start_time": "2022-10-21T19:56:41.208Z"
   },
   {
    "duration": 23,
    "start_time": "2022-10-21T19:56:41.366Z"
   },
   {
    "duration": 24,
    "start_time": "2022-10-21T19:56:41.398Z"
   },
   {
    "duration": 31,
    "start_time": "2022-10-21T19:56:41.424Z"
   },
   {
    "duration": 19,
    "start_time": "2022-10-21T19:56:41.457Z"
   },
   {
    "duration": 12,
    "start_time": "2022-10-21T19:56:41.478Z"
   },
   {
    "duration": 46,
    "start_time": "2022-10-21T19:56:41.493Z"
   },
   {
    "duration": 4,
    "start_time": "2022-10-21T19:58:52.209Z"
   },
   {
    "duration": 26,
    "start_time": "2022-10-21T20:30:56.011Z"
   },
   {
    "duration": 72,
    "start_time": "2022-10-21T20:31:12.446Z"
   },
   {
    "duration": 7,
    "start_time": "2022-10-21T20:35:14.456Z"
   },
   {
    "duration": 4,
    "start_time": "2022-10-21T21:24:13.178Z"
   },
   {
    "duration": 6,
    "start_time": "2022-10-21T21:24:38.532Z"
   },
   {
    "duration": 8,
    "start_time": "2022-10-21T21:24:58.308Z"
   },
   {
    "duration": 472,
    "start_time": "2022-10-21T21:26:24.189Z"
   },
   {
    "duration": 19,
    "start_time": "2022-10-21T21:26:45.249Z"
   },
   {
    "duration": 112,
    "start_time": "2022-10-21T21:26:48.707Z"
   },
   {
    "duration": 8,
    "start_time": "2022-10-21T21:27:30.151Z"
   },
   {
    "duration": 7,
    "start_time": "2022-10-21T21:27:41.518Z"
   },
   {
    "duration": 104,
    "start_time": "2022-10-21T21:27:48.586Z"
   },
   {
    "duration": 104,
    "start_time": "2022-10-21T21:29:00.900Z"
   },
   {
    "duration": 74,
    "start_time": "2022-10-22T09:56:14.359Z"
   },
   {
    "duration": 404,
    "start_time": "2022-10-22T09:56:20.576Z"
   },
   {
    "duration": 68,
    "start_time": "2022-10-22T09:56:20.981Z"
   },
   {
    "duration": 3,
    "start_time": "2022-10-22T09:56:21.050Z"
   },
   {
    "duration": 220,
    "start_time": "2022-10-22T09:56:21.055Z"
   },
   {
    "duration": 26,
    "start_time": "2022-10-22T09:56:21.277Z"
   },
   {
    "duration": 20,
    "start_time": "2022-10-22T09:56:21.305Z"
   },
   {
    "duration": 3,
    "start_time": "2022-10-22T09:56:21.327Z"
   },
   {
    "duration": 20,
    "start_time": "2022-10-22T09:56:21.331Z"
   },
   {
    "duration": 8,
    "start_time": "2022-10-22T09:56:21.352Z"
   },
   {
    "duration": 4,
    "start_time": "2022-10-22T09:56:21.362Z"
   },
   {
    "duration": 38,
    "start_time": "2022-10-22T09:56:21.367Z"
   },
   {
    "duration": 5,
    "start_time": "2022-10-22T09:56:21.407Z"
   },
   {
    "duration": 161,
    "start_time": "2022-10-22T09:56:21.414Z"
   },
   {
    "duration": 21,
    "start_time": "2022-10-22T09:56:21.577Z"
   },
   {
    "duration": 15,
    "start_time": "2022-10-22T09:56:21.600Z"
   },
   {
    "duration": 5,
    "start_time": "2022-10-22T09:56:21.617Z"
   },
   {
    "duration": 8,
    "start_time": "2022-10-22T09:56:21.624Z"
   },
   {
    "duration": 11,
    "start_time": "2022-10-22T09:56:21.633Z"
   },
   {
    "duration": 142,
    "start_time": "2022-10-22T09:56:21.645Z"
   },
   {
    "duration": 24,
    "start_time": "2022-10-22T09:56:21.788Z"
   },
   {
    "duration": 5,
    "start_time": "2022-10-22T09:56:21.814Z"
   },
   {
    "duration": 23,
    "start_time": "2022-10-22T09:56:21.821Z"
   },
   {
    "duration": 7,
    "start_time": "2022-10-22T09:56:21.846Z"
   },
   {
    "duration": 152,
    "start_time": "2022-10-22T09:56:21.854Z"
   },
   {
    "duration": 12,
    "start_time": "2022-10-22T09:56:22.008Z"
   },
   {
    "duration": 185,
    "start_time": "2022-10-22T09:56:22.022Z"
   },
   {
    "duration": 8,
    "start_time": "2022-10-22T09:56:22.209Z"
   },
   {
    "duration": 12,
    "start_time": "2022-10-22T09:56:22.220Z"
   },
   {
    "duration": 9,
    "start_time": "2022-10-22T09:56:22.233Z"
   },
   {
    "duration": 18,
    "start_time": "2022-10-22T09:56:22.243Z"
   },
   {
    "duration": 24,
    "start_time": "2022-10-22T09:56:22.262Z"
   },
   {
    "duration": 24,
    "start_time": "2022-10-22T09:56:22.290Z"
   },
   {
    "duration": 539,
    "start_time": "2022-10-22T09:56:22.316Z"
   },
   {
    "duration": 5,
    "start_time": "2022-10-22T09:56:22.857Z"
   },
   {
    "duration": 9,
    "start_time": "2022-10-22T09:58:09.322Z"
   },
   {
    "duration": 378,
    "start_time": "2022-10-22T09:58:30.385Z"
   },
   {
    "duration": 316,
    "start_time": "2022-10-22T09:58:49.579Z"
   },
   {
    "duration": 15,
    "start_time": "2022-10-22T09:58:55.192Z"
   },
   {
    "duration": 10,
    "start_time": "2022-10-22T09:59:05.379Z"
   },
   {
    "duration": 22,
    "start_time": "2022-10-22T09:59:12.318Z"
   },
   {
    "duration": 8,
    "start_time": "2022-10-22T10:18:44.256Z"
   },
   {
    "duration": 85,
    "start_time": "2022-10-22T10:18:47.726Z"
   },
   {
    "duration": 5,
    "start_time": "2022-10-22T10:18:50.630Z"
   },
   {
    "duration": 8,
    "start_time": "2022-10-22T10:18:52.815Z"
   },
   {
    "duration": 4,
    "start_time": "2022-10-22T10:20:10.075Z"
   },
   {
    "duration": 13,
    "start_time": "2022-10-22T10:21:34.447Z"
   },
   {
    "duration": 114,
    "start_time": "2022-10-22T10:22:23.368Z"
   },
   {
    "duration": 5,
    "start_time": "2022-10-22T10:26:52.135Z"
   },
   {
    "duration": 13,
    "start_time": "2022-10-22T10:27:04.458Z"
   },
   {
    "duration": 80,
    "start_time": "2022-10-22T10:27:10.552Z"
   },
   {
    "duration": 16,
    "start_time": "2022-10-22T10:27:13.089Z"
   },
   {
    "duration": 11,
    "start_time": "2022-10-22T10:27:24.284Z"
   },
   {
    "duration": 5,
    "start_time": "2022-10-22T10:27:51.521Z"
   },
   {
    "duration": 4,
    "start_time": "2022-10-22T10:27:53.355Z"
   },
   {
    "duration": 9,
    "start_time": "2022-10-22T10:28:40.069Z"
   },
   {
    "duration": 6,
    "start_time": "2022-10-22T10:28:58.564Z"
   },
   {
    "duration": 9,
    "start_time": "2022-10-22T10:29:52.955Z"
   },
   {
    "duration": 6,
    "start_time": "2022-10-22T10:33:48.306Z"
   },
   {
    "duration": 361,
    "start_time": "2022-10-22T10:36:35.228Z"
   },
   {
    "duration": 77,
    "start_time": "2022-10-22T10:36:35.591Z"
   },
   {
    "duration": 3,
    "start_time": "2022-10-22T10:36:35.669Z"
   },
   {
    "duration": 60,
    "start_time": "2022-10-22T10:36:35.673Z"
   },
   {
    "duration": 19,
    "start_time": "2022-10-22T10:36:35.735Z"
   },
   {
    "duration": 12,
    "start_time": "2022-10-22T10:36:35.755Z"
   },
   {
    "duration": 8,
    "start_time": "2022-10-22T10:36:35.769Z"
   },
   {
    "duration": 39,
    "start_time": "2022-10-22T10:36:35.778Z"
   },
   {
    "duration": 14,
    "start_time": "2022-10-22T10:36:35.818Z"
   },
   {
    "duration": 9,
    "start_time": "2022-10-22T10:36:35.833Z"
   },
   {
    "duration": 15,
    "start_time": "2022-10-22T10:36:35.844Z"
   },
   {
    "duration": 6,
    "start_time": "2022-10-22T10:36:35.861Z"
   },
   {
    "duration": 170,
    "start_time": "2022-10-22T10:36:35.868Z"
   },
   {
    "duration": 8,
    "start_time": "2022-10-22T10:36:36.041Z"
   },
   {
    "duration": 12,
    "start_time": "2022-10-22T10:36:36.051Z"
   },
   {
    "duration": 5,
    "start_time": "2022-10-22T10:36:36.064Z"
   },
   {
    "duration": 26,
    "start_time": "2022-10-22T10:36:36.070Z"
   },
   {
    "duration": 10,
    "start_time": "2022-10-22T10:36:36.098Z"
   },
   {
    "duration": 139,
    "start_time": "2022-10-22T10:36:36.110Z"
   },
   {
    "duration": 13,
    "start_time": "2022-10-22T10:36:36.250Z"
   },
   {
    "duration": 4,
    "start_time": "2022-10-22T10:36:36.265Z"
   },
   {
    "duration": 20,
    "start_time": "2022-10-22T10:36:36.270Z"
   },
   {
    "duration": 9,
    "start_time": "2022-10-22T10:36:36.292Z"
   },
   {
    "duration": 131,
    "start_time": "2022-10-22T10:36:36.302Z"
   },
   {
    "duration": 8,
    "start_time": "2022-10-22T10:36:36.435Z"
   },
   {
    "duration": 163,
    "start_time": "2022-10-22T10:36:36.445Z"
   },
   {
    "duration": 8,
    "start_time": "2022-10-22T10:36:36.609Z"
   },
   {
    "duration": 15,
    "start_time": "2022-10-22T10:36:36.618Z"
   },
   {
    "duration": 6,
    "start_time": "2022-10-22T10:36:36.634Z"
   },
   {
    "duration": 10,
    "start_time": "2022-10-22T10:36:36.642Z"
   },
   {
    "duration": 5,
    "start_time": "2022-10-22T10:36:36.654Z"
   },
   {
    "duration": 44,
    "start_time": "2022-10-22T10:36:36.661Z"
   },
   {
    "duration": 288,
    "start_time": "2022-10-22T10:36:36.707Z"
   },
   {
    "duration": 6,
    "start_time": "2022-10-22T10:36:36.997Z"
   },
   {
    "duration": 19,
    "start_time": "2022-10-22T10:36:37.006Z"
   },
   {
    "duration": 15,
    "start_time": "2022-10-22T10:36:37.027Z"
   },
   {
    "duration": 8,
    "start_time": "2022-10-22T10:36:37.044Z"
   },
   {
    "duration": 16,
    "start_time": "2022-10-22T10:36:37.054Z"
   },
   {
    "duration": 7,
    "start_time": "2022-10-22T10:36:37.072Z"
   },
   {
    "duration": 43,
    "start_time": "2022-10-22T10:36:37.081Z"
   },
   {
    "duration": 12,
    "start_time": "2022-10-22T10:36:37.128Z"
   },
   {
    "duration": 8,
    "start_time": "2022-10-22T10:36:37.143Z"
   },
   {
    "duration": 17,
    "start_time": "2022-10-22T10:36:37.153Z"
   },
   {
    "duration": 0,
    "start_time": "2022-10-22T10:39:37.343Z"
   },
   {
    "duration": 0,
    "start_time": "2022-10-22T10:39:37.345Z"
   },
   {
    "duration": 0,
    "start_time": "2022-10-22T10:39:37.346Z"
   },
   {
    "duration": 182752,
    "start_time": "2022-10-22T10:39:53.967Z"
   },
   {
    "duration": 8,
    "start_time": "2022-10-22T10:42:56.722Z"
   },
   {
    "duration": 0,
    "start_time": "2022-10-22T10:42:56.731Z"
   },
   {
    "duration": 8,
    "start_time": "2022-10-22T10:43:13.008Z"
   },
   {
    "duration": 177540,
    "start_time": "2022-10-22T10:43:16.627Z"
   },
   {
    "duration": 0,
    "start_time": "2022-10-22T10:46:14.178Z"
   },
   {
    "duration": 3,
    "start_time": "2022-10-22T20:18:23.744Z"
   },
   {
    "duration": 383,
    "start_time": "2022-10-22T20:56:20.009Z"
   },
   {
    "duration": 53,
    "start_time": "2022-10-22T20:56:20.394Z"
   },
   {
    "duration": 3,
    "start_time": "2022-10-22T20:56:20.448Z"
   },
   {
    "duration": 69,
    "start_time": "2022-10-22T20:56:20.453Z"
   },
   {
    "duration": 18,
    "start_time": "2022-10-22T20:56:20.524Z"
   },
   {
    "duration": 12,
    "start_time": "2022-10-22T20:56:20.543Z"
   },
   {
    "duration": 6,
    "start_time": "2022-10-22T20:56:20.557Z"
   },
   {
    "duration": 23,
    "start_time": "2022-10-22T20:56:20.564Z"
   },
   {
    "duration": 18,
    "start_time": "2022-10-22T20:56:20.588Z"
   },
   {
    "duration": 4,
    "start_time": "2022-10-22T20:56:20.608Z"
   },
   {
    "duration": 17,
    "start_time": "2022-10-22T20:56:20.613Z"
   },
   {
    "duration": 6,
    "start_time": "2022-10-22T20:56:20.631Z"
   },
   {
    "duration": 149,
    "start_time": "2022-10-22T20:56:20.638Z"
   },
   {
    "duration": 16,
    "start_time": "2022-10-22T20:56:20.788Z"
   },
   {
    "duration": 15,
    "start_time": "2022-10-22T20:56:20.805Z"
   },
   {
    "duration": 4,
    "start_time": "2022-10-22T20:56:20.821Z"
   },
   {
    "duration": 10,
    "start_time": "2022-10-22T20:56:20.826Z"
   },
   {
    "duration": 9,
    "start_time": "2022-10-22T20:56:20.837Z"
   },
   {
    "duration": 132,
    "start_time": "2022-10-22T20:56:20.848Z"
   },
   {
    "duration": 25,
    "start_time": "2022-10-22T20:56:20.982Z"
   },
   {
    "duration": 6,
    "start_time": "2022-10-22T20:56:21.009Z"
   },
   {
    "duration": 8,
    "start_time": "2022-10-22T20:56:21.016Z"
   },
   {
    "duration": 3,
    "start_time": "2022-10-22T20:56:21.026Z"
   },
   {
    "duration": 140,
    "start_time": "2022-10-22T20:56:21.031Z"
   },
   {
    "duration": 7,
    "start_time": "2022-10-22T20:56:21.173Z"
   },
   {
    "duration": 142,
    "start_time": "2022-10-22T20:56:21.182Z"
   },
   {
    "duration": 6,
    "start_time": "2022-10-22T20:56:21.326Z"
   },
   {
    "duration": 12,
    "start_time": "2022-10-22T20:56:21.335Z"
   },
   {
    "duration": 6,
    "start_time": "2022-10-22T20:56:21.349Z"
   },
   {
    "duration": 12,
    "start_time": "2022-10-22T20:56:21.356Z"
   },
   {
    "duration": 7,
    "start_time": "2022-10-22T20:56:21.369Z"
   },
   {
    "duration": 23,
    "start_time": "2022-10-22T20:56:21.377Z"
   },
   {
    "duration": 408,
    "start_time": "2022-10-22T20:56:21.402Z"
   },
   {
    "duration": 5,
    "start_time": "2022-10-22T20:56:21.812Z"
   },
   {
    "duration": 19,
    "start_time": "2022-10-22T20:56:21.818Z"
   },
   {
    "duration": 29,
    "start_time": "2022-10-22T20:56:21.838Z"
   },
   {
    "duration": 9,
    "start_time": "2022-10-22T20:56:21.869Z"
   },
   {
    "duration": 15,
    "start_time": "2022-10-22T20:56:21.879Z"
   },
   {
    "duration": 3,
    "start_time": "2022-10-22T20:56:21.895Z"
   },
   {
    "duration": 13,
    "start_time": "2022-10-22T20:56:21.900Z"
   },
   {
    "duration": 6,
    "start_time": "2022-10-22T20:56:21.915Z"
   },
   {
    "duration": 4,
    "start_time": "2022-10-22T20:56:21.922Z"
   },
   {
    "duration": 13,
    "start_time": "2022-10-22T20:56:21.927Z"
   },
   {
    "duration": 165778,
    "start_time": "2022-10-22T20:56:21.941Z"
   },
   {
    "duration": 165391,
    "start_time": "2022-10-22T20:59:07.721Z"
   },
   {
    "duration": 3,
    "start_time": "2022-10-22T21:01:53.113Z"
   },
   {
    "duration": 69,
    "start_time": "2022-10-22T21:01:53.117Z"
   },
   {
    "duration": 0,
    "start_time": "2022-10-22T21:01:53.188Z"
   },
   {
    "duration": 8,
    "start_time": "2022-10-22T21:51:00.810Z"
   },
   {
    "duration": 18,
    "start_time": "2022-10-22T21:51:03.785Z"
   },
   {
    "duration": 3,
    "start_time": "2022-10-22T21:51:16.300Z"
   },
   {
    "duration": 10,
    "start_time": "2022-10-22T21:51:23.623Z"
   },
   {
    "duration": 7,
    "start_time": "2022-10-22T21:51:27.119Z"
   },
   {
    "duration": 6,
    "start_time": "2022-10-22T21:51:53.396Z"
   },
   {
    "duration": 8,
    "start_time": "2022-10-22T21:51:58.026Z"
   },
   {
    "duration": 11,
    "start_time": "2022-10-22T21:53:49.217Z"
   },
   {
    "duration": 47,
    "start_time": "2022-10-22T21:54:01.509Z"
   },
   {
    "duration": 43,
    "start_time": "2022-10-22T21:54:07.048Z"
   },
   {
    "duration": 14,
    "start_time": "2022-10-22T21:54:12.114Z"
   },
   {
    "duration": 9,
    "start_time": "2022-10-22T21:54:22.848Z"
   },
   {
    "duration": 44,
    "start_time": "2022-10-22T21:54:42.186Z"
   },
   {
    "duration": 380,
    "start_time": "2022-10-22T21:54:48.025Z"
   },
   {
    "duration": 179,
    "start_time": "2022-10-22T21:55:08.739Z"
   },
   {
    "duration": 190,
    "start_time": "2022-10-22T21:57:17.579Z"
   },
   {
    "duration": 402,
    "start_time": "2022-10-23T09:32:42.515Z"
   },
   {
    "duration": 51,
    "start_time": "2022-10-23T09:32:42.919Z"
   },
   {
    "duration": 3,
    "start_time": "2022-10-23T09:32:42.971Z"
   },
   {
    "duration": 72,
    "start_time": "2022-10-23T09:32:42.976Z"
   },
   {
    "duration": 19,
    "start_time": "2022-10-23T09:32:43.050Z"
   },
   {
    "duration": 14,
    "start_time": "2022-10-23T09:32:43.071Z"
   },
   {
    "duration": 7,
    "start_time": "2022-10-23T09:32:43.087Z"
   },
   {
    "duration": 15,
    "start_time": "2022-10-23T09:32:43.095Z"
   },
   {
    "duration": 10,
    "start_time": "2022-10-23T09:32:43.112Z"
   },
   {
    "duration": 4,
    "start_time": "2022-10-23T09:32:43.125Z"
   },
   {
    "duration": 12,
    "start_time": "2022-10-23T09:32:43.131Z"
   },
   {
    "duration": 14,
    "start_time": "2022-10-23T09:32:43.144Z"
   },
   {
    "duration": 175,
    "start_time": "2022-10-23T09:32:43.159Z"
   },
   {
    "duration": 9,
    "start_time": "2022-10-23T09:32:43.335Z"
   },
   {
    "duration": 14,
    "start_time": "2022-10-23T09:32:43.345Z"
   },
   {
    "duration": 5,
    "start_time": "2022-10-23T09:32:43.360Z"
   },
   {
    "duration": 34,
    "start_time": "2022-10-23T09:32:43.367Z"
   },
   {
    "duration": 10,
    "start_time": "2022-10-23T09:32:43.402Z"
   },
   {
    "duration": 134,
    "start_time": "2022-10-23T09:32:43.413Z"
   },
   {
    "duration": 14,
    "start_time": "2022-10-23T09:32:43.549Z"
   },
   {
    "duration": 18,
    "start_time": "2022-10-23T09:32:43.565Z"
   },
   {
    "duration": 19,
    "start_time": "2022-10-23T09:32:43.585Z"
   },
   {
    "duration": 6,
    "start_time": "2022-10-23T09:32:43.606Z"
   },
   {
    "duration": 127,
    "start_time": "2022-10-23T09:32:43.613Z"
   },
   {
    "duration": 7,
    "start_time": "2022-10-23T09:32:43.741Z"
   },
   {
    "duration": 158,
    "start_time": "2022-10-23T09:32:43.749Z"
   },
   {
    "duration": 10,
    "start_time": "2022-10-23T09:32:43.909Z"
   },
   {
    "duration": 14,
    "start_time": "2022-10-23T09:32:43.923Z"
   },
   {
    "duration": 15,
    "start_time": "2022-10-23T09:32:43.939Z"
   },
   {
    "duration": 26,
    "start_time": "2022-10-23T09:32:43.955Z"
   },
   {
    "duration": 17,
    "start_time": "2022-10-23T09:32:43.983Z"
   },
   {
    "duration": 6,
    "start_time": "2022-10-23T09:32:44.002Z"
   },
   {
    "duration": 470,
    "start_time": "2022-10-23T09:32:44.010Z"
   },
   {
    "duration": 6,
    "start_time": "2022-10-23T09:32:44.482Z"
   },
   {
    "duration": 23,
    "start_time": "2022-10-23T09:32:44.490Z"
   },
   {
    "duration": 20,
    "start_time": "2022-10-23T09:32:44.516Z"
   },
   {
    "duration": 7,
    "start_time": "2022-10-23T09:32:44.538Z"
   },
   {
    "duration": 18,
    "start_time": "2022-10-23T09:32:44.547Z"
   },
   {
    "duration": 8,
    "start_time": "2022-10-23T09:32:44.567Z"
   },
   {
    "duration": 24,
    "start_time": "2022-10-23T09:32:44.577Z"
   },
   {
    "duration": 20,
    "start_time": "2022-10-23T09:32:44.603Z"
   },
   {
    "duration": 9,
    "start_time": "2022-10-23T09:32:44.625Z"
   },
   {
    "duration": 15,
    "start_time": "2022-10-23T09:32:44.636Z"
   },
   {
    "duration": 401,
    "start_time": "2022-10-23T09:34:38.478Z"
   },
   {
    "duration": 56,
    "start_time": "2022-10-23T09:34:38.880Z"
   },
   {
    "duration": 0,
    "start_time": "2022-10-23T09:34:38.998Z"
   },
   {
    "duration": 0,
    "start_time": "2022-10-23T09:34:38.999Z"
   },
   {
    "duration": 0,
    "start_time": "2022-10-23T09:34:39.000Z"
   },
   {
    "duration": 0,
    "start_time": "2022-10-23T09:34:39.001Z"
   },
   {
    "duration": 0,
    "start_time": "2022-10-23T09:34:39.002Z"
   },
   {
    "duration": 0,
    "start_time": "2022-10-23T09:34:39.002Z"
   },
   {
    "duration": 0,
    "start_time": "2022-10-23T09:34:39.003Z"
   },
   {
    "duration": 0,
    "start_time": "2022-10-23T09:34:39.004Z"
   },
   {
    "duration": 0,
    "start_time": "2022-10-23T09:34:39.006Z"
   },
   {
    "duration": 0,
    "start_time": "2022-10-23T09:34:39.007Z"
   },
   {
    "duration": 0,
    "start_time": "2022-10-23T09:34:39.008Z"
   },
   {
    "duration": 0,
    "start_time": "2022-10-23T09:34:39.009Z"
   },
   {
    "duration": 0,
    "start_time": "2022-10-23T09:34:39.010Z"
   },
   {
    "duration": 0,
    "start_time": "2022-10-23T09:34:39.011Z"
   },
   {
    "duration": 0,
    "start_time": "2022-10-23T09:34:39.012Z"
   },
   {
    "duration": 0,
    "start_time": "2022-10-23T09:34:39.013Z"
   },
   {
    "duration": 0,
    "start_time": "2022-10-23T09:34:39.014Z"
   },
   {
    "duration": 0,
    "start_time": "2022-10-23T09:34:39.014Z"
   },
   {
    "duration": 0,
    "start_time": "2022-10-23T09:34:39.015Z"
   },
   {
    "duration": 0,
    "start_time": "2022-10-23T09:34:39.016Z"
   },
   {
    "duration": 0,
    "start_time": "2022-10-23T09:34:39.017Z"
   },
   {
    "duration": 0,
    "start_time": "2022-10-23T09:34:39.018Z"
   },
   {
    "duration": 0,
    "start_time": "2022-10-23T09:34:39.019Z"
   },
   {
    "duration": 0,
    "start_time": "2022-10-23T09:34:39.020Z"
   },
   {
    "duration": 0,
    "start_time": "2022-10-23T09:34:39.020Z"
   },
   {
    "duration": 0,
    "start_time": "2022-10-23T09:34:39.021Z"
   },
   {
    "duration": 0,
    "start_time": "2022-10-23T09:34:39.022Z"
   },
   {
    "duration": 0,
    "start_time": "2022-10-23T09:34:39.023Z"
   },
   {
    "duration": 1,
    "start_time": "2022-10-23T09:34:39.023Z"
   },
   {
    "duration": 0,
    "start_time": "2022-10-23T09:34:39.024Z"
   },
   {
    "duration": 0,
    "start_time": "2022-10-23T09:34:39.025Z"
   },
   {
    "duration": 0,
    "start_time": "2022-10-23T09:34:39.026Z"
   },
   {
    "duration": 0,
    "start_time": "2022-10-23T09:34:39.027Z"
   },
   {
    "duration": 0,
    "start_time": "2022-10-23T09:34:39.027Z"
   },
   {
    "duration": 0,
    "start_time": "2022-10-23T09:34:39.028Z"
   },
   {
    "duration": 0,
    "start_time": "2022-10-23T09:34:39.029Z"
   },
   {
    "duration": 0,
    "start_time": "2022-10-23T09:34:39.030Z"
   },
   {
    "duration": 0,
    "start_time": "2022-10-23T09:34:39.031Z"
   },
   {
    "duration": 0,
    "start_time": "2022-10-23T09:34:39.031Z"
   },
   {
    "duration": 0,
    "start_time": "2022-10-23T09:34:39.032Z"
   },
   {
    "duration": 0,
    "start_time": "2022-10-23T09:34:39.033Z"
   },
   {
    "duration": 0,
    "start_time": "2022-10-23T09:34:39.035Z"
   },
   {
    "duration": 0,
    "start_time": "2022-10-23T09:34:39.036Z"
   },
   {
    "duration": 0,
    "start_time": "2022-10-23T09:34:39.037Z"
   },
   {
    "duration": 0,
    "start_time": "2022-10-23T09:34:39.038Z"
   },
   {
    "duration": 0,
    "start_time": "2022-10-23T09:34:39.039Z"
   },
   {
    "duration": 0,
    "start_time": "2022-10-23T09:34:39.040Z"
   },
   {
    "duration": 0,
    "start_time": "2022-10-23T09:34:39.040Z"
   },
   {
    "duration": 405,
    "start_time": "2022-10-23T09:34:55.377Z"
   },
   {
    "duration": 87,
    "start_time": "2022-10-23T09:34:55.784Z"
   },
   {
    "duration": 2,
    "start_time": "2022-10-23T09:34:55.873Z"
   },
   {
    "duration": 44,
    "start_time": "2022-10-23T09:34:55.877Z"
   },
   {
    "duration": 20,
    "start_time": "2022-10-23T09:34:55.923Z"
   },
   {
    "duration": 13,
    "start_time": "2022-10-23T09:34:55.944Z"
   },
   {
    "duration": 7,
    "start_time": "2022-10-23T09:34:55.959Z"
   },
   {
    "duration": 33,
    "start_time": "2022-10-23T09:34:55.968Z"
   },
   {
    "duration": 9,
    "start_time": "2022-10-23T09:34:56.002Z"
   },
   {
    "duration": 9,
    "start_time": "2022-10-23T09:34:56.014Z"
   },
   {
    "duration": 11,
    "start_time": "2022-10-23T09:34:56.024Z"
   },
   {
    "duration": 6,
    "start_time": "2022-10-23T09:34:56.037Z"
   },
   {
    "duration": 199,
    "start_time": "2022-10-23T09:34:56.044Z"
   },
   {
    "duration": 11,
    "start_time": "2022-10-23T09:34:56.245Z"
   },
   {
    "duration": 10,
    "start_time": "2022-10-23T09:34:56.258Z"
   },
   {
    "duration": 30,
    "start_time": "2022-10-23T09:34:56.270Z"
   },
   {
    "duration": 11,
    "start_time": "2022-10-23T09:34:56.302Z"
   },
   {
    "duration": 14,
    "start_time": "2022-10-23T09:34:56.316Z"
   },
   {
    "duration": 145,
    "start_time": "2022-10-23T09:34:56.332Z"
   },
   {
    "duration": 11,
    "start_time": "2022-10-23T09:34:56.478Z"
   },
   {
    "duration": 4,
    "start_time": "2022-10-23T09:34:56.500Z"
   },
   {
    "duration": 20,
    "start_time": "2022-10-23T09:34:56.506Z"
   },
   {
    "duration": 5,
    "start_time": "2022-10-23T09:34:56.528Z"
   },
   {
    "duration": 121,
    "start_time": "2022-10-23T09:34:56.534Z"
   },
   {
    "duration": 7,
    "start_time": "2022-10-23T09:34:56.657Z"
   },
   {
    "duration": 149,
    "start_time": "2022-10-23T09:34:56.665Z"
   },
   {
    "duration": 7,
    "start_time": "2022-10-23T09:34:56.816Z"
   },
   {
    "duration": 19,
    "start_time": "2022-10-23T09:34:56.826Z"
   },
   {
    "duration": 53,
    "start_time": "2022-10-23T09:34:56.847Z"
   },
   {
    "duration": 19,
    "start_time": "2022-10-23T09:34:56.901Z"
   },
   {
    "duration": 8,
    "start_time": "2022-10-23T09:34:56.922Z"
   },
   {
    "duration": 7,
    "start_time": "2022-10-23T09:34:56.932Z"
   },
   {
    "duration": 250,
    "start_time": "2022-10-23T09:34:56.941Z"
   },
   {
    "duration": 8,
    "start_time": "2022-10-23T09:34:57.193Z"
   },
   {
    "duration": 45,
    "start_time": "2022-10-23T09:34:57.203Z"
   },
   {
    "duration": 15,
    "start_time": "2022-10-23T09:34:57.249Z"
   },
   {
    "duration": 6,
    "start_time": "2022-10-23T09:34:57.265Z"
   },
   {
    "duration": 39,
    "start_time": "2022-10-23T09:34:57.272Z"
   },
   {
    "duration": 6,
    "start_time": "2022-10-23T09:34:57.313Z"
   },
   {
    "duration": 17,
    "start_time": "2022-10-23T09:34:57.320Z"
   },
   {
    "duration": 6,
    "start_time": "2022-10-23T09:34:57.338Z"
   },
   {
    "duration": 7,
    "start_time": "2022-10-23T09:34:57.345Z"
   },
   {
    "duration": 13,
    "start_time": "2022-10-23T09:34:57.353Z"
   },
   {
    "duration": 57650,
    "start_time": "2022-10-23T09:34:57.367Z"
   },
   {
    "duration": 0,
    "start_time": "2022-10-23T09:36:03.272Z"
   },
   {
    "duration": 0,
    "start_time": "2022-10-23T09:36:03.272Z"
   },
   {
    "duration": 0,
    "start_time": "2022-10-23T09:36:03.273Z"
   },
   {
    "duration": 0,
    "start_time": "2022-10-23T09:36:03.274Z"
   },
   {
    "duration": 0,
    "start_time": "2022-10-23T09:36:03.274Z"
   },
   {
    "duration": 0,
    "start_time": "2022-10-23T09:36:03.277Z"
   },
   {
    "duration": 379,
    "start_time": "2022-10-23T09:36:41.405Z"
   },
   {
    "duration": 57,
    "start_time": "2022-10-23T09:36:41.786Z"
   },
   {
    "duration": 2,
    "start_time": "2022-10-23T09:36:41.847Z"
   },
   {
    "duration": 44,
    "start_time": "2022-10-23T09:36:41.852Z"
   },
   {
    "duration": 21,
    "start_time": "2022-10-23T09:36:41.898Z"
   },
   {
    "duration": 16,
    "start_time": "2022-10-23T09:36:41.920Z"
   },
   {
    "duration": 3,
    "start_time": "2022-10-23T09:36:41.937Z"
   },
   {
    "duration": 15,
    "start_time": "2022-10-23T09:36:41.942Z"
   },
   {
    "duration": 8,
    "start_time": "2022-10-23T09:36:41.959Z"
   },
   {
    "duration": 4,
    "start_time": "2022-10-23T09:36:42.001Z"
   },
   {
    "duration": 15,
    "start_time": "2022-10-23T09:36:42.006Z"
   },
   {
    "duration": 4,
    "start_time": "2022-10-23T09:36:42.023Z"
   },
   {
    "duration": 194,
    "start_time": "2022-10-23T09:36:42.030Z"
   },
   {
    "duration": 8,
    "start_time": "2022-10-23T09:36:42.226Z"
   },
   {
    "duration": 15,
    "start_time": "2022-10-23T09:36:42.236Z"
   },
   {
    "duration": 5,
    "start_time": "2022-10-23T09:36:42.252Z"
   },
   {
    "duration": 9,
    "start_time": "2022-10-23T09:36:42.259Z"
   },
   {
    "duration": 32,
    "start_time": "2022-10-23T09:36:42.270Z"
   },
   {
    "duration": 134,
    "start_time": "2022-10-23T09:36:42.304Z"
   },
   {
    "duration": 11,
    "start_time": "2022-10-23T09:36:42.440Z"
   },
   {
    "duration": 4,
    "start_time": "2022-10-23T09:36:42.453Z"
   },
   {
    "duration": 12,
    "start_time": "2022-10-23T09:36:42.458Z"
   },
   {
    "duration": 5,
    "start_time": "2022-10-23T09:36:42.472Z"
   },
   {
    "duration": 124,
    "start_time": "2022-10-23T09:36:42.500Z"
   },
   {
    "duration": 7,
    "start_time": "2022-10-23T09:36:42.626Z"
   },
   {
    "duration": 133,
    "start_time": "2022-10-23T09:36:42.635Z"
   },
   {
    "duration": 6,
    "start_time": "2022-10-23T09:36:42.769Z"
   },
   {
    "duration": 30,
    "start_time": "2022-10-23T09:36:42.777Z"
   },
   {
    "duration": 16,
    "start_time": "2022-10-23T09:36:42.808Z"
   },
   {
    "duration": 15,
    "start_time": "2022-10-23T09:36:42.826Z"
   },
   {
    "duration": 4,
    "start_time": "2022-10-23T09:36:42.842Z"
   },
   {
    "duration": 8,
    "start_time": "2022-10-23T09:36:42.847Z"
   },
   {
    "duration": 254,
    "start_time": "2022-10-23T09:36:42.856Z"
   },
   {
    "duration": 4,
    "start_time": "2022-10-23T09:36:43.112Z"
   },
   {
    "duration": 25,
    "start_time": "2022-10-23T09:36:43.117Z"
   },
   {
    "duration": 12,
    "start_time": "2022-10-23T09:36:43.143Z"
   },
   {
    "duration": 5,
    "start_time": "2022-10-23T09:36:43.157Z"
   },
   {
    "duration": 10,
    "start_time": "2022-10-23T09:36:43.163Z"
   },
   {
    "duration": 4,
    "start_time": "2022-10-23T09:36:43.174Z"
   },
   {
    "duration": 28,
    "start_time": "2022-10-23T09:36:43.181Z"
   },
   {
    "duration": 7,
    "start_time": "2022-10-23T09:36:43.211Z"
   },
   {
    "duration": 9,
    "start_time": "2022-10-23T09:36:43.220Z"
   },
   {
    "duration": 14,
    "start_time": "2022-10-23T09:36:43.231Z"
   },
   {
    "duration": 5,
    "start_time": "2022-10-23T09:36:43.247Z"
   },
   {
    "duration": 103,
    "start_time": "2022-10-23T09:36:43.253Z"
   },
   {
    "duration": 0,
    "start_time": "2022-10-23T09:36:43.357Z"
   },
   {
    "duration": 0,
    "start_time": "2022-10-23T09:36:43.359Z"
   },
   {
    "duration": 0,
    "start_time": "2022-10-23T09:36:43.360Z"
   },
   {
    "duration": 0,
    "start_time": "2022-10-23T09:36:43.361Z"
   },
   {
    "duration": 0,
    "start_time": "2022-10-23T09:36:43.362Z"
   },
   {
    "duration": 2,
    "start_time": "2022-10-23T09:36:55.671Z"
   },
   {
    "duration": 3,
    "start_time": "2022-10-23T09:36:56.447Z"
   },
   {
    "duration": 10,
    "start_time": "2022-10-23T09:36:57.524Z"
   },
   {
    "duration": 2,
    "start_time": "2022-10-23T09:37:15.214Z"
   },
   {
    "duration": 2,
    "start_time": "2022-10-23T09:37:17.809Z"
   },
   {
    "duration": 178,
    "start_time": "2022-10-23T09:37:18.370Z"
   },
   {
    "duration": 182,
    "start_time": "2022-10-23T09:37:20.444Z"
   },
   {
    "duration": 3,
    "start_time": "2022-10-23T09:37:39.824Z"
   },
   {
    "duration": 348,
    "start_time": "2022-10-23T09:39:17.151Z"
   },
   {
    "duration": 54,
    "start_time": "2022-10-23T09:39:17.501Z"
   },
   {
    "duration": 2,
    "start_time": "2022-10-23T09:39:17.556Z"
   },
   {
    "duration": 43,
    "start_time": "2022-10-23T09:39:17.560Z"
   },
   {
    "duration": 18,
    "start_time": "2022-10-23T09:39:17.605Z"
   },
   {
    "duration": 12,
    "start_time": "2022-10-23T09:39:17.624Z"
   },
   {
    "duration": 28,
    "start_time": "2022-10-23T09:39:17.638Z"
   },
   {
    "duration": 30,
    "start_time": "2022-10-23T09:39:17.668Z"
   },
   {
    "duration": 14,
    "start_time": "2022-10-23T09:39:17.699Z"
   },
   {
    "duration": 3,
    "start_time": "2022-10-23T09:39:17.716Z"
   },
   {
    "duration": 14,
    "start_time": "2022-10-23T09:39:17.721Z"
   },
   {
    "duration": 10,
    "start_time": "2022-10-23T09:39:17.736Z"
   },
   {
    "duration": 177,
    "start_time": "2022-10-23T09:39:17.748Z"
   },
   {
    "duration": 8,
    "start_time": "2022-10-23T09:39:17.927Z"
   },
   {
    "duration": 23,
    "start_time": "2022-10-23T09:39:17.936Z"
   },
   {
    "duration": 15,
    "start_time": "2022-10-23T09:39:17.960Z"
   },
   {
    "duration": 29,
    "start_time": "2022-10-23T09:39:17.976Z"
   },
   {
    "duration": 18,
    "start_time": "2022-10-23T09:39:18.006Z"
   },
   {
    "duration": 127,
    "start_time": "2022-10-23T09:39:18.025Z"
   },
   {
    "duration": 12,
    "start_time": "2022-10-23T09:39:18.153Z"
   },
   {
    "duration": 4,
    "start_time": "2022-10-23T09:39:18.167Z"
   },
   {
    "duration": 13,
    "start_time": "2022-10-23T09:39:18.172Z"
   },
   {
    "duration": 3,
    "start_time": "2022-10-23T09:39:18.200Z"
   },
   {
    "duration": 130,
    "start_time": "2022-10-23T09:39:18.204Z"
   },
   {
    "duration": 6,
    "start_time": "2022-10-23T09:39:18.336Z"
   },
   {
    "duration": 166,
    "start_time": "2022-10-23T09:39:18.343Z"
   },
   {
    "duration": 7,
    "start_time": "2022-10-23T09:39:18.511Z"
   },
   {
    "duration": 11,
    "start_time": "2022-10-23T09:39:18.521Z"
   },
   {
    "duration": 6,
    "start_time": "2022-10-23T09:39:18.533Z"
   },
   {
    "duration": 13,
    "start_time": "2022-10-23T09:39:18.540Z"
   },
   {
    "duration": 20,
    "start_time": "2022-10-23T09:39:18.555Z"
   },
   {
    "duration": 26,
    "start_time": "2022-10-23T09:39:18.577Z"
   },
   {
    "duration": 270,
    "start_time": "2022-10-23T09:39:18.605Z"
   },
   {
    "duration": 5,
    "start_time": "2022-10-23T09:39:18.876Z"
   },
   {
    "duration": 41,
    "start_time": "2022-10-23T09:39:18.883Z"
   },
   {
    "duration": 12,
    "start_time": "2022-10-23T09:39:18.926Z"
   },
   {
    "duration": 5,
    "start_time": "2022-10-23T09:39:18.940Z"
   },
   {
    "duration": 34,
    "start_time": "2022-10-23T09:39:18.947Z"
   },
   {
    "duration": 3,
    "start_time": "2022-10-23T09:39:18.982Z"
   },
   {
    "duration": 33,
    "start_time": "2022-10-23T09:39:18.987Z"
   },
   {
    "duration": 26,
    "start_time": "2022-10-23T09:39:19.022Z"
   },
   {
    "duration": 20,
    "start_time": "2022-10-23T09:39:19.050Z"
   },
   {
    "duration": 15,
    "start_time": "2022-10-23T09:39:19.071Z"
   },
   {
    "duration": 6,
    "start_time": "2022-10-23T09:39:19.088Z"
   },
   {
    "duration": 9,
    "start_time": "2022-10-23T09:39:19.095Z"
   },
   {
    "duration": 10,
    "start_time": "2022-10-23T09:39:19.105Z"
   },
   {
    "duration": 10,
    "start_time": "2022-10-23T09:39:19.116Z"
   },
   {
    "duration": 6,
    "start_time": "2022-10-23T09:39:19.128Z"
   },
   {
    "duration": 188,
    "start_time": "2022-10-23T09:39:19.136Z"
   },
   {
    "duration": 204,
    "start_time": "2022-10-23T09:39:19.326Z"
   },
   {
    "duration": 4,
    "start_time": "2022-10-23T09:39:19.532Z"
   },
   {
    "duration": 5,
    "start_time": "2022-10-23T09:40:08.543Z"
   },
   {
    "duration": 354,
    "start_time": "2022-10-23T09:40:37.937Z"
   },
   {
    "duration": 54,
    "start_time": "2022-10-23T09:40:38.292Z"
   },
   {
    "duration": 2,
    "start_time": "2022-10-23T09:40:38.348Z"
   },
   {
    "duration": 41,
    "start_time": "2022-10-23T09:40:38.351Z"
   },
   {
    "duration": 19,
    "start_time": "2022-10-23T09:40:38.393Z"
   },
   {
    "duration": 11,
    "start_time": "2022-10-23T09:40:38.414Z"
   },
   {
    "duration": 9,
    "start_time": "2022-10-23T09:40:38.426Z"
   },
   {
    "duration": 18,
    "start_time": "2022-10-23T09:40:38.437Z"
   },
   {
    "duration": 7,
    "start_time": "2022-10-23T09:40:38.456Z"
   },
   {
    "duration": 8,
    "start_time": "2022-10-23T09:40:38.465Z"
   },
   {
    "duration": 10,
    "start_time": "2022-10-23T09:40:38.475Z"
   },
   {
    "duration": 20,
    "start_time": "2022-10-23T09:40:38.487Z"
   },
   {
    "duration": 152,
    "start_time": "2022-10-23T09:40:38.509Z"
   },
   {
    "duration": 8,
    "start_time": "2022-10-23T09:40:38.662Z"
   },
   {
    "duration": 15,
    "start_time": "2022-10-23T09:40:38.671Z"
   },
   {
    "duration": 15,
    "start_time": "2022-10-23T09:40:38.687Z"
   },
   {
    "duration": 16,
    "start_time": "2022-10-23T09:40:38.704Z"
   },
   {
    "duration": 11,
    "start_time": "2022-10-23T09:40:38.722Z"
   },
   {
    "duration": 121,
    "start_time": "2022-10-23T09:40:38.734Z"
   },
   {
    "duration": 11,
    "start_time": "2022-10-23T09:40:38.856Z"
   },
   {
    "duration": 5,
    "start_time": "2022-10-23T09:40:38.868Z"
   },
   {
    "duration": 30,
    "start_time": "2022-10-23T09:40:38.874Z"
   },
   {
    "duration": 5,
    "start_time": "2022-10-23T09:40:38.906Z"
   },
   {
    "duration": 128,
    "start_time": "2022-10-23T09:40:38.912Z"
   },
   {
    "duration": 6,
    "start_time": "2022-10-23T09:40:39.042Z"
   },
   {
    "duration": 128,
    "start_time": "2022-10-23T09:40:39.050Z"
   },
   {
    "duration": 21,
    "start_time": "2022-10-23T09:40:39.179Z"
   },
   {
    "duration": 11,
    "start_time": "2022-10-23T09:40:39.204Z"
   },
   {
    "duration": 6,
    "start_time": "2022-10-23T09:40:39.217Z"
   },
   {
    "duration": 11,
    "start_time": "2022-10-23T09:40:39.224Z"
   },
   {
    "duration": 17,
    "start_time": "2022-10-23T09:40:39.237Z"
   },
   {
    "duration": 16,
    "start_time": "2022-10-23T09:40:39.255Z"
   },
   {
    "duration": 248,
    "start_time": "2022-10-23T09:40:39.272Z"
   },
   {
    "duration": 5,
    "start_time": "2022-10-23T09:40:39.522Z"
   },
   {
    "duration": 14,
    "start_time": "2022-10-23T09:40:39.529Z"
   },
   {
    "duration": 8,
    "start_time": "2022-10-23T09:40:39.544Z"
   },
   {
    "duration": 8,
    "start_time": "2022-10-23T09:40:39.554Z"
   },
   {
    "duration": 11,
    "start_time": "2022-10-23T09:40:39.563Z"
   },
   {
    "duration": 3,
    "start_time": "2022-10-23T09:40:39.576Z"
   },
   {
    "duration": 12,
    "start_time": "2022-10-23T09:40:39.601Z"
   },
   {
    "duration": 9,
    "start_time": "2022-10-23T09:40:39.614Z"
   },
   {
    "duration": 5,
    "start_time": "2022-10-23T09:40:39.624Z"
   },
   {
    "duration": 12,
    "start_time": "2022-10-23T09:40:39.630Z"
   },
   {
    "duration": 7,
    "start_time": "2022-10-23T09:40:39.643Z"
   },
   {
    "duration": 8,
    "start_time": "2022-10-23T09:40:39.651Z"
   },
   {
    "duration": 8,
    "start_time": "2022-10-23T09:40:39.660Z"
   },
   {
    "duration": 4,
    "start_time": "2022-10-23T09:40:39.669Z"
   },
   {
    "duration": 5,
    "start_time": "2022-10-23T09:40:39.675Z"
   },
   {
    "duration": 206,
    "start_time": "2022-10-23T09:40:39.682Z"
   },
   {
    "duration": 193,
    "start_time": "2022-10-23T09:40:39.890Z"
   },
   {
    "duration": 3,
    "start_time": "2022-10-23T09:40:40.085Z"
   },
   {
    "duration": 23,
    "start_time": "2022-10-23T09:42:14.310Z"
   },
   {
    "duration": 376,
    "start_time": "2022-10-23T09:42:18.811Z"
   },
   {
    "duration": 52,
    "start_time": "2022-10-23T09:42:19.189Z"
   },
   {
    "duration": 2,
    "start_time": "2022-10-23T09:42:19.243Z"
   },
   {
    "duration": 42,
    "start_time": "2022-10-23T09:42:19.246Z"
   },
   {
    "duration": 18,
    "start_time": "2022-10-23T09:42:19.290Z"
   },
   {
    "duration": 20,
    "start_time": "2022-10-23T09:42:19.310Z"
   },
   {
    "duration": 4,
    "start_time": "2022-10-23T09:42:19.331Z"
   },
   {
    "duration": 16,
    "start_time": "2022-10-23T09:42:19.337Z"
   },
   {
    "duration": 11,
    "start_time": "2022-10-23T09:42:19.355Z"
   },
   {
    "duration": 4,
    "start_time": "2022-10-23T09:42:19.368Z"
   },
   {
    "duration": 28,
    "start_time": "2022-10-23T09:42:19.373Z"
   },
   {
    "duration": 22,
    "start_time": "2022-10-23T09:42:19.403Z"
   },
   {
    "duration": 184,
    "start_time": "2022-10-23T09:42:19.426Z"
   },
   {
    "duration": 7,
    "start_time": "2022-10-23T09:42:19.612Z"
   },
   {
    "duration": 8,
    "start_time": "2022-10-23T09:42:19.621Z"
   },
   {
    "duration": 7,
    "start_time": "2022-10-23T09:42:19.631Z"
   },
   {
    "duration": 8,
    "start_time": "2022-10-23T09:42:19.639Z"
   },
   {
    "duration": 9,
    "start_time": "2022-10-23T09:42:19.648Z"
   },
   {
    "duration": 160,
    "start_time": "2022-10-23T09:42:19.658Z"
   },
   {
    "duration": 11,
    "start_time": "2022-10-23T09:42:19.820Z"
   },
   {
    "duration": 4,
    "start_time": "2022-10-23T09:42:19.832Z"
   },
   {
    "duration": 8,
    "start_time": "2022-10-23T09:42:19.838Z"
   },
   {
    "duration": 8,
    "start_time": "2022-10-23T09:42:19.848Z"
   },
   {
    "duration": 149,
    "start_time": "2022-10-23T09:42:19.858Z"
   },
   {
    "duration": 7,
    "start_time": "2022-10-23T09:42:20.009Z"
   },
   {
    "duration": 148,
    "start_time": "2022-10-23T09:42:20.017Z"
   },
   {
    "duration": 6,
    "start_time": "2022-10-23T09:42:20.167Z"
   },
   {
    "duration": 27,
    "start_time": "2022-10-23T09:42:20.174Z"
   },
   {
    "duration": 5,
    "start_time": "2022-10-23T09:42:20.202Z"
   },
   {
    "duration": 20,
    "start_time": "2022-10-23T09:42:20.208Z"
   },
   {
    "duration": 22,
    "start_time": "2022-10-23T09:42:20.230Z"
   },
   {
    "duration": 9,
    "start_time": "2022-10-23T09:42:20.253Z"
   },
   {
    "duration": 238,
    "start_time": "2022-10-23T09:42:20.264Z"
   },
   {
    "duration": 6,
    "start_time": "2022-10-23T09:42:20.504Z"
   },
   {
    "duration": 18,
    "start_time": "2022-10-23T09:42:20.512Z"
   },
   {
    "duration": 9,
    "start_time": "2022-10-23T09:42:20.532Z"
   },
   {
    "duration": 13,
    "start_time": "2022-10-23T09:42:20.542Z"
   },
   {
    "duration": 16,
    "start_time": "2022-10-23T09:42:20.556Z"
   },
   {
    "duration": 3,
    "start_time": "2022-10-23T09:42:20.574Z"
   },
   {
    "duration": 27,
    "start_time": "2022-10-23T09:42:20.578Z"
   },
   {
    "duration": 6,
    "start_time": "2022-10-23T09:42:20.608Z"
   },
   {
    "duration": 13,
    "start_time": "2022-10-23T09:42:20.616Z"
   },
   {
    "duration": 12,
    "start_time": "2022-10-23T09:42:20.630Z"
   },
   {
    "duration": 21,
    "start_time": "2022-10-23T09:42:20.643Z"
   },
   {
    "duration": 13,
    "start_time": "2022-10-23T09:42:20.666Z"
   },
   {
    "duration": 8,
    "start_time": "2022-10-23T09:42:20.680Z"
   },
   {
    "duration": 17,
    "start_time": "2022-10-23T09:42:20.690Z"
   },
   {
    "duration": 22,
    "start_time": "2022-10-23T09:42:20.708Z"
   },
   {
    "duration": 166,
    "start_time": "2022-10-23T09:42:20.732Z"
   },
   {
    "duration": 186,
    "start_time": "2022-10-23T09:42:20.901Z"
   },
   {
    "duration": 3,
    "start_time": "2022-10-23T09:42:21.089Z"
   },
   {
    "duration": 7,
    "start_time": "2022-10-23T09:43:56.103Z"
   },
   {
    "duration": 12,
    "start_time": "2022-10-23T09:44:31.286Z"
   },
   {
    "duration": 357,
    "start_time": "2022-10-23T09:44:36.065Z"
   },
   {
    "duration": 53,
    "start_time": "2022-10-23T09:44:36.424Z"
   },
   {
    "duration": 3,
    "start_time": "2022-10-23T09:44:36.481Z"
   },
   {
    "duration": 44,
    "start_time": "2022-10-23T09:44:36.486Z"
   },
   {
    "duration": 20,
    "start_time": "2022-10-23T09:44:36.531Z"
   },
   {
    "duration": 13,
    "start_time": "2022-10-23T09:44:36.553Z"
   },
   {
    "duration": 2,
    "start_time": "2022-10-23T09:44:36.568Z"
   },
   {
    "duration": 31,
    "start_time": "2022-10-23T09:44:36.572Z"
   },
   {
    "duration": 4,
    "start_time": "2022-10-23T09:44:36.607Z"
   },
   {
    "duration": 18,
    "start_time": "2022-10-23T09:44:36.612Z"
   },
   {
    "duration": 81,
    "start_time": "2022-10-23T09:44:36.632Z"
   },
   {
    "duration": 0,
    "start_time": "2022-10-23T09:44:36.747Z"
   },
   {
    "duration": 0,
    "start_time": "2022-10-23T09:44:36.748Z"
   },
   {
    "duration": 0,
    "start_time": "2022-10-23T09:44:36.750Z"
   },
   {
    "duration": 0,
    "start_time": "2022-10-23T09:44:36.751Z"
   },
   {
    "duration": 0,
    "start_time": "2022-10-23T09:44:36.753Z"
   },
   {
    "duration": 0,
    "start_time": "2022-10-23T09:44:36.754Z"
   },
   {
    "duration": 0,
    "start_time": "2022-10-23T09:44:36.756Z"
   },
   {
    "duration": 0,
    "start_time": "2022-10-23T09:44:36.757Z"
   },
   {
    "duration": 0,
    "start_time": "2022-10-23T09:44:36.759Z"
   },
   {
    "duration": 1,
    "start_time": "2022-10-23T09:44:36.759Z"
   },
   {
    "duration": 0,
    "start_time": "2022-10-23T09:44:36.761Z"
   },
   {
    "duration": 0,
    "start_time": "2022-10-23T09:44:36.762Z"
   },
   {
    "duration": 0,
    "start_time": "2022-10-23T09:44:36.763Z"
   },
   {
    "duration": 0,
    "start_time": "2022-10-23T09:44:36.763Z"
   },
   {
    "duration": 0,
    "start_time": "2022-10-23T09:44:36.764Z"
   },
   {
    "duration": 0,
    "start_time": "2022-10-23T09:44:36.765Z"
   },
   {
    "duration": 0,
    "start_time": "2022-10-23T09:44:36.800Z"
   },
   {
    "duration": 0,
    "start_time": "2022-10-23T09:44:36.801Z"
   },
   {
    "duration": 0,
    "start_time": "2022-10-23T09:44:36.802Z"
   },
   {
    "duration": 0,
    "start_time": "2022-10-23T09:44:36.803Z"
   },
   {
    "duration": 0,
    "start_time": "2022-10-23T09:44:36.804Z"
   },
   {
    "duration": 0,
    "start_time": "2022-10-23T09:44:36.805Z"
   },
   {
    "duration": 0,
    "start_time": "2022-10-23T09:44:36.806Z"
   },
   {
    "duration": 0,
    "start_time": "2022-10-23T09:44:36.807Z"
   },
   {
    "duration": 0,
    "start_time": "2022-10-23T09:44:36.808Z"
   },
   {
    "duration": 0,
    "start_time": "2022-10-23T09:44:36.809Z"
   },
   {
    "duration": 0,
    "start_time": "2022-10-23T09:44:36.810Z"
   },
   {
    "duration": 0,
    "start_time": "2022-10-23T09:44:36.811Z"
   },
   {
    "duration": 0,
    "start_time": "2022-10-23T09:44:36.812Z"
   },
   {
    "duration": 0,
    "start_time": "2022-10-23T09:44:36.813Z"
   },
   {
    "duration": 0,
    "start_time": "2022-10-23T09:44:36.814Z"
   },
   {
    "duration": 0,
    "start_time": "2022-10-23T09:44:36.814Z"
   },
   {
    "duration": 0,
    "start_time": "2022-10-23T09:44:36.815Z"
   },
   {
    "duration": 0,
    "start_time": "2022-10-23T09:44:36.816Z"
   },
   {
    "duration": 0,
    "start_time": "2022-10-23T09:44:36.817Z"
   },
   {
    "duration": 0,
    "start_time": "2022-10-23T09:44:36.818Z"
   },
   {
    "duration": 0,
    "start_time": "2022-10-23T09:44:36.818Z"
   },
   {
    "duration": 0,
    "start_time": "2022-10-23T09:44:36.819Z"
   },
   {
    "duration": 0,
    "start_time": "2022-10-23T09:44:36.820Z"
   },
   {
    "duration": 351,
    "start_time": "2022-10-23T09:44:50.463Z"
   },
   {
    "duration": 46,
    "start_time": "2022-10-23T09:44:50.816Z"
   },
   {
    "duration": 2,
    "start_time": "2022-10-23T09:44:50.864Z"
   },
   {
    "duration": 66,
    "start_time": "2022-10-23T09:44:50.868Z"
   },
   {
    "duration": 19,
    "start_time": "2022-10-23T09:44:50.935Z"
   },
   {
    "duration": 16,
    "start_time": "2022-10-23T09:44:50.956Z"
   },
   {
    "duration": 16,
    "start_time": "2022-10-23T09:44:50.973Z"
   },
   {
    "duration": 31,
    "start_time": "2022-10-23T09:44:50.991Z"
   },
   {
    "duration": 21,
    "start_time": "2022-10-23T09:44:51.024Z"
   },
   {
    "duration": 33,
    "start_time": "2022-10-23T09:44:51.047Z"
   },
   {
    "duration": 74,
    "start_time": "2022-10-23T09:44:51.083Z"
   },
   {
    "duration": 0,
    "start_time": "2022-10-23T09:44:51.201Z"
   },
   {
    "duration": 0,
    "start_time": "2022-10-23T09:44:51.203Z"
   },
   {
    "duration": 0,
    "start_time": "2022-10-23T09:44:51.204Z"
   },
   {
    "duration": 0,
    "start_time": "2022-10-23T09:44:51.206Z"
   },
   {
    "duration": 0,
    "start_time": "2022-10-23T09:44:51.207Z"
   },
   {
    "duration": 0,
    "start_time": "2022-10-23T09:44:51.209Z"
   },
   {
    "duration": 0,
    "start_time": "2022-10-23T09:44:51.210Z"
   },
   {
    "duration": 0,
    "start_time": "2022-10-23T09:44:51.211Z"
   },
   {
    "duration": 0,
    "start_time": "2022-10-23T09:44:51.212Z"
   },
   {
    "duration": 0,
    "start_time": "2022-10-23T09:44:51.213Z"
   },
   {
    "duration": 0,
    "start_time": "2022-10-23T09:44:51.213Z"
   },
   {
    "duration": 0,
    "start_time": "2022-10-23T09:44:51.215Z"
   },
   {
    "duration": 0,
    "start_time": "2022-10-23T09:44:51.215Z"
   },
   {
    "duration": 0,
    "start_time": "2022-10-23T09:44:51.216Z"
   },
   {
    "duration": 0,
    "start_time": "2022-10-23T09:44:51.217Z"
   },
   {
    "duration": 0,
    "start_time": "2022-10-23T09:44:51.218Z"
   },
   {
    "duration": 0,
    "start_time": "2022-10-23T09:44:51.219Z"
   },
   {
    "duration": 0,
    "start_time": "2022-10-23T09:44:51.220Z"
   },
   {
    "duration": 0,
    "start_time": "2022-10-23T09:44:51.221Z"
   },
   {
    "duration": 1,
    "start_time": "2022-10-23T09:44:51.221Z"
   },
   {
    "duration": 0,
    "start_time": "2022-10-23T09:44:51.222Z"
   },
   {
    "duration": 0,
    "start_time": "2022-10-23T09:44:51.223Z"
   },
   {
    "duration": 0,
    "start_time": "2022-10-23T09:44:51.224Z"
   },
   {
    "duration": 0,
    "start_time": "2022-10-23T09:44:51.225Z"
   },
   {
    "duration": 0,
    "start_time": "2022-10-23T09:44:51.226Z"
   },
   {
    "duration": 0,
    "start_time": "2022-10-23T09:44:51.227Z"
   },
   {
    "duration": 0,
    "start_time": "2022-10-23T09:44:51.227Z"
   },
   {
    "duration": 0,
    "start_time": "2022-10-23T09:44:51.228Z"
   },
   {
    "duration": 0,
    "start_time": "2022-10-23T09:44:51.229Z"
   },
   {
    "duration": 0,
    "start_time": "2022-10-23T09:44:51.230Z"
   },
   {
    "duration": 0,
    "start_time": "2022-10-23T09:44:51.231Z"
   },
   {
    "duration": 0,
    "start_time": "2022-10-23T09:44:51.232Z"
   },
   {
    "duration": 0,
    "start_time": "2022-10-23T09:44:51.233Z"
   },
   {
    "duration": 0,
    "start_time": "2022-10-23T09:44:51.234Z"
   },
   {
    "duration": 0,
    "start_time": "2022-10-23T09:44:51.235Z"
   },
   {
    "duration": 0,
    "start_time": "2022-10-23T09:44:51.235Z"
   },
   {
    "duration": 0,
    "start_time": "2022-10-23T09:44:51.236Z"
   },
   {
    "duration": 0,
    "start_time": "2022-10-23T09:44:51.237Z"
   },
   {
    "duration": 0,
    "start_time": "2022-10-23T09:44:51.238Z"
   },
   {
    "duration": 385,
    "start_time": "2022-10-23T09:45:05.506Z"
   },
   {
    "duration": 61,
    "start_time": "2022-10-23T09:45:05.893Z"
   },
   {
    "duration": 3,
    "start_time": "2022-10-23T09:45:05.956Z"
   },
   {
    "duration": 51,
    "start_time": "2022-10-23T09:45:05.961Z"
   },
   {
    "duration": 25,
    "start_time": "2022-10-23T09:45:06.014Z"
   },
   {
    "duration": 14,
    "start_time": "2022-10-23T09:45:06.040Z"
   },
   {
    "duration": 3,
    "start_time": "2022-10-23T09:45:06.056Z"
   },
   {
    "duration": 40,
    "start_time": "2022-10-23T09:45:06.061Z"
   },
   {
    "duration": 5,
    "start_time": "2022-10-23T09:45:06.103Z"
   },
   {
    "duration": 33,
    "start_time": "2022-10-23T09:45:06.111Z"
   },
   {
    "duration": 74,
    "start_time": "2022-10-23T09:45:06.146Z"
   },
   {
    "duration": 0,
    "start_time": "2022-10-23T09:45:06.258Z"
   },
   {
    "duration": 0,
    "start_time": "2022-10-23T09:45:06.259Z"
   },
   {
    "duration": 0,
    "start_time": "2022-10-23T09:45:06.260Z"
   },
   {
    "duration": 0,
    "start_time": "2022-10-23T09:45:06.261Z"
   },
   {
    "duration": 0,
    "start_time": "2022-10-23T09:45:06.262Z"
   },
   {
    "duration": 0,
    "start_time": "2022-10-23T09:45:06.263Z"
   },
   {
    "duration": 0,
    "start_time": "2022-10-23T09:45:06.264Z"
   },
   {
    "duration": 0,
    "start_time": "2022-10-23T09:45:06.265Z"
   },
   {
    "duration": 0,
    "start_time": "2022-10-23T09:45:06.266Z"
   },
   {
    "duration": 0,
    "start_time": "2022-10-23T09:45:06.267Z"
   },
   {
    "duration": 0,
    "start_time": "2022-10-23T09:45:06.268Z"
   },
   {
    "duration": 0,
    "start_time": "2022-10-23T09:45:06.269Z"
   },
   {
    "duration": 0,
    "start_time": "2022-10-23T09:45:06.270Z"
   },
   {
    "duration": 1,
    "start_time": "2022-10-23T09:45:06.300Z"
   },
   {
    "duration": 0,
    "start_time": "2022-10-23T09:45:06.302Z"
   },
   {
    "duration": 0,
    "start_time": "2022-10-23T09:45:06.303Z"
   },
   {
    "duration": 0,
    "start_time": "2022-10-23T09:45:06.304Z"
   },
   {
    "duration": 0,
    "start_time": "2022-10-23T09:45:06.305Z"
   },
   {
    "duration": 0,
    "start_time": "2022-10-23T09:45:06.305Z"
   },
   {
    "duration": 0,
    "start_time": "2022-10-23T09:45:06.306Z"
   },
   {
    "duration": 0,
    "start_time": "2022-10-23T09:45:06.307Z"
   },
   {
    "duration": 0,
    "start_time": "2022-10-23T09:45:06.308Z"
   },
   {
    "duration": 0,
    "start_time": "2022-10-23T09:45:06.309Z"
   },
   {
    "duration": 0,
    "start_time": "2022-10-23T09:45:06.310Z"
   },
   {
    "duration": 0,
    "start_time": "2022-10-23T09:45:06.311Z"
   },
   {
    "duration": 0,
    "start_time": "2022-10-23T09:45:06.312Z"
   },
   {
    "duration": 0,
    "start_time": "2022-10-23T09:45:06.313Z"
   },
   {
    "duration": 0,
    "start_time": "2022-10-23T09:45:06.315Z"
   },
   {
    "duration": 0,
    "start_time": "2022-10-23T09:45:06.316Z"
   },
   {
    "duration": 0,
    "start_time": "2022-10-23T09:45:06.317Z"
   },
   {
    "duration": 0,
    "start_time": "2022-10-23T09:45:06.318Z"
   },
   {
    "duration": 0,
    "start_time": "2022-10-23T09:45:06.319Z"
   },
   {
    "duration": 0,
    "start_time": "2022-10-23T09:45:06.320Z"
   },
   {
    "duration": 0,
    "start_time": "2022-10-23T09:45:06.321Z"
   },
   {
    "duration": 0,
    "start_time": "2022-10-23T09:45:06.323Z"
   },
   {
    "duration": 0,
    "start_time": "2022-10-23T09:45:06.324Z"
   },
   {
    "duration": 0,
    "start_time": "2022-10-23T09:45:06.324Z"
   },
   {
    "duration": 0,
    "start_time": "2022-10-23T09:45:06.325Z"
   },
   {
    "duration": 0,
    "start_time": "2022-10-23T09:45:06.326Z"
   },
   {
    "duration": 359,
    "start_time": "2022-10-23T09:45:15.535Z"
   },
   {
    "duration": 53,
    "start_time": "2022-10-23T09:45:15.896Z"
   },
   {
    "duration": 3,
    "start_time": "2022-10-23T09:45:15.950Z"
   },
   {
    "duration": 47,
    "start_time": "2022-10-23T09:45:15.954Z"
   },
   {
    "duration": 18,
    "start_time": "2022-10-23T09:45:16.003Z"
   },
   {
    "duration": 13,
    "start_time": "2022-10-23T09:45:16.023Z"
   },
   {
    "duration": 25,
    "start_time": "2022-10-23T09:45:16.037Z"
   },
   {
    "duration": 11,
    "start_time": "2022-10-23T09:45:16.064Z"
   },
   {
    "duration": 6,
    "start_time": "2022-10-23T09:45:16.076Z"
   },
   {
    "duration": 26,
    "start_time": "2022-10-23T09:45:16.084Z"
   },
   {
    "duration": 68,
    "start_time": "2022-10-23T09:45:16.112Z"
   },
   {
    "duration": 0,
    "start_time": "2022-10-23T09:45:16.219Z"
   },
   {
    "duration": 0,
    "start_time": "2022-10-23T09:45:16.220Z"
   },
   {
    "duration": 0,
    "start_time": "2022-10-23T09:45:16.221Z"
   },
   {
    "duration": 0,
    "start_time": "2022-10-23T09:45:16.222Z"
   },
   {
    "duration": 0,
    "start_time": "2022-10-23T09:45:16.224Z"
   },
   {
    "duration": 0,
    "start_time": "2022-10-23T09:45:16.225Z"
   },
   {
    "duration": 0,
    "start_time": "2022-10-23T09:45:16.226Z"
   },
   {
    "duration": 0,
    "start_time": "2022-10-23T09:45:16.227Z"
   },
   {
    "duration": 0,
    "start_time": "2022-10-23T09:45:16.228Z"
   },
   {
    "duration": 0,
    "start_time": "2022-10-23T09:45:16.229Z"
   },
   {
    "duration": 0,
    "start_time": "2022-10-23T09:45:16.230Z"
   },
   {
    "duration": 0,
    "start_time": "2022-10-23T09:45:16.232Z"
   },
   {
    "duration": 0,
    "start_time": "2022-10-23T09:45:16.233Z"
   },
   {
    "duration": 0,
    "start_time": "2022-10-23T09:45:16.234Z"
   },
   {
    "duration": 0,
    "start_time": "2022-10-23T09:45:16.235Z"
   },
   {
    "duration": 0,
    "start_time": "2022-10-23T09:45:16.236Z"
   },
   {
    "duration": 0,
    "start_time": "2022-10-23T09:45:16.237Z"
   },
   {
    "duration": 0,
    "start_time": "2022-10-23T09:45:16.239Z"
   },
   {
    "duration": 0,
    "start_time": "2022-10-23T09:45:16.240Z"
   },
   {
    "duration": 0,
    "start_time": "2022-10-23T09:45:16.241Z"
   },
   {
    "duration": 0,
    "start_time": "2022-10-23T09:45:16.242Z"
   },
   {
    "duration": 0,
    "start_time": "2022-10-23T09:45:16.243Z"
   },
   {
    "duration": 0,
    "start_time": "2022-10-23T09:45:16.244Z"
   },
   {
    "duration": 0,
    "start_time": "2022-10-23T09:45:16.245Z"
   },
   {
    "duration": 0,
    "start_time": "2022-10-23T09:45:16.246Z"
   },
   {
    "duration": 0,
    "start_time": "2022-10-23T09:45:16.247Z"
   },
   {
    "duration": 0,
    "start_time": "2022-10-23T09:45:16.248Z"
   },
   {
    "duration": 0,
    "start_time": "2022-10-23T09:45:16.249Z"
   },
   {
    "duration": 0,
    "start_time": "2022-10-23T09:45:16.250Z"
   },
   {
    "duration": 0,
    "start_time": "2022-10-23T09:45:16.300Z"
   },
   {
    "duration": 0,
    "start_time": "2022-10-23T09:45:16.301Z"
   },
   {
    "duration": 0,
    "start_time": "2022-10-23T09:45:16.302Z"
   },
   {
    "duration": 0,
    "start_time": "2022-10-23T09:45:16.303Z"
   },
   {
    "duration": 0,
    "start_time": "2022-10-23T09:45:16.304Z"
   },
   {
    "duration": 0,
    "start_time": "2022-10-23T09:45:16.305Z"
   },
   {
    "duration": 0,
    "start_time": "2022-10-23T09:45:16.305Z"
   },
   {
    "duration": 0,
    "start_time": "2022-10-23T09:45:16.306Z"
   },
   {
    "duration": 0,
    "start_time": "2022-10-23T09:45:16.307Z"
   },
   {
    "duration": 0,
    "start_time": "2022-10-23T09:45:16.308Z"
   },
   {
    "duration": 20,
    "start_time": "2022-10-23T09:45:55.508Z"
   },
   {
    "duration": 18,
    "start_time": "2022-10-23T09:46:04.816Z"
   },
   {
    "duration": 16,
    "start_time": "2022-10-23T09:46:18.482Z"
   },
   {
    "duration": 371,
    "start_time": "2022-10-23T09:46:30.228Z"
   },
   {
    "duration": 51,
    "start_time": "2022-10-23T09:46:30.602Z"
   },
   {
    "duration": 2,
    "start_time": "2022-10-23T09:46:30.655Z"
   },
   {
    "duration": 89,
    "start_time": "2022-10-23T09:46:30.659Z"
   },
   {
    "duration": 19,
    "start_time": "2022-10-23T09:46:30.750Z"
   },
   {
    "duration": 33,
    "start_time": "2022-10-23T09:46:30.771Z"
   },
   {
    "duration": 37,
    "start_time": "2022-10-23T09:46:30.806Z"
   },
   {
    "duration": 66,
    "start_time": "2022-10-23T09:46:30.845Z"
   },
   {
    "duration": 41,
    "start_time": "2022-10-23T09:46:30.913Z"
   },
   {
    "duration": 24,
    "start_time": "2022-10-23T09:46:30.958Z"
   },
   {
    "duration": 34,
    "start_time": "2022-10-23T09:46:30.984Z"
   },
   {
    "duration": 154,
    "start_time": "2022-10-23T09:46:31.020Z"
   },
   {
    "duration": 10,
    "start_time": "2022-10-23T09:46:31.175Z"
   },
   {
    "duration": 45,
    "start_time": "2022-10-23T09:46:31.187Z"
   },
   {
    "duration": 68,
    "start_time": "2022-10-23T09:46:31.233Z"
   },
   {
    "duration": 28,
    "start_time": "2022-10-23T09:46:31.302Z"
   },
   {
    "duration": 78,
    "start_time": "2022-10-23T09:46:31.331Z"
   },
   {
    "duration": 139,
    "start_time": "2022-10-23T09:46:31.410Z"
   },
   {
    "duration": 11,
    "start_time": "2022-10-23T09:46:31.551Z"
   },
   {
    "duration": 31,
    "start_time": "2022-10-23T09:46:31.563Z"
   },
   {
    "duration": 31,
    "start_time": "2022-10-23T09:46:31.595Z"
   },
   {
    "duration": 29,
    "start_time": "2022-10-23T09:46:31.628Z"
   },
   {
    "duration": 135,
    "start_time": "2022-10-23T09:46:31.659Z"
   },
   {
    "duration": 7,
    "start_time": "2022-10-23T09:46:31.799Z"
   },
   {
    "duration": 125,
    "start_time": "2022-10-23T09:46:31.807Z"
   },
   {
    "duration": 6,
    "start_time": "2022-10-23T09:46:31.933Z"
   },
   {
    "duration": 42,
    "start_time": "2022-10-23T09:46:31.941Z"
   },
   {
    "duration": 36,
    "start_time": "2022-10-23T09:46:31.987Z"
   },
   {
    "duration": 51,
    "start_time": "2022-10-23T09:46:32.025Z"
   },
   {
    "duration": 65,
    "start_time": "2022-10-23T09:46:32.078Z"
   },
   {
    "duration": 32,
    "start_time": "2022-10-23T09:46:32.144Z"
   },
   {
    "duration": 289,
    "start_time": "2022-10-23T09:46:32.178Z"
   },
   {
    "duration": 6,
    "start_time": "2022-10-23T09:46:32.469Z"
   },
   {
    "duration": 58,
    "start_time": "2022-10-23T09:46:32.476Z"
   },
   {
    "duration": 26,
    "start_time": "2022-10-23T09:46:32.536Z"
   },
   {
    "duration": 21,
    "start_time": "2022-10-23T09:46:32.564Z"
   },
   {
    "duration": 30,
    "start_time": "2022-10-23T09:46:32.587Z"
   },
   {
    "duration": 17,
    "start_time": "2022-10-23T09:46:32.618Z"
   },
   {
    "duration": 36,
    "start_time": "2022-10-23T09:46:32.637Z"
   },
   {
    "duration": 28,
    "start_time": "2022-10-23T09:46:32.674Z"
   },
   {
    "duration": 29,
    "start_time": "2022-10-23T09:46:32.703Z"
   },
   {
    "duration": 35,
    "start_time": "2022-10-23T09:46:32.734Z"
   },
   {
    "duration": 20,
    "start_time": "2022-10-23T09:46:32.770Z"
   },
   {
    "duration": 26,
    "start_time": "2022-10-23T09:46:32.791Z"
   },
   {
    "duration": 22,
    "start_time": "2022-10-23T09:46:32.819Z"
   },
   {
    "duration": 29,
    "start_time": "2022-10-23T09:46:32.842Z"
   },
   {
    "duration": 17,
    "start_time": "2022-10-23T09:46:32.873Z"
   },
   {
    "duration": 192,
    "start_time": "2022-10-23T09:46:32.891Z"
   },
   {
    "duration": 201,
    "start_time": "2022-10-23T09:46:33.085Z"
   },
   {
    "duration": 3,
    "start_time": "2022-10-23T09:46:33.288Z"
   },
   {
    "duration": 119,
    "start_time": "2022-10-23T11:56:31.375Z"
   },
   {
    "duration": 120,
    "start_time": "2022-10-23T12:03:20.371Z"
   },
   {
    "duration": 124,
    "start_time": "2022-10-23T12:03:32.107Z"
   },
   {
    "duration": 127,
    "start_time": "2022-10-23T12:03:55.298Z"
   },
   {
    "duration": 124,
    "start_time": "2022-10-23T12:04:19.281Z"
   },
   {
    "duration": 40,
    "start_time": "2022-10-23T12:04:44.280Z"
   },
   {
    "duration": 39,
    "start_time": "2022-10-23T12:05:02.691Z"
   },
   {
    "duration": 7,
    "start_time": "2022-10-23T12:05:56.933Z"
   },
   {
    "duration": 3,
    "start_time": "2022-10-23T12:07:28.975Z"
   },
   {
    "duration": 9,
    "start_time": "2022-10-23T12:07:53.556Z"
   },
   {
    "duration": 398,
    "start_time": "2022-10-23T12:28:15.180Z"
   },
   {
    "duration": 60,
    "start_time": "2022-10-23T12:28:15.579Z"
   },
   {
    "duration": 2,
    "start_time": "2022-10-23T12:28:15.641Z"
   },
   {
    "duration": 54,
    "start_time": "2022-10-23T12:28:15.645Z"
   },
   {
    "duration": 18,
    "start_time": "2022-10-23T12:28:15.701Z"
   },
   {
    "duration": 24,
    "start_time": "2022-10-23T12:28:15.720Z"
   },
   {
    "duration": 11,
    "start_time": "2022-10-23T12:28:15.746Z"
   },
   {
    "duration": 16,
    "start_time": "2022-10-23T12:28:15.759Z"
   },
   {
    "duration": 5,
    "start_time": "2022-10-23T12:28:15.777Z"
   },
   {
    "duration": 21,
    "start_time": "2022-10-23T12:28:15.784Z"
   },
   {
    "duration": 12,
    "start_time": "2022-10-23T12:28:15.806Z"
   },
   {
    "duration": 169,
    "start_time": "2022-10-23T12:28:15.819Z"
   },
   {
    "duration": 14,
    "start_time": "2022-10-23T12:28:15.990Z"
   },
   {
    "duration": 21,
    "start_time": "2022-10-23T12:28:16.005Z"
   },
   {
    "duration": 7,
    "start_time": "2022-10-23T12:28:16.028Z"
   },
   {
    "duration": 10,
    "start_time": "2022-10-23T12:28:16.037Z"
   },
   {
    "duration": 10,
    "start_time": "2022-10-23T12:28:16.049Z"
   },
   {
    "duration": 149,
    "start_time": "2022-10-23T12:28:16.060Z"
   },
   {
    "duration": 4,
    "start_time": "2022-10-23T12:28:16.211Z"
   },
   {
    "duration": 19,
    "start_time": "2022-10-23T12:28:16.217Z"
   },
   {
    "duration": 8,
    "start_time": "2022-10-23T12:28:16.237Z"
   },
   {
    "duration": 5,
    "start_time": "2022-10-23T12:28:16.246Z"
   },
   {
    "duration": 134,
    "start_time": "2022-10-23T12:28:16.253Z"
   },
   {
    "duration": 18,
    "start_time": "2022-10-23T12:28:16.389Z"
   },
   {
    "duration": 140,
    "start_time": "2022-10-23T12:28:16.409Z"
   },
   {
    "duration": 7,
    "start_time": "2022-10-23T12:28:16.550Z"
   },
   {
    "duration": 11,
    "start_time": "2022-10-23T12:28:16.558Z"
   },
   {
    "duration": 11,
    "start_time": "2022-10-23T12:28:16.572Z"
   },
   {
    "duration": 23,
    "start_time": "2022-10-23T12:28:16.584Z"
   },
   {
    "duration": 4,
    "start_time": "2022-10-23T12:28:16.609Z"
   },
   {
    "duration": 7,
    "start_time": "2022-10-23T12:28:16.614Z"
   },
   {
    "duration": 266,
    "start_time": "2022-10-23T12:28:16.622Z"
   },
   {
    "duration": 11,
    "start_time": "2022-10-23T12:28:16.891Z"
   },
   {
    "duration": 12,
    "start_time": "2022-10-23T12:28:16.904Z"
   },
   {
    "duration": 11,
    "start_time": "2022-10-23T12:28:16.918Z"
   },
   {
    "duration": 9,
    "start_time": "2022-10-23T12:28:16.930Z"
   },
   {
    "duration": 17,
    "start_time": "2022-10-23T12:28:16.940Z"
   },
   {
    "duration": 3,
    "start_time": "2022-10-23T12:28:16.958Z"
   },
   {
    "duration": 13,
    "start_time": "2022-10-23T12:28:16.962Z"
   },
   {
    "duration": 24,
    "start_time": "2022-10-23T12:28:16.976Z"
   },
   {
    "duration": 6,
    "start_time": "2022-10-23T12:28:17.002Z"
   },
   {
    "duration": 12,
    "start_time": "2022-10-23T12:28:17.010Z"
   },
   {
    "duration": 11,
    "start_time": "2022-10-23T12:28:17.024Z"
   },
   {
    "duration": 8,
    "start_time": "2022-10-23T12:28:17.036Z"
   },
   {
    "duration": 8,
    "start_time": "2022-10-23T12:28:17.046Z"
   },
   {
    "duration": 12,
    "start_time": "2022-10-23T12:28:17.055Z"
   },
   {
    "duration": 7,
    "start_time": "2022-10-23T12:28:17.069Z"
   },
   {
    "duration": 188,
    "start_time": "2022-10-23T12:28:17.078Z"
   },
   {
    "duration": 217,
    "start_time": "2022-10-23T12:28:17.268Z"
   },
   {
    "duration": 4,
    "start_time": "2022-10-23T12:28:17.487Z"
   },
   {
    "duration": 14,
    "start_time": "2022-10-23T12:30:12.040Z"
   },
   {
    "duration": 57,
    "start_time": "2022-10-23T12:30:23.757Z"
   },
   {
    "duration": 3,
    "start_time": "2022-10-23T12:30:30.316Z"
   },
   {
    "duration": 3,
    "start_time": "2022-10-23T12:30:35.688Z"
   },
   {
    "duration": 44,
    "start_time": "2022-10-23T12:31:47.163Z"
   },
   {
    "duration": 4,
    "start_time": "2022-10-23T12:31:55.641Z"
   },
   {
    "duration": 3,
    "start_time": "2022-10-23T12:31:59.734Z"
   },
   {
    "duration": 413,
    "start_time": "2022-10-23T12:32:14.250Z"
   },
   {
    "duration": 62,
    "start_time": "2022-10-23T12:32:14.665Z"
   },
   {
    "duration": 2,
    "start_time": "2022-10-23T12:32:14.729Z"
   },
   {
    "duration": 44,
    "start_time": "2022-10-23T12:32:14.733Z"
   },
   {
    "duration": 19,
    "start_time": "2022-10-23T12:32:14.778Z"
   },
   {
    "duration": 14,
    "start_time": "2022-10-23T12:32:14.798Z"
   },
   {
    "duration": 5,
    "start_time": "2022-10-23T12:32:14.813Z"
   },
   {
    "duration": 13,
    "start_time": "2022-10-23T12:32:14.819Z"
   },
   {
    "duration": 10,
    "start_time": "2022-10-23T12:32:14.834Z"
   },
   {
    "duration": 14,
    "start_time": "2022-10-23T12:32:14.849Z"
   },
   {
    "duration": 14,
    "start_time": "2022-10-23T12:32:14.865Z"
   },
   {
    "duration": 173,
    "start_time": "2022-10-23T12:32:14.880Z"
   },
   {
    "duration": 9,
    "start_time": "2022-10-23T12:32:15.055Z"
   },
   {
    "duration": 15,
    "start_time": "2022-10-23T12:32:15.066Z"
   },
   {
    "duration": 19,
    "start_time": "2022-10-23T12:32:15.083Z"
   },
   {
    "duration": 15,
    "start_time": "2022-10-23T12:32:15.103Z"
   },
   {
    "duration": 14,
    "start_time": "2022-10-23T12:32:15.119Z"
   },
   {
    "duration": 139,
    "start_time": "2022-10-23T12:32:15.134Z"
   },
   {
    "duration": 3,
    "start_time": "2022-10-23T12:32:15.275Z"
   },
   {
    "duration": 34,
    "start_time": "2022-10-23T12:32:15.279Z"
   },
   {
    "duration": 11,
    "start_time": "2022-10-23T12:32:15.314Z"
   },
   {
    "duration": 10,
    "start_time": "2022-10-23T12:32:15.327Z"
   },
   {
    "duration": 131,
    "start_time": "2022-10-23T12:32:15.339Z"
   },
   {
    "duration": 8,
    "start_time": "2022-10-23T12:32:15.471Z"
   },
   {
    "duration": 147,
    "start_time": "2022-10-23T12:32:15.480Z"
   },
   {
    "duration": 7,
    "start_time": "2022-10-23T12:32:15.629Z"
   },
   {
    "duration": 16,
    "start_time": "2022-10-23T12:32:15.638Z"
   },
   {
    "duration": 12,
    "start_time": "2022-10-23T12:32:15.656Z"
   },
   {
    "duration": 12,
    "start_time": "2022-10-23T12:32:15.669Z"
   },
   {
    "duration": 19,
    "start_time": "2022-10-23T12:32:15.683Z"
   },
   {
    "duration": 10,
    "start_time": "2022-10-23T12:32:15.704Z"
   },
   {
    "duration": 245,
    "start_time": "2022-10-23T12:32:15.715Z"
   },
   {
    "duration": 6,
    "start_time": "2022-10-23T12:32:15.962Z"
   },
   {
    "duration": 18,
    "start_time": "2022-10-23T12:32:15.969Z"
   },
   {
    "duration": 18,
    "start_time": "2022-10-23T12:32:15.989Z"
   },
   {
    "duration": 6,
    "start_time": "2022-10-23T12:32:16.009Z"
   },
   {
    "duration": 14,
    "start_time": "2022-10-23T12:32:16.016Z"
   },
   {
    "duration": 5,
    "start_time": "2022-10-23T12:32:16.032Z"
   },
   {
    "duration": 13,
    "start_time": "2022-10-23T12:32:16.039Z"
   },
   {
    "duration": 10,
    "start_time": "2022-10-23T12:32:16.054Z"
   },
   {
    "duration": 4,
    "start_time": "2022-10-23T12:32:16.065Z"
   },
   {
    "duration": 34,
    "start_time": "2022-10-23T12:32:16.070Z"
   },
   {
    "duration": 6,
    "start_time": "2022-10-23T12:32:16.106Z"
   },
   {
    "duration": 5,
    "start_time": "2022-10-23T12:32:16.114Z"
   },
   {
    "duration": 6,
    "start_time": "2022-10-23T12:32:16.121Z"
   },
   {
    "duration": 6,
    "start_time": "2022-10-23T12:32:16.129Z"
   },
   {
    "duration": 6,
    "start_time": "2022-10-23T12:32:16.137Z"
   },
   {
    "duration": 193,
    "start_time": "2022-10-23T12:32:16.144Z"
   },
   {
    "duration": 213,
    "start_time": "2022-10-23T12:32:16.338Z"
   },
   {
    "duration": 4,
    "start_time": "2022-10-23T12:32:16.552Z"
   },
   {
    "duration": 4,
    "start_time": "2022-10-23T12:32:37.369Z"
   },
   {
    "duration": 3,
    "start_time": "2022-10-23T12:32:42.760Z"
   },
   {
    "duration": 13,
    "start_time": "2022-10-23T12:32:51.093Z"
   },
   {
    "duration": 42,
    "start_time": "2022-10-23T12:35:57.852Z"
   },
   {
    "duration": 419,
    "start_time": "2022-10-23T12:36:01.969Z"
   },
   {
    "duration": 74,
    "start_time": "2022-10-23T12:36:02.390Z"
   },
   {
    "duration": 2,
    "start_time": "2022-10-23T12:36:02.466Z"
   },
   {
    "duration": 48,
    "start_time": "2022-10-23T12:36:02.469Z"
   },
   {
    "duration": 18,
    "start_time": "2022-10-23T12:36:02.519Z"
   },
   {
    "duration": 18,
    "start_time": "2022-10-23T12:36:02.539Z"
   },
   {
    "duration": 4,
    "start_time": "2022-10-23T12:36:02.559Z"
   },
   {
    "duration": 13,
    "start_time": "2022-10-23T12:36:02.564Z"
   },
   {
    "duration": 16,
    "start_time": "2022-10-23T12:36:02.578Z"
   },
   {
    "duration": 10,
    "start_time": "2022-10-23T12:36:02.601Z"
   },
   {
    "duration": 15,
    "start_time": "2022-10-23T12:36:02.612Z"
   },
   {
    "duration": 173,
    "start_time": "2022-10-23T12:36:02.628Z"
   },
   {
    "duration": 8,
    "start_time": "2022-10-23T12:36:02.802Z"
   },
   {
    "duration": 8,
    "start_time": "2022-10-23T12:36:02.813Z"
   },
   {
    "duration": 8,
    "start_time": "2022-10-23T12:36:02.822Z"
   },
   {
    "duration": 10,
    "start_time": "2022-10-23T12:36:02.831Z"
   },
   {
    "duration": 9,
    "start_time": "2022-10-23T12:36:02.842Z"
   },
   {
    "duration": 65,
    "start_time": "2022-10-23T12:36:02.852Z"
   },
   {
    "duration": 11,
    "start_time": "2022-10-23T12:36:02.918Z"
   },
   {
    "duration": 9,
    "start_time": "2022-10-23T12:36:02.930Z"
   },
   {
    "duration": 8,
    "start_time": "2022-10-23T12:36:02.940Z"
   },
   {
    "duration": 5,
    "start_time": "2022-10-23T12:36:02.949Z"
   },
   {
    "duration": 136,
    "start_time": "2022-10-23T12:36:02.955Z"
   },
   {
    "duration": 12,
    "start_time": "2022-10-23T12:36:03.092Z"
   },
   {
    "duration": 137,
    "start_time": "2022-10-23T12:36:03.105Z"
   },
   {
    "duration": 6,
    "start_time": "2022-10-23T12:36:03.244Z"
   },
   {
    "duration": 13,
    "start_time": "2022-10-23T12:36:03.252Z"
   },
   {
    "duration": 7,
    "start_time": "2022-10-23T12:36:03.266Z"
   },
   {
    "duration": 26,
    "start_time": "2022-10-23T12:36:03.274Z"
   },
   {
    "duration": 3,
    "start_time": "2022-10-23T12:36:03.302Z"
   },
   {
    "duration": 8,
    "start_time": "2022-10-23T12:36:03.307Z"
   },
   {
    "duration": 249,
    "start_time": "2022-10-23T12:36:03.316Z"
   },
   {
    "duration": 5,
    "start_time": "2022-10-23T12:36:03.566Z"
   },
   {
    "duration": 18,
    "start_time": "2022-10-23T12:36:03.573Z"
   },
   {
    "duration": 24,
    "start_time": "2022-10-23T12:36:03.593Z"
   },
   {
    "duration": 14,
    "start_time": "2022-10-23T12:36:03.619Z"
   },
   {
    "duration": 19,
    "start_time": "2022-10-23T12:36:03.634Z"
   },
   {
    "duration": 12,
    "start_time": "2022-10-23T12:36:03.655Z"
   },
   {
    "duration": 18,
    "start_time": "2022-10-23T12:36:03.668Z"
   },
   {
    "duration": 12,
    "start_time": "2022-10-23T12:36:03.688Z"
   },
   {
    "duration": 19,
    "start_time": "2022-10-23T12:36:03.704Z"
   },
   {
    "duration": 13,
    "start_time": "2022-10-23T12:36:03.724Z"
   },
   {
    "duration": 16,
    "start_time": "2022-10-23T12:36:03.739Z"
   },
   {
    "duration": 27,
    "start_time": "2022-10-23T12:36:03.757Z"
   },
   {
    "duration": 20,
    "start_time": "2022-10-23T12:36:03.786Z"
   },
   {
    "duration": 24,
    "start_time": "2022-10-23T12:36:03.808Z"
   },
   {
    "duration": 25,
    "start_time": "2022-10-23T12:36:03.834Z"
   },
   {
    "duration": 237,
    "start_time": "2022-10-23T12:36:03.860Z"
   },
   {
    "duration": 231,
    "start_time": "2022-10-23T12:36:04.099Z"
   },
   {
    "duration": 4,
    "start_time": "2022-10-23T12:36:04.332Z"
   },
   {
    "duration": 139,
    "start_time": "2022-10-23T12:36:31.417Z"
   },
   {
    "duration": 132,
    "start_time": "2022-10-23T12:37:01.321Z"
   },
   {
    "duration": 129,
    "start_time": "2022-10-23T12:37:17.088Z"
   },
   {
    "duration": 375,
    "start_time": "2022-10-23T12:37:30.562Z"
   },
   {
    "duration": 56,
    "start_time": "2022-10-23T12:37:30.939Z"
   },
   {
    "duration": 2,
    "start_time": "2022-10-23T12:37:30.996Z"
   },
   {
    "duration": 56,
    "start_time": "2022-10-23T12:37:31.000Z"
   },
   {
    "duration": 18,
    "start_time": "2022-10-23T12:37:31.058Z"
   },
   {
    "duration": 37,
    "start_time": "2022-10-23T12:37:31.077Z"
   },
   {
    "duration": 18,
    "start_time": "2022-10-23T12:37:31.116Z"
   },
   {
    "duration": 18,
    "start_time": "2022-10-23T12:37:31.136Z"
   },
   {
    "duration": 38,
    "start_time": "2022-10-23T12:37:31.155Z"
   },
   {
    "duration": 21,
    "start_time": "2022-10-23T12:37:31.195Z"
   },
   {
    "duration": 20,
    "start_time": "2022-10-23T12:37:31.218Z"
   },
   {
    "duration": 148,
    "start_time": "2022-10-23T12:37:31.239Z"
   },
   {
    "duration": 13,
    "start_time": "2022-10-23T12:37:31.388Z"
   },
   {
    "duration": 14,
    "start_time": "2022-10-23T12:37:31.403Z"
   },
   {
    "duration": 15,
    "start_time": "2022-10-23T12:37:31.419Z"
   },
   {
    "duration": 10,
    "start_time": "2022-10-23T12:37:31.435Z"
   },
   {
    "duration": 12,
    "start_time": "2022-10-23T12:37:31.447Z"
   },
   {
    "duration": 122,
    "start_time": "2022-10-23T12:37:31.460Z"
   },
   {
    "duration": 16,
    "start_time": "2022-10-23T12:37:31.584Z"
   },
   {
    "duration": 5,
    "start_time": "2022-10-23T12:37:31.602Z"
   },
   {
    "duration": 8,
    "start_time": "2022-10-23T12:37:31.608Z"
   },
   {
    "duration": 5,
    "start_time": "2022-10-23T12:37:31.617Z"
   },
   {
    "duration": 129,
    "start_time": "2022-10-23T12:37:31.623Z"
   },
   {
    "duration": 6,
    "start_time": "2022-10-23T12:37:31.754Z"
   },
   {
    "duration": 128,
    "start_time": "2022-10-23T12:37:31.762Z"
   },
   {
    "duration": 6,
    "start_time": "2022-10-23T12:37:31.901Z"
   },
   {
    "duration": 18,
    "start_time": "2022-10-23T12:37:31.908Z"
   },
   {
    "duration": 6,
    "start_time": "2022-10-23T12:37:31.927Z"
   },
   {
    "duration": 11,
    "start_time": "2022-10-23T12:37:31.934Z"
   },
   {
    "duration": 4,
    "start_time": "2022-10-23T12:37:31.946Z"
   },
   {
    "duration": 5,
    "start_time": "2022-10-23T12:37:31.951Z"
   },
   {
    "duration": 255,
    "start_time": "2022-10-23T12:37:31.957Z"
   },
   {
    "duration": 4,
    "start_time": "2022-10-23T12:37:32.214Z"
   },
   {
    "duration": 10,
    "start_time": "2022-10-23T12:37:32.220Z"
   },
   {
    "duration": 8,
    "start_time": "2022-10-23T12:37:32.231Z"
   },
   {
    "duration": 6,
    "start_time": "2022-10-23T12:37:32.240Z"
   },
   {
    "duration": 12,
    "start_time": "2022-10-23T12:37:32.247Z"
   },
   {
    "duration": 8,
    "start_time": "2022-10-23T12:37:32.261Z"
   },
   {
    "duration": 30,
    "start_time": "2022-10-23T12:37:32.271Z"
   },
   {
    "duration": 6,
    "start_time": "2022-10-23T12:37:32.302Z"
   },
   {
    "duration": 3,
    "start_time": "2022-10-23T12:37:32.312Z"
   },
   {
    "duration": 11,
    "start_time": "2022-10-23T12:37:32.317Z"
   },
   {
    "duration": 5,
    "start_time": "2022-10-23T12:37:32.329Z"
   },
   {
    "duration": 6,
    "start_time": "2022-10-23T12:37:32.335Z"
   },
   {
    "duration": 5,
    "start_time": "2022-10-23T12:37:32.343Z"
   },
   {
    "duration": 5,
    "start_time": "2022-10-23T12:37:32.350Z"
   },
   {
    "duration": 5,
    "start_time": "2022-10-23T12:37:32.356Z"
   },
   {
    "duration": 208,
    "start_time": "2022-10-23T12:37:32.362Z"
   },
   {
    "duration": 186,
    "start_time": "2022-10-23T12:37:32.571Z"
   },
   {
    "duration": 4,
    "start_time": "2022-10-23T12:37:32.758Z"
   },
   {
    "duration": 118,
    "start_time": "2022-10-23T12:38:18.841Z"
   },
   {
    "duration": 130,
    "start_time": "2022-10-23T12:38:30.498Z"
   },
   {
    "duration": 121,
    "start_time": "2022-10-23T12:38:36.811Z"
   },
   {
    "duration": 48,
    "start_time": "2022-10-23T12:39:12.914Z"
   },
   {
    "duration": 405,
    "start_time": "2022-10-23T12:39:16.478Z"
   },
   {
    "duration": 52,
    "start_time": "2022-10-23T12:39:16.885Z"
   },
   {
    "duration": 3,
    "start_time": "2022-10-23T12:39:16.939Z"
   },
   {
    "duration": 39,
    "start_time": "2022-10-23T12:39:16.944Z"
   },
   {
    "duration": 19,
    "start_time": "2022-10-23T12:39:16.984Z"
   },
   {
    "duration": 13,
    "start_time": "2022-10-23T12:39:17.004Z"
   },
   {
    "duration": 2,
    "start_time": "2022-10-23T12:39:17.018Z"
   },
   {
    "duration": 11,
    "start_time": "2022-10-23T12:39:17.022Z"
   },
   {
    "duration": 5,
    "start_time": "2022-10-23T12:39:17.034Z"
   },
   {
    "duration": 10,
    "start_time": "2022-10-23T12:39:17.043Z"
   },
   {
    "duration": 12,
    "start_time": "2022-10-23T12:39:17.055Z"
   },
   {
    "duration": 174,
    "start_time": "2022-10-23T12:39:17.068Z"
   },
   {
    "duration": 8,
    "start_time": "2022-10-23T12:39:17.243Z"
   },
   {
    "duration": 9,
    "start_time": "2022-10-23T12:39:17.252Z"
   },
   {
    "duration": 7,
    "start_time": "2022-10-23T12:39:17.263Z"
   },
   {
    "duration": 13,
    "start_time": "2022-10-23T12:39:17.271Z"
   },
   {
    "duration": 10,
    "start_time": "2022-10-23T12:39:17.300Z"
   },
   {
    "duration": 154,
    "start_time": "2022-10-23T12:39:17.312Z"
   },
   {
    "duration": 10,
    "start_time": "2022-10-23T12:39:17.468Z"
   },
   {
    "duration": 23,
    "start_time": "2022-10-23T12:39:17.479Z"
   },
   {
    "duration": 8,
    "start_time": "2022-10-23T12:39:17.503Z"
   },
   {
    "duration": 3,
    "start_time": "2022-10-23T12:39:17.513Z"
   },
   {
    "duration": 133,
    "start_time": "2022-10-23T12:39:17.517Z"
   },
   {
    "duration": 7,
    "start_time": "2022-10-23T12:39:17.652Z"
   },
   {
    "duration": 151,
    "start_time": "2022-10-23T12:39:17.660Z"
   },
   {
    "duration": 8,
    "start_time": "2022-10-23T12:39:17.813Z"
   },
   {
    "duration": 31,
    "start_time": "2022-10-23T12:39:17.822Z"
   },
   {
    "duration": 4,
    "start_time": "2022-10-23T12:39:17.856Z"
   },
   {
    "duration": 12,
    "start_time": "2022-10-23T12:39:17.861Z"
   },
   {
    "duration": 7,
    "start_time": "2022-10-23T12:39:17.875Z"
   },
   {
    "duration": 5,
    "start_time": "2022-10-23T12:39:17.884Z"
   },
   {
    "duration": 236,
    "start_time": "2022-10-23T12:39:17.891Z"
   },
   {
    "duration": 4,
    "start_time": "2022-10-23T12:39:18.128Z"
   },
   {
    "duration": 11,
    "start_time": "2022-10-23T12:39:18.134Z"
   },
   {
    "duration": 10,
    "start_time": "2022-10-23T12:39:18.146Z"
   },
   {
    "duration": 5,
    "start_time": "2022-10-23T12:39:18.158Z"
   },
   {
    "duration": 10,
    "start_time": "2022-10-23T12:39:18.165Z"
   },
   {
    "duration": 3,
    "start_time": "2022-10-23T12:39:18.176Z"
   },
   {
    "duration": 13,
    "start_time": "2022-10-23T12:39:18.201Z"
   },
   {
    "duration": 8,
    "start_time": "2022-10-23T12:39:18.215Z"
   },
   {
    "duration": 3,
    "start_time": "2022-10-23T12:39:18.225Z"
   },
   {
    "duration": 13,
    "start_time": "2022-10-23T12:39:18.230Z"
   },
   {
    "duration": 6,
    "start_time": "2022-10-23T12:39:18.244Z"
   },
   {
    "duration": 4,
    "start_time": "2022-10-23T12:39:18.251Z"
   },
   {
    "duration": 5,
    "start_time": "2022-10-23T12:39:18.257Z"
   },
   {
    "duration": 4,
    "start_time": "2022-10-23T12:39:18.263Z"
   },
   {
    "duration": 32,
    "start_time": "2022-10-23T12:39:18.268Z"
   },
   {
    "duration": 182,
    "start_time": "2022-10-23T12:39:18.302Z"
   },
   {
    "duration": 193,
    "start_time": "2022-10-23T12:39:18.486Z"
   },
   {
    "duration": 3,
    "start_time": "2022-10-23T12:39:18.681Z"
   },
   {
    "duration": 9,
    "start_time": "2022-10-23T13:26:12.512Z"
   },
   {
    "duration": 36,
    "start_time": "2022-10-23T13:27:00.165Z"
   },
   {
    "duration": 51,
    "start_time": "2022-10-23T13:27:22.178Z"
   },
   {
    "duration": 143,
    "start_time": "2022-10-23T13:27:45.197Z"
   },
   {
    "duration": 36,
    "start_time": "2022-10-23T13:28:12.283Z"
   },
   {
    "duration": 52,
    "start_time": "2022-10-23T13:28:43.356Z"
   },
   {
    "duration": 52,
    "start_time": "2022-10-23T13:29:01.851Z"
   },
   {
    "duration": 16,
    "start_time": "2022-10-23T13:29:34.598Z"
   },
   {
    "duration": 5,
    "start_time": "2022-10-23T13:30:10.853Z"
   },
   {
    "duration": 4,
    "start_time": "2022-10-23T13:30:26.019Z"
   },
   {
    "duration": 87,
    "start_time": "2022-10-23T13:30:58.955Z"
   },
   {
    "duration": 9,
    "start_time": "2022-10-23T13:31:26.371Z"
   },
   {
    "duration": 8,
    "start_time": "2022-10-23T13:35:14.469Z"
   },
   {
    "duration": 5,
    "start_time": "2022-10-23T13:35:27.435Z"
   },
   {
    "duration": 378,
    "start_time": "2022-10-23T13:35:35.603Z"
   },
   {
    "duration": 66,
    "start_time": "2022-10-23T13:35:35.983Z"
   },
   {
    "duration": 2,
    "start_time": "2022-10-23T13:35:36.050Z"
   },
   {
    "duration": 48,
    "start_time": "2022-10-23T13:35:36.054Z"
   },
   {
    "duration": 18,
    "start_time": "2022-10-23T13:35:36.104Z"
   },
   {
    "duration": 13,
    "start_time": "2022-10-23T13:35:36.123Z"
   },
   {
    "duration": 3,
    "start_time": "2022-10-23T13:35:36.137Z"
   },
   {
    "duration": 13,
    "start_time": "2022-10-23T13:35:36.141Z"
   },
   {
    "duration": 9,
    "start_time": "2022-10-23T13:35:36.155Z"
   },
   {
    "duration": 10,
    "start_time": "2022-10-23T13:35:36.166Z"
   },
   {
    "duration": 16,
    "start_time": "2022-10-23T13:35:36.178Z"
   },
   {
    "duration": 77,
    "start_time": "2022-10-23T13:35:36.195Z"
   },
   {
    "duration": 7,
    "start_time": "2022-10-23T13:35:36.274Z"
   },
   {
    "duration": 57,
    "start_time": "2022-10-23T13:35:36.282Z"
   },
   {
    "duration": 0,
    "start_time": "2022-10-23T13:35:36.341Z"
   },
   {
    "duration": 0,
    "start_time": "2022-10-23T13:35:36.342Z"
   },
   {
    "duration": 0,
    "start_time": "2022-10-23T13:35:36.344Z"
   },
   {
    "duration": 0,
    "start_time": "2022-10-23T13:35:36.345Z"
   },
   {
    "duration": 0,
    "start_time": "2022-10-23T13:35:36.346Z"
   },
   {
    "duration": 0,
    "start_time": "2022-10-23T13:35:36.347Z"
   },
   {
    "duration": 0,
    "start_time": "2022-10-23T13:35:36.348Z"
   },
   {
    "duration": 0,
    "start_time": "2022-10-23T13:35:36.349Z"
   },
   {
    "duration": 0,
    "start_time": "2022-10-23T13:35:36.351Z"
   },
   {
    "duration": 1,
    "start_time": "2022-10-23T13:35:36.351Z"
   },
   {
    "duration": 0,
    "start_time": "2022-10-23T13:35:36.353Z"
   },
   {
    "duration": 0,
    "start_time": "2022-10-23T13:35:36.354Z"
   },
   {
    "duration": 0,
    "start_time": "2022-10-23T13:35:36.355Z"
   },
   {
    "duration": 0,
    "start_time": "2022-10-23T13:35:36.356Z"
   },
   {
    "duration": 0,
    "start_time": "2022-10-23T13:35:36.357Z"
   },
   {
    "duration": 0,
    "start_time": "2022-10-23T13:35:36.358Z"
   },
   {
    "duration": 0,
    "start_time": "2022-10-23T13:35:36.359Z"
   },
   {
    "duration": 0,
    "start_time": "2022-10-23T13:35:36.360Z"
   },
   {
    "duration": 0,
    "start_time": "2022-10-23T13:35:36.362Z"
   },
   {
    "duration": 0,
    "start_time": "2022-10-23T13:35:36.363Z"
   },
   {
    "duration": 0,
    "start_time": "2022-10-23T13:35:36.364Z"
   },
   {
    "duration": 0,
    "start_time": "2022-10-23T13:35:36.365Z"
   },
   {
    "duration": 0,
    "start_time": "2022-10-23T13:35:36.366Z"
   },
   {
    "duration": 0,
    "start_time": "2022-10-23T13:35:36.367Z"
   },
   {
    "duration": 0,
    "start_time": "2022-10-23T13:35:36.368Z"
   },
   {
    "duration": 0,
    "start_time": "2022-10-23T13:35:36.369Z"
   },
   {
    "duration": 0,
    "start_time": "2022-10-23T13:35:36.370Z"
   },
   {
    "duration": 0,
    "start_time": "2022-10-23T13:35:36.371Z"
   },
   {
    "duration": 0,
    "start_time": "2022-10-23T13:35:36.372Z"
   },
   {
    "duration": 0,
    "start_time": "2022-10-23T13:35:36.373Z"
   },
   {
    "duration": 0,
    "start_time": "2022-10-23T13:35:36.373Z"
   },
   {
    "duration": 0,
    "start_time": "2022-10-23T13:35:36.374Z"
   },
   {
    "duration": 0,
    "start_time": "2022-10-23T13:35:36.375Z"
   },
   {
    "duration": 0,
    "start_time": "2022-10-23T13:35:36.376Z"
   },
   {
    "duration": 0,
    "start_time": "2022-10-23T13:35:36.377Z"
   },
   {
    "duration": 0,
    "start_time": "2022-10-23T13:35:36.378Z"
   },
   {
    "duration": 8,
    "start_time": "2022-10-23T13:36:02.947Z"
   },
   {
    "duration": 38,
    "start_time": "2022-10-23T13:45:56.968Z"
   },
   {
    "duration": 15,
    "start_time": "2022-10-23T13:46:29.736Z"
   },
   {
    "duration": 7,
    "start_time": "2022-10-23T13:46:56.062Z"
   },
   {
    "duration": 5,
    "start_time": "2022-10-23T13:47:09.101Z"
   },
   {
    "duration": 13,
    "start_time": "2022-10-23T13:47:49.610Z"
   },
   {
    "duration": 9,
    "start_time": "2022-10-23T13:48:55.471Z"
   },
   {
    "duration": 10,
    "start_time": "2022-10-23T13:49:44.261Z"
   },
   {
    "duration": 4,
    "start_time": "2022-10-23T13:50:12.455Z"
   },
   {
    "duration": 4,
    "start_time": "2022-10-23T13:50:48.597Z"
   },
   {
    "duration": 4,
    "start_time": "2022-10-23T13:51:07.165Z"
   },
   {
    "duration": 5,
    "start_time": "2022-10-23T13:51:30.287Z"
   },
   {
    "duration": 337,
    "start_time": "2022-10-23T13:54:31.753Z"
   },
   {
    "duration": 56,
    "start_time": "2022-10-23T13:54:32.091Z"
   },
   {
    "duration": 3,
    "start_time": "2022-10-23T13:54:32.148Z"
   },
   {
    "duration": 46,
    "start_time": "2022-10-23T13:54:32.153Z"
   },
   {
    "duration": 18,
    "start_time": "2022-10-23T13:54:32.200Z"
   },
   {
    "duration": 16,
    "start_time": "2022-10-23T13:54:32.220Z"
   },
   {
    "duration": 3,
    "start_time": "2022-10-23T13:54:32.237Z"
   },
   {
    "duration": 11,
    "start_time": "2022-10-23T13:54:32.241Z"
   },
   {
    "duration": 9,
    "start_time": "2022-10-23T13:54:32.253Z"
   },
   {
    "duration": 36,
    "start_time": "2022-10-23T13:54:32.265Z"
   },
   {
    "duration": 17,
    "start_time": "2022-10-23T13:54:32.303Z"
   },
   {
    "duration": 93,
    "start_time": "2022-10-23T13:54:32.322Z"
   },
   {
    "duration": 7,
    "start_time": "2022-10-23T13:54:32.416Z"
   },
   {
    "duration": 15,
    "start_time": "2022-10-23T13:54:32.425Z"
   },
   {
    "duration": 14,
    "start_time": "2022-10-23T13:54:32.441Z"
   },
   {
    "duration": 8,
    "start_time": "2022-10-23T13:54:32.456Z"
   },
   {
    "duration": 4,
    "start_time": "2022-10-23T13:54:32.465Z"
   },
   {
    "duration": 154,
    "start_time": "2022-10-23T13:54:32.470Z"
   },
   {
    "duration": 10,
    "start_time": "2022-10-23T13:54:32.625Z"
   },
   {
    "duration": 6,
    "start_time": "2022-10-23T13:54:32.637Z"
   },
   {
    "duration": 11,
    "start_time": "2022-10-23T13:54:32.645Z"
   },
   {
    "duration": 12,
    "start_time": "2022-10-23T13:54:32.657Z"
   },
   {
    "duration": 138,
    "start_time": "2022-10-23T13:54:32.670Z"
   },
   {
    "duration": 8,
    "start_time": "2022-10-23T13:54:32.810Z"
   },
   {
    "duration": 141,
    "start_time": "2022-10-23T13:54:32.819Z"
   },
   {
    "duration": 7,
    "start_time": "2022-10-23T13:54:32.962Z"
   },
   {
    "duration": 38,
    "start_time": "2022-10-23T13:54:32.971Z"
   },
   {
    "duration": 5,
    "start_time": "2022-10-23T13:54:33.012Z"
   },
   {
    "duration": 12,
    "start_time": "2022-10-23T13:54:33.019Z"
   },
   {
    "duration": 6,
    "start_time": "2022-10-23T13:54:33.033Z"
   },
   {
    "duration": 6,
    "start_time": "2022-10-23T13:54:33.040Z"
   },
   {
    "duration": 272,
    "start_time": "2022-10-23T13:54:33.048Z"
   },
   {
    "duration": 5,
    "start_time": "2022-10-23T13:54:33.321Z"
   },
   {
    "duration": 37,
    "start_time": "2022-10-23T13:54:33.327Z"
   },
   {
    "duration": 11,
    "start_time": "2022-10-23T13:54:33.366Z"
   },
   {
    "duration": 8,
    "start_time": "2022-10-23T13:54:33.379Z"
   },
   {
    "duration": 15,
    "start_time": "2022-10-23T13:54:33.389Z"
   },
   {
    "duration": 3,
    "start_time": "2022-10-23T13:54:33.406Z"
   },
   {
    "duration": 15,
    "start_time": "2022-10-23T13:54:33.411Z"
   },
   {
    "duration": 14,
    "start_time": "2022-10-23T13:54:33.428Z"
   },
   {
    "duration": 4,
    "start_time": "2022-10-23T13:54:33.444Z"
   },
   {
    "duration": 26,
    "start_time": "2022-10-23T13:54:33.449Z"
   },
   {
    "duration": 23,
    "start_time": "2022-10-23T13:54:33.477Z"
   },
   {
    "duration": 8,
    "start_time": "2022-10-23T13:54:33.502Z"
   },
   {
    "duration": 11,
    "start_time": "2022-10-23T13:54:33.511Z"
   },
   {
    "duration": 9,
    "start_time": "2022-10-23T13:54:33.523Z"
   },
   {
    "duration": 9,
    "start_time": "2022-10-23T13:54:33.533Z"
   },
   {
    "duration": 190,
    "start_time": "2022-10-23T13:54:33.543Z"
   },
   {
    "duration": 189,
    "start_time": "2022-10-23T13:54:33.735Z"
   },
   {
    "duration": 4,
    "start_time": "2022-10-23T13:54:33.925Z"
   },
   {
    "duration": 43,
    "start_time": "2022-10-23T14:13:12.371Z"
   },
   {
    "duration": 7,
    "start_time": "2022-10-23T14:18:39.994Z"
   },
   {
    "duration": 378,
    "start_time": "2022-10-23T14:19:01.925Z"
   },
   {
    "duration": 49,
    "start_time": "2022-10-23T14:19:02.305Z"
   },
   {
    "duration": 2,
    "start_time": "2022-10-23T14:19:02.356Z"
   },
   {
    "duration": 64,
    "start_time": "2022-10-23T14:19:02.360Z"
   },
   {
    "duration": 18,
    "start_time": "2022-10-23T14:19:02.426Z"
   },
   {
    "duration": 35,
    "start_time": "2022-10-23T14:19:02.445Z"
   },
   {
    "duration": 21,
    "start_time": "2022-10-23T14:19:02.482Z"
   },
   {
    "duration": 35,
    "start_time": "2022-10-23T14:19:02.505Z"
   },
   {
    "duration": 40,
    "start_time": "2022-10-23T14:19:02.542Z"
   },
   {
    "duration": 24,
    "start_time": "2022-10-23T14:19:02.584Z"
   },
   {
    "duration": 46,
    "start_time": "2022-10-23T14:19:02.610Z"
   },
   {
    "duration": 110,
    "start_time": "2022-10-23T14:19:02.657Z"
   },
   {
    "duration": 9,
    "start_time": "2022-10-23T14:19:02.768Z"
   },
   {
    "duration": 36,
    "start_time": "2022-10-23T14:19:02.781Z"
   },
   {
    "duration": 14,
    "start_time": "2022-10-23T14:19:02.819Z"
   },
   {
    "duration": 33,
    "start_time": "2022-10-23T14:19:02.834Z"
   },
   {
    "duration": 153,
    "start_time": "2022-10-23T14:19:02.869Z"
   },
   {
    "duration": 7,
    "start_time": "2022-10-23T14:19:03.024Z"
   },
   {
    "duration": 138,
    "start_time": "2022-10-23T14:19:03.033Z"
   },
   {
    "duration": 8,
    "start_time": "2022-10-23T14:19:03.173Z"
   },
   {
    "duration": 12,
    "start_time": "2022-10-23T14:19:03.201Z"
   },
   {
    "duration": 27,
    "start_time": "2022-10-23T14:19:03.214Z"
   },
   {
    "duration": 22,
    "start_time": "2022-10-23T14:19:03.243Z"
   },
   {
    "duration": 30,
    "start_time": "2022-10-23T14:19:03.266Z"
   },
   {
    "duration": 15,
    "start_time": "2022-10-23T14:19:03.298Z"
   },
   {
    "duration": 296,
    "start_time": "2022-10-23T14:19:03.314Z"
   },
   {
    "duration": 6,
    "start_time": "2022-10-23T14:19:03.611Z"
   },
   {
    "duration": 65,
    "start_time": "2022-10-23T14:19:03.618Z"
   },
   {
    "duration": 28,
    "start_time": "2022-10-23T14:19:03.686Z"
   },
   {
    "duration": 40,
    "start_time": "2022-10-23T14:19:03.716Z"
   },
   {
    "duration": 40,
    "start_time": "2022-10-23T14:19:03.757Z"
   },
   {
    "duration": 33,
    "start_time": "2022-10-23T14:19:03.799Z"
   },
   {
    "duration": 32,
    "start_time": "2022-10-23T14:19:03.834Z"
   },
   {
    "duration": 37,
    "start_time": "2022-10-23T14:19:03.867Z"
   },
   {
    "duration": 23,
    "start_time": "2022-10-23T14:19:03.906Z"
   },
   {
    "duration": 44,
    "start_time": "2022-10-23T14:19:03.931Z"
   },
   {
    "duration": 18,
    "start_time": "2022-10-23T14:19:03.976Z"
   },
   {
    "duration": 28,
    "start_time": "2022-10-23T14:19:03.996Z"
   },
   {
    "duration": 30,
    "start_time": "2022-10-23T14:19:04.025Z"
   },
   {
    "duration": 29,
    "start_time": "2022-10-23T14:19:04.057Z"
   },
   {
    "duration": 14,
    "start_time": "2022-10-23T14:19:04.090Z"
   },
   {
    "duration": 230,
    "start_time": "2022-10-23T14:19:04.106Z"
   },
   {
    "duration": 234,
    "start_time": "2022-10-23T14:19:04.338Z"
   },
   {
    "duration": 4,
    "start_time": "2022-10-23T14:19:04.574Z"
   },
   {
    "duration": 54,
    "start_time": "2022-10-23T14:29:14.419Z"
   },
   {
    "duration": 47,
    "start_time": "2022-10-23T14:29:24.019Z"
   },
   {
    "duration": 61,
    "start_time": "2022-10-23T14:29:38.231Z"
   },
   {
    "duration": 56,
    "start_time": "2022-10-23T14:30:13.215Z"
   },
   {
    "duration": 8,
    "start_time": "2022-10-23T14:30:13.411Z"
   },
   {
    "duration": 8,
    "start_time": "2022-10-23T14:30:55.970Z"
   },
   {
    "duration": 59,
    "start_time": "2022-10-23T14:31:24.378Z"
   },
   {
    "duration": 8,
    "start_time": "2022-10-23T14:31:32.857Z"
   },
   {
    "duration": 24,
    "start_time": "2022-10-23T14:32:14.103Z"
   },
   {
    "duration": 357,
    "start_time": "2022-10-23T16:19:07.822Z"
   },
   {
    "duration": 55,
    "start_time": "2022-10-23T16:19:08.181Z"
   },
   {
    "duration": 2,
    "start_time": "2022-10-23T16:19:08.238Z"
   },
   {
    "duration": 41,
    "start_time": "2022-10-23T16:19:08.242Z"
   },
   {
    "duration": 19,
    "start_time": "2022-10-23T16:19:08.284Z"
   },
   {
    "duration": 20,
    "start_time": "2022-10-23T16:19:08.304Z"
   },
   {
    "duration": 3,
    "start_time": "2022-10-23T16:19:08.325Z"
   },
   {
    "duration": 10,
    "start_time": "2022-10-23T16:19:08.330Z"
   },
   {
    "duration": 7,
    "start_time": "2022-10-23T16:19:08.341Z"
   },
   {
    "duration": 11,
    "start_time": "2022-10-23T16:19:08.350Z"
   },
   {
    "duration": 25,
    "start_time": "2022-10-23T16:19:08.363Z"
   },
   {
    "duration": 90,
    "start_time": "2022-10-23T16:19:08.390Z"
   },
   {
    "duration": 19,
    "start_time": "2022-10-23T16:19:08.482Z"
   },
   {
    "duration": 11,
    "start_time": "2022-10-23T16:19:08.503Z"
   },
   {
    "duration": 7,
    "start_time": "2022-10-23T16:19:08.516Z"
   },
   {
    "duration": 14,
    "start_time": "2022-10-23T16:19:08.524Z"
   },
   {
    "duration": 150,
    "start_time": "2022-10-23T16:19:08.540Z"
   },
   {
    "duration": 18,
    "start_time": "2022-10-23T16:19:08.691Z"
   },
   {
    "duration": 62,
    "start_time": "2022-10-23T16:19:08.711Z"
   },
   {
    "duration": 8,
    "start_time": "2022-10-23T16:19:08.775Z"
   },
   {
    "duration": 37,
    "start_time": "2022-10-23T16:19:08.785Z"
   },
   {
    "duration": 15,
    "start_time": "2022-10-23T16:19:08.823Z"
   },
   {
    "duration": 52,
    "start_time": "2022-10-23T16:19:08.839Z"
   },
   {
    "duration": 23,
    "start_time": "2022-10-23T16:19:08.892Z"
   },
   {
    "duration": 24,
    "start_time": "2022-10-23T16:19:08.916Z"
   },
   {
    "duration": 258,
    "start_time": "2022-10-23T16:19:08.942Z"
   },
   {
    "duration": 5,
    "start_time": "2022-10-23T16:19:09.202Z"
   },
   {
    "duration": 14,
    "start_time": "2022-10-23T16:19:09.210Z"
   },
   {
    "duration": 13,
    "start_time": "2022-10-23T16:19:09.226Z"
   },
   {
    "duration": 8,
    "start_time": "2022-10-23T16:19:09.241Z"
   },
   {
    "duration": 15,
    "start_time": "2022-10-23T16:19:09.251Z"
   },
   {
    "duration": 4,
    "start_time": "2022-10-23T16:19:09.268Z"
   },
   {
    "duration": 33,
    "start_time": "2022-10-23T16:19:09.273Z"
   },
   {
    "duration": 13,
    "start_time": "2022-10-23T16:19:09.308Z"
   },
   {
    "duration": 14,
    "start_time": "2022-10-23T16:19:09.323Z"
   },
   {
    "duration": 13,
    "start_time": "2022-10-23T16:19:09.339Z"
   },
   {
    "duration": 7,
    "start_time": "2022-10-23T16:19:09.353Z"
   },
   {
    "duration": 8,
    "start_time": "2022-10-23T16:19:09.362Z"
   },
   {
    "duration": 12,
    "start_time": "2022-10-23T16:19:09.371Z"
   },
   {
    "duration": 13,
    "start_time": "2022-10-23T16:19:09.385Z"
   },
   {
    "duration": 13,
    "start_time": "2022-10-23T16:19:09.400Z"
   },
   {
    "duration": 220,
    "start_time": "2022-10-23T16:19:09.415Z"
   },
   {
    "duration": 249,
    "start_time": "2022-10-23T16:19:09.637Z"
   },
   {
    "duration": 3,
    "start_time": "2022-10-23T16:19:09.888Z"
   },
   {
    "duration": 5,
    "start_time": "2022-10-23T16:20:35.566Z"
   },
   {
    "duration": 17,
    "start_time": "2022-10-23T16:21:08.971Z"
   },
   {
    "duration": 4,
    "start_time": "2022-10-23T16:22:34.635Z"
   },
   {
    "duration": 29,
    "start_time": "2022-10-23T16:24:34.816Z"
   },
   {
    "duration": 48,
    "start_time": "2022-10-23T16:26:00.445Z"
   },
   {
    "duration": 43,
    "start_time": "2022-10-23T16:26:09.842Z"
   },
   {
    "duration": 8,
    "start_time": "2022-10-23T16:26:14.621Z"
   },
   {
    "duration": 5,
    "start_time": "2022-10-23T16:28:03.340Z"
   },
   {
    "duration": 10,
    "start_time": "2022-10-23T16:29:48.984Z"
   },
   {
    "duration": 5,
    "start_time": "2022-10-23T16:30:27.624Z"
   },
   {
    "duration": 23,
    "start_time": "2022-10-23T16:34:38.135Z"
   },
   {
    "duration": 6,
    "start_time": "2022-10-23T16:35:07.554Z"
   },
   {
    "duration": 16,
    "start_time": "2022-10-23T16:35:20.529Z"
   },
   {
    "duration": 6,
    "start_time": "2022-10-23T16:36:45.839Z"
   },
   {
    "duration": 409,
    "start_time": "2022-10-23T17:01:42.638Z"
   },
   {
    "duration": 28,
    "start_time": "2022-10-23T17:17:04.078Z"
   },
   {
    "duration": 7,
    "start_time": "2022-10-23T17:17:44.967Z"
   },
   {
    "duration": 796,
    "start_time": "2022-10-23T17:18:49.791Z"
   },
   {
    "duration": 269,
    "start_time": "2022-10-23T17:19:20.675Z"
   },
   {
    "duration": 328,
    "start_time": "2022-10-23T17:26:23.770Z"
   },
   {
    "duration": 4,
    "start_time": "2022-10-23T17:55:55.127Z"
   },
   {
    "duration": 67,
    "start_time": "2022-10-23T18:10:16.131Z"
   },
   {
    "duration": 12,
    "start_time": "2022-10-23T18:11:48.177Z"
   },
   {
    "duration": 63,
    "start_time": "2022-10-23T18:13:56.299Z"
   },
   {
    "duration": 237,
    "start_time": "2022-10-23T18:14:00.433Z"
   },
   {
    "duration": 50,
    "start_time": "2022-10-23T18:16:39.859Z"
   },
   {
    "duration": 10,
    "start_time": "2022-10-23T18:17:22.159Z"
   },
   {
    "duration": 11,
    "start_time": "2022-10-23T18:18:54.470Z"
   },
   {
    "duration": 11,
    "start_time": "2022-10-23T18:20:19.590Z"
   },
   {
    "duration": 10,
    "start_time": "2022-10-23T18:20:53.533Z"
   },
   {
    "duration": 10,
    "start_time": "2022-10-23T18:20:59.968Z"
   },
   {
    "duration": 4,
    "start_time": "2022-10-23T18:22:14.776Z"
   },
   {
    "duration": 10,
    "start_time": "2022-10-23T18:25:58.828Z"
   },
   {
    "duration": 391,
    "start_time": "2022-10-23T18:26:12.185Z"
   },
   {
    "duration": 67,
    "start_time": "2022-10-23T18:26:12.578Z"
   },
   {
    "duration": 3,
    "start_time": "2022-10-23T18:26:12.646Z"
   },
   {
    "duration": 54,
    "start_time": "2022-10-23T18:26:12.651Z"
   },
   {
    "duration": 19,
    "start_time": "2022-10-23T18:26:12.707Z"
   },
   {
    "duration": 20,
    "start_time": "2022-10-23T18:26:12.727Z"
   },
   {
    "duration": 29,
    "start_time": "2022-10-23T18:26:12.749Z"
   },
   {
    "duration": 2,
    "start_time": "2022-10-23T18:26:12.780Z"
   },
   {
    "duration": 18,
    "start_time": "2022-10-23T18:26:12.784Z"
   },
   {
    "duration": 4,
    "start_time": "2022-10-23T18:26:12.803Z"
   },
   {
    "duration": 19,
    "start_time": "2022-10-23T18:26:12.808Z"
   },
   {
    "duration": 47,
    "start_time": "2022-10-23T18:26:12.828Z"
   },
   {
    "duration": 63,
    "start_time": "2022-10-23T18:26:12.876Z"
   },
   {
    "duration": 7,
    "start_time": "2022-10-23T18:26:12.942Z"
   },
   {
    "duration": 21,
    "start_time": "2022-10-23T18:26:12.950Z"
   },
   {
    "duration": 27,
    "start_time": "2022-10-23T18:26:12.973Z"
   },
   {
    "duration": 8,
    "start_time": "2022-10-23T18:26:13.001Z"
   },
   {
    "duration": 160,
    "start_time": "2022-10-23T18:26:13.010Z"
   },
   {
    "duration": 9,
    "start_time": "2022-10-23T18:26:13.171Z"
   },
   {
    "duration": 56,
    "start_time": "2022-10-23T18:26:13.181Z"
   },
   {
    "duration": 8,
    "start_time": "2022-10-23T18:26:13.239Z"
   },
   {
    "duration": 5,
    "start_time": "2022-10-23T18:26:13.248Z"
   },
   {
    "duration": 18,
    "start_time": "2022-10-23T18:26:13.254Z"
   },
   {
    "duration": 29,
    "start_time": "2022-10-23T18:26:13.274Z"
   },
   {
    "duration": 464,
    "start_time": "2022-10-23T18:26:13.304Z"
   },
   {
    "duration": 81,
    "start_time": "2022-10-23T18:26:13.770Z"
   },
   {
    "duration": 85,
    "start_time": "2022-10-23T18:26:13.853Z"
   },
   {
    "duration": 0,
    "start_time": "2022-10-23T18:26:13.940Z"
   },
   {
    "duration": 0,
    "start_time": "2022-10-23T18:26:13.942Z"
   },
   {
    "duration": 0,
    "start_time": "2022-10-23T18:26:13.943Z"
   },
   {
    "duration": 0,
    "start_time": "2022-10-23T18:26:13.944Z"
   },
   {
    "duration": 0,
    "start_time": "2022-10-23T18:26:13.945Z"
   },
   {
    "duration": 0,
    "start_time": "2022-10-23T18:26:13.946Z"
   },
   {
    "duration": 0,
    "start_time": "2022-10-23T18:26:13.947Z"
   },
   {
    "duration": 0,
    "start_time": "2022-10-23T18:26:13.949Z"
   },
   {
    "duration": 0,
    "start_time": "2022-10-23T18:26:13.950Z"
   },
   {
    "duration": 0,
    "start_time": "2022-10-23T18:26:13.951Z"
   },
   {
    "duration": 1,
    "start_time": "2022-10-23T18:26:13.952Z"
   },
   {
    "duration": 0,
    "start_time": "2022-10-23T18:26:13.954Z"
   },
   {
    "duration": 0,
    "start_time": "2022-10-23T18:26:13.955Z"
   },
   {
    "duration": 0,
    "start_time": "2022-10-23T18:26:13.957Z"
   },
   {
    "duration": 0,
    "start_time": "2022-10-23T18:26:13.958Z"
   },
   {
    "duration": 0,
    "start_time": "2022-10-23T18:26:13.959Z"
   },
   {
    "duration": 0,
    "start_time": "2022-10-23T18:26:13.960Z"
   },
   {
    "duration": 0,
    "start_time": "2022-10-23T18:26:13.961Z"
   },
   {
    "duration": 1,
    "start_time": "2022-10-23T18:26:13.969Z"
   },
   {
    "duration": 4,
    "start_time": "2022-10-23T18:26:24.862Z"
   },
   {
    "duration": 15,
    "start_time": "2022-10-23T18:26:36.490Z"
   },
   {
    "duration": 220,
    "start_time": "2022-10-23T18:27:09.892Z"
   },
   {
    "duration": 42,
    "start_time": "2022-10-23T18:28:59.808Z"
   },
   {
    "duration": 10,
    "start_time": "2022-10-23T18:29:18.906Z"
   },
   {
    "duration": 4,
    "start_time": "2022-10-23T18:29:23.210Z"
   },
   {
    "duration": 10,
    "start_time": "2022-10-23T18:29:25.716Z"
   },
   {
    "duration": 380,
    "start_time": "2022-10-23T18:29:40.011Z"
   },
   {
    "duration": 51,
    "start_time": "2022-10-23T18:29:40.393Z"
   },
   {
    "duration": 2,
    "start_time": "2022-10-23T18:29:40.445Z"
   },
   {
    "duration": 48,
    "start_time": "2022-10-23T18:29:40.448Z"
   },
   {
    "duration": 18,
    "start_time": "2022-10-23T18:29:40.498Z"
   },
   {
    "duration": 12,
    "start_time": "2022-10-23T18:29:40.517Z"
   },
   {
    "duration": 27,
    "start_time": "2022-10-23T18:29:40.531Z"
   },
   {
    "duration": 2,
    "start_time": "2022-10-23T18:29:40.560Z"
   },
   {
    "duration": 42,
    "start_time": "2022-10-23T18:29:40.564Z"
   },
   {
    "duration": 5,
    "start_time": "2022-10-23T18:29:40.608Z"
   },
   {
    "duration": 12,
    "start_time": "2022-10-23T18:29:40.614Z"
   },
   {
    "duration": 47,
    "start_time": "2022-10-23T18:29:40.627Z"
   },
   {
    "duration": 46,
    "start_time": "2022-10-23T18:29:40.701Z"
   },
   {
    "duration": 8,
    "start_time": "2022-10-23T18:29:40.750Z"
   },
   {
    "duration": 14,
    "start_time": "2022-10-23T18:29:40.759Z"
   },
   {
    "duration": 33,
    "start_time": "2022-10-23T18:29:40.774Z"
   },
   {
    "duration": 13,
    "start_time": "2022-10-23T18:29:40.808Z"
   },
   {
    "duration": 140,
    "start_time": "2022-10-23T18:29:40.822Z"
   },
   {
    "duration": 7,
    "start_time": "2022-10-23T18:29:40.964Z"
   },
   {
    "duration": 56,
    "start_time": "2022-10-23T18:29:40.973Z"
   },
   {
    "duration": 7,
    "start_time": "2022-10-23T18:29:41.031Z"
   },
   {
    "duration": 7,
    "start_time": "2022-10-23T18:29:41.039Z"
   },
   {
    "duration": 17,
    "start_time": "2022-10-23T18:29:41.047Z"
   },
   {
    "duration": 7,
    "start_time": "2022-10-23T18:29:41.065Z"
   },
   {
    "duration": 464,
    "start_time": "2022-10-23T18:29:41.073Z"
   },
   {
    "duration": 73,
    "start_time": "2022-10-23T18:29:41.539Z"
   },
   {
    "duration": 217,
    "start_time": "2022-10-23T18:29:41.613Z"
   },
   {
    "duration": 110,
    "start_time": "2022-10-23T18:29:41.832Z"
   },
   {
    "duration": 0,
    "start_time": "2022-10-23T18:29:41.944Z"
   },
   {
    "duration": 0,
    "start_time": "2022-10-23T18:29:41.945Z"
   },
   {
    "duration": 0,
    "start_time": "2022-10-23T18:29:41.946Z"
   },
   {
    "duration": 0,
    "start_time": "2022-10-23T18:29:41.947Z"
   },
   {
    "duration": 0,
    "start_time": "2022-10-23T18:29:41.948Z"
   },
   {
    "duration": 0,
    "start_time": "2022-10-23T18:29:41.948Z"
   },
   {
    "duration": 0,
    "start_time": "2022-10-23T18:29:41.949Z"
   },
   {
    "duration": 0,
    "start_time": "2022-10-23T18:29:41.950Z"
   },
   {
    "duration": 0,
    "start_time": "2022-10-23T18:29:41.951Z"
   },
   {
    "duration": 0,
    "start_time": "2022-10-23T18:29:41.952Z"
   },
   {
    "duration": 0,
    "start_time": "2022-10-23T18:29:41.953Z"
   },
   {
    "duration": 0,
    "start_time": "2022-10-23T18:29:41.954Z"
   },
   {
    "duration": 0,
    "start_time": "2022-10-23T18:29:41.954Z"
   },
   {
    "duration": 0,
    "start_time": "2022-10-23T18:29:41.955Z"
   },
   {
    "duration": 0,
    "start_time": "2022-10-23T18:29:41.956Z"
   },
   {
    "duration": 0,
    "start_time": "2022-10-23T18:29:41.957Z"
   },
   {
    "duration": 0,
    "start_time": "2022-10-23T18:29:41.958Z"
   },
   {
    "duration": 0,
    "start_time": "2022-10-23T18:29:41.959Z"
   },
   {
    "duration": 10,
    "start_time": "2022-10-23T18:30:29.160Z"
   },
   {
    "duration": 345,
    "start_time": "2022-10-23T18:30:35.251Z"
   },
   {
    "duration": 46,
    "start_time": "2022-10-23T18:30:35.600Z"
   },
   {
    "duration": 2,
    "start_time": "2022-10-23T18:30:35.648Z"
   },
   {
    "duration": 40,
    "start_time": "2022-10-23T18:30:35.651Z"
   },
   {
    "duration": 18,
    "start_time": "2022-10-23T18:30:35.693Z"
   },
   {
    "duration": 11,
    "start_time": "2022-10-23T18:30:35.713Z"
   },
   {
    "duration": 36,
    "start_time": "2022-10-23T18:30:35.725Z"
   },
   {
    "duration": 2,
    "start_time": "2022-10-23T18:30:35.763Z"
   },
   {
    "duration": 11,
    "start_time": "2022-10-23T18:30:35.766Z"
   },
   {
    "duration": 21,
    "start_time": "2022-10-23T18:30:35.779Z"
   },
   {
    "duration": 19,
    "start_time": "2022-10-23T18:30:35.802Z"
   },
   {
    "duration": 48,
    "start_time": "2022-10-23T18:30:35.823Z"
   },
   {
    "duration": 64,
    "start_time": "2022-10-23T18:30:35.872Z"
   },
   {
    "duration": 8,
    "start_time": "2022-10-23T18:30:35.939Z"
   },
   {
    "duration": 12,
    "start_time": "2022-10-23T18:30:35.948Z"
   },
   {
    "duration": 19,
    "start_time": "2022-10-23T18:30:35.961Z"
   },
   {
    "duration": 20,
    "start_time": "2022-10-23T18:30:35.981Z"
   },
   {
    "duration": 142,
    "start_time": "2022-10-23T18:30:36.003Z"
   },
   {
    "duration": 8,
    "start_time": "2022-10-23T18:30:36.146Z"
   },
   {
    "duration": 60,
    "start_time": "2022-10-23T18:30:36.155Z"
   },
   {
    "duration": 8,
    "start_time": "2022-10-23T18:30:36.217Z"
   },
   {
    "duration": 18,
    "start_time": "2022-10-23T18:30:36.226Z"
   },
   {
    "duration": 17,
    "start_time": "2022-10-23T18:30:36.246Z"
   },
   {
    "duration": 10,
    "start_time": "2022-10-23T18:30:36.265Z"
   },
   {
    "duration": 455,
    "start_time": "2022-10-23T18:30:36.276Z"
   },
   {
    "duration": 54,
    "start_time": "2022-10-23T18:30:36.732Z"
   },
   {
    "duration": 219,
    "start_time": "2022-10-23T18:30:36.788Z"
   },
   {
    "duration": 109,
    "start_time": "2022-10-23T18:30:37.008Z"
   },
   {
    "duration": 0,
    "start_time": "2022-10-23T18:30:37.119Z"
   },
   {
    "duration": 0,
    "start_time": "2022-10-23T18:30:37.120Z"
   },
   {
    "duration": 0,
    "start_time": "2022-10-23T18:30:37.121Z"
   },
   {
    "duration": 0,
    "start_time": "2022-10-23T18:30:37.122Z"
   },
   {
    "duration": 0,
    "start_time": "2022-10-23T18:30:37.123Z"
   },
   {
    "duration": 0,
    "start_time": "2022-10-23T18:30:37.124Z"
   },
   {
    "duration": 0,
    "start_time": "2022-10-23T18:30:37.125Z"
   },
   {
    "duration": 0,
    "start_time": "2022-10-23T18:30:37.126Z"
   },
   {
    "duration": 0,
    "start_time": "2022-10-23T18:30:37.127Z"
   },
   {
    "duration": 0,
    "start_time": "2022-10-23T18:30:37.128Z"
   },
   {
    "duration": 0,
    "start_time": "2022-10-23T18:30:37.129Z"
   },
   {
    "duration": 0,
    "start_time": "2022-10-23T18:30:37.130Z"
   },
   {
    "duration": 0,
    "start_time": "2022-10-23T18:30:37.131Z"
   },
   {
    "duration": 0,
    "start_time": "2022-10-23T18:30:37.131Z"
   },
   {
    "duration": 0,
    "start_time": "2022-10-23T18:30:37.132Z"
   },
   {
    "duration": 0,
    "start_time": "2022-10-23T18:30:37.134Z"
   },
   {
    "duration": 0,
    "start_time": "2022-10-23T18:30:37.134Z"
   },
   {
    "duration": 0,
    "start_time": "2022-10-23T18:30:37.135Z"
   },
   {
    "duration": 9,
    "start_time": "2022-10-23T18:32:08.924Z"
   },
   {
    "duration": 9,
    "start_time": "2022-10-23T18:43:05.239Z"
   },
   {
    "duration": 344,
    "start_time": "2022-10-23T18:43:16.947Z"
   },
   {
    "duration": 55,
    "start_time": "2022-10-23T18:43:17.293Z"
   },
   {
    "duration": 3,
    "start_time": "2022-10-23T18:43:17.349Z"
   },
   {
    "duration": 45,
    "start_time": "2022-10-23T18:43:17.353Z"
   },
   {
    "duration": 18,
    "start_time": "2022-10-23T18:43:17.400Z"
   },
   {
    "duration": 13,
    "start_time": "2022-10-23T18:43:17.420Z"
   },
   {
    "duration": 28,
    "start_time": "2022-10-23T18:43:17.434Z"
   },
   {
    "duration": 3,
    "start_time": "2022-10-23T18:43:17.463Z"
   },
   {
    "duration": 42,
    "start_time": "2022-10-23T18:43:17.467Z"
   },
   {
    "duration": 4,
    "start_time": "2022-10-23T18:43:17.510Z"
   },
   {
    "duration": 13,
    "start_time": "2022-10-23T18:43:17.515Z"
   },
   {
    "duration": 48,
    "start_time": "2022-10-23T18:43:17.530Z"
   },
   {
    "duration": 50,
    "start_time": "2022-10-23T18:43:17.600Z"
   },
   {
    "duration": 8,
    "start_time": "2022-10-23T18:43:17.654Z"
   },
   {
    "duration": 43,
    "start_time": "2022-10-23T18:43:17.664Z"
   },
   {
    "duration": 8,
    "start_time": "2022-10-23T18:43:17.709Z"
   },
   {
    "duration": 14,
    "start_time": "2022-10-23T18:43:17.718Z"
   },
   {
    "duration": 144,
    "start_time": "2022-10-23T18:43:17.734Z"
   },
   {
    "duration": 27,
    "start_time": "2022-10-23T18:43:17.879Z"
   },
   {
    "duration": 41,
    "start_time": "2022-10-23T18:43:17.907Z"
   },
   {
    "duration": 7,
    "start_time": "2022-10-23T18:43:17.949Z"
   },
   {
    "duration": 3,
    "start_time": "2022-10-23T18:43:17.958Z"
   },
   {
    "duration": 56,
    "start_time": "2022-10-23T18:43:17.963Z"
   },
   {
    "duration": 10,
    "start_time": "2022-10-23T18:43:18.021Z"
   },
   {
    "duration": 455,
    "start_time": "2022-10-23T18:43:18.033Z"
   },
   {
    "duration": 80,
    "start_time": "2022-10-23T18:43:18.489Z"
   },
   {
    "duration": 221,
    "start_time": "2022-10-23T18:43:18.571Z"
   },
   {
    "duration": 111,
    "start_time": "2022-10-23T18:43:18.793Z"
   },
   {
    "duration": 0,
    "start_time": "2022-10-23T18:43:18.906Z"
   },
   {
    "duration": 0,
    "start_time": "2022-10-23T18:43:18.907Z"
   },
   {
    "duration": 0,
    "start_time": "2022-10-23T18:43:18.908Z"
   },
   {
    "duration": 0,
    "start_time": "2022-10-23T18:43:18.909Z"
   },
   {
    "duration": 0,
    "start_time": "2022-10-23T18:43:18.910Z"
   },
   {
    "duration": 0,
    "start_time": "2022-10-23T18:43:18.910Z"
   },
   {
    "duration": 0,
    "start_time": "2022-10-23T18:43:18.911Z"
   },
   {
    "duration": 0,
    "start_time": "2022-10-23T18:43:18.912Z"
   },
   {
    "duration": 0,
    "start_time": "2022-10-23T18:43:18.913Z"
   },
   {
    "duration": 0,
    "start_time": "2022-10-23T18:43:18.914Z"
   },
   {
    "duration": 0,
    "start_time": "2022-10-23T18:43:18.915Z"
   },
   {
    "duration": 0,
    "start_time": "2022-10-23T18:43:18.915Z"
   },
   {
    "duration": 0,
    "start_time": "2022-10-23T18:43:18.916Z"
   },
   {
    "duration": 0,
    "start_time": "2022-10-23T18:43:18.917Z"
   },
   {
    "duration": 0,
    "start_time": "2022-10-23T18:43:18.918Z"
   },
   {
    "duration": 0,
    "start_time": "2022-10-23T18:43:18.919Z"
   },
   {
    "duration": 1,
    "start_time": "2022-10-23T18:43:18.919Z"
   },
   {
    "duration": 0,
    "start_time": "2022-10-23T18:43:18.920Z"
   },
   {
    "duration": 0,
    "start_time": "2022-10-23T18:43:18.921Z"
   },
   {
    "duration": 9,
    "start_time": "2022-10-23T18:43:28.600Z"
   },
   {
    "duration": 10,
    "start_time": "2022-10-23T18:44:37.671Z"
   },
   {
    "duration": 365,
    "start_time": "2022-10-23T18:44:51.142Z"
   },
   {
    "duration": 46,
    "start_time": "2022-10-23T18:44:51.508Z"
   },
   {
    "duration": 2,
    "start_time": "2022-10-23T18:44:51.556Z"
   },
   {
    "duration": 46,
    "start_time": "2022-10-23T18:44:51.560Z"
   },
   {
    "duration": 19,
    "start_time": "2022-10-23T18:44:51.608Z"
   },
   {
    "duration": 13,
    "start_time": "2022-10-23T18:44:51.628Z"
   },
   {
    "duration": 30,
    "start_time": "2022-10-23T18:44:51.643Z"
   },
   {
    "duration": 3,
    "start_time": "2022-10-23T18:44:51.700Z"
   },
   {
    "duration": 29,
    "start_time": "2022-10-23T18:44:51.704Z"
   },
   {
    "duration": 6,
    "start_time": "2022-10-23T18:44:51.735Z"
   },
   {
    "duration": 18,
    "start_time": "2022-10-23T18:44:51.743Z"
   },
   {
    "duration": 68,
    "start_time": "2022-10-23T18:44:51.762Z"
   },
   {
    "duration": 76,
    "start_time": "2022-10-23T18:44:51.832Z"
   },
   {
    "duration": 13,
    "start_time": "2022-10-23T18:44:51.910Z"
   },
   {
    "duration": 26,
    "start_time": "2022-10-23T18:44:51.925Z"
   },
   {
    "duration": 19,
    "start_time": "2022-10-23T18:44:51.953Z"
   },
   {
    "duration": 24,
    "start_time": "2022-10-23T18:44:51.973Z"
   },
   {
    "duration": 149,
    "start_time": "2022-10-23T18:44:51.998Z"
   },
   {
    "duration": 8,
    "start_time": "2022-10-23T18:44:52.149Z"
   },
   {
    "duration": 58,
    "start_time": "2022-10-23T18:44:52.158Z"
   },
   {
    "duration": 9,
    "start_time": "2022-10-23T18:44:52.218Z"
   },
   {
    "duration": 5,
    "start_time": "2022-10-23T18:44:52.228Z"
   },
   {
    "duration": 21,
    "start_time": "2022-10-23T18:44:52.234Z"
   },
   {
    "duration": 16,
    "start_time": "2022-10-23T18:44:52.257Z"
   },
   {
    "duration": 484,
    "start_time": "2022-10-23T18:44:52.275Z"
   },
   {
    "duration": 68,
    "start_time": "2022-10-23T18:44:52.761Z"
   },
   {
    "duration": 210,
    "start_time": "2022-10-23T18:44:52.831Z"
   },
   {
    "duration": 114,
    "start_time": "2022-10-23T18:44:53.045Z"
   },
   {
    "duration": 0,
    "start_time": "2022-10-23T18:44:53.161Z"
   },
   {
    "duration": 0,
    "start_time": "2022-10-23T18:44:53.162Z"
   },
   {
    "duration": 0,
    "start_time": "2022-10-23T18:44:53.164Z"
   },
   {
    "duration": 0,
    "start_time": "2022-10-23T18:44:53.165Z"
   },
   {
    "duration": 0,
    "start_time": "2022-10-23T18:44:53.166Z"
   },
   {
    "duration": 0,
    "start_time": "2022-10-23T18:44:53.168Z"
   },
   {
    "duration": 0,
    "start_time": "2022-10-23T18:44:53.169Z"
   },
   {
    "duration": 0,
    "start_time": "2022-10-23T18:44:53.170Z"
   },
   {
    "duration": 0,
    "start_time": "2022-10-23T18:44:53.171Z"
   },
   {
    "duration": 0,
    "start_time": "2022-10-23T18:44:53.172Z"
   },
   {
    "duration": 0,
    "start_time": "2022-10-23T18:44:53.173Z"
   },
   {
    "duration": 0,
    "start_time": "2022-10-23T18:44:53.174Z"
   },
   {
    "duration": 1,
    "start_time": "2022-10-23T18:44:53.175Z"
   },
   {
    "duration": 0,
    "start_time": "2022-10-23T18:44:53.201Z"
   },
   {
    "duration": 0,
    "start_time": "2022-10-23T18:44:53.202Z"
   },
   {
    "duration": 0,
    "start_time": "2022-10-23T18:44:53.204Z"
   },
   {
    "duration": 0,
    "start_time": "2022-10-23T18:44:53.205Z"
   },
   {
    "duration": 0,
    "start_time": "2022-10-23T18:44:53.206Z"
   },
   {
    "duration": 0,
    "start_time": "2022-10-23T18:44:53.206Z"
   },
   {
    "duration": 9,
    "start_time": "2022-10-23T18:45:12.605Z"
   },
   {
    "duration": 373,
    "start_time": "2022-10-23T18:47:19.019Z"
   },
   {
    "duration": 76,
    "start_time": "2022-10-23T18:47:19.395Z"
   },
   {
    "duration": 3,
    "start_time": "2022-10-23T18:47:19.473Z"
   },
   {
    "duration": 41,
    "start_time": "2022-10-23T18:47:19.478Z"
   },
   {
    "duration": 28,
    "start_time": "2022-10-23T18:47:19.521Z"
   },
   {
    "duration": 18,
    "start_time": "2022-10-23T18:47:19.551Z"
   },
   {
    "duration": 39,
    "start_time": "2022-10-23T18:47:19.599Z"
   },
   {
    "duration": 7,
    "start_time": "2022-10-23T18:47:19.640Z"
   },
   {
    "duration": 13,
    "start_time": "2022-10-23T18:47:19.649Z"
   },
   {
    "duration": 8,
    "start_time": "2022-10-23T18:47:19.665Z"
   },
   {
    "duration": 37,
    "start_time": "2022-10-23T18:47:19.675Z"
   },
   {
    "duration": 61,
    "start_time": "2022-10-23T18:47:19.714Z"
   },
   {
    "duration": 99,
    "start_time": "2022-10-23T18:47:19.777Z"
   },
   {
    "duration": 27,
    "start_time": "2022-10-23T18:47:19.878Z"
   },
   {
    "duration": 20,
    "start_time": "2022-10-23T18:47:19.907Z"
   },
   {
    "duration": 10,
    "start_time": "2022-10-23T18:47:19.930Z"
   },
   {
    "duration": 27,
    "start_time": "2022-10-23T18:47:19.942Z"
   },
   {
    "duration": 208,
    "start_time": "2022-10-23T18:47:19.971Z"
   },
   {
    "duration": 9,
    "start_time": "2022-10-23T18:47:20.181Z"
   },
   {
    "duration": 45,
    "start_time": "2022-10-23T18:47:20.200Z"
   },
   {
    "duration": 9,
    "start_time": "2022-10-23T18:47:20.247Z"
   },
   {
    "duration": 23,
    "start_time": "2022-10-23T18:47:20.258Z"
   },
   {
    "duration": 38,
    "start_time": "2022-10-23T18:47:20.283Z"
   },
   {
    "duration": 10,
    "start_time": "2022-10-23T18:47:20.323Z"
   },
   {
    "duration": 493,
    "start_time": "2022-10-23T18:47:20.335Z"
   },
   {
    "duration": 82,
    "start_time": "2022-10-23T18:47:20.829Z"
   },
   {
    "duration": 216,
    "start_time": "2022-10-23T18:47:20.913Z"
   },
   {
    "duration": 125,
    "start_time": "2022-10-23T18:47:21.134Z"
   },
   {
    "duration": 1,
    "start_time": "2022-10-23T18:47:21.260Z"
   },
   {
    "duration": 0,
    "start_time": "2022-10-23T18:47:21.262Z"
   },
   {
    "duration": 0,
    "start_time": "2022-10-23T18:47:21.264Z"
   },
   {
    "duration": 0,
    "start_time": "2022-10-23T18:47:21.265Z"
   },
   {
    "duration": 0,
    "start_time": "2022-10-23T18:47:21.267Z"
   },
   {
    "duration": 0,
    "start_time": "2022-10-23T18:47:21.269Z"
   },
   {
    "duration": 0,
    "start_time": "2022-10-23T18:47:21.270Z"
   },
   {
    "duration": 0,
    "start_time": "2022-10-23T18:47:21.272Z"
   },
   {
    "duration": 0,
    "start_time": "2022-10-23T18:47:21.273Z"
   },
   {
    "duration": 0,
    "start_time": "2022-10-23T18:47:21.300Z"
   },
   {
    "duration": 0,
    "start_time": "2022-10-23T18:47:21.302Z"
   },
   {
    "duration": 0,
    "start_time": "2022-10-23T18:47:21.304Z"
   },
   {
    "duration": 0,
    "start_time": "2022-10-23T18:47:21.305Z"
   },
   {
    "duration": 0,
    "start_time": "2022-10-23T18:47:21.307Z"
   },
   {
    "duration": 0,
    "start_time": "2022-10-23T18:47:21.308Z"
   },
   {
    "duration": 0,
    "start_time": "2022-10-23T18:47:21.310Z"
   },
   {
    "duration": 0,
    "start_time": "2022-10-23T18:47:21.311Z"
   },
   {
    "duration": 0,
    "start_time": "2022-10-23T18:47:21.313Z"
   },
   {
    "duration": 0,
    "start_time": "2022-10-23T18:47:21.314Z"
   },
   {
    "duration": 14,
    "start_time": "2022-10-23T18:48:49.992Z"
   },
   {
    "duration": 10,
    "start_time": "2022-10-23T19:02:25.422Z"
   },
   {
    "duration": 392,
    "start_time": "2022-10-23T19:03:28.481Z"
   },
   {
    "duration": 52,
    "start_time": "2022-10-23T19:03:28.874Z"
   },
   {
    "duration": 2,
    "start_time": "2022-10-23T19:03:28.928Z"
   },
   {
    "duration": 41,
    "start_time": "2022-10-23T19:03:28.931Z"
   },
   {
    "duration": 18,
    "start_time": "2022-10-23T19:03:28.973Z"
   },
   {
    "duration": 13,
    "start_time": "2022-10-23T19:03:28.992Z"
   },
   {
    "duration": 26,
    "start_time": "2022-10-23T19:03:29.007Z"
   },
   {
    "duration": 3,
    "start_time": "2022-10-23T19:03:29.035Z"
   },
   {
    "duration": 27,
    "start_time": "2022-10-23T19:03:29.039Z"
   },
   {
    "duration": 4,
    "start_time": "2022-10-23T19:03:29.068Z"
   },
   {
    "duration": 10,
    "start_time": "2022-10-23T19:03:29.074Z"
   },
   {
    "duration": 54,
    "start_time": "2022-10-23T19:03:29.086Z"
   },
   {
    "duration": 61,
    "start_time": "2022-10-23T19:03:29.141Z"
   },
   {
    "duration": 7,
    "start_time": "2022-10-23T19:03:29.204Z"
   },
   {
    "duration": 12,
    "start_time": "2022-10-23T19:03:29.213Z"
   },
   {
    "duration": 6,
    "start_time": "2022-10-23T19:03:29.226Z"
   },
   {
    "duration": 8,
    "start_time": "2022-10-23T19:03:29.233Z"
   },
   {
    "duration": 158,
    "start_time": "2022-10-23T19:03:29.242Z"
   },
   {
    "duration": 7,
    "start_time": "2022-10-23T19:03:29.402Z"
   },
   {
    "duration": 42,
    "start_time": "2022-10-23T19:03:29.411Z"
   },
   {
    "duration": 8,
    "start_time": "2022-10-23T19:03:29.454Z"
   },
   {
    "duration": 5,
    "start_time": "2022-10-23T19:03:29.464Z"
   },
   {
    "duration": 32,
    "start_time": "2022-10-23T19:03:29.471Z"
   },
   {
    "duration": 20,
    "start_time": "2022-10-23T19:03:29.504Z"
   },
   {
    "duration": 425,
    "start_time": "2022-10-23T19:03:29.525Z"
   },
   {
    "duration": 61,
    "start_time": "2022-10-23T19:03:29.952Z"
   },
   {
    "duration": 231,
    "start_time": "2022-10-23T19:03:30.015Z"
   },
   {
    "duration": 108,
    "start_time": "2022-10-23T19:03:30.249Z"
   },
   {
    "duration": 0,
    "start_time": "2022-10-23T19:03:30.359Z"
   },
   {
    "duration": 0,
    "start_time": "2022-10-23T19:03:30.359Z"
   },
   {
    "duration": 0,
    "start_time": "2022-10-23T19:03:30.361Z"
   },
   {
    "duration": 0,
    "start_time": "2022-10-23T19:03:30.362Z"
   },
   {
    "duration": 0,
    "start_time": "2022-10-23T19:03:30.362Z"
   },
   {
    "duration": 0,
    "start_time": "2022-10-23T19:03:30.363Z"
   },
   {
    "duration": 0,
    "start_time": "2022-10-23T19:03:30.364Z"
   },
   {
    "duration": 0,
    "start_time": "2022-10-23T19:03:30.365Z"
   },
   {
    "duration": 0,
    "start_time": "2022-10-23T19:03:30.366Z"
   },
   {
    "duration": 1,
    "start_time": "2022-10-23T19:03:30.367Z"
   },
   {
    "duration": 0,
    "start_time": "2022-10-23T19:03:30.368Z"
   },
   {
    "duration": 0,
    "start_time": "2022-10-23T19:03:30.369Z"
   },
   {
    "duration": 0,
    "start_time": "2022-10-23T19:03:30.371Z"
   },
   {
    "duration": 0,
    "start_time": "2022-10-23T19:03:30.372Z"
   },
   {
    "duration": 0,
    "start_time": "2022-10-23T19:03:30.373Z"
   },
   {
    "duration": 0,
    "start_time": "2022-10-23T19:03:30.400Z"
   },
   {
    "duration": 0,
    "start_time": "2022-10-23T19:03:30.401Z"
   },
   {
    "duration": 0,
    "start_time": "2022-10-23T19:03:30.402Z"
   },
   {
    "duration": 9,
    "start_time": "2022-10-23T19:03:39.453Z"
   },
   {
    "duration": 10,
    "start_time": "2022-10-23T19:11:19.600Z"
   },
   {
    "duration": 75,
    "start_time": "2022-10-23T19:12:07.928Z"
   },
   {
    "duration": 0,
    "start_time": "2022-10-23T19:12:08.055Z"
   },
   {
    "duration": 420,
    "start_time": "2022-10-23T19:12:08.102Z"
   },
   {
    "duration": 53,
    "start_time": "2022-10-23T19:12:08.524Z"
   },
   {
    "duration": 2,
    "start_time": "2022-10-23T19:12:08.579Z"
   },
   {
    "duration": 44,
    "start_time": "2022-10-23T19:12:08.582Z"
   },
   {
    "duration": 19,
    "start_time": "2022-10-23T19:12:08.627Z"
   },
   {
    "duration": 33,
    "start_time": "2022-10-23T19:12:08.647Z"
   },
   {
    "duration": 32,
    "start_time": "2022-10-23T19:12:08.682Z"
   },
   {
    "duration": 4,
    "start_time": "2022-10-23T19:12:08.716Z"
   },
   {
    "duration": 10,
    "start_time": "2022-10-23T19:12:08.722Z"
   },
   {
    "duration": 39,
    "start_time": "2022-10-23T19:12:08.736Z"
   },
   {
    "duration": 22,
    "start_time": "2022-10-23T19:12:08.776Z"
   },
   {
    "duration": 16,
    "start_time": "2022-10-23T19:12:08.800Z"
   },
   {
    "duration": 50,
    "start_time": "2022-10-23T19:12:08.817Z"
   },
   {
    "duration": 8,
    "start_time": "2022-10-23T19:12:08.868Z"
   },
   {
    "duration": 33,
    "start_time": "2022-10-23T19:12:08.877Z"
   },
   {
    "duration": 5,
    "start_time": "2022-10-23T19:12:08.911Z"
   },
   {
    "duration": 10,
    "start_time": "2022-10-23T19:12:08.917Z"
   },
   {
    "duration": 150,
    "start_time": "2022-10-23T19:12:08.928Z"
   },
   {
    "duration": 22,
    "start_time": "2022-10-23T19:12:09.079Z"
   },
   {
    "duration": 41,
    "start_time": "2022-10-23T19:12:09.103Z"
   },
   {
    "duration": 7,
    "start_time": "2022-10-23T19:12:09.145Z"
   },
   {
    "duration": 5,
    "start_time": "2022-10-23T19:12:09.154Z"
   },
   {
    "duration": 17,
    "start_time": "2022-10-23T19:12:09.160Z"
   },
   {
    "duration": 27,
    "start_time": "2022-10-23T19:12:09.178Z"
   },
   {
    "duration": 481,
    "start_time": "2022-10-23T19:12:09.206Z"
   },
   {
    "duration": 4,
    "start_time": "2022-10-23T19:12:09.688Z"
   },
   {
    "duration": 60,
    "start_time": "2022-10-23T19:12:09.700Z"
   },
   {
    "duration": 0,
    "start_time": "2022-10-23T19:12:09.763Z"
   },
   {
    "duration": 0,
    "start_time": "2022-10-23T19:12:09.765Z"
   },
   {
    "duration": 0,
    "start_time": "2022-10-23T19:12:09.766Z"
   },
   {
    "duration": 0,
    "start_time": "2022-10-23T19:12:09.767Z"
   },
   {
    "duration": 0,
    "start_time": "2022-10-23T19:12:09.769Z"
   },
   {
    "duration": 0,
    "start_time": "2022-10-23T19:12:09.770Z"
   },
   {
    "duration": 0,
    "start_time": "2022-10-23T19:12:09.772Z"
   },
   {
    "duration": 0,
    "start_time": "2022-10-23T19:12:09.773Z"
   },
   {
    "duration": 0,
    "start_time": "2022-10-23T19:12:09.774Z"
   },
   {
    "duration": 0,
    "start_time": "2022-10-23T19:12:09.801Z"
   },
   {
    "duration": 0,
    "start_time": "2022-10-23T19:12:09.802Z"
   },
   {
    "duration": 0,
    "start_time": "2022-10-23T19:12:09.803Z"
   },
   {
    "duration": 0,
    "start_time": "2022-10-23T19:12:09.804Z"
   },
   {
    "duration": 0,
    "start_time": "2022-10-23T19:12:09.804Z"
   },
   {
    "duration": 0,
    "start_time": "2022-10-23T19:12:09.805Z"
   },
   {
    "duration": 0,
    "start_time": "2022-10-23T19:12:09.806Z"
   },
   {
    "duration": 0,
    "start_time": "2022-10-23T19:12:09.807Z"
   },
   {
    "duration": 0,
    "start_time": "2022-10-23T19:12:09.808Z"
   },
   {
    "duration": 0,
    "start_time": "2022-10-23T19:12:09.809Z"
   },
   {
    "duration": 206,
    "start_time": "2022-10-23T19:13:32.291Z"
   },
   {
    "duration": 39,
    "start_time": "2022-10-23T19:22:11.155Z"
   },
   {
    "duration": 2,
    "start_time": "2022-10-23T19:22:21.350Z"
   },
   {
    "duration": 2,
    "start_time": "2022-10-23T19:22:26.207Z"
   },
   {
    "duration": 3,
    "start_time": "2022-10-23T19:22:28.487Z"
   },
   {
    "duration": 2,
    "start_time": "2022-10-23T19:22:29.201Z"
   },
   {
    "duration": 34,
    "start_time": "2022-10-23T19:22:29.898Z"
   },
   {
    "duration": 14,
    "start_time": "2022-10-23T19:22:31.009Z"
   },
   {
    "duration": 12,
    "start_time": "2022-10-23T19:22:34.631Z"
   },
   {
    "duration": 28,
    "start_time": "2022-10-23T19:22:41.055Z"
   },
   {
    "duration": 3,
    "start_time": "2022-10-23T19:22:43.221Z"
   },
   {
    "duration": 10,
    "start_time": "2022-10-23T19:22:44.414Z"
   },
   {
    "duration": 5,
    "start_time": "2022-10-23T19:22:50.859Z"
   },
   {
    "duration": 10,
    "start_time": "2022-10-23T19:22:51.686Z"
   },
   {
    "duration": 17,
    "start_time": "2022-10-23T19:22:53.236Z"
   },
   {
    "duration": 49,
    "start_time": "2022-10-23T19:22:58.655Z"
   },
   {
    "duration": 9,
    "start_time": "2022-10-23T19:23:01.206Z"
   },
   {
    "duration": 13,
    "start_time": "2022-10-23T19:23:02.536Z"
   },
   {
    "duration": 9,
    "start_time": "2022-10-23T19:23:03.621Z"
   },
   {
    "duration": 6,
    "start_time": "2022-10-23T19:23:14.193Z"
   },
   {
    "duration": 24,
    "start_time": "2022-10-23T19:23:20.722Z"
   },
   {
    "duration": 43,
    "start_time": "2022-10-23T19:24:01.751Z"
   },
   {
    "duration": 9,
    "start_time": "2022-10-23T19:24:09.451Z"
   },
   {
    "duration": 4,
    "start_time": "2022-10-23T19:25:17.226Z"
   },
   {
    "duration": 15,
    "start_time": "2022-10-23T19:25:24.682Z"
   },
   {
    "duration": 6,
    "start_time": "2022-10-23T19:25:39.797Z"
   },
   {
    "duration": 371,
    "start_time": "2022-10-23T19:25:52.831Z"
   },
   {
    "duration": 27,
    "start_time": "2022-10-23T19:27:01.891Z"
   },
   {
    "duration": 24,
    "start_time": "2022-10-23T19:27:35.831Z"
   },
   {
    "duration": 24,
    "start_time": "2022-10-23T19:28:12.123Z"
   },
   {
    "duration": 29,
    "start_time": "2022-10-23T19:29:40.312Z"
   },
   {
    "duration": 20,
    "start_time": "2022-10-23T19:30:03.976Z"
   },
   {
    "duration": 27,
    "start_time": "2022-10-23T19:30:36.693Z"
   },
   {
    "duration": 25,
    "start_time": "2022-10-23T19:31:55.327Z"
   },
   {
    "duration": 49,
    "start_time": "2022-10-23T19:37:40.046Z"
   },
   {
    "duration": 26,
    "start_time": "2022-10-23T19:37:52.081Z"
   },
   {
    "duration": 26,
    "start_time": "2022-10-23T19:38:07.797Z"
   },
   {
    "duration": 23,
    "start_time": "2022-10-23T19:42:51.635Z"
   },
   {
    "duration": 25,
    "start_time": "2022-10-23T19:43:22.865Z"
   },
   {
    "duration": 9,
    "start_time": "2022-10-23T19:54:55.521Z"
   },
   {
    "duration": 109,
    "start_time": "2022-10-23T19:55:22.158Z"
   },
   {
    "duration": 15,
    "start_time": "2022-10-23T19:58:40.288Z"
   },
   {
    "duration": 15,
    "start_time": "2022-10-23T20:01:36.319Z"
   },
   {
    "duration": 232,
    "start_time": "2022-10-23T20:04:46.007Z"
   },
   {
    "duration": 229,
    "start_time": "2022-10-23T20:05:56.697Z"
   },
   {
    "duration": 42,
    "start_time": "2022-10-23T20:07:37.579Z"
   },
   {
    "duration": 766,
    "start_time": "2022-10-23T20:08:02.608Z"
   },
   {
    "duration": 22,
    "start_time": "2022-10-23T20:08:47.407Z"
   },
   {
    "duration": 22,
    "start_time": "2022-10-23T20:09:30.985Z"
   },
   {
    "duration": 29,
    "start_time": "2022-10-23T20:09:40.722Z"
   },
   {
    "duration": 388,
    "start_time": "2022-10-23T20:09:50.852Z"
   },
   {
    "duration": 1093,
    "start_time": "2022-10-23T20:09:51.243Z"
   },
   {
    "duration": 5,
    "start_time": "2022-10-23T20:09:52.337Z"
   },
   {
    "duration": 46,
    "start_time": "2022-10-23T20:09:52.345Z"
   },
   {
    "duration": 29,
    "start_time": "2022-10-23T20:09:52.393Z"
   },
   {
    "duration": 16,
    "start_time": "2022-10-23T20:09:52.425Z"
   },
   {
    "duration": 28,
    "start_time": "2022-10-23T20:09:52.443Z"
   },
   {
    "duration": 5,
    "start_time": "2022-10-23T20:09:52.473Z"
   },
   {
    "duration": 24,
    "start_time": "2022-10-23T20:09:52.479Z"
   },
   {
    "duration": 16,
    "start_time": "2022-10-23T20:09:52.506Z"
   },
   {
    "duration": 19,
    "start_time": "2022-10-23T20:09:52.524Z"
   },
   {
    "duration": 64,
    "start_time": "2022-10-23T20:09:52.545Z"
   },
   {
    "duration": 56,
    "start_time": "2022-10-23T20:09:52.611Z"
   },
   {
    "duration": 8,
    "start_time": "2022-10-23T20:09:52.671Z"
   },
   {
    "duration": 16,
    "start_time": "2022-10-23T20:09:52.700Z"
   },
   {
    "duration": 21,
    "start_time": "2022-10-23T20:09:52.718Z"
   },
   {
    "duration": 14,
    "start_time": "2022-10-23T20:09:52.741Z"
   },
   {
    "duration": 161,
    "start_time": "2022-10-23T20:09:52.757Z"
   },
   {
    "duration": 59,
    "start_time": "2022-10-23T20:09:52.919Z"
   },
   {
    "duration": 0,
    "start_time": "2022-10-23T20:09:52.980Z"
   },
   {
    "duration": 0,
    "start_time": "2022-10-23T20:09:52.981Z"
   },
   {
    "duration": 0,
    "start_time": "2022-10-23T20:09:52.982Z"
   },
   {
    "duration": 0,
    "start_time": "2022-10-23T20:09:53.000Z"
   },
   {
    "duration": 0,
    "start_time": "2022-10-23T20:09:53.001Z"
   },
   {
    "duration": 0,
    "start_time": "2022-10-23T20:09:53.002Z"
   },
   {
    "duration": 0,
    "start_time": "2022-10-23T20:09:53.003Z"
   },
   {
    "duration": 0,
    "start_time": "2022-10-23T20:09:53.004Z"
   },
   {
    "duration": 0,
    "start_time": "2022-10-23T20:09:53.005Z"
   },
   {
    "duration": 0,
    "start_time": "2022-10-23T20:09:53.006Z"
   },
   {
    "duration": 0,
    "start_time": "2022-10-23T20:09:53.007Z"
   },
   {
    "duration": 0,
    "start_time": "2022-10-23T20:09:53.008Z"
   },
   {
    "duration": 0,
    "start_time": "2022-10-23T20:09:53.009Z"
   },
   {
    "duration": 0,
    "start_time": "2022-10-23T20:09:53.010Z"
   },
   {
    "duration": 0,
    "start_time": "2022-10-23T20:09:53.011Z"
   },
   {
    "duration": 0,
    "start_time": "2022-10-23T20:09:53.012Z"
   },
   {
    "duration": 0,
    "start_time": "2022-10-23T20:09:53.013Z"
   },
   {
    "duration": 0,
    "start_time": "2022-10-23T20:09:53.015Z"
   },
   {
    "duration": 0,
    "start_time": "2022-10-23T20:09:53.015Z"
   },
   {
    "duration": 0,
    "start_time": "2022-10-23T20:09:53.016Z"
   },
   {
    "duration": 0,
    "start_time": "2022-10-23T20:09:53.018Z"
   },
   {
    "duration": 0,
    "start_time": "2022-10-23T20:09:53.018Z"
   },
   {
    "duration": 0,
    "start_time": "2022-10-23T20:09:53.019Z"
   },
   {
    "duration": 0,
    "start_time": "2022-10-23T20:09:53.020Z"
   },
   {
    "duration": 0,
    "start_time": "2022-10-23T20:09:53.022Z"
   },
   {
    "duration": 0,
    "start_time": "2022-10-23T20:09:53.024Z"
   },
   {
    "duration": 0,
    "start_time": "2022-10-23T20:09:53.024Z"
   },
   {
    "duration": 0,
    "start_time": "2022-10-23T20:09:53.025Z"
   },
   {
    "duration": 0,
    "start_time": "2022-10-23T20:09:53.026Z"
   },
   {
    "duration": 8,
    "start_time": "2022-10-23T20:10:59.683Z"
   },
   {
    "duration": 42,
    "start_time": "2022-10-23T20:11:06.147Z"
   },
   {
    "duration": 9,
    "start_time": "2022-10-23T20:11:14.182Z"
   },
   {
    "duration": 5,
    "start_time": "2022-10-23T20:11:30.808Z"
   },
   {
    "duration": 69,
    "start_time": "2022-10-23T20:11:42.325Z"
   },
   {
    "duration": 19,
    "start_time": "2022-10-23T20:11:46.457Z"
   },
   {
    "duration": 4,
    "start_time": "2022-10-23T20:12:45.974Z"
   },
   {
    "duration": 15,
    "start_time": "2022-10-23T20:12:50.323Z"
   },
   {
    "duration": 4,
    "start_time": "2022-10-23T20:13:02.562Z"
   },
   {
    "duration": 162,
    "start_time": "2022-10-23T20:13:03.703Z"
   },
   {
    "duration": 15,
    "start_time": "2022-10-23T20:13:13.763Z"
   },
   {
    "duration": 405,
    "start_time": "2022-10-23T20:13:15.857Z"
   },
   {
    "duration": 2,
    "start_time": "2022-10-23T20:15:23.608Z"
   },
   {
    "duration": 2,
    "start_time": "2022-10-23T20:15:24.574Z"
   },
   {
    "duration": 365,
    "start_time": "2022-10-23T20:15:35.161Z"
   },
   {
    "duration": 206,
    "start_time": "2022-10-23T20:15:35.528Z"
   },
   {
    "duration": 3,
    "start_time": "2022-10-23T20:15:35.736Z"
   },
   {
    "duration": 40,
    "start_time": "2022-10-23T20:15:35.740Z"
   },
   {
    "duration": 23,
    "start_time": "2022-10-23T20:15:35.782Z"
   },
   {
    "duration": 14,
    "start_time": "2022-10-23T20:15:35.807Z"
   },
   {
    "duration": 26,
    "start_time": "2022-10-23T20:15:35.823Z"
   },
   {
    "duration": 3,
    "start_time": "2022-10-23T20:15:35.851Z"
   },
   {
    "duration": 13,
    "start_time": "2022-10-23T20:15:35.856Z"
   },
   {
    "duration": 31,
    "start_time": "2022-10-23T20:15:35.870Z"
   },
   {
    "duration": 14,
    "start_time": "2022-10-23T20:15:35.902Z"
   },
   {
    "duration": 17,
    "start_time": "2022-10-23T20:15:35.918Z"
   },
   {
    "duration": 48,
    "start_time": "2022-10-23T20:15:35.936Z"
   },
   {
    "duration": 8,
    "start_time": "2022-10-23T20:15:36.001Z"
   },
   {
    "duration": 15,
    "start_time": "2022-10-23T20:15:36.010Z"
   },
   {
    "duration": 6,
    "start_time": "2022-10-23T20:15:36.026Z"
   },
   {
    "duration": 14,
    "start_time": "2022-10-23T20:15:36.034Z"
   },
   {
    "duration": 154,
    "start_time": "2022-10-23T20:15:36.049Z"
   },
   {
    "duration": 8,
    "start_time": "2022-10-23T20:15:36.204Z"
   },
   {
    "duration": 44,
    "start_time": "2022-10-23T20:15:36.213Z"
   },
   {
    "duration": 8,
    "start_time": "2022-10-23T20:15:36.259Z"
   },
   {
    "duration": 5,
    "start_time": "2022-10-23T20:15:36.268Z"
   },
   {
    "duration": 38,
    "start_time": "2022-10-23T20:15:36.275Z"
   },
   {
    "duration": 6,
    "start_time": "2022-10-23T20:15:36.315Z"
   },
   {
    "duration": 335,
    "start_time": "2022-10-23T20:15:36.323Z"
   },
   {
    "duration": 66,
    "start_time": "2022-10-23T20:15:36.660Z"
   },
   {
    "duration": 214,
    "start_time": "2022-10-23T20:15:36.727Z"
   },
   {
    "duration": 15,
    "start_time": "2022-10-23T20:15:36.942Z"
   },
   {
    "duration": 251,
    "start_time": "2022-10-23T20:15:36.958Z"
   },
   {
    "duration": 123,
    "start_time": "2022-10-23T20:15:37.210Z"
   },
   {
    "duration": 108,
    "start_time": "2022-10-23T20:15:37.334Z"
   },
   {
    "duration": 0,
    "start_time": "2022-10-23T20:15:37.444Z"
   },
   {
    "duration": 0,
    "start_time": "2022-10-23T20:15:37.446Z"
   },
   {
    "duration": 0,
    "start_time": "2022-10-23T20:15:37.447Z"
   },
   {
    "duration": 0,
    "start_time": "2022-10-23T20:15:37.448Z"
   },
   {
    "duration": 0,
    "start_time": "2022-10-23T20:15:37.450Z"
   },
   {
    "duration": 0,
    "start_time": "2022-10-23T20:15:37.451Z"
   },
   {
    "duration": 0,
    "start_time": "2022-10-23T20:15:37.453Z"
   },
   {
    "duration": 0,
    "start_time": "2022-10-23T20:15:37.454Z"
   },
   {
    "duration": 0,
    "start_time": "2022-10-23T20:15:37.455Z"
   },
   {
    "duration": 0,
    "start_time": "2022-10-23T20:15:37.457Z"
   },
   {
    "duration": 0,
    "start_time": "2022-10-23T20:15:37.458Z"
   },
   {
    "duration": 0,
    "start_time": "2022-10-23T20:15:37.460Z"
   },
   {
    "duration": 0,
    "start_time": "2022-10-23T20:15:37.461Z"
   },
   {
    "duration": 0,
    "start_time": "2022-10-23T20:15:37.462Z"
   },
   {
    "duration": 0,
    "start_time": "2022-10-23T20:15:37.499Z"
   },
   {
    "duration": 0,
    "start_time": "2022-10-23T20:15:37.501Z"
   },
   {
    "duration": 0,
    "start_time": "2022-10-23T20:15:37.502Z"
   },
   {
    "duration": 219,
    "start_time": "2022-10-23T20:16:20.691Z"
   },
   {
    "duration": 334,
    "start_time": "2022-10-23T20:22:04.052Z"
   },
   {
    "duration": 10,
    "start_time": "2022-10-23T20:39:47.143Z"
   },
   {
    "duration": 5,
    "start_time": "2022-10-23T20:40:18.474Z"
   },
   {
    "duration": 9,
    "start_time": "2022-10-23T20:40:22.639Z"
   },
   {
    "duration": 363,
    "start_time": "2022-10-24T04:25:22.057Z"
   },
   {
    "duration": 344,
    "start_time": "2022-10-24T04:25:22.422Z"
   },
   {
    "duration": 3,
    "start_time": "2022-10-24T04:25:22.768Z"
   },
   {
    "duration": 76,
    "start_time": "2022-10-24T04:25:22.773Z"
   },
   {
    "duration": 18,
    "start_time": "2022-10-24T04:25:22.850Z"
   },
   {
    "duration": 19,
    "start_time": "2022-10-24T04:25:22.869Z"
   },
   {
    "duration": 35,
    "start_time": "2022-10-24T04:25:22.889Z"
   },
   {
    "duration": 3,
    "start_time": "2022-10-24T04:25:22.926Z"
   },
   {
    "duration": 22,
    "start_time": "2022-10-24T04:25:22.930Z"
   },
   {
    "duration": 7,
    "start_time": "2022-10-24T04:25:22.954Z"
   },
   {
    "duration": 24,
    "start_time": "2022-10-24T04:25:22.962Z"
   },
   {
    "duration": 17,
    "start_time": "2022-10-24T04:25:22.988Z"
   },
   {
    "duration": 64,
    "start_time": "2022-10-24T04:25:23.006Z"
   },
   {
    "duration": 10,
    "start_time": "2022-10-24T04:25:23.072Z"
   },
   {
    "duration": 40,
    "start_time": "2022-10-24T04:25:23.084Z"
   },
   {
    "duration": 25,
    "start_time": "2022-10-24T04:25:23.126Z"
   },
   {
    "duration": 21,
    "start_time": "2022-10-24T04:25:23.152Z"
   },
   {
    "duration": 141,
    "start_time": "2022-10-24T04:25:23.174Z"
   },
   {
    "duration": 12,
    "start_time": "2022-10-24T04:25:23.317Z"
   },
   {
    "duration": 57,
    "start_time": "2022-10-24T04:25:23.330Z"
   },
   {
    "duration": 8,
    "start_time": "2022-10-24T04:25:23.388Z"
   },
   {
    "duration": 23,
    "start_time": "2022-10-24T04:25:23.397Z"
   },
   {
    "duration": 34,
    "start_time": "2022-10-24T04:25:23.421Z"
   },
   {
    "duration": 20,
    "start_time": "2022-10-24T04:25:23.456Z"
   },
   {
    "duration": 339,
    "start_time": "2022-10-24T04:25:23.477Z"
   },
   {
    "duration": 59,
    "start_time": "2022-10-24T04:25:23.818Z"
   },
   {
    "duration": 225,
    "start_time": "2022-10-24T04:25:23.878Z"
   },
   {
    "duration": 20,
    "start_time": "2022-10-24T04:25:24.106Z"
   },
   {
    "duration": 213,
    "start_time": "2022-10-24T04:25:24.128Z"
   },
   {
    "duration": 111,
    "start_time": "2022-10-24T04:25:24.343Z"
   },
   {
    "duration": 5,
    "start_time": "2022-10-24T04:25:24.456Z"
   },
   {
    "duration": 10,
    "start_time": "2022-10-24T04:25:24.462Z"
   },
   {
    "duration": 10,
    "start_time": "2022-10-24T04:25:24.474Z"
   },
   {
    "duration": 6,
    "start_time": "2022-10-24T04:25:24.485Z"
   },
   {
    "duration": 32,
    "start_time": "2022-10-24T04:25:24.493Z"
   },
   {
    "duration": 3,
    "start_time": "2022-10-24T04:25:24.526Z"
   },
   {
    "duration": 14,
    "start_time": "2022-10-24T04:25:24.531Z"
   },
   {
    "duration": 7,
    "start_time": "2022-10-24T04:25:24.546Z"
   },
   {
    "duration": 4,
    "start_time": "2022-10-24T04:25:24.554Z"
   },
   {
    "duration": 11,
    "start_time": "2022-10-24T04:25:24.560Z"
   },
   {
    "duration": 5,
    "start_time": "2022-10-24T04:25:24.572Z"
   },
   {
    "duration": 5,
    "start_time": "2022-10-24T04:25:24.578Z"
   },
   {
    "duration": 6,
    "start_time": "2022-10-24T04:25:24.585Z"
   },
   {
    "duration": 5,
    "start_time": "2022-10-24T04:25:24.592Z"
   },
   {
    "duration": 24,
    "start_time": "2022-10-24T04:25:24.598Z"
   },
   {
    "duration": 177,
    "start_time": "2022-10-24T04:25:24.623Z"
   },
   {
    "duration": 193,
    "start_time": "2022-10-24T04:25:24.802Z"
   },
   {
    "duration": 3,
    "start_time": "2022-10-24T04:25:24.997Z"
   },
   {
    "duration": 117,
    "start_time": "2022-10-24T04:58:29.193Z"
   },
   {
    "duration": 22,
    "start_time": "2022-10-24T04:58:50.441Z"
   },
   {
    "duration": 347,
    "start_time": "2022-10-24T04:58:56.063Z"
   },
   {
    "duration": 195,
    "start_time": "2022-10-24T04:58:56.413Z"
   },
   {
    "duration": 2,
    "start_time": "2022-10-24T04:58:56.610Z"
   },
   {
    "duration": 47,
    "start_time": "2022-10-24T04:58:56.613Z"
   },
   {
    "duration": 15,
    "start_time": "2022-10-24T04:58:56.662Z"
   },
   {
    "duration": 12,
    "start_time": "2022-10-24T04:58:56.679Z"
   },
   {
    "duration": 36,
    "start_time": "2022-10-24T04:58:56.693Z"
   },
   {
    "duration": 3,
    "start_time": "2022-10-24T04:58:56.730Z"
   },
   {
    "duration": 10,
    "start_time": "2022-10-24T04:58:56.735Z"
   },
   {
    "duration": 7,
    "start_time": "2022-10-24T04:58:56.746Z"
   },
   {
    "duration": 12,
    "start_time": "2022-10-24T04:58:56.754Z"
   },
   {
    "duration": 16,
    "start_time": "2022-10-24T04:58:56.767Z"
   },
   {
    "duration": 68,
    "start_time": "2022-10-24T04:58:56.784Z"
   },
   {
    "duration": 9,
    "start_time": "2022-10-24T04:58:56.854Z"
   },
   {
    "duration": 11,
    "start_time": "2022-10-24T04:58:56.864Z"
   },
   {
    "duration": 6,
    "start_time": "2022-10-24T04:58:56.876Z"
   },
   {
    "duration": 9,
    "start_time": "2022-10-24T04:58:56.883Z"
   },
   {
    "duration": 162,
    "start_time": "2022-10-24T04:58:56.893Z"
   },
   {
    "duration": 9,
    "start_time": "2022-10-24T04:58:57.056Z"
   },
   {
    "duration": 69,
    "start_time": "2022-10-24T04:58:57.067Z"
   },
   {
    "duration": 10,
    "start_time": "2022-10-24T04:58:57.138Z"
   },
   {
    "duration": 8,
    "start_time": "2022-10-24T04:58:57.149Z"
   },
   {
    "duration": 16,
    "start_time": "2022-10-24T04:58:57.159Z"
   },
   {
    "duration": 7,
    "start_time": "2022-10-24T04:58:57.176Z"
   },
   {
    "duration": 346,
    "start_time": "2022-10-24T04:58:57.185Z"
   },
   {
    "duration": 59,
    "start_time": "2022-10-24T04:58:57.533Z"
   },
   {
    "duration": 228,
    "start_time": "2022-10-24T04:58:57.594Z"
   },
   {
    "duration": 14,
    "start_time": "2022-10-24T04:58:57.824Z"
   },
   {
    "duration": 215,
    "start_time": "2022-10-24T04:58:57.839Z"
   },
   {
    "duration": 125,
    "start_time": "2022-10-24T04:58:58.056Z"
   },
   {
    "duration": 0,
    "start_time": "2022-10-24T04:58:58.182Z"
   },
   {
    "duration": 0,
    "start_time": "2022-10-24T04:58:58.184Z"
   },
   {
    "duration": 0,
    "start_time": "2022-10-24T04:58:58.184Z"
   },
   {
    "duration": 1,
    "start_time": "2022-10-24T04:58:58.185Z"
   },
   {
    "duration": 0,
    "start_time": "2022-10-24T04:58:58.187Z"
   },
   {
    "duration": 0,
    "start_time": "2022-10-24T04:58:58.188Z"
   },
   {
    "duration": 0,
    "start_time": "2022-10-24T04:58:58.189Z"
   },
   {
    "duration": 0,
    "start_time": "2022-10-24T04:58:58.190Z"
   },
   {
    "duration": 0,
    "start_time": "2022-10-24T04:58:58.191Z"
   },
   {
    "duration": 0,
    "start_time": "2022-10-24T04:58:58.192Z"
   },
   {
    "duration": 0,
    "start_time": "2022-10-24T04:58:58.193Z"
   },
   {
    "duration": 0,
    "start_time": "2022-10-24T04:58:58.194Z"
   },
   {
    "duration": 0,
    "start_time": "2022-10-24T04:58:58.195Z"
   },
   {
    "duration": 0,
    "start_time": "2022-10-24T04:58:58.196Z"
   },
   {
    "duration": 0,
    "start_time": "2022-10-24T04:58:58.222Z"
   },
   {
    "duration": 0,
    "start_time": "2022-10-24T04:58:58.223Z"
   },
   {
    "duration": 0,
    "start_time": "2022-10-24T04:58:58.224Z"
   },
   {
    "duration": 0,
    "start_time": "2022-10-24T04:58:58.225Z"
   },
   {
    "duration": 0,
    "start_time": "2022-10-24T04:58:58.226Z"
   },
   {
    "duration": 20,
    "start_time": "2022-10-24T04:59:03.887Z"
   },
   {
    "duration": 311,
    "start_time": "2022-10-24T05:01:25.689Z"
   },
   {
    "duration": 261,
    "start_time": "2022-10-24T05:47:40.782Z"
   },
   {
    "duration": 11,
    "start_time": "2022-10-24T05:52:51.789Z"
   },
   {
    "duration": 277,
    "start_time": "2022-10-24T05:53:08.615Z"
   },
   {
    "duration": 296,
    "start_time": "2022-10-24T06:07:43.012Z"
   },
   {
    "duration": 49,
    "start_time": "2022-10-24T11:29:24.720Z"
   },
   {
    "duration": 385,
    "start_time": "2022-10-24T11:29:31.775Z"
   },
   {
    "duration": 376,
    "start_time": "2022-10-24T11:29:32.162Z"
   },
   {
    "duration": 4,
    "start_time": "2022-10-24T11:29:32.540Z"
   },
   {
    "duration": 71,
    "start_time": "2022-10-24T11:29:32.546Z"
   },
   {
    "duration": 17,
    "start_time": "2022-10-24T11:29:32.619Z"
   },
   {
    "duration": 15,
    "start_time": "2022-10-24T11:29:32.638Z"
   },
   {
    "duration": 27,
    "start_time": "2022-10-24T11:29:32.655Z"
   },
   {
    "duration": 3,
    "start_time": "2022-10-24T11:29:32.684Z"
   },
   {
    "duration": 12,
    "start_time": "2022-10-24T11:29:32.689Z"
   },
   {
    "duration": 4,
    "start_time": "2022-10-24T11:29:32.704Z"
   },
   {
    "duration": 38,
    "start_time": "2022-10-24T11:29:32.710Z"
   },
   {
    "duration": 18,
    "start_time": "2022-10-24T11:29:32.750Z"
   },
   {
    "duration": 73,
    "start_time": "2022-10-24T11:29:32.770Z"
   },
   {
    "duration": 10,
    "start_time": "2022-10-24T11:29:32.845Z"
   },
   {
    "duration": 12,
    "start_time": "2022-10-24T11:29:32.857Z"
   },
   {
    "duration": 7,
    "start_time": "2022-10-24T11:29:32.871Z"
   },
   {
    "duration": 11,
    "start_time": "2022-10-24T11:29:32.880Z"
   },
   {
    "duration": 186,
    "start_time": "2022-10-24T11:29:32.893Z"
   },
   {
    "duration": 8,
    "start_time": "2022-10-24T11:29:33.080Z"
   },
   {
    "duration": 60,
    "start_time": "2022-10-24T11:29:33.090Z"
   },
   {
    "duration": 10,
    "start_time": "2022-10-24T11:29:33.152Z"
   },
   {
    "duration": 7,
    "start_time": "2022-10-24T11:29:33.163Z"
   },
   {
    "duration": 17,
    "start_time": "2022-10-24T11:29:33.172Z"
   },
   {
    "duration": 8,
    "start_time": "2022-10-24T11:29:33.191Z"
   },
   {
    "duration": 378,
    "start_time": "2022-10-24T11:29:33.201Z"
   },
   {
    "duration": 73,
    "start_time": "2022-10-24T11:29:33.580Z"
   },
   {
    "duration": 273,
    "start_time": "2022-10-24T11:29:33.655Z"
   },
   {
    "duration": 22,
    "start_time": "2022-10-24T11:29:33.931Z"
   },
   {
    "duration": 267,
    "start_time": "2022-10-24T11:29:33.955Z"
   },
   {
    "duration": 145,
    "start_time": "2022-10-24T11:29:34.224Z"
   },
   {
    "duration": 0,
    "start_time": "2022-10-24T11:29:34.371Z"
   },
   {
    "duration": 0,
    "start_time": "2022-10-24T11:29:34.372Z"
   },
   {
    "duration": 0,
    "start_time": "2022-10-24T11:29:34.373Z"
   },
   {
    "duration": 0,
    "start_time": "2022-10-24T11:29:34.374Z"
   },
   {
    "duration": 0,
    "start_time": "2022-10-24T11:29:34.375Z"
   },
   {
    "duration": 0,
    "start_time": "2022-10-24T11:29:34.377Z"
   },
   {
    "duration": 0,
    "start_time": "2022-10-24T11:29:34.378Z"
   },
   {
    "duration": 0,
    "start_time": "2022-10-24T11:29:34.380Z"
   },
   {
    "duration": 0,
    "start_time": "2022-10-24T11:29:34.381Z"
   },
   {
    "duration": 0,
    "start_time": "2022-10-24T11:29:34.383Z"
   },
   {
    "duration": 0,
    "start_time": "2022-10-24T11:29:34.385Z"
   },
   {
    "duration": 0,
    "start_time": "2022-10-24T11:29:34.386Z"
   },
   {
    "duration": 0,
    "start_time": "2022-10-24T11:29:34.388Z"
   },
   {
    "duration": 0,
    "start_time": "2022-10-24T11:29:34.389Z"
   },
   {
    "duration": 0,
    "start_time": "2022-10-24T11:29:34.390Z"
   },
   {
    "duration": 0,
    "start_time": "2022-10-24T11:29:34.391Z"
   },
   {
    "duration": 0,
    "start_time": "2022-10-24T11:29:34.393Z"
   },
   {
    "duration": 0,
    "start_time": "2022-10-24T11:29:34.394Z"
   },
   {
    "duration": 0,
    "start_time": "2022-10-24T11:29:34.439Z"
   },
   {
    "duration": 0,
    "start_time": "2022-10-24T11:29:34.440Z"
   },
   {
    "duration": 295,
    "start_time": "2022-10-24T11:29:49.646Z"
   },
   {
    "duration": 231,
    "start_time": "2022-10-24T11:30:05.761Z"
   },
   {
    "duration": 288,
    "start_time": "2022-10-24T11:30:13.572Z"
   },
   {
    "duration": 394,
    "start_time": "2022-10-24T11:35:59.548Z"
   },
   {
    "duration": 226,
    "start_time": "2022-10-24T11:35:59.944Z"
   },
   {
    "duration": 3,
    "start_time": "2022-10-24T11:36:00.171Z"
   },
   {
    "duration": 80,
    "start_time": "2022-10-24T11:36:00.175Z"
   },
   {
    "duration": 0,
    "start_time": "2022-10-24T11:36:00.258Z"
   },
   {
    "duration": 0,
    "start_time": "2022-10-24T11:36:00.259Z"
   },
   {
    "duration": 0,
    "start_time": "2022-10-24T11:36:00.261Z"
   },
   {
    "duration": 0,
    "start_time": "2022-10-24T11:36:00.261Z"
   },
   {
    "duration": 0,
    "start_time": "2022-10-24T11:36:00.262Z"
   },
   {
    "duration": 0,
    "start_time": "2022-10-24T11:36:00.263Z"
   },
   {
    "duration": 0,
    "start_time": "2022-10-24T11:36:00.264Z"
   },
   {
    "duration": 0,
    "start_time": "2022-10-24T11:36:00.265Z"
   },
   {
    "duration": 0,
    "start_time": "2022-10-24T11:36:00.266Z"
   },
   {
    "duration": 0,
    "start_time": "2022-10-24T11:36:00.267Z"
   },
   {
    "duration": 0,
    "start_time": "2022-10-24T11:36:00.268Z"
   },
   {
    "duration": 0,
    "start_time": "2022-10-24T11:36:00.269Z"
   },
   {
    "duration": 0,
    "start_time": "2022-10-24T11:36:00.270Z"
   },
   {
    "duration": 0,
    "start_time": "2022-10-24T11:36:00.271Z"
   },
   {
    "duration": 0,
    "start_time": "2022-10-24T11:36:00.272Z"
   },
   {
    "duration": 0,
    "start_time": "2022-10-24T11:36:00.273Z"
   },
   {
    "duration": 0,
    "start_time": "2022-10-24T11:36:00.274Z"
   },
   {
    "duration": 0,
    "start_time": "2022-10-24T11:36:00.275Z"
   },
   {
    "duration": 0,
    "start_time": "2022-10-24T11:36:00.276Z"
   },
   {
    "duration": 0,
    "start_time": "2022-10-24T11:36:00.277Z"
   },
   {
    "duration": 0,
    "start_time": "2022-10-24T11:36:00.278Z"
   },
   {
    "duration": 0,
    "start_time": "2022-10-24T11:36:00.279Z"
   },
   {
    "duration": 0,
    "start_time": "2022-10-24T11:36:00.280Z"
   },
   {
    "duration": 0,
    "start_time": "2022-10-24T11:36:00.281Z"
   },
   {
    "duration": 0,
    "start_time": "2022-10-24T11:36:00.282Z"
   },
   {
    "duration": 0,
    "start_time": "2022-10-24T11:36:00.283Z"
   },
   {
    "duration": 0,
    "start_time": "2022-10-24T11:36:00.284Z"
   },
   {
    "duration": 0,
    "start_time": "2022-10-24T11:36:00.285Z"
   },
   {
    "duration": 0,
    "start_time": "2022-10-24T11:36:00.286Z"
   },
   {
    "duration": 0,
    "start_time": "2022-10-24T11:36:00.287Z"
   },
   {
    "duration": 0,
    "start_time": "2022-10-24T11:36:00.288Z"
   },
   {
    "duration": 0,
    "start_time": "2022-10-24T11:36:00.289Z"
   },
   {
    "duration": 0,
    "start_time": "2022-10-24T11:36:00.338Z"
   },
   {
    "duration": 0,
    "start_time": "2022-10-24T11:36:00.339Z"
   },
   {
    "duration": 0,
    "start_time": "2022-10-24T11:36:00.340Z"
   },
   {
    "duration": 0,
    "start_time": "2022-10-24T11:36:00.342Z"
   },
   {
    "duration": 0,
    "start_time": "2022-10-24T11:36:00.343Z"
   },
   {
    "duration": 0,
    "start_time": "2022-10-24T11:36:00.344Z"
   },
   {
    "duration": 0,
    "start_time": "2022-10-24T11:36:00.346Z"
   },
   {
    "duration": 0,
    "start_time": "2022-10-24T11:36:00.347Z"
   },
   {
    "duration": 0,
    "start_time": "2022-10-24T11:36:00.349Z"
   },
   {
    "duration": 0,
    "start_time": "2022-10-24T11:36:00.350Z"
   },
   {
    "duration": 0,
    "start_time": "2022-10-24T11:36:00.351Z"
   },
   {
    "duration": 0,
    "start_time": "2022-10-24T11:36:00.352Z"
   },
   {
    "duration": 0,
    "start_time": "2022-10-24T11:36:00.353Z"
   },
   {
    "duration": 0,
    "start_time": "2022-10-24T11:36:00.354Z"
   },
   {
    "duration": 420,
    "start_time": "2022-10-24T11:36:16.256Z"
   },
   {
    "duration": 229,
    "start_time": "2022-10-24T11:36:16.678Z"
   },
   {
    "duration": 3,
    "start_time": "2022-10-24T11:36:16.909Z"
   },
   {
    "duration": 93,
    "start_time": "2022-10-24T11:36:16.913Z"
   },
   {
    "duration": 0,
    "start_time": "2022-10-24T11:36:17.009Z"
   },
   {
    "duration": 0,
    "start_time": "2022-10-24T11:36:17.010Z"
   },
   {
    "duration": 0,
    "start_time": "2022-10-24T11:36:17.011Z"
   },
   {
    "duration": 0,
    "start_time": "2022-10-24T11:36:17.012Z"
   },
   {
    "duration": 0,
    "start_time": "2022-10-24T11:36:17.013Z"
   },
   {
    "duration": 0,
    "start_time": "2022-10-24T11:36:17.014Z"
   },
   {
    "duration": 0,
    "start_time": "2022-10-24T11:36:17.015Z"
   },
   {
    "duration": 0,
    "start_time": "2022-10-24T11:36:17.016Z"
   },
   {
    "duration": 0,
    "start_time": "2022-10-24T11:36:17.017Z"
   },
   {
    "duration": 0,
    "start_time": "2022-10-24T11:36:17.018Z"
   },
   {
    "duration": 0,
    "start_time": "2022-10-24T11:36:17.019Z"
   },
   {
    "duration": 0,
    "start_time": "2022-10-24T11:36:17.020Z"
   },
   {
    "duration": 0,
    "start_time": "2022-10-24T11:36:17.038Z"
   },
   {
    "duration": 0,
    "start_time": "2022-10-24T11:36:17.039Z"
   },
   {
    "duration": 0,
    "start_time": "2022-10-24T11:36:17.041Z"
   },
   {
    "duration": 0,
    "start_time": "2022-10-24T11:36:17.041Z"
   },
   {
    "duration": 0,
    "start_time": "2022-10-24T11:36:17.042Z"
   },
   {
    "duration": 0,
    "start_time": "2022-10-24T11:36:17.044Z"
   },
   {
    "duration": 0,
    "start_time": "2022-10-24T11:36:17.045Z"
   },
   {
    "duration": 0,
    "start_time": "2022-10-24T11:36:17.046Z"
   },
   {
    "duration": 0,
    "start_time": "2022-10-24T11:36:17.047Z"
   },
   {
    "duration": 0,
    "start_time": "2022-10-24T11:36:17.048Z"
   },
   {
    "duration": 0,
    "start_time": "2022-10-24T11:36:17.049Z"
   },
   {
    "duration": 0,
    "start_time": "2022-10-24T11:36:17.050Z"
   },
   {
    "duration": 0,
    "start_time": "2022-10-24T11:36:17.051Z"
   },
   {
    "duration": 0,
    "start_time": "2022-10-24T11:36:17.052Z"
   },
   {
    "duration": 0,
    "start_time": "2022-10-24T11:36:17.053Z"
   },
   {
    "duration": 0,
    "start_time": "2022-10-24T11:36:17.054Z"
   },
   {
    "duration": 0,
    "start_time": "2022-10-24T11:36:17.056Z"
   },
   {
    "duration": 0,
    "start_time": "2022-10-24T11:36:17.056Z"
   },
   {
    "duration": 0,
    "start_time": "2022-10-24T11:36:17.057Z"
   },
   {
    "duration": 0,
    "start_time": "2022-10-24T11:36:17.059Z"
   },
   {
    "duration": 0,
    "start_time": "2022-10-24T11:36:17.060Z"
   },
   {
    "duration": 0,
    "start_time": "2022-10-24T11:36:17.061Z"
   },
   {
    "duration": 0,
    "start_time": "2022-10-24T11:36:17.062Z"
   },
   {
    "duration": 0,
    "start_time": "2022-10-24T11:36:17.063Z"
   },
   {
    "duration": 0,
    "start_time": "2022-10-24T11:36:17.064Z"
   },
   {
    "duration": 0,
    "start_time": "2022-10-24T11:36:17.065Z"
   },
   {
    "duration": 0,
    "start_time": "2022-10-24T11:36:17.066Z"
   },
   {
    "duration": 0,
    "start_time": "2022-10-24T11:36:17.067Z"
   },
   {
    "duration": 0,
    "start_time": "2022-10-24T11:36:17.068Z"
   },
   {
    "duration": 0,
    "start_time": "2022-10-24T11:36:17.069Z"
   },
   {
    "duration": 0,
    "start_time": "2022-10-24T11:36:17.071Z"
   },
   {
    "duration": 0,
    "start_time": "2022-10-24T11:36:17.071Z"
   },
   {
    "duration": 0,
    "start_time": "2022-10-24T11:36:17.072Z"
   },
   {
    "duration": 0,
    "start_time": "2022-10-24T11:36:17.073Z"
   },
   {
    "duration": 438,
    "start_time": "2022-10-24T13:02:13.652Z"
   },
   {
    "duration": 404,
    "start_time": "2022-10-24T13:02:14.092Z"
   },
   {
    "duration": 3,
    "start_time": "2022-10-24T13:02:14.498Z"
   },
   {
    "duration": 98,
    "start_time": "2022-10-24T13:02:14.503Z"
   },
   {
    "duration": 18,
    "start_time": "2022-10-24T13:02:14.603Z"
   },
   {
    "duration": 16,
    "start_time": "2022-10-24T13:02:14.623Z"
   },
   {
    "duration": 30,
    "start_time": "2022-10-24T13:02:14.641Z"
   },
   {
    "duration": 3,
    "start_time": "2022-10-24T13:02:14.672Z"
   },
   {
    "duration": 16,
    "start_time": "2022-10-24T13:02:14.677Z"
   },
   {
    "duration": 11,
    "start_time": "2022-10-24T13:02:14.695Z"
   },
   {
    "duration": 32,
    "start_time": "2022-10-24T13:02:14.707Z"
   },
   {
    "duration": 19,
    "start_time": "2022-10-24T13:02:14.740Z"
   },
   {
    "duration": 60,
    "start_time": "2022-10-24T13:02:14.761Z"
   },
   {
    "duration": 21,
    "start_time": "2022-10-24T13:02:14.823Z"
   },
   {
    "duration": 13,
    "start_time": "2022-10-24T13:02:14.845Z"
   },
   {
    "duration": 7,
    "start_time": "2022-10-24T13:02:14.859Z"
   },
   {
    "duration": 17,
    "start_time": "2022-10-24T13:02:14.868Z"
   },
   {
    "duration": 180,
    "start_time": "2022-10-24T13:02:14.887Z"
   },
   {
    "duration": 9,
    "start_time": "2022-10-24T13:02:15.069Z"
   },
   {
    "duration": 65,
    "start_time": "2022-10-24T13:02:15.079Z"
   },
   {
    "duration": 9,
    "start_time": "2022-10-24T13:02:15.145Z"
   },
   {
    "duration": 7,
    "start_time": "2022-10-24T13:02:15.155Z"
   },
   {
    "duration": 20,
    "start_time": "2022-10-24T13:02:15.164Z"
   },
   {
    "duration": 7,
    "start_time": "2022-10-24T13:02:15.186Z"
   },
   {
    "duration": 374,
    "start_time": "2022-10-24T13:02:15.195Z"
   },
   {
    "duration": 64,
    "start_time": "2022-10-24T13:02:15.571Z"
   },
   {
    "duration": 241,
    "start_time": "2022-10-24T13:02:15.637Z"
   },
   {
    "duration": 16,
    "start_time": "2022-10-24T13:02:15.881Z"
   },
   {
    "duration": 224,
    "start_time": "2022-10-24T13:02:15.899Z"
   },
   {
    "duration": 298,
    "start_time": "2022-10-24T13:02:16.124Z"
   },
   {
    "duration": 277,
    "start_time": "2022-10-24T13:02:16.423Z"
   },
   {
    "duration": 109,
    "start_time": "2022-10-24T13:02:16.701Z"
   },
   {
    "duration": 5,
    "start_time": "2022-10-24T13:02:16.812Z"
   },
   {
    "duration": 25,
    "start_time": "2022-10-24T13:02:16.819Z"
   },
   {
    "duration": 10,
    "start_time": "2022-10-24T13:02:16.845Z"
   },
   {
    "duration": 7,
    "start_time": "2022-10-24T13:02:16.856Z"
   },
   {
    "duration": 15,
    "start_time": "2022-10-24T13:02:16.864Z"
   },
   {
    "duration": 3,
    "start_time": "2022-10-24T13:02:16.881Z"
   },
   {
    "duration": 15,
    "start_time": "2022-10-24T13:02:16.886Z"
   },
   {
    "duration": 7,
    "start_time": "2022-10-24T13:02:16.902Z"
   },
   {
    "duration": 28,
    "start_time": "2022-10-24T13:02:16.911Z"
   },
   {
    "duration": 14,
    "start_time": "2022-10-24T13:02:16.941Z"
   },
   {
    "duration": 5,
    "start_time": "2022-10-24T13:02:16.957Z"
   },
   {
    "duration": 8,
    "start_time": "2022-10-24T13:02:16.964Z"
   },
   {
    "duration": 7,
    "start_time": "2022-10-24T13:02:16.973Z"
   },
   {
    "duration": 6,
    "start_time": "2022-10-24T13:02:16.981Z"
   },
   {
    "duration": 16,
    "start_time": "2022-10-24T13:02:16.988Z"
   },
   {
    "duration": 218,
    "start_time": "2022-10-24T13:02:17.006Z"
   },
   {
    "duration": 263,
    "start_time": "2022-10-24T13:02:17.226Z"
   },
   {
    "duration": 4,
    "start_time": "2022-10-24T13:02:17.491Z"
   },
   {
    "duration": 5,
    "start_time": "2022-10-24T13:22:45.872Z"
   },
   {
    "duration": 259,
    "start_time": "2022-10-24T13:41:48.945Z"
   },
   {
    "duration": 357,
    "start_time": "2022-10-24T13:42:00.974Z"
   },
   {
    "duration": 4,
    "start_time": "2022-10-24T13:42:45.476Z"
   },
   {
    "duration": 384,
    "start_time": "2022-10-24T13:43:41.376Z"
   },
   {
    "duration": 207,
    "start_time": "2022-10-24T13:43:41.762Z"
   },
   {
    "duration": 2,
    "start_time": "2022-10-24T13:43:41.971Z"
   },
   {
    "duration": 60,
    "start_time": "2022-10-24T13:43:41.975Z"
   },
   {
    "duration": 16,
    "start_time": "2022-10-24T13:43:42.037Z"
   },
   {
    "duration": 13,
    "start_time": "2022-10-24T13:43:42.055Z"
   },
   {
    "duration": 27,
    "start_time": "2022-10-24T13:43:42.069Z"
   },
   {
    "duration": 3,
    "start_time": "2022-10-24T13:43:42.098Z"
   },
   {
    "duration": 40,
    "start_time": "2022-10-24T13:43:42.102Z"
   },
   {
    "duration": 4,
    "start_time": "2022-10-24T13:43:42.144Z"
   },
   {
    "duration": 14,
    "start_time": "2022-10-24T13:43:42.149Z"
   },
   {
    "duration": 17,
    "start_time": "2022-10-24T13:43:42.165Z"
   },
   {
    "duration": 75,
    "start_time": "2022-10-24T13:43:42.183Z"
   },
   {
    "duration": 8,
    "start_time": "2022-10-24T13:43:42.263Z"
   },
   {
    "duration": 14,
    "start_time": "2022-10-24T13:43:42.272Z"
   },
   {
    "duration": 8,
    "start_time": "2022-10-24T13:43:42.287Z"
   },
   {
    "duration": 8,
    "start_time": "2022-10-24T13:43:42.297Z"
   },
   {
    "duration": 170,
    "start_time": "2022-10-24T13:43:42.307Z"
   },
   {
    "duration": 8,
    "start_time": "2022-10-24T13:43:42.478Z"
   },
   {
    "duration": 60,
    "start_time": "2022-10-24T13:43:42.488Z"
   },
   {
    "duration": 9,
    "start_time": "2022-10-24T13:43:42.550Z"
   },
   {
    "duration": 4,
    "start_time": "2022-10-24T13:43:42.561Z"
   },
   {
    "duration": 17,
    "start_time": "2022-10-24T13:43:42.567Z"
   },
   {
    "duration": 7,
    "start_time": "2022-10-24T13:43:42.585Z"
   },
   {
    "duration": 369,
    "start_time": "2022-10-24T13:43:42.594Z"
   },
   {
    "duration": 59,
    "start_time": "2022-10-24T13:43:42.965Z"
   },
   {
    "duration": 238,
    "start_time": "2022-10-24T13:43:43.025Z"
   },
   {
    "duration": 17,
    "start_time": "2022-10-24T13:43:43.264Z"
   },
   {
    "duration": 241,
    "start_time": "2022-10-24T13:43:43.282Z"
   },
   {
    "duration": 305,
    "start_time": "2022-10-24T13:43:43.525Z"
   },
   {
    "duration": 276,
    "start_time": "2022-10-24T13:43:43.832Z"
   },
   {
    "duration": 121,
    "start_time": "2022-10-24T13:43:44.110Z"
   },
   {
    "duration": 5,
    "start_time": "2022-10-24T13:43:44.238Z"
   },
   {
    "duration": 14,
    "start_time": "2022-10-24T13:43:44.245Z"
   },
   {
    "duration": 11,
    "start_time": "2022-10-24T13:43:44.261Z"
   },
   {
    "duration": 25,
    "start_time": "2022-10-24T13:43:44.273Z"
   },
   {
    "duration": 24,
    "start_time": "2022-10-24T13:43:44.299Z"
   },
   {
    "duration": 15,
    "start_time": "2022-10-24T13:43:44.324Z"
   },
   {
    "duration": 32,
    "start_time": "2022-10-24T13:43:44.341Z"
   },
   {
    "duration": 16,
    "start_time": "2022-10-24T13:43:44.375Z"
   },
   {
    "duration": 18,
    "start_time": "2022-10-24T13:43:44.396Z"
   },
   {
    "duration": 31,
    "start_time": "2022-10-24T13:43:44.415Z"
   },
   {
    "duration": 14,
    "start_time": "2022-10-24T13:43:44.448Z"
   },
   {
    "duration": 23,
    "start_time": "2022-10-24T13:43:44.464Z"
   },
   {
    "duration": 17,
    "start_time": "2022-10-24T13:43:44.489Z"
   },
   {
    "duration": 20,
    "start_time": "2022-10-24T13:43:44.507Z"
   },
   {
    "duration": 22,
    "start_time": "2022-10-24T13:43:44.529Z"
   },
   {
    "duration": 210,
    "start_time": "2022-10-24T13:43:44.552Z"
   },
   {
    "duration": 282,
    "start_time": "2022-10-24T13:43:44.763Z"
   },
   {
    "duration": 5,
    "start_time": "2022-10-24T13:43:45.047Z"
   },
   {
    "duration": 316,
    "start_time": "2022-10-24T13:43:45.054Z"
   },
   {
    "duration": 2,
    "start_time": "2022-10-24T13:44:55.993Z"
   },
   {
    "duration": 182,
    "start_time": "2022-10-24T13:45:57.594Z"
   },
   {
    "duration": 250,
    "start_time": "2022-10-24T13:46:17.274Z"
   },
   {
    "duration": 221,
    "start_time": "2022-10-24T13:46:23.623Z"
   },
   {
    "duration": 256,
    "start_time": "2022-10-24T13:46:28.323Z"
   },
   {
    "duration": 240,
    "start_time": "2022-10-24T13:47:49.616Z"
   },
   {
    "duration": 241,
    "start_time": "2022-10-24T13:51:25.287Z"
   },
   {
    "duration": 149,
    "start_time": "2022-10-24T13:58:26.554Z"
   },
   {
    "duration": 5,
    "start_time": "2022-10-24T14:03:56.003Z"
   },
   {
    "duration": 54,
    "start_time": "2022-10-24T14:04:31.453Z"
   },
   {
    "duration": 120,
    "start_time": "2022-10-24T14:05:02.087Z"
   },
   {
    "duration": 85,
    "start_time": "2022-10-24T14:05:43.691Z"
   },
   {
    "duration": 67,
    "start_time": "2022-10-24T14:06:01.084Z"
   },
   {
    "duration": 45,
    "start_time": "2022-10-24T14:06:10.511Z"
   },
   {
    "duration": 797,
    "start_time": "2022-10-24T14:06:37.645Z"
   },
   {
    "duration": 251,
    "start_time": "2022-10-24T14:07:00.749Z"
   },
   {
    "duration": 61,
    "start_time": "2022-10-24T14:07:29.835Z"
   },
   {
    "duration": 4,
    "start_time": "2022-10-24T14:07:35.663Z"
   },
   {
    "duration": 378,
    "start_time": "2022-10-24T14:07:49.688Z"
   },
   {
    "duration": 57,
    "start_time": "2022-10-24T14:09:21.997Z"
   },
   {
    "duration": 279,
    "start_time": "2022-10-24T14:09:27.652Z"
   },
   {
    "duration": 338,
    "start_time": "2022-10-24T14:10:40.510Z"
   },
   {
    "duration": 359,
    "start_time": "2022-10-24T14:15:01.880Z"
   },
   {
    "duration": 647,
    "start_time": "2022-10-24T14:15:02.241Z"
   },
   {
    "duration": 2,
    "start_time": "2022-10-24T14:15:02.890Z"
   },
   {
    "duration": 65,
    "start_time": "2022-10-24T14:15:02.894Z"
   },
   {
    "duration": 16,
    "start_time": "2022-10-24T14:15:02.961Z"
   },
   {
    "duration": 28,
    "start_time": "2022-10-24T14:15:02.979Z"
   },
   {
    "duration": 47,
    "start_time": "2022-10-24T14:15:03.009Z"
   },
   {
    "duration": 4,
    "start_time": "2022-10-24T14:15:03.058Z"
   },
   {
    "duration": 39,
    "start_time": "2022-10-24T14:15:03.064Z"
   },
   {
    "duration": 24,
    "start_time": "2022-10-24T14:15:03.105Z"
   },
   {
    "duration": 36,
    "start_time": "2022-10-24T14:15:03.130Z"
   },
   {
    "duration": 35,
    "start_time": "2022-10-24T14:15:03.167Z"
   },
   {
    "duration": 57,
    "start_time": "2022-10-24T14:15:03.203Z"
   },
   {
    "duration": 9,
    "start_time": "2022-10-24T14:15:03.262Z"
   },
   {
    "duration": 33,
    "start_time": "2022-10-24T14:15:03.273Z"
   },
   {
    "duration": 35,
    "start_time": "2022-10-24T14:15:03.308Z"
   },
   {
    "duration": 40,
    "start_time": "2022-10-24T14:15:03.344Z"
   },
   {
    "duration": 173,
    "start_time": "2022-10-24T14:15:03.385Z"
   },
   {
    "duration": 8,
    "start_time": "2022-10-24T14:15:03.560Z"
   },
   {
    "duration": 69,
    "start_time": "2022-10-24T14:15:03.570Z"
   },
   {
    "duration": 9,
    "start_time": "2022-10-24T14:15:03.641Z"
   },
   {
    "duration": 25,
    "start_time": "2022-10-24T14:15:03.651Z"
   },
   {
    "duration": 38,
    "start_time": "2022-10-24T14:15:03.677Z"
   },
   {
    "duration": 26,
    "start_time": "2022-10-24T14:15:03.716Z"
   },
   {
    "duration": 367,
    "start_time": "2022-10-24T14:15:03.744Z"
   },
   {
    "duration": 71,
    "start_time": "2022-10-24T14:15:04.113Z"
   },
   {
    "duration": 235,
    "start_time": "2022-10-24T14:15:04.185Z"
   },
   {
    "duration": 21,
    "start_time": "2022-10-24T14:15:04.422Z"
   },
   {
    "duration": 354,
    "start_time": "2022-10-24T14:15:35.282Z"
   },
   {
    "duration": 209,
    "start_time": "2022-10-24T14:15:35.639Z"
   },
   {
    "duration": 2,
    "start_time": "2022-10-24T14:15:35.849Z"
   },
   {
    "duration": 59,
    "start_time": "2022-10-24T14:15:35.853Z"
   },
   {
    "duration": 17,
    "start_time": "2022-10-24T14:15:35.914Z"
   },
   {
    "duration": 15,
    "start_time": "2022-10-24T14:15:35.932Z"
   },
   {
    "duration": 29,
    "start_time": "2022-10-24T14:15:35.948Z"
   },
   {
    "duration": 4,
    "start_time": "2022-10-24T14:15:35.979Z"
   },
   {
    "duration": 29,
    "start_time": "2022-10-24T14:15:35.985Z"
   },
   {
    "duration": 6,
    "start_time": "2022-10-24T14:15:36.016Z"
   },
   {
    "duration": 24,
    "start_time": "2022-10-24T14:15:36.023Z"
   },
   {
    "duration": 17,
    "start_time": "2022-10-24T14:15:36.049Z"
   },
   {
    "duration": 51,
    "start_time": "2022-10-24T14:15:36.067Z"
   },
   {
    "duration": 11,
    "start_time": "2022-10-24T14:15:36.141Z"
   },
   {
    "duration": 13,
    "start_time": "2022-10-24T14:15:36.153Z"
   },
   {
    "duration": 6,
    "start_time": "2022-10-24T14:15:36.167Z"
   },
   {
    "duration": 9,
    "start_time": "2022-10-24T14:15:36.174Z"
   },
   {
    "duration": 185,
    "start_time": "2022-10-24T14:15:36.184Z"
   },
   {
    "duration": 9,
    "start_time": "2022-10-24T14:15:36.370Z"
   },
   {
    "duration": 65,
    "start_time": "2022-10-24T14:15:36.381Z"
   },
   {
    "duration": 10,
    "start_time": "2022-10-24T14:15:36.448Z"
   },
   {
    "duration": 5,
    "start_time": "2022-10-24T14:15:36.460Z"
   },
   {
    "duration": 17,
    "start_time": "2022-10-24T14:15:36.467Z"
   },
   {
    "duration": 8,
    "start_time": "2022-10-24T14:15:36.485Z"
   },
   {
    "duration": 358,
    "start_time": "2022-10-24T14:15:36.494Z"
   },
   {
    "duration": 59,
    "start_time": "2022-10-24T14:15:36.853Z"
   },
   {
    "duration": 238,
    "start_time": "2022-10-24T14:15:36.913Z"
   },
   {
    "duration": 22,
    "start_time": "2022-10-24T14:15:37.155Z"
   },
   {
    "duration": 292,
    "start_time": "2022-10-24T14:15:37.179Z"
   },
   {
    "duration": 290,
    "start_time": "2022-10-24T14:15:37.473Z"
   },
   {
    "duration": 278,
    "start_time": "2022-10-24T14:15:37.765Z"
   },
   {
    "duration": 126,
    "start_time": "2022-10-24T14:15:38.046Z"
   },
   {
    "duration": 5,
    "start_time": "2022-10-24T14:15:38.174Z"
   },
   {
    "duration": 10,
    "start_time": "2022-10-24T14:15:38.181Z"
   },
   {
    "duration": 11,
    "start_time": "2022-10-24T14:15:38.192Z"
   },
   {
    "duration": 7,
    "start_time": "2022-10-24T14:15:38.205Z"
   },
   {
    "duration": 32,
    "start_time": "2022-10-24T14:15:38.214Z"
   },
   {
    "duration": 4,
    "start_time": "2022-10-24T14:15:38.248Z"
   },
   {
    "duration": 14,
    "start_time": "2022-10-24T14:15:38.254Z"
   },
   {
    "duration": 7,
    "start_time": "2022-10-24T14:15:38.270Z"
   },
   {
    "duration": 5,
    "start_time": "2022-10-24T14:15:38.281Z"
   },
   {
    "duration": 11,
    "start_time": "2022-10-24T14:15:38.288Z"
   },
   {
    "duration": 4,
    "start_time": "2022-10-24T14:15:38.301Z"
   },
   {
    "duration": 5,
    "start_time": "2022-10-24T14:15:38.307Z"
   },
   {
    "duration": 8,
    "start_time": "2022-10-24T14:15:38.340Z"
   },
   {
    "duration": 6,
    "start_time": "2022-10-24T14:15:38.350Z"
   },
   {
    "duration": 6,
    "start_time": "2022-10-24T14:15:38.357Z"
   },
   {
    "duration": 212,
    "start_time": "2022-10-24T14:15:38.364Z"
   },
   {
    "duration": 207,
    "start_time": "2022-10-24T14:15:38.578Z"
   },
   {
    "duration": 4,
    "start_time": "2022-10-24T14:15:38.786Z"
   },
   {
    "duration": 221,
    "start_time": "2022-10-24T14:15:38.791Z"
   },
   {
    "duration": 3,
    "start_time": "2022-10-24T14:15:39.014Z"
   },
   {
    "duration": 562,
    "start_time": "2022-10-24T14:15:39.019Z"
   },
   {
    "duration": 164,
    "start_time": "2022-10-24T14:15:39.583Z"
   },
   {
    "duration": 143,
    "start_time": "2022-10-24T14:20:51.155Z"
   },
   {
    "duration": 26,
    "start_time": "2022-10-24T14:20:58.307Z"
   },
   {
    "duration": 23,
    "start_time": "2022-10-24T14:21:10.030Z"
   },
   {
    "duration": 18,
    "start_time": "2022-10-24T14:21:14.221Z"
   },
   {
    "duration": 17,
    "start_time": "2022-10-24T14:21:41.571Z"
   },
   {
    "duration": 9,
    "start_time": "2022-10-24T14:22:50.518Z"
   },
   {
    "duration": 9,
    "start_time": "2022-10-24T14:23:25.398Z"
   },
   {
    "duration": 449,
    "start_time": "2022-10-24T16:40:27.746Z"
   },
   {
    "duration": 437,
    "start_time": "2022-10-24T16:40:28.197Z"
   },
   {
    "duration": 3,
    "start_time": "2022-10-24T16:40:28.636Z"
   },
   {
    "duration": 191,
    "start_time": "2022-10-24T16:40:28.641Z"
   },
   {
    "duration": 20,
    "start_time": "2022-10-24T16:40:28.834Z"
   },
   {
    "duration": 16,
    "start_time": "2022-10-24T16:40:28.855Z"
   },
   {
    "duration": 30,
    "start_time": "2022-10-24T16:40:28.873Z"
   },
   {
    "duration": 27,
    "start_time": "2022-10-24T16:40:28.904Z"
   },
   {
    "duration": 11,
    "start_time": "2022-10-24T16:40:28.933Z"
   },
   {
    "duration": 4,
    "start_time": "2022-10-24T16:40:28.947Z"
   },
   {
    "duration": 12,
    "start_time": "2022-10-24T16:40:28.953Z"
   },
   {
    "duration": 21,
    "start_time": "2022-10-24T16:40:28.966Z"
   },
   {
    "duration": 91,
    "start_time": "2022-10-24T16:40:28.988Z"
   },
   {
    "duration": 9,
    "start_time": "2022-10-24T16:40:29.081Z"
   },
   {
    "duration": 12,
    "start_time": "2022-10-24T16:40:29.092Z"
   },
   {
    "duration": 23,
    "start_time": "2022-10-24T16:40:29.106Z"
   },
   {
    "duration": 11,
    "start_time": "2022-10-24T16:40:29.132Z"
   },
   {
    "duration": 184,
    "start_time": "2022-10-24T16:40:29.145Z"
   },
   {
    "duration": 11,
    "start_time": "2022-10-24T16:40:29.331Z"
   },
   {
    "duration": 48,
    "start_time": "2022-10-24T16:40:29.344Z"
   },
   {
    "duration": 10,
    "start_time": "2022-10-24T16:40:29.393Z"
   },
   {
    "duration": 5,
    "start_time": "2022-10-24T16:40:29.430Z"
   },
   {
    "duration": 30,
    "start_time": "2022-10-24T16:40:29.436Z"
   },
   {
    "duration": 21,
    "start_time": "2022-10-24T16:40:29.469Z"
   },
   {
    "duration": 377,
    "start_time": "2022-10-24T16:40:29.492Z"
   },
   {
    "duration": 79,
    "start_time": "2022-10-24T16:40:29.871Z"
   },
   {
    "duration": 248,
    "start_time": "2022-10-24T16:40:29.952Z"
   },
   {
    "duration": 25,
    "start_time": "2022-10-24T16:40:30.204Z"
   },
   {
    "duration": 245,
    "start_time": "2022-10-24T16:40:30.231Z"
   },
   {
    "duration": 309,
    "start_time": "2022-10-24T16:40:30.477Z"
   },
   {
    "duration": 290,
    "start_time": "2022-10-24T16:40:30.787Z"
   },
   {
    "duration": 122,
    "start_time": "2022-10-24T16:40:31.079Z"
   },
   {
    "duration": 5,
    "start_time": "2022-10-24T16:40:31.203Z"
   },
   {
    "duration": 20,
    "start_time": "2022-10-24T16:40:31.210Z"
   },
   {
    "duration": 12,
    "start_time": "2022-10-24T16:40:31.232Z"
   },
   {
    "duration": 8,
    "start_time": "2022-10-24T16:40:31.246Z"
   },
   {
    "duration": 10,
    "start_time": "2022-10-24T16:40:31.255Z"
   },
   {
    "duration": 4,
    "start_time": "2022-10-24T16:40:31.267Z"
   },
   {
    "duration": 14,
    "start_time": "2022-10-24T16:40:31.273Z"
   },
   {
    "duration": 41,
    "start_time": "2022-10-24T16:40:31.289Z"
   },
   {
    "duration": 5,
    "start_time": "2022-10-24T16:40:31.332Z"
   },
   {
    "duration": 13,
    "start_time": "2022-10-24T16:40:31.339Z"
   },
   {
    "duration": 5,
    "start_time": "2022-10-24T16:40:31.354Z"
   },
   {
    "duration": 6,
    "start_time": "2022-10-24T16:40:31.361Z"
   },
   {
    "duration": 8,
    "start_time": "2022-10-24T16:40:31.369Z"
   },
   {
    "duration": 5,
    "start_time": "2022-10-24T16:40:31.378Z"
   },
   {
    "duration": 3,
    "start_time": "2022-10-24T16:40:31.385Z"
   },
   {
    "duration": 232,
    "start_time": "2022-10-24T16:40:31.389Z"
   },
   {
    "duration": 211,
    "start_time": "2022-10-24T16:40:31.629Z"
   },
   {
    "duration": 4,
    "start_time": "2022-10-24T16:40:31.842Z"
   },
   {
    "duration": 251,
    "start_time": "2022-10-24T16:40:31.848Z"
   },
   {
    "duration": 3,
    "start_time": "2022-10-24T16:40:32.101Z"
   },
   {
    "duration": 584,
    "start_time": "2022-10-24T16:40:32.106Z"
   },
   {
    "duration": 8,
    "start_time": "2022-10-24T16:40:32.692Z"
   },
   {
    "duration": 43,
    "start_time": "2022-10-24T16:40:36.181Z"
   },
   {
    "duration": 140,
    "start_time": "2022-10-24T16:41:17.784Z"
   },
   {
    "duration": 376,
    "start_time": "2022-10-24T16:49:59.157Z"
   },
   {
    "duration": 250,
    "start_time": "2022-10-24T16:49:59.535Z"
   },
   {
    "duration": 2,
    "start_time": "2022-10-24T16:49:59.787Z"
   },
   {
    "duration": 56,
    "start_time": "2022-10-24T16:49:59.791Z"
   },
   {
    "duration": 19,
    "start_time": "2022-10-24T16:49:59.850Z"
   },
   {
    "duration": 19,
    "start_time": "2022-10-24T16:49:59.871Z"
   },
   {
    "duration": 46,
    "start_time": "2022-10-24T16:49:59.892Z"
   },
   {
    "duration": 4,
    "start_time": "2022-10-24T16:49:59.939Z"
   },
   {
    "duration": 10,
    "start_time": "2022-10-24T16:49:59.945Z"
   },
   {
    "duration": 4,
    "start_time": "2022-10-24T16:49:59.957Z"
   },
   {
    "duration": 13,
    "start_time": "2022-10-24T16:49:59.963Z"
   },
   {
    "duration": 61,
    "start_time": "2022-10-24T16:49:59.978Z"
   },
   {
    "duration": 61,
    "start_time": "2022-10-24T16:50:00.041Z"
   },
   {
    "duration": 27,
    "start_time": "2022-10-24T16:50:00.105Z"
   },
   {
    "duration": 29,
    "start_time": "2022-10-24T16:50:00.134Z"
   },
   {
    "duration": 18,
    "start_time": "2022-10-24T16:50:00.165Z"
   },
   {
    "duration": 29,
    "start_time": "2022-10-24T16:50:00.185Z"
   },
   {
    "duration": 216,
    "start_time": "2022-10-24T16:50:00.216Z"
   },
   {
    "duration": 14,
    "start_time": "2022-10-24T16:50:00.435Z"
   },
   {
    "duration": 98,
    "start_time": "2022-10-24T16:50:00.451Z"
   },
   {
    "duration": 11,
    "start_time": "2022-10-24T16:50:00.552Z"
   },
   {
    "duration": 37,
    "start_time": "2022-10-24T16:50:00.565Z"
   },
   {
    "duration": 39,
    "start_time": "2022-10-24T16:50:00.604Z"
   },
   {
    "duration": 18,
    "start_time": "2022-10-24T16:50:00.644Z"
   },
   {
    "duration": 455,
    "start_time": "2022-10-24T16:50:00.663Z"
   },
   {
    "duration": 74,
    "start_time": "2022-10-24T16:50:01.119Z"
   },
   {
    "duration": 239,
    "start_time": "2022-10-24T16:50:01.196Z"
   },
   {
    "duration": 17,
    "start_time": "2022-10-24T16:50:01.437Z"
   },
   {
    "duration": 297,
    "start_time": "2022-10-24T16:50:01.456Z"
   },
   {
    "duration": 356,
    "start_time": "2022-10-24T16:50:01.755Z"
   },
   {
    "duration": 355,
    "start_time": "2022-10-24T16:50:02.114Z"
   },
   {
    "duration": 194,
    "start_time": "2022-10-24T16:50:02.471Z"
   },
   {
    "duration": 3,
    "start_time": "2022-10-24T16:50:02.668Z"
   },
   {
    "duration": 21,
    "start_time": "2022-10-24T16:50:02.673Z"
   },
   {
    "duration": 52,
    "start_time": "2022-10-24T16:50:02.697Z"
   },
   {
    "duration": 17,
    "start_time": "2022-10-24T16:50:02.751Z"
   },
   {
    "duration": 24,
    "start_time": "2022-10-24T16:50:02.770Z"
   },
   {
    "duration": 20,
    "start_time": "2022-10-24T16:50:02.796Z"
   },
   {
    "duration": 29,
    "start_time": "2022-10-24T16:50:02.818Z"
   },
   {
    "duration": 12,
    "start_time": "2022-10-24T16:50:02.850Z"
   },
   {
    "duration": 15,
    "start_time": "2022-10-24T16:50:02.868Z"
   },
   {
    "duration": 24,
    "start_time": "2022-10-24T16:50:02.885Z"
   },
   {
    "duration": 24,
    "start_time": "2022-10-24T16:50:02.911Z"
   },
   {
    "duration": 21,
    "start_time": "2022-10-24T16:50:02.937Z"
   },
   {
    "duration": 20,
    "start_time": "2022-10-24T16:50:02.960Z"
   },
   {
    "duration": 34,
    "start_time": "2022-10-24T16:50:02.983Z"
   },
   {
    "duration": 22,
    "start_time": "2022-10-24T16:50:03.020Z"
   },
   {
    "duration": 235,
    "start_time": "2022-10-24T16:50:03.044Z"
   },
   {
    "duration": 272,
    "start_time": "2022-10-24T16:50:03.280Z"
   },
   {
    "duration": 6,
    "start_time": "2022-10-24T16:50:03.554Z"
   },
   {
    "duration": 259,
    "start_time": "2022-10-24T16:50:03.562Z"
   },
   {
    "duration": 2,
    "start_time": "2022-10-24T16:50:03.829Z"
   },
   {
    "duration": 511,
    "start_time": "2022-10-24T16:50:03.833Z"
   },
   {
    "duration": 9,
    "start_time": "2022-10-24T16:50:04.346Z"
   },
   {
    "duration": 3,
    "start_time": "2022-10-24T16:51:19.096Z"
   },
   {
    "duration": 5,
    "start_time": "2022-10-24T16:55:57.013Z"
   },
   {
    "duration": 18,
    "start_time": "2022-10-24T16:56:10.147Z"
   },
   {
    "duration": 5,
    "start_time": "2022-10-24T16:56:25.572Z"
   },
   {
    "duration": 5,
    "start_time": "2022-10-24T16:58:30.042Z"
   },
   {
    "duration": 261,
    "start_time": "2022-10-24T17:08:13.237Z"
   },
   {
    "duration": 162,
    "start_time": "2022-10-24T17:11:13.913Z"
   },
   {
    "duration": 24,
    "start_time": "2022-10-24T17:13:47.641Z"
   },
   {
    "duration": 25,
    "start_time": "2022-10-24T17:13:55.140Z"
   },
   {
    "duration": 24,
    "start_time": "2022-10-24T17:14:23.036Z"
   },
   {
    "duration": 14,
    "start_time": "2022-10-24T17:14:34.080Z"
   },
   {
    "duration": 241,
    "start_time": "2022-10-24T17:14:39.273Z"
   },
   {
    "duration": 272,
    "start_time": "2022-10-24T17:15:18.397Z"
   },
   {
    "duration": 260,
    "start_time": "2022-10-24T17:15:40.554Z"
   },
   {
    "duration": 309,
    "start_time": "2022-10-24T17:15:53.558Z"
   },
   {
    "duration": 347,
    "start_time": "2022-10-24T17:16:29.723Z"
   },
   {
    "duration": 487,
    "start_time": "2022-10-24T17:18:59.352Z"
   },
   {
    "duration": 330,
    "start_time": "2022-10-24T17:19:25.970Z"
   },
   {
    "duration": 331,
    "start_time": "2022-10-24T17:19:56.281Z"
   },
   {
    "duration": 308,
    "start_time": "2022-10-24T17:20:11.236Z"
   },
   {
    "duration": 5,
    "start_time": "2022-10-24T17:22:22.239Z"
   },
   {
    "duration": 5,
    "start_time": "2022-10-24T17:22:27.949Z"
   },
   {
    "duration": 17,
    "start_time": "2022-10-24T17:22:41.063Z"
   },
   {
    "duration": 4,
    "start_time": "2022-10-24T17:23:04.775Z"
   },
   {
    "duration": 434,
    "start_time": "2022-10-24T17:23:42.394Z"
   },
   {
    "duration": 237,
    "start_time": "2022-10-24T17:23:42.830Z"
   },
   {
    "duration": 2,
    "start_time": "2022-10-24T17:23:43.069Z"
   },
   {
    "duration": 54,
    "start_time": "2022-10-24T17:23:43.073Z"
   },
   {
    "duration": 17,
    "start_time": "2022-10-24T17:23:43.130Z"
   },
   {
    "duration": 13,
    "start_time": "2022-10-24T17:23:43.149Z"
   },
   {
    "duration": 29,
    "start_time": "2022-10-24T17:23:43.164Z"
   },
   {
    "duration": 3,
    "start_time": "2022-10-24T17:23:43.194Z"
   },
   {
    "duration": 36,
    "start_time": "2022-10-24T17:23:43.199Z"
   },
   {
    "duration": 5,
    "start_time": "2022-10-24T17:23:43.237Z"
   },
   {
    "duration": 12,
    "start_time": "2022-10-24T17:23:43.244Z"
   },
   {
    "duration": 19,
    "start_time": "2022-10-24T17:23:43.257Z"
   },
   {
    "duration": 84,
    "start_time": "2022-10-24T17:23:43.278Z"
   },
   {
    "duration": 9,
    "start_time": "2022-10-24T17:23:43.366Z"
   },
   {
    "duration": 13,
    "start_time": "2022-10-24T17:23:43.376Z"
   },
   {
    "duration": 11,
    "start_time": "2022-10-24T17:23:43.390Z"
   },
   {
    "duration": 31,
    "start_time": "2022-10-24T17:23:43.402Z"
   },
   {
    "duration": 165,
    "start_time": "2022-10-24T17:23:43.435Z"
   },
   {
    "duration": 11,
    "start_time": "2022-10-24T17:23:43.602Z"
   },
   {
    "duration": 48,
    "start_time": "2022-10-24T17:23:43.629Z"
   },
   {
    "duration": 11,
    "start_time": "2022-10-24T17:23:43.679Z"
   },
   {
    "duration": 5,
    "start_time": "2022-10-24T17:23:43.692Z"
   },
   {
    "duration": 42,
    "start_time": "2022-10-24T17:23:43.699Z"
   },
   {
    "duration": 6,
    "start_time": "2022-10-24T17:23:43.743Z"
   },
   {
    "duration": 396,
    "start_time": "2022-10-24T17:23:43.750Z"
   },
   {
    "duration": 66,
    "start_time": "2022-10-24T17:23:44.148Z"
   },
   {
    "duration": 244,
    "start_time": "2022-10-24T17:23:44.216Z"
   },
   {
    "duration": 17,
    "start_time": "2022-10-24T17:23:44.461Z"
   },
   {
    "duration": 301,
    "start_time": "2022-10-24T17:23:44.480Z"
   },
   {
    "duration": 313,
    "start_time": "2022-10-24T17:23:44.783Z"
   },
   {
    "duration": 270,
    "start_time": "2022-10-24T17:23:45.097Z"
   },
   {
    "duration": 133,
    "start_time": "2022-10-24T17:23:45.369Z"
   },
   {
    "duration": 6,
    "start_time": "2022-10-24T17:23:45.504Z"
   },
   {
    "duration": 19,
    "start_time": "2022-10-24T17:23:45.511Z"
   },
   {
    "duration": 18,
    "start_time": "2022-10-24T17:23:45.532Z"
   },
   {
    "duration": 6,
    "start_time": "2022-10-24T17:23:45.552Z"
   },
   {
    "duration": 5,
    "start_time": "2022-10-24T17:23:45.560Z"
   },
   {
    "duration": 6,
    "start_time": "2022-10-24T17:23:45.566Z"
   },
   {
    "duration": 5,
    "start_time": "2022-10-24T17:23:45.574Z"
   },
   {
    "duration": 3,
    "start_time": "2022-10-24T17:23:45.581Z"
   },
   {
    "duration": 234,
    "start_time": "2022-10-24T17:23:45.589Z"
   },
   {
    "duration": 224,
    "start_time": "2022-10-24T17:23:45.830Z"
   },
   {
    "duration": 5,
    "start_time": "2022-10-24T17:23:46.056Z"
   },
   {
    "duration": 286,
    "start_time": "2022-10-24T17:23:46.063Z"
   },
   {
    "duration": 2,
    "start_time": "2022-10-24T17:23:46.351Z"
   },
   {
    "duration": 506,
    "start_time": "2022-10-24T17:23:46.355Z"
   },
   {
    "duration": 10,
    "start_time": "2022-10-24T17:23:46.863Z"
   },
   {
    "duration": 308,
    "start_time": "2022-10-24T17:24:47.854Z"
   },
   {
    "duration": 448,
    "start_time": "2022-10-24T17:26:29.600Z"
   },
   {
    "duration": 265,
    "start_time": "2022-10-24T17:26:30.050Z"
   },
   {
    "duration": 3,
    "start_time": "2022-10-24T17:26:30.317Z"
   },
   {
    "duration": 93,
    "start_time": "2022-10-24T17:26:30.328Z"
   },
   {
    "duration": 22,
    "start_time": "2022-10-24T17:26:30.422Z"
   },
   {
    "duration": 47,
    "start_time": "2022-10-24T17:26:30.445Z"
   },
   {
    "duration": 44,
    "start_time": "2022-10-24T17:26:30.494Z"
   },
   {
    "duration": 24,
    "start_time": "2022-10-24T17:26:30.541Z"
   },
   {
    "duration": 48,
    "start_time": "2022-10-24T17:26:30.568Z"
   },
   {
    "duration": 50,
    "start_time": "2022-10-24T17:26:30.619Z"
   },
   {
    "duration": 37,
    "start_time": "2022-10-24T17:26:30.671Z"
   },
   {
    "duration": 36,
    "start_time": "2022-10-24T17:26:30.710Z"
   },
   {
    "duration": 68,
    "start_time": "2022-10-24T17:26:30.747Z"
   },
   {
    "duration": 20,
    "start_time": "2022-10-24T17:26:30.817Z"
   },
   {
    "duration": 30,
    "start_time": "2022-10-24T17:26:30.840Z"
   },
   {
    "duration": 9,
    "start_time": "2022-10-24T17:26:30.873Z"
   },
   {
    "duration": 23,
    "start_time": "2022-10-24T17:26:30.884Z"
   },
   {
    "duration": 186,
    "start_time": "2022-10-24T17:26:30.909Z"
   },
   {
    "duration": 10,
    "start_time": "2022-10-24T17:26:31.098Z"
   },
   {
    "duration": 63,
    "start_time": "2022-10-24T17:26:31.110Z"
   },
   {
    "duration": 10,
    "start_time": "2022-10-24T17:26:31.175Z"
   },
   {
    "duration": 11,
    "start_time": "2022-10-24T17:26:31.187Z"
   },
   {
    "duration": 36,
    "start_time": "2022-10-24T17:26:31.200Z"
   },
   {
    "duration": 10,
    "start_time": "2022-10-24T17:26:31.237Z"
   },
   {
    "duration": 451,
    "start_time": "2022-10-24T17:26:31.249Z"
   },
   {
    "duration": 101,
    "start_time": "2022-10-24T17:26:31.702Z"
   },
   {
    "duration": 254,
    "start_time": "2022-10-24T17:26:31.805Z"
   },
   {
    "duration": 16,
    "start_time": "2022-10-24T17:26:32.063Z"
   },
   {
    "duration": 320,
    "start_time": "2022-10-24T17:26:32.081Z"
   },
   {
    "duration": 337,
    "start_time": "2022-10-24T17:26:32.404Z"
   },
   {
    "duration": 324,
    "start_time": "2022-10-24T17:26:32.743Z"
   },
   {
    "duration": 153,
    "start_time": "2022-10-24T17:26:33.069Z"
   },
   {
    "duration": 8,
    "start_time": "2022-10-24T17:26:33.224Z"
   },
   {
    "duration": 8,
    "start_time": "2022-10-24T17:26:33.233Z"
   },
   {
    "duration": 18,
    "start_time": "2022-10-24T17:26:33.243Z"
   },
   {
    "duration": 3,
    "start_time": "2022-10-24T17:26:33.264Z"
   },
   {
    "duration": 4,
    "start_time": "2022-10-24T17:26:33.269Z"
   },
   {
    "duration": 5,
    "start_time": "2022-10-24T17:26:33.275Z"
   },
   {
    "duration": 6,
    "start_time": "2022-10-24T17:26:33.282Z"
   },
   {
    "duration": 40,
    "start_time": "2022-10-24T17:26:33.290Z"
   },
   {
    "duration": 224,
    "start_time": "2022-10-24T17:26:33.333Z"
   },
   {
    "duration": 214,
    "start_time": "2022-10-24T17:26:33.559Z"
   },
   {
    "duration": 5,
    "start_time": "2022-10-24T17:26:33.775Z"
   },
   {
    "duration": 264,
    "start_time": "2022-10-24T17:26:33.782Z"
   },
   {
    "duration": 3,
    "start_time": "2022-10-24T17:26:34.048Z"
   },
   {
    "duration": 608,
    "start_time": "2022-10-24T17:26:34.053Z"
   },
   {
    "duration": 13,
    "start_time": "2022-10-24T17:26:34.663Z"
   },
   {
    "duration": 137,
    "start_time": "2022-10-24T17:33:24.602Z"
   },
   {
    "duration": 436,
    "start_time": "2022-10-24T17:33:48.917Z"
   },
   {
    "duration": 247,
    "start_time": "2022-10-24T17:33:49.355Z"
   },
   {
    "duration": 3,
    "start_time": "2022-10-24T17:33:49.604Z"
   },
   {
    "duration": 56,
    "start_time": "2022-10-24T17:33:49.608Z"
   },
   {
    "duration": 19,
    "start_time": "2022-10-24T17:33:49.666Z"
   },
   {
    "duration": 19,
    "start_time": "2022-10-24T17:33:49.687Z"
   },
   {
    "duration": 51,
    "start_time": "2022-10-24T17:33:49.708Z"
   },
   {
    "duration": 3,
    "start_time": "2022-10-24T17:33:49.761Z"
   },
   {
    "duration": 26,
    "start_time": "2022-10-24T17:33:49.765Z"
   },
   {
    "duration": 15,
    "start_time": "2022-10-24T17:33:49.793Z"
   },
   {
    "duration": 28,
    "start_time": "2022-10-24T17:33:49.810Z"
   },
   {
    "duration": 21,
    "start_time": "2022-10-24T17:33:49.841Z"
   },
   {
    "duration": 79,
    "start_time": "2022-10-24T17:33:49.864Z"
   },
   {
    "duration": 10,
    "start_time": "2022-10-24T17:33:49.947Z"
   },
   {
    "duration": 43,
    "start_time": "2022-10-24T17:33:49.959Z"
   },
   {
    "duration": 16,
    "start_time": "2022-10-24T17:33:50.004Z"
   },
   {
    "duration": 21,
    "start_time": "2022-10-24T17:33:50.022Z"
   },
   {
    "duration": 184,
    "start_time": "2022-10-24T17:33:50.045Z"
   },
   {
    "duration": 10,
    "start_time": "2022-10-24T17:33:50.231Z"
   },
   {
    "duration": 52,
    "start_time": "2022-10-24T17:33:50.243Z"
   },
   {
    "duration": 31,
    "start_time": "2022-10-24T17:33:50.298Z"
   },
   {
    "duration": 5,
    "start_time": "2022-10-24T17:33:50.331Z"
   },
   {
    "duration": 26,
    "start_time": "2022-10-24T17:33:50.338Z"
   },
   {
    "duration": 25,
    "start_time": "2022-10-24T17:33:50.366Z"
   },
   {
    "duration": 405,
    "start_time": "2022-10-24T17:33:50.393Z"
   },
   {
    "duration": 93,
    "start_time": "2022-10-24T17:33:50.800Z"
   },
   {
    "duration": 242,
    "start_time": "2022-10-24T17:33:50.894Z"
   },
   {
    "duration": 21,
    "start_time": "2022-10-24T17:33:51.138Z"
   },
   {
    "duration": 270,
    "start_time": "2022-10-24T17:33:51.160Z"
   },
   {
    "duration": 356,
    "start_time": "2022-10-24T17:33:51.432Z"
   },
   {
    "duration": 312,
    "start_time": "2022-10-24T17:33:51.790Z"
   },
   {
    "duration": 154,
    "start_time": "2022-10-24T17:33:52.104Z"
   },
   {
    "duration": 5,
    "start_time": "2022-10-24T17:33:52.260Z"
   },
   {
    "duration": 11,
    "start_time": "2022-10-24T17:33:52.266Z"
   },
   {
    "duration": 22,
    "start_time": "2022-10-24T17:33:52.280Z"
   },
   {
    "duration": 3,
    "start_time": "2022-10-24T17:33:52.330Z"
   },
   {
    "duration": 4,
    "start_time": "2022-10-24T17:33:52.335Z"
   },
   {
    "duration": 5,
    "start_time": "2022-10-24T17:33:52.341Z"
   },
   {
    "duration": 3,
    "start_time": "2022-10-24T17:33:52.348Z"
   },
   {
    "duration": 4,
    "start_time": "2022-10-24T17:33:52.353Z"
   },
   {
    "duration": 274,
    "start_time": "2022-10-24T17:33:52.361Z"
   },
   {
    "duration": 215,
    "start_time": "2022-10-24T17:33:52.637Z"
   },
   {
    "duration": 5,
    "start_time": "2022-10-24T17:33:52.854Z"
   },
   {
    "duration": 365,
    "start_time": "2022-10-24T17:33:52.861Z"
   },
   {
    "duration": 3,
    "start_time": "2022-10-24T17:33:53.230Z"
   },
   {
    "duration": 520,
    "start_time": "2022-10-24T17:33:53.235Z"
   },
   {
    "duration": 13,
    "start_time": "2022-10-24T17:33:53.758Z"
   },
   {
    "duration": 332,
    "start_time": "2022-10-24T17:34:27.997Z"
   },
   {
    "duration": 339,
    "start_time": "2022-10-24T17:40:07.629Z"
   },
   {
    "duration": 160,
    "start_time": "2022-10-24T17:40:35.416Z"
   },
   {
    "duration": 15,
    "start_time": "2022-10-24T17:41:11.825Z"
   },
   {
    "duration": 447,
    "start_time": "2022-10-24T17:41:16.118Z"
   },
   {
    "duration": 249,
    "start_time": "2022-10-24T17:41:16.568Z"
   },
   {
    "duration": 3,
    "start_time": "2022-10-24T17:41:16.818Z"
   },
   {
    "duration": 60,
    "start_time": "2022-10-24T17:41:16.823Z"
   },
   {
    "duration": 19,
    "start_time": "2022-10-24T17:41:16.885Z"
   },
   {
    "duration": 23,
    "start_time": "2022-10-24T17:41:16.906Z"
   },
   {
    "duration": 30,
    "start_time": "2022-10-24T17:41:16.931Z"
   },
   {
    "duration": 3,
    "start_time": "2022-10-24T17:41:16.963Z"
   },
   {
    "duration": 12,
    "start_time": "2022-10-24T17:41:16.968Z"
   },
   {
    "duration": 6,
    "start_time": "2022-10-24T17:41:16.983Z"
   },
   {
    "duration": 46,
    "start_time": "2022-10-24T17:41:16.990Z"
   },
   {
    "duration": 31,
    "start_time": "2022-10-24T17:41:17.039Z"
   },
   {
    "duration": 78,
    "start_time": "2022-10-24T17:41:17.072Z"
   },
   {
    "duration": 10,
    "start_time": "2022-10-24T17:41:17.152Z"
   },
   {
    "duration": 14,
    "start_time": "2022-10-24T17:41:17.164Z"
   },
   {
    "duration": 5,
    "start_time": "2022-10-24T17:41:17.180Z"
   },
   {
    "duration": 45,
    "start_time": "2022-10-24T17:41:17.186Z"
   },
   {
    "duration": 178,
    "start_time": "2022-10-24T17:41:17.233Z"
   },
   {
    "duration": 20,
    "start_time": "2022-10-24T17:41:17.413Z"
   },
   {
    "duration": 49,
    "start_time": "2022-10-24T17:41:17.434Z"
   },
   {
    "duration": 12,
    "start_time": "2022-10-24T17:41:17.484Z"
   },
   {
    "duration": 5,
    "start_time": "2022-10-24T17:41:17.497Z"
   },
   {
    "duration": 18,
    "start_time": "2022-10-24T17:41:17.529Z"
   },
   {
    "duration": 9,
    "start_time": "2022-10-24T17:41:17.550Z"
   },
   {
    "duration": 397,
    "start_time": "2022-10-24T17:41:17.561Z"
   },
   {
    "duration": 75,
    "start_time": "2022-10-24T17:41:17.960Z"
   },
   {
    "duration": 405,
    "start_time": "2022-10-24T17:41:18.041Z"
   },
   {
    "duration": 26,
    "start_time": "2022-10-24T17:41:18.452Z"
   },
   {
    "duration": 324,
    "start_time": "2022-10-24T17:41:18.481Z"
   },
   {
    "duration": 312,
    "start_time": "2022-10-24T17:41:18.807Z"
   },
   {
    "duration": 308,
    "start_time": "2022-10-24T17:41:19.121Z"
   },
   {
    "duration": 287,
    "start_time": "2022-10-24T17:41:19.431Z"
   },
   {
    "duration": 1320,
    "start_time": "2022-10-24T17:41:19.719Z"
   },
   {
    "duration": 0,
    "start_time": "2022-10-24T17:41:21.041Z"
   },
   {
    "duration": 0,
    "start_time": "2022-10-24T17:41:21.043Z"
   },
   {
    "duration": 0,
    "start_time": "2022-10-24T17:41:21.044Z"
   },
   {
    "duration": 0,
    "start_time": "2022-10-24T17:41:21.046Z"
   },
   {
    "duration": 1,
    "start_time": "2022-10-24T17:41:21.047Z"
   },
   {
    "duration": 0,
    "start_time": "2022-10-24T17:41:21.048Z"
   },
   {
    "duration": 0,
    "start_time": "2022-10-24T17:41:21.049Z"
   },
   {
    "duration": 0,
    "start_time": "2022-10-24T17:41:21.050Z"
   },
   {
    "duration": 0,
    "start_time": "2022-10-24T17:41:21.052Z"
   },
   {
    "duration": 0,
    "start_time": "2022-10-24T17:41:21.053Z"
   },
   {
    "duration": 0,
    "start_time": "2022-10-24T17:41:21.055Z"
   },
   {
    "duration": 0,
    "start_time": "2022-10-24T17:41:21.056Z"
   },
   {
    "duration": 0,
    "start_time": "2022-10-24T17:41:21.057Z"
   },
   {
    "duration": 0,
    "start_time": "2022-10-24T17:41:21.058Z"
   },
   {
    "duration": 441,
    "start_time": "2022-10-24T17:42:50.202Z"
   },
   {
    "duration": 274,
    "start_time": "2022-10-24T17:42:50.645Z"
   },
   {
    "duration": 3,
    "start_time": "2022-10-24T17:42:50.921Z"
   },
   {
    "duration": 78,
    "start_time": "2022-10-24T17:42:50.930Z"
   },
   {
    "duration": 26,
    "start_time": "2022-10-24T17:42:51.011Z"
   },
   {
    "duration": 21,
    "start_time": "2022-10-24T17:42:51.039Z"
   },
   {
    "duration": 31,
    "start_time": "2022-10-24T17:42:51.062Z"
   },
   {
    "duration": 3,
    "start_time": "2022-10-24T17:42:51.096Z"
   },
   {
    "duration": 14,
    "start_time": "2022-10-24T17:42:51.130Z"
   },
   {
    "duration": 6,
    "start_time": "2022-10-24T17:42:51.146Z"
   },
   {
    "duration": 16,
    "start_time": "2022-10-24T17:42:51.154Z"
   },
   {
    "duration": 20,
    "start_time": "2022-10-24T17:42:51.172Z"
   },
   {
    "duration": 93,
    "start_time": "2022-10-24T17:42:51.193Z"
   },
   {
    "duration": 10,
    "start_time": "2022-10-24T17:42:51.289Z"
   },
   {
    "duration": 35,
    "start_time": "2022-10-24T17:42:51.301Z"
   },
   {
    "duration": 6,
    "start_time": "2022-10-24T17:42:51.337Z"
   },
   {
    "duration": 9,
    "start_time": "2022-10-24T17:42:51.345Z"
   },
   {
    "duration": 192,
    "start_time": "2022-10-24T17:42:51.356Z"
   },
   {
    "duration": 9,
    "start_time": "2022-10-24T17:42:51.550Z"
   },
   {
    "duration": 68,
    "start_time": "2022-10-24T17:42:51.561Z"
   },
   {
    "duration": 14,
    "start_time": "2022-10-24T17:42:51.634Z"
   },
   {
    "duration": 10,
    "start_time": "2022-10-24T17:42:51.650Z"
   },
   {
    "duration": 33,
    "start_time": "2022-10-24T17:42:51.663Z"
   },
   {
    "duration": 31,
    "start_time": "2022-10-24T17:42:51.699Z"
   },
   {
    "duration": 388,
    "start_time": "2022-10-24T17:42:51.732Z"
   },
   {
    "duration": 72,
    "start_time": "2022-10-24T17:42:52.122Z"
   },
   {
    "duration": 255,
    "start_time": "2022-10-24T17:42:52.197Z"
   },
   {
    "duration": 27,
    "start_time": "2022-10-24T17:42:52.455Z"
   },
   {
    "duration": 349,
    "start_time": "2022-10-24T17:42:52.484Z"
   },
   {
    "duration": 381,
    "start_time": "2022-10-24T17:42:52.836Z"
   },
   {
    "duration": 330,
    "start_time": "2022-10-24T17:42:53.219Z"
   },
   {
    "duration": 389,
    "start_time": "2022-10-24T17:42:53.551Z"
   },
   {
    "duration": 6,
    "start_time": "2022-10-24T17:42:53.942Z"
   },
   {
    "duration": 4,
    "start_time": "2022-10-24T17:42:53.950Z"
   },
   {
    "duration": 19,
    "start_time": "2022-10-24T17:42:53.956Z"
   },
   {
    "duration": 3,
    "start_time": "2022-10-24T17:42:53.977Z"
   },
   {
    "duration": 5,
    "start_time": "2022-10-24T17:42:53.982Z"
   },
   {
    "duration": 41,
    "start_time": "2022-10-24T17:42:53.989Z"
   },
   {
    "duration": 3,
    "start_time": "2022-10-24T17:42:54.032Z"
   },
   {
    "duration": 5,
    "start_time": "2022-10-24T17:42:54.037Z"
   },
   {
    "duration": 234,
    "start_time": "2022-10-24T17:42:54.047Z"
   },
   {
    "duration": 346,
    "start_time": "2022-10-24T17:42:54.284Z"
   },
   {
    "duration": 7,
    "start_time": "2022-10-24T17:42:54.632Z"
   },
   {
    "duration": 373,
    "start_time": "2022-10-24T17:42:54.641Z"
   },
   {
    "duration": 14,
    "start_time": "2022-10-24T17:42:55.016Z"
   },
   {
    "duration": 429,
    "start_time": "2022-10-24T17:42:55.032Z"
   },
   {
    "duration": 11,
    "start_time": "2022-10-24T17:42:55.464Z"
   },
   {
    "duration": 1531,
    "start_time": "2022-10-24T17:45:00.010Z"
   },
   {
    "duration": 336,
    "start_time": "2022-10-24T17:45:07.142Z"
   },
   {
    "duration": 431,
    "start_time": "2022-10-24T17:45:23.443Z"
   },
   {
    "duration": 266,
    "start_time": "2022-10-24T17:45:23.876Z"
   },
   {
    "duration": 3,
    "start_time": "2022-10-24T17:45:24.144Z"
   },
   {
    "duration": 67,
    "start_time": "2022-10-24T17:45:24.149Z"
   },
   {
    "duration": 18,
    "start_time": "2022-10-24T17:45:24.218Z"
   },
   {
    "duration": 17,
    "start_time": "2022-10-24T17:45:24.238Z"
   },
   {
    "duration": 38,
    "start_time": "2022-10-24T17:45:24.257Z"
   },
   {
    "duration": 3,
    "start_time": "2022-10-24T17:45:24.297Z"
   },
   {
    "duration": 35,
    "start_time": "2022-10-24T17:45:24.302Z"
   },
   {
    "duration": 38,
    "start_time": "2022-10-24T17:45:24.339Z"
   },
   {
    "duration": 33,
    "start_time": "2022-10-24T17:45:24.379Z"
   },
   {
    "duration": 31,
    "start_time": "2022-10-24T17:45:24.413Z"
   },
   {
    "duration": 62,
    "start_time": "2022-10-24T17:45:24.446Z"
   },
   {
    "duration": 19,
    "start_time": "2022-10-24T17:45:24.511Z"
   },
   {
    "duration": 23,
    "start_time": "2022-10-24T17:45:24.532Z"
   },
   {
    "duration": 14,
    "start_time": "2022-10-24T17:45:24.557Z"
   },
   {
    "duration": 33,
    "start_time": "2022-10-24T17:45:24.573Z"
   },
   {
    "duration": 175,
    "start_time": "2022-10-24T17:45:24.608Z"
   },
   {
    "duration": 11,
    "start_time": "2022-10-24T17:45:24.785Z"
   },
   {
    "duration": 68,
    "start_time": "2022-10-24T17:45:24.799Z"
   },
   {
    "duration": 13,
    "start_time": "2022-10-24T17:45:24.870Z"
   },
   {
    "duration": 17,
    "start_time": "2022-10-24T17:45:24.885Z"
   },
   {
    "duration": 40,
    "start_time": "2022-10-24T17:45:24.904Z"
   },
   {
    "duration": 26,
    "start_time": "2022-10-24T17:45:24.946Z"
   },
   {
    "duration": 400,
    "start_time": "2022-10-24T17:45:24.974Z"
   },
   {
    "duration": 82,
    "start_time": "2022-10-24T17:45:25.376Z"
   },
   {
    "duration": 266,
    "start_time": "2022-10-24T17:45:25.460Z"
   },
   {
    "duration": 20,
    "start_time": "2022-10-24T17:45:25.728Z"
   },
   {
    "duration": 295,
    "start_time": "2022-10-24T17:45:25.750Z"
   },
   {
    "duration": 355,
    "start_time": "2022-10-24T17:45:26.048Z"
   },
   {
    "duration": 324,
    "start_time": "2022-10-24T17:45:26.405Z"
   },
   {
    "duration": 392,
    "start_time": "2022-10-24T17:45:26.731Z"
   },
   {
    "duration": 0,
    "start_time": "2022-10-24T17:45:27.126Z"
   },
   {
    "duration": 0,
    "start_time": "2022-10-24T17:45:27.129Z"
   },
   {
    "duration": 0,
    "start_time": "2022-10-24T17:45:27.131Z"
   },
   {
    "duration": 0,
    "start_time": "2022-10-24T17:45:27.133Z"
   },
   {
    "duration": 0,
    "start_time": "2022-10-24T17:45:27.135Z"
   },
   {
    "duration": 0,
    "start_time": "2022-10-24T17:45:27.136Z"
   },
   {
    "duration": 0,
    "start_time": "2022-10-24T17:45:27.138Z"
   },
   {
    "duration": 0,
    "start_time": "2022-10-24T17:45:27.140Z"
   },
   {
    "duration": 0,
    "start_time": "2022-10-24T17:45:27.141Z"
   },
   {
    "duration": 0,
    "start_time": "2022-10-24T17:45:27.143Z"
   },
   {
    "duration": 0,
    "start_time": "2022-10-24T17:45:27.144Z"
   },
   {
    "duration": 0,
    "start_time": "2022-10-24T17:45:27.146Z"
   },
   {
    "duration": 0,
    "start_time": "2022-10-24T17:45:27.148Z"
   },
   {
    "duration": 0,
    "start_time": "2022-10-24T17:45:27.149Z"
   },
   {
    "duration": 0,
    "start_time": "2022-10-24T17:45:27.151Z"
   },
   {
    "duration": 295,
    "start_time": "2022-10-24T17:46:00.382Z"
   },
   {
    "duration": 364,
    "start_time": "2022-10-24T17:46:58.415Z"
   },
   {
    "duration": 3032,
    "start_time": "2022-10-24T17:48:41.554Z"
   },
   {
    "duration": 3101,
    "start_time": "2022-10-24T17:49:01.390Z"
   },
   {
    "duration": 2888,
    "start_time": "2022-10-24T17:49:13.487Z"
   },
   {
    "duration": 80,
    "start_time": "2022-10-24T17:50:26.670Z"
   },
   {
    "duration": 3190,
    "start_time": "2022-10-24T17:50:40.713Z"
   },
   {
    "duration": 2680,
    "start_time": "2022-10-24T17:50:58.499Z"
   },
   {
    "duration": 3046,
    "start_time": "2022-10-24T17:51:43.324Z"
   },
   {
    "duration": 3373,
    "start_time": "2022-10-24T17:52:25.159Z"
   },
   {
    "duration": 2705,
    "start_time": "2022-10-24T17:52:32.601Z"
   },
   {
    "duration": 2794,
    "start_time": "2022-10-24T17:53:00.891Z"
   },
   {
    "duration": 3114,
    "start_time": "2022-10-24T17:53:08.925Z"
   },
   {
    "duration": 2984,
    "start_time": "2022-10-24T17:53:18.743Z"
   },
   {
    "duration": 36,
    "start_time": "2022-10-24T17:53:50.443Z"
   },
   {
    "duration": 441,
    "start_time": "2022-10-24T17:54:13.618Z"
   },
   {
    "duration": 249,
    "start_time": "2022-10-24T17:54:14.061Z"
   },
   {
    "duration": 3,
    "start_time": "2022-10-24T17:54:14.314Z"
   },
   {
    "duration": 58,
    "start_time": "2022-10-24T17:54:14.328Z"
   },
   {
    "duration": 18,
    "start_time": "2022-10-24T17:54:14.387Z"
   },
   {
    "duration": 17,
    "start_time": "2022-10-24T17:54:14.407Z"
   },
   {
    "duration": 47,
    "start_time": "2022-10-24T17:54:14.426Z"
   },
   {
    "duration": 3,
    "start_time": "2022-10-24T17:54:14.475Z"
   },
   {
    "duration": 12,
    "start_time": "2022-10-24T17:54:14.480Z"
   },
   {
    "duration": 4,
    "start_time": "2022-10-24T17:54:14.494Z"
   },
   {
    "duration": 45,
    "start_time": "2022-10-24T17:54:14.501Z"
   },
   {
    "duration": 26,
    "start_time": "2022-10-24T17:54:14.549Z"
   },
   {
    "duration": 84,
    "start_time": "2022-10-24T17:54:14.579Z"
   },
   {
    "duration": 11,
    "start_time": "2022-10-24T17:54:14.665Z"
   },
   {
    "duration": 21,
    "start_time": "2022-10-24T17:54:14.678Z"
   },
   {
    "duration": 6,
    "start_time": "2022-10-24T17:54:14.701Z"
   },
   {
    "duration": 16,
    "start_time": "2022-10-24T17:54:14.730Z"
   },
   {
    "duration": 180,
    "start_time": "2022-10-24T17:54:14.749Z"
   },
   {
    "duration": 10,
    "start_time": "2022-10-24T17:54:14.931Z"
   },
   {
    "duration": 58,
    "start_time": "2022-10-24T17:54:14.943Z"
   },
   {
    "duration": 33,
    "start_time": "2022-10-24T17:54:15.003Z"
   },
   {
    "duration": 23,
    "start_time": "2022-10-24T17:54:15.038Z"
   },
   {
    "duration": 35,
    "start_time": "2022-10-24T17:54:15.063Z"
   },
   {
    "duration": 32,
    "start_time": "2022-10-24T17:54:15.100Z"
   },
   {
    "duration": 390,
    "start_time": "2022-10-24T17:54:15.134Z"
   },
   {
    "duration": 83,
    "start_time": "2022-10-24T17:54:15.529Z"
   },
   {
    "duration": 252,
    "start_time": "2022-10-24T17:54:15.615Z"
   },
   {
    "duration": 26,
    "start_time": "2022-10-24T17:54:15.869Z"
   },
   {
    "duration": 325,
    "start_time": "2022-10-24T17:54:15.897Z"
   },
   {
    "duration": 407,
    "start_time": "2022-10-24T17:54:16.224Z"
   },
   {
    "duration": 360,
    "start_time": "2022-10-24T17:54:16.634Z"
   },
   {
    "duration": 2933,
    "start_time": "2022-10-24T17:54:16.996Z"
   },
   {
    "duration": 32,
    "start_time": "2022-10-24T17:54:19.931Z"
   },
   {
    "duration": 4,
    "start_time": "2022-10-24T17:54:19.965Z"
   },
   {
    "duration": 5,
    "start_time": "2022-10-24T17:54:19.972Z"
   },
   {
    "duration": 13,
    "start_time": "2022-10-24T17:54:19.980Z"
   },
   {
    "duration": 234,
    "start_time": "2022-10-24T17:54:19.996Z"
   },
   {
    "duration": 244,
    "start_time": "2022-10-24T17:54:20.231Z"
   },
   {
    "duration": 5,
    "start_time": "2022-10-24T17:54:20.477Z"
   },
   {
    "duration": 282,
    "start_time": "2022-10-24T17:54:20.487Z"
   },
   {
    "duration": 2,
    "start_time": "2022-10-24T17:54:20.771Z"
   },
   {
    "duration": 515,
    "start_time": "2022-10-24T17:54:20.776Z"
   },
   {
    "duration": 10,
    "start_time": "2022-10-24T17:54:21.293Z"
   },
   {
    "duration": 147,
    "start_time": "2022-10-24T18:00:11.045Z"
   },
   {
    "duration": 13,
    "start_time": "2022-10-24T18:02:20.514Z"
   },
   {
    "duration": 67,
    "start_time": "2022-10-24T18:02:36.420Z"
   },
   {
    "duration": 602,
    "start_time": "2022-10-24T18:03:42.281Z"
   },
   {
    "duration": 2928,
    "start_time": "2022-10-24T18:03:47.445Z"
   },
   {
    "duration": 254,
    "start_time": "2022-10-24T18:04:53.665Z"
   },
   {
    "duration": 308,
    "start_time": "2022-10-24T18:05:09.163Z"
   },
   {
    "duration": 432,
    "start_time": "2022-10-24T18:06:06.317Z"
   },
   {
    "duration": 262,
    "start_time": "2022-10-24T18:06:06.751Z"
   },
   {
    "duration": 2,
    "start_time": "2022-10-24T18:06:07.015Z"
   },
   {
    "duration": 60,
    "start_time": "2022-10-24T18:06:07.019Z"
   },
   {
    "duration": 17,
    "start_time": "2022-10-24T18:06:07.081Z"
   },
   {
    "duration": 14,
    "start_time": "2022-10-24T18:06:07.100Z"
   },
   {
    "duration": 33,
    "start_time": "2022-10-24T18:06:07.116Z"
   },
   {
    "duration": 3,
    "start_time": "2022-10-24T18:06:07.151Z"
   },
   {
    "duration": 10,
    "start_time": "2022-10-24T18:06:07.155Z"
   },
   {
    "duration": 4,
    "start_time": "2022-10-24T18:06:07.168Z"
   },
   {
    "duration": 11,
    "start_time": "2022-10-24T18:06:07.174Z"
   },
   {
    "duration": 54,
    "start_time": "2022-10-24T18:06:07.186Z"
   },
   {
    "duration": 55,
    "start_time": "2022-10-24T18:06:07.242Z"
   },
   {
    "duration": 9,
    "start_time": "2022-10-24T18:06:07.299Z"
   },
   {
    "duration": 31,
    "start_time": "2022-10-24T18:06:07.310Z"
   },
   {
    "duration": 5,
    "start_time": "2022-10-24T18:06:07.343Z"
   },
   {
    "duration": 14,
    "start_time": "2022-10-24T18:06:07.350Z"
   },
   {
    "duration": 237,
    "start_time": "2022-10-24T18:06:07.366Z"
   },
   {
    "duration": 10,
    "start_time": "2022-10-24T18:06:07.604Z"
   },
   {
    "duration": 61,
    "start_time": "2022-10-24T18:06:07.616Z"
   },
   {
    "duration": 11,
    "start_time": "2022-10-24T18:06:07.679Z"
   },
   {
    "duration": 5,
    "start_time": "2022-10-24T18:06:07.693Z"
   },
   {
    "duration": 51,
    "start_time": "2022-10-24T18:06:07.699Z"
   },
   {
    "duration": 8,
    "start_time": "2022-10-24T18:06:07.754Z"
   },
   {
    "duration": 456,
    "start_time": "2022-10-24T18:06:07.764Z"
   },
   {
    "duration": 108,
    "start_time": "2022-10-24T18:06:08.228Z"
   },
   {
    "duration": 304,
    "start_time": "2022-10-24T18:06:08.339Z"
   },
   {
    "duration": 16,
    "start_time": "2022-10-24T18:06:08.647Z"
   },
   {
    "duration": 308,
    "start_time": "2022-10-24T18:06:08.665Z"
   },
   {
    "duration": 328,
    "start_time": "2022-10-24T18:06:08.975Z"
   },
   {
    "duration": 314,
    "start_time": "2022-10-24T18:06:09.306Z"
   },
   {
    "duration": 2725,
    "start_time": "2022-10-24T18:06:09.622Z"
   },
   {
    "duration": 21,
    "start_time": "2022-10-24T18:06:12.349Z"
   },
   {
    "duration": 6,
    "start_time": "2022-10-24T18:06:12.372Z"
   },
   {
    "duration": 340,
    "start_time": "2022-10-24T18:06:12.380Z"
   },
   {
    "duration": 9,
    "start_time": "2022-10-24T18:06:12.721Z"
   },
   {
    "duration": 233,
    "start_time": "2022-10-24T18:06:12.732Z"
   },
   {
    "duration": 254,
    "start_time": "2022-10-24T18:06:12.968Z"
   },
   {
    "duration": 7,
    "start_time": "2022-10-24T18:06:13.230Z"
   },
   {
    "duration": 270,
    "start_time": "2022-10-24T18:06:13.239Z"
   },
   {
    "duration": 2,
    "start_time": "2022-10-24T18:06:13.512Z"
   },
   {
    "duration": 571,
    "start_time": "2022-10-24T18:06:13.516Z"
   },
   {
    "duration": 10,
    "start_time": "2022-10-24T18:06:14.089Z"
   },
   {
    "duration": 454,
    "start_time": "2022-10-24T18:07:08.502Z"
   },
   {
    "duration": 278,
    "start_time": "2022-10-24T18:07:23.054Z"
   },
   {
    "duration": 84,
    "start_time": "2022-10-24T18:07:29.542Z"
   },
   {
    "duration": 345,
    "start_time": "2022-10-24T18:07:39.645Z"
   },
   {
    "duration": 317,
    "start_time": "2022-10-24T18:08:46.059Z"
   },
   {
    "duration": 411,
    "start_time": "2022-10-24T18:09:24.774Z"
   },
   {
    "duration": 258,
    "start_time": "2022-10-24T18:09:25.188Z"
   },
   {
    "duration": 4,
    "start_time": "2022-10-24T18:09:25.447Z"
   },
   {
    "duration": 75,
    "start_time": "2022-10-24T18:09:25.454Z"
   },
   {
    "duration": 30,
    "start_time": "2022-10-24T18:09:25.532Z"
   },
   {
    "duration": 16,
    "start_time": "2022-10-24T18:09:25.564Z"
   },
   {
    "duration": 53,
    "start_time": "2022-10-24T18:09:25.582Z"
   },
   {
    "duration": 4,
    "start_time": "2022-10-24T18:09:25.636Z"
   },
   {
    "duration": 11,
    "start_time": "2022-10-24T18:09:25.641Z"
   },
   {
    "duration": 5,
    "start_time": "2022-10-24T18:09:25.655Z"
   },
   {
    "duration": 14,
    "start_time": "2022-10-24T18:09:25.661Z"
   },
   {
    "duration": 19,
    "start_time": "2022-10-24T18:09:25.677Z"
   },
   {
    "duration": 88,
    "start_time": "2022-10-24T18:09:25.698Z"
   },
   {
    "duration": 11,
    "start_time": "2022-10-24T18:09:25.789Z"
   },
   {
    "duration": 36,
    "start_time": "2022-10-24T18:09:25.802Z"
   },
   {
    "duration": 6,
    "start_time": "2022-10-24T18:09:25.840Z"
   },
   {
    "duration": 21,
    "start_time": "2022-10-24T18:09:25.848Z"
   },
   {
    "duration": 220,
    "start_time": "2022-10-24T18:09:25.870Z"
   },
   {
    "duration": 11,
    "start_time": "2022-10-24T18:09:26.092Z"
   },
   {
    "duration": 74,
    "start_time": "2022-10-24T18:09:26.105Z"
   },
   {
    "duration": 11,
    "start_time": "2022-10-24T18:09:26.181Z"
   },
   {
    "duration": 6,
    "start_time": "2022-10-24T18:09:26.195Z"
   },
   {
    "duration": 48,
    "start_time": "2022-10-24T18:09:26.203Z"
   },
   {
    "duration": 9,
    "start_time": "2022-10-24T18:09:26.254Z"
   },
   {
    "duration": 423,
    "start_time": "2022-10-24T18:09:26.264Z"
   },
   {
    "duration": 102,
    "start_time": "2022-10-24T18:09:26.689Z"
   },
   {
    "duration": 250,
    "start_time": "2022-10-24T18:09:26.793Z"
   },
   {
    "duration": 16,
    "start_time": "2022-10-24T18:09:27.047Z"
   },
   {
    "duration": 292,
    "start_time": "2022-10-24T18:09:27.065Z"
   },
   {
    "duration": 314,
    "start_time": "2022-10-24T18:09:27.359Z"
   },
   {
    "duration": 328,
    "start_time": "2022-10-24T18:09:27.675Z"
   },
   {
    "duration": 3199,
    "start_time": "2022-10-24T18:09:28.005Z"
   },
   {
    "duration": 33,
    "start_time": "2022-10-24T18:09:31.206Z"
   },
   {
    "duration": 314,
    "start_time": "2022-10-24T18:09:31.241Z"
   },
   {
    "duration": 3,
    "start_time": "2022-10-24T18:09:31.557Z"
   },
   {
    "duration": 233,
    "start_time": "2022-10-24T18:09:31.561Z"
   },
   {
    "duration": 213,
    "start_time": "2022-10-24T18:09:31.796Z"
   },
   {
    "duration": 4,
    "start_time": "2022-10-24T18:09:32.011Z"
   },
   {
    "duration": 268,
    "start_time": "2022-10-24T18:09:32.017Z"
   },
   {
    "duration": 3,
    "start_time": "2022-10-24T18:09:32.287Z"
   },
   {
    "duration": 600,
    "start_time": "2022-10-24T18:09:32.291Z"
   },
   {
    "duration": 12,
    "start_time": "2022-10-24T18:09:32.892Z"
   },
   {
    "duration": 285,
    "start_time": "2022-10-24T18:11:42.266Z"
   },
   {
    "duration": 154,
    "start_time": "2022-10-24T18:11:55.947Z"
   },
   {
    "duration": 458,
    "start_time": "2022-10-24T18:13:36.010Z"
   },
   {
    "duration": 260,
    "start_time": "2022-10-24T18:13:36.471Z"
   },
   {
    "duration": 466,
    "start_time": "2022-10-24T18:13:36.733Z"
   },
   {
    "duration": 56,
    "start_time": "2022-10-24T18:13:37.202Z"
   },
   {
    "duration": 19,
    "start_time": "2022-10-24T18:13:37.260Z"
   },
   {
    "duration": 15,
    "start_time": "2022-10-24T18:13:37.281Z"
   },
   {
    "duration": 55,
    "start_time": "2022-10-24T18:13:37.298Z"
   },
   {
    "duration": 4,
    "start_time": "2022-10-24T18:13:37.355Z"
   },
   {
    "duration": 12,
    "start_time": "2022-10-24T18:13:37.360Z"
   },
   {
    "duration": 6,
    "start_time": "2022-10-24T18:13:37.376Z"
   },
   {
    "duration": 13,
    "start_time": "2022-10-24T18:13:37.384Z"
   },
   {
    "duration": 44,
    "start_time": "2022-10-24T18:13:37.399Z"
   },
   {
    "duration": 70,
    "start_time": "2022-10-24T18:13:37.445Z"
   },
   {
    "duration": 15,
    "start_time": "2022-10-24T18:13:37.529Z"
   },
   {
    "duration": 17,
    "start_time": "2022-10-24T18:13:37.546Z"
   },
   {
    "duration": 7,
    "start_time": "2022-10-24T18:13:37.565Z"
   },
   {
    "duration": 13,
    "start_time": "2022-10-24T18:13:37.574Z"
   },
   {
    "duration": 204,
    "start_time": "2022-10-24T18:13:37.590Z"
   },
   {
    "duration": 9,
    "start_time": "2022-10-24T18:13:37.796Z"
   },
   {
    "duration": 61,
    "start_time": "2022-10-24T18:13:37.806Z"
   },
   {
    "duration": 10,
    "start_time": "2022-10-24T18:13:37.868Z"
   },
   {
    "duration": 6,
    "start_time": "2022-10-24T18:13:37.879Z"
   },
   {
    "duration": 44,
    "start_time": "2022-10-24T18:13:37.886Z"
   },
   {
    "duration": 6,
    "start_time": "2022-10-24T18:13:37.932Z"
   },
   {
    "duration": 448,
    "start_time": "2022-10-24T18:13:37.940Z"
   },
   {
    "duration": 105,
    "start_time": "2022-10-24T18:13:38.390Z"
   },
   {
    "duration": 200,
    "start_time": "2022-10-24T18:13:38.497Z"
   },
   {
    "duration": 28,
    "start_time": "2022-10-24T18:13:38.701Z"
   },
   {
    "duration": 282,
    "start_time": "2022-10-24T18:13:38.731Z"
   },
   {
    "duration": 396,
    "start_time": "2022-10-24T18:13:39.015Z"
   },
   {
    "duration": 326,
    "start_time": "2022-10-24T18:13:39.413Z"
   },
   {
    "duration": 2675,
    "start_time": "2022-10-24T18:13:39.741Z"
   },
   {
    "duration": 26,
    "start_time": "2022-10-24T18:13:42.419Z"
   },
   {
    "duration": 295,
    "start_time": "2022-10-24T18:13:42.447Z"
   },
   {
    "duration": 291,
    "start_time": "2022-10-24T18:13:42.744Z"
   },
   {
    "duration": 0,
    "start_time": "2022-10-24T18:13:43.036Z"
   },
   {
    "duration": 0,
    "start_time": "2022-10-24T18:13:43.038Z"
   },
   {
    "duration": 0,
    "start_time": "2022-10-24T18:13:43.040Z"
   },
   {
    "duration": 0,
    "start_time": "2022-10-24T18:13:43.041Z"
   },
   {
    "duration": 0,
    "start_time": "2022-10-24T18:13:43.042Z"
   },
   {
    "duration": 0,
    "start_time": "2022-10-24T18:13:43.044Z"
   },
   {
    "duration": 0,
    "start_time": "2022-10-24T18:13:43.045Z"
   },
   {
    "duration": 0,
    "start_time": "2022-10-24T18:13:43.046Z"
   },
   {
    "duration": 268,
    "start_time": "2022-10-24T18:14:19.205Z"
   },
   {
    "duration": 457,
    "start_time": "2022-10-24T18:15:31.414Z"
   },
   {
    "duration": 253,
    "start_time": "2022-10-24T18:15:31.874Z"
   },
   {
    "duration": 485,
    "start_time": "2022-10-24T18:15:32.128Z"
   },
   {
    "duration": 55,
    "start_time": "2022-10-24T18:15:32.615Z"
   },
   {
    "duration": 25,
    "start_time": "2022-10-24T18:15:32.672Z"
   },
   {
    "duration": 17,
    "start_time": "2022-10-24T18:15:32.699Z"
   },
   {
    "duration": 39,
    "start_time": "2022-10-24T18:15:32.718Z"
   },
   {
    "duration": 4,
    "start_time": "2022-10-24T18:15:32.759Z"
   },
   {
    "duration": 11,
    "start_time": "2022-10-24T18:15:32.765Z"
   },
   {
    "duration": 5,
    "start_time": "2022-10-24T18:15:32.778Z"
   },
   {
    "duration": 47,
    "start_time": "2022-10-24T18:15:32.785Z"
   },
   {
    "duration": 26,
    "start_time": "2022-10-24T18:15:32.834Z"
   },
   {
    "duration": 78,
    "start_time": "2022-10-24T18:15:32.862Z"
   },
   {
    "duration": 14,
    "start_time": "2022-10-24T18:15:32.942Z"
   },
   {
    "duration": 16,
    "start_time": "2022-10-24T18:15:32.958Z"
   },
   {
    "duration": 9,
    "start_time": "2022-10-24T18:15:32.976Z"
   },
   {
    "duration": 42,
    "start_time": "2022-10-24T18:15:32.987Z"
   },
   {
    "duration": 183,
    "start_time": "2022-10-24T18:15:33.032Z"
   },
   {
    "duration": 20,
    "start_time": "2022-10-24T18:15:33.217Z"
   },
   {
    "duration": 54,
    "start_time": "2022-10-24T18:15:33.239Z"
   },
   {
    "duration": 11,
    "start_time": "2022-10-24T18:15:33.295Z"
   },
   {
    "duration": 7,
    "start_time": "2022-10-24T18:15:33.330Z"
   },
   {
    "duration": 25,
    "start_time": "2022-10-24T18:15:33.339Z"
   },
   {
    "duration": 21,
    "start_time": "2022-10-24T18:15:33.366Z"
   },
   {
    "duration": 412,
    "start_time": "2022-10-24T18:15:33.389Z"
   },
   {
    "duration": 96,
    "start_time": "2022-10-24T18:15:33.803Z"
   },
   {
    "duration": 188,
    "start_time": "2022-10-24T18:15:33.901Z"
   },
   {
    "duration": 22,
    "start_time": "2022-10-24T18:15:34.094Z"
   },
   {
    "duration": 351,
    "start_time": "2022-10-24T18:15:34.118Z"
   },
   {
    "duration": 439,
    "start_time": "2022-10-24T18:15:34.472Z"
   },
   {
    "duration": 309,
    "start_time": "2022-10-24T18:15:34.913Z"
   },
   {
    "duration": 2909,
    "start_time": "2022-10-24T18:15:35.224Z"
   },
   {
    "duration": 31,
    "start_time": "2022-10-24T18:15:38.136Z"
   },
   {
    "duration": 447,
    "start_time": "2022-10-24T18:15:38.169Z"
   },
   {
    "duration": 169,
    "start_time": "2022-10-24T18:15:38.618Z"
   },
   {
    "duration": 3,
    "start_time": "2022-10-24T18:15:38.789Z"
   },
   {
    "duration": 370,
    "start_time": "2022-10-24T18:15:38.794Z"
   },
   {
    "duration": 240,
    "start_time": "2022-10-24T18:15:39.166Z"
   },
   {
    "duration": 413,
    "start_time": "2022-10-24T18:15:39.408Z"
   },
   {
    "duration": 7,
    "start_time": "2022-10-24T18:15:39.822Z"
   },
   {
    "duration": 25,
    "start_time": "2022-10-24T18:15:39.831Z"
   },
   {
    "duration": 15,
    "start_time": "2022-10-24T18:15:39.858Z"
   },
   {
    "duration": 10874,
    "start_time": "2022-10-24T18:16:40.615Z"
   },
   {
    "duration": 161,
    "start_time": "2022-10-24T18:17:02.795Z"
   },
   {
    "duration": 45,
    "start_time": "2022-10-25T14:06:30.772Z"
   },
   {
    "duration": 348,
    "start_time": "2022-10-25T14:06:51.016Z"
   },
   {
    "duration": 357,
    "start_time": "2022-10-25T14:06:51.366Z"
   },
   {
    "duration": 484,
    "start_time": "2022-10-25T14:06:51.726Z"
   },
   {
    "duration": 190,
    "start_time": "2022-10-25T14:06:52.212Z"
   },
   {
    "duration": 18,
    "start_time": "2022-10-25T14:06:52.404Z"
   },
   {
    "duration": 14,
    "start_time": "2022-10-25T14:06:52.424Z"
   },
   {
    "duration": 26,
    "start_time": "2022-10-25T14:06:52.439Z"
   },
   {
    "duration": 12,
    "start_time": "2022-10-25T14:06:52.467Z"
   },
   {
    "duration": 10,
    "start_time": "2022-10-25T14:06:52.480Z"
   },
   {
    "duration": 3,
    "start_time": "2022-10-25T14:06:52.493Z"
   },
   {
    "duration": 13,
    "start_time": "2022-10-25T14:06:52.497Z"
   },
   {
    "duration": 16,
    "start_time": "2022-10-25T14:06:52.511Z"
   },
   {
    "duration": 67,
    "start_time": "2022-10-25T14:06:52.528Z"
   },
   {
    "duration": 8,
    "start_time": "2022-10-25T14:06:52.596Z"
   },
   {
    "duration": 13,
    "start_time": "2022-10-25T14:06:52.606Z"
   },
   {
    "duration": 14,
    "start_time": "2022-10-25T14:06:52.620Z"
   },
   {
    "duration": 22,
    "start_time": "2022-10-25T14:06:52.635Z"
   },
   {
    "duration": 174,
    "start_time": "2022-10-25T14:06:52.658Z"
   },
   {
    "duration": 7,
    "start_time": "2022-10-25T14:06:52.833Z"
   },
   {
    "duration": 53,
    "start_time": "2022-10-25T14:06:52.841Z"
   },
   {
    "duration": 7,
    "start_time": "2022-10-25T14:06:52.895Z"
   },
   {
    "duration": 5,
    "start_time": "2022-10-25T14:06:52.904Z"
   },
   {
    "duration": 16,
    "start_time": "2022-10-25T14:06:52.910Z"
   },
   {
    "duration": 8,
    "start_time": "2022-10-25T14:06:52.927Z"
   },
   {
    "duration": 335,
    "start_time": "2022-10-25T14:06:52.936Z"
   },
   {
    "duration": 61,
    "start_time": "2022-10-25T14:06:53.272Z"
   },
   {
    "duration": 172,
    "start_time": "2022-10-25T14:06:53.334Z"
   },
   {
    "duration": 14,
    "start_time": "2022-10-25T14:06:53.509Z"
   },
   {
    "duration": 251,
    "start_time": "2022-10-25T14:06:53.524Z"
   },
   {
    "duration": 354,
    "start_time": "2022-10-25T14:06:53.777Z"
   },
   {
    "duration": 265,
    "start_time": "2022-10-25T14:06:54.132Z"
   },
   {
    "duration": 127,
    "start_time": "2022-10-25T14:06:54.399Z"
   },
   {
    "duration": 0,
    "start_time": "2022-10-25T14:06:54.527Z"
   },
   {
    "duration": 0,
    "start_time": "2022-10-25T14:06:54.529Z"
   },
   {
    "duration": 0,
    "start_time": "2022-10-25T14:06:54.530Z"
   },
   {
    "duration": 0,
    "start_time": "2022-10-25T14:06:54.531Z"
   },
   {
    "duration": 0,
    "start_time": "2022-10-25T14:06:54.532Z"
   },
   {
    "duration": 0,
    "start_time": "2022-10-25T14:06:54.532Z"
   },
   {
    "duration": 0,
    "start_time": "2022-10-25T14:06:54.533Z"
   },
   {
    "duration": 0,
    "start_time": "2022-10-25T14:06:54.534Z"
   },
   {
    "duration": 0,
    "start_time": "2022-10-25T14:06:54.535Z"
   },
   {
    "duration": 0,
    "start_time": "2022-10-25T14:06:54.536Z"
   },
   {
    "duration": 0,
    "start_time": "2022-10-25T14:06:54.537Z"
   },
   {
    "duration": 0,
    "start_time": "2022-10-25T14:06:54.538Z"
   },
   {
    "duration": 51,
    "start_time": "2022-10-25T14:08:15.539Z"
   },
   {
    "duration": 2,
    "start_time": "2022-10-25T14:08:16.466Z"
   },
   {
    "duration": 460,
    "start_time": "2022-10-25T14:08:29.567Z"
   },
   {
    "duration": 454,
    "start_time": "2022-10-25T14:09:50.184Z"
   },
   {
    "duration": 413,
    "start_time": "2022-10-25T14:10:03.005Z"
   },
   {
    "duration": 443,
    "start_time": "2022-10-25T14:10:16.840Z"
   },
   {
    "duration": 527,
    "start_time": "2022-10-25T14:10:28.954Z"
   },
   {
    "duration": 399,
    "start_time": "2022-10-25T14:10:50.592Z"
   },
   {
    "duration": 406,
    "start_time": "2022-10-25T14:32:46.017Z"
   },
   {
    "duration": 434,
    "start_time": "2022-10-25T14:33:16.756Z"
   },
   {
    "duration": 399,
    "start_time": "2022-10-25T14:39:09.086Z"
   },
   {
    "duration": 530,
    "start_time": "2022-10-25T14:40:15.475Z"
   },
   {
    "duration": 498,
    "start_time": "2022-10-25T14:41:27.264Z"
   },
   {
    "duration": 497,
    "start_time": "2022-10-25T14:41:37.636Z"
   },
   {
    "duration": 70,
    "start_time": "2022-10-25T14:41:52.637Z"
   },
   {
    "duration": 429,
    "start_time": "2022-10-25T14:42:05.181Z"
   },
   {
    "duration": 410,
    "start_time": "2022-10-25T14:42:23.377Z"
   },
   {
    "duration": 2484,
    "start_time": "2022-10-25T14:46:31.810Z"
   },
   {
    "duration": 13,
    "start_time": "2022-10-25T14:47:13.652Z"
   },
   {
    "duration": 17,
    "start_time": "2022-10-25T14:47:16.993Z"
   },
   {
    "duration": 243,
    "start_time": "2022-10-25T14:47:23.315Z"
   },
   {
    "duration": 238,
    "start_time": "2022-10-25T15:25:04.739Z"
   },
   {
    "duration": 116,
    "start_time": "2022-10-25T15:25:28.542Z"
   },
   {
    "duration": 365,
    "start_time": "2022-10-26T04:38:09.871Z"
   },
   {
    "duration": 862,
    "start_time": "2022-10-26T04:38:10.237Z"
   },
   {
    "duration": 3,
    "start_time": "2022-10-26T04:38:11.100Z"
   },
   {
    "duration": 2,
    "start_time": "2022-10-26T04:38:11.109Z"
   },
   {
    "duration": 94,
    "start_time": "2022-10-26T04:38:11.113Z"
   },
   {
    "duration": 16,
    "start_time": "2022-10-26T04:38:11.209Z"
   },
   {
    "duration": 13,
    "start_time": "2022-10-26T04:38:11.227Z"
   },
   {
    "duration": 27,
    "start_time": "2022-10-26T04:38:11.242Z"
   },
   {
    "duration": 3,
    "start_time": "2022-10-26T04:38:11.271Z"
   },
   {
    "duration": 36,
    "start_time": "2022-10-26T04:38:11.276Z"
   },
   {
    "duration": 4,
    "start_time": "2022-10-26T04:38:11.313Z"
   },
   {
    "duration": 14,
    "start_time": "2022-10-26T04:38:11.318Z"
   },
   {
    "duration": 17,
    "start_time": "2022-10-26T04:38:11.334Z"
   },
   {
    "duration": 68,
    "start_time": "2022-10-26T04:38:11.352Z"
   },
   {
    "duration": 8,
    "start_time": "2022-10-26T04:38:11.422Z"
   },
   {
    "duration": 11,
    "start_time": "2022-10-26T04:38:11.431Z"
   },
   {
    "duration": 5,
    "start_time": "2022-10-26T04:38:11.443Z"
   },
   {
    "duration": 8,
    "start_time": "2022-10-26T04:38:11.449Z"
   },
   {
    "duration": 174,
    "start_time": "2022-10-26T04:38:11.458Z"
   },
   {
    "duration": 9,
    "start_time": "2022-10-26T04:38:11.633Z"
   },
   {
    "duration": 65,
    "start_time": "2022-10-26T04:38:11.644Z"
   },
   {
    "duration": 8,
    "start_time": "2022-10-26T04:38:11.710Z"
   },
   {
    "duration": 7,
    "start_time": "2022-10-26T04:38:11.719Z"
   },
   {
    "duration": 20,
    "start_time": "2022-10-26T04:38:11.727Z"
   },
   {
    "duration": 10,
    "start_time": "2022-10-26T04:38:11.749Z"
   },
   {
    "duration": 352,
    "start_time": "2022-10-26T04:38:11.761Z"
   },
   {
    "duration": 60,
    "start_time": "2022-10-26T04:38:12.115Z"
   },
   {
    "duration": 193,
    "start_time": "2022-10-26T04:38:12.178Z"
   },
   {
    "duration": 15,
    "start_time": "2022-10-26T04:38:12.373Z"
   },
   {
    "duration": 258,
    "start_time": "2022-10-26T04:38:12.390Z"
   },
   {
    "duration": 357,
    "start_time": "2022-10-26T04:38:12.650Z"
   },
   {
    "duration": 299,
    "start_time": "2022-10-26T04:38:13.010Z"
   },
   {
    "duration": 467,
    "start_time": "2022-10-26T04:38:13.310Z"
   },
   {
    "duration": 160,
    "start_time": "2022-10-26T04:38:13.778Z"
   },
   {
    "duration": 0,
    "start_time": "2022-10-26T04:38:13.939Z"
   },
   {
    "duration": 0,
    "start_time": "2022-10-26T04:38:13.941Z"
   },
   {
    "duration": 0,
    "start_time": "2022-10-26T04:38:13.942Z"
   },
   {
    "duration": 0,
    "start_time": "2022-10-26T04:38:13.943Z"
   },
   {
    "duration": 0,
    "start_time": "2022-10-26T04:38:13.944Z"
   },
   {
    "duration": 0,
    "start_time": "2022-10-26T04:38:13.945Z"
   },
   {
    "duration": 0,
    "start_time": "2022-10-26T04:38:13.946Z"
   },
   {
    "duration": 0,
    "start_time": "2022-10-26T04:38:13.947Z"
   },
   {
    "duration": 0,
    "start_time": "2022-10-26T04:38:13.948Z"
   },
   {
    "duration": 10,
    "start_time": "2022-10-26T04:39:18.427Z"
   },
   {
    "duration": 9,
    "start_time": "2022-10-26T04:40:05.041Z"
   },
   {
    "duration": 264,
    "start_time": "2022-10-26T04:40:30.154Z"
   },
   {
    "duration": 2,
    "start_time": "2022-10-26T04:46:13.440Z"
   },
   {
    "duration": 258,
    "start_time": "2022-10-26T04:46:59.784Z"
   },
   {
    "duration": 430,
    "start_time": "2022-10-26T04:47:21.187Z"
   },
   {
    "duration": 716,
    "start_time": "2022-10-26T04:47:21.620Z"
   },
   {
    "duration": 2,
    "start_time": "2022-10-26T04:47:22.340Z"
   },
   {
    "duration": 3,
    "start_time": "2022-10-26T04:47:22.345Z"
   },
   {
    "duration": 65,
    "start_time": "2022-10-26T04:47:22.350Z"
   },
   {
    "duration": 16,
    "start_time": "2022-10-26T04:47:22.417Z"
   },
   {
    "duration": 15,
    "start_time": "2022-10-26T04:47:22.435Z"
   },
   {
    "duration": 35,
    "start_time": "2022-10-26T04:47:22.451Z"
   },
   {
    "duration": 3,
    "start_time": "2022-10-26T04:47:22.487Z"
   },
   {
    "duration": 20,
    "start_time": "2022-10-26T04:47:22.491Z"
   },
   {
    "duration": 7,
    "start_time": "2022-10-26T04:47:22.512Z"
   },
   {
    "duration": 12,
    "start_time": "2022-10-26T04:47:22.521Z"
   },
   {
    "duration": 18,
    "start_time": "2022-10-26T04:47:22.536Z"
   },
   {
    "duration": 68,
    "start_time": "2022-10-26T04:47:22.555Z"
   },
   {
    "duration": 11,
    "start_time": "2022-10-26T04:47:22.625Z"
   },
   {
    "duration": 12,
    "start_time": "2022-10-26T04:47:22.637Z"
   },
   {
    "duration": 5,
    "start_time": "2022-10-26T04:47:22.650Z"
   },
   {
    "duration": 10,
    "start_time": "2022-10-26T04:47:22.656Z"
   },
   {
    "duration": 181,
    "start_time": "2022-10-26T04:47:22.668Z"
   },
   {
    "duration": 8,
    "start_time": "2022-10-26T04:47:22.850Z"
   },
   {
    "duration": 59,
    "start_time": "2022-10-26T04:47:22.859Z"
   },
   {
    "duration": 8,
    "start_time": "2022-10-26T04:47:22.920Z"
   },
   {
    "duration": 19,
    "start_time": "2022-10-26T04:47:22.930Z"
   },
   {
    "duration": 21,
    "start_time": "2022-10-26T04:47:22.951Z"
   },
   {
    "duration": 8,
    "start_time": "2022-10-26T04:47:22.973Z"
   },
   {
    "duration": 338,
    "start_time": "2022-10-26T04:47:22.983Z"
   },
   {
    "duration": 59,
    "start_time": "2022-10-26T04:47:23.323Z"
   },
   {
    "duration": 192,
    "start_time": "2022-10-26T04:47:23.383Z"
   },
   {
    "duration": 17,
    "start_time": "2022-10-26T04:47:23.576Z"
   },
   {
    "duration": 269,
    "start_time": "2022-10-26T04:47:23.595Z"
   },
   {
    "duration": 344,
    "start_time": "2022-10-26T04:47:23.866Z"
   },
   {
    "duration": 297,
    "start_time": "2022-10-26T04:47:24.212Z"
   },
   {
    "duration": 287,
    "start_time": "2022-10-26T04:47:24.511Z"
   },
   {
    "duration": 39,
    "start_time": "2022-10-26T04:47:24.800Z"
   },
   {
    "duration": 0,
    "start_time": "2022-10-26T04:47:24.841Z"
   },
   {
    "duration": 0,
    "start_time": "2022-10-26T04:47:24.842Z"
   },
   {
    "duration": 0,
    "start_time": "2022-10-26T04:47:24.844Z"
   },
   {
    "duration": 1,
    "start_time": "2022-10-26T04:47:24.845Z"
   },
   {
    "duration": 0,
    "start_time": "2022-10-26T04:47:24.846Z"
   },
   {
    "duration": 0,
    "start_time": "2022-10-26T04:47:24.848Z"
   },
   {
    "duration": 0,
    "start_time": "2022-10-26T04:47:24.849Z"
   },
   {
    "duration": 0,
    "start_time": "2022-10-26T04:47:24.851Z"
   },
   {
    "duration": 0,
    "start_time": "2022-10-26T04:47:24.853Z"
   },
   {
    "duration": 279,
    "start_time": "2022-10-26T04:47:39.410Z"
   },
   {
    "duration": 258,
    "start_time": "2022-10-26T04:49:47.961Z"
   },
   {
    "duration": 266,
    "start_time": "2022-10-26T04:50:06.607Z"
   },
   {
    "duration": 126,
    "start_time": "2022-10-26T04:51:01.431Z"
   },
   {
    "duration": 146,
    "start_time": "2022-10-26T04:59:51.086Z"
   },
   {
    "duration": 262,
    "start_time": "2022-10-26T05:00:04.868Z"
   },
   {
    "duration": 191,
    "start_time": "2022-10-26T05:00:11.661Z"
   },
   {
    "duration": 215,
    "start_time": "2022-10-26T05:00:18.222Z"
   },
   {
    "duration": 129,
    "start_time": "2022-10-26T05:05:21.621Z"
   },
   {
    "duration": 141,
    "start_time": "2022-10-26T05:05:34.561Z"
   },
   {
    "duration": 134,
    "start_time": "2022-10-26T05:05:48.627Z"
   },
   {
    "duration": 130,
    "start_time": "2022-10-26T05:08:20.752Z"
   },
   {
    "duration": 128,
    "start_time": "2022-10-26T05:08:39.325Z"
   },
   {
    "duration": 135,
    "start_time": "2022-10-26T05:09:42.160Z"
   },
   {
    "duration": 139,
    "start_time": "2022-10-26T05:10:29.162Z"
   },
   {
    "duration": 372,
    "start_time": "2022-10-26T05:19:18.244Z"
   },
   {
    "duration": 716,
    "start_time": "2022-10-26T05:19:18.619Z"
   },
   {
    "duration": 3,
    "start_time": "2022-10-26T05:19:19.336Z"
   },
   {
    "duration": 4,
    "start_time": "2022-10-26T05:19:19.341Z"
   },
   {
    "duration": 57,
    "start_time": "2022-10-26T05:19:19.346Z"
   },
   {
    "duration": 16,
    "start_time": "2022-10-26T05:19:19.404Z"
   },
   {
    "duration": 13,
    "start_time": "2022-10-26T05:19:19.422Z"
   },
   {
    "duration": 25,
    "start_time": "2022-10-26T05:19:19.436Z"
   },
   {
    "duration": 2,
    "start_time": "2022-10-26T05:19:19.463Z"
   },
   {
    "duration": 9,
    "start_time": "2022-10-26T05:19:19.468Z"
   },
   {
    "duration": 32,
    "start_time": "2022-10-26T05:19:19.478Z"
   },
   {
    "duration": 12,
    "start_time": "2022-10-26T05:19:19.512Z"
   },
   {
    "duration": 18,
    "start_time": "2022-10-26T05:19:19.526Z"
   },
   {
    "duration": 68,
    "start_time": "2022-10-26T05:19:19.545Z"
   },
   {
    "duration": 8,
    "start_time": "2022-10-26T05:19:19.615Z"
   },
   {
    "duration": 11,
    "start_time": "2022-10-26T05:19:19.624Z"
   },
   {
    "duration": 5,
    "start_time": "2022-10-26T05:19:19.636Z"
   },
   {
    "duration": 8,
    "start_time": "2022-10-26T05:19:19.643Z"
   },
   {
    "duration": 169,
    "start_time": "2022-10-26T05:19:19.652Z"
   },
   {
    "duration": 8,
    "start_time": "2022-10-26T05:19:19.822Z"
   },
   {
    "duration": 49,
    "start_time": "2022-10-26T05:19:19.832Z"
   },
   {
    "duration": 30,
    "start_time": "2022-10-26T05:19:19.882Z"
   },
   {
    "duration": 4,
    "start_time": "2022-10-26T05:19:19.913Z"
   },
   {
    "duration": 23,
    "start_time": "2022-10-26T05:19:19.918Z"
   },
   {
    "duration": 7,
    "start_time": "2022-10-26T05:19:19.943Z"
   },
   {
    "duration": 352,
    "start_time": "2022-10-26T05:19:19.952Z"
   },
   {
    "duration": 62,
    "start_time": "2022-10-26T05:19:20.305Z"
   },
   {
    "duration": 181,
    "start_time": "2022-10-26T05:19:20.370Z"
   },
   {
    "duration": 16,
    "start_time": "2022-10-26T05:19:20.553Z"
   },
   {
    "duration": 274,
    "start_time": "2022-10-26T05:19:20.570Z"
   },
   {
    "duration": 353,
    "start_time": "2022-10-26T05:19:20.846Z"
   },
   {
    "duration": 291,
    "start_time": "2022-10-26T05:19:21.200Z"
   },
   {
    "duration": 267,
    "start_time": "2022-10-26T05:19:21.492Z"
   },
   {
    "duration": 143,
    "start_time": "2022-10-26T05:19:21.760Z"
   },
   {
    "duration": 150,
    "start_time": "2022-10-26T05:19:21.909Z"
   },
   {
    "duration": 2,
    "start_time": "2022-10-26T05:19:22.061Z"
   },
   {
    "duration": 155,
    "start_time": "2022-10-26T06:22:52.272Z"
   },
   {
    "duration": 180,
    "start_time": "2022-10-26T06:23:29.910Z"
   },
   {
    "duration": 411,
    "start_time": "2022-10-26T06:23:41.103Z"
   },
   {
    "duration": 728,
    "start_time": "2022-10-26T06:23:41.516Z"
   },
   {
    "duration": 3,
    "start_time": "2022-10-26T06:23:42.246Z"
   },
   {
    "duration": 4,
    "start_time": "2022-10-26T06:23:42.251Z"
   },
   {
    "duration": 60,
    "start_time": "2022-10-26T06:23:42.257Z"
   },
   {
    "duration": 17,
    "start_time": "2022-10-26T06:23:42.318Z"
   },
   {
    "duration": 14,
    "start_time": "2022-10-26T06:23:42.338Z"
   },
   {
    "duration": 26,
    "start_time": "2022-10-26T06:23:42.354Z"
   },
   {
    "duration": 28,
    "start_time": "2022-10-26T06:23:42.382Z"
   },
   {
    "duration": 11,
    "start_time": "2022-10-26T06:23:42.414Z"
   },
   {
    "duration": 6,
    "start_time": "2022-10-26T06:23:42.426Z"
   },
   {
    "duration": 12,
    "start_time": "2022-10-26T06:23:42.433Z"
   },
   {
    "duration": 19,
    "start_time": "2022-10-26T06:23:42.446Z"
   },
   {
    "duration": 54,
    "start_time": "2022-10-26T06:23:42.508Z"
   },
   {
    "duration": 10,
    "start_time": "2022-10-26T06:23:42.564Z"
   },
   {
    "duration": 39,
    "start_time": "2022-10-26T06:23:42.576Z"
   },
   {
    "duration": 12,
    "start_time": "2022-10-26T06:23:42.617Z"
   },
   {
    "duration": 14,
    "start_time": "2022-10-26T06:23:42.631Z"
   },
   {
    "duration": 164,
    "start_time": "2022-10-26T06:23:42.646Z"
   },
   {
    "duration": 9,
    "start_time": "2022-10-26T06:23:42.811Z"
   },
   {
    "duration": 56,
    "start_time": "2022-10-26T06:23:42.821Z"
   },
   {
    "duration": 31,
    "start_time": "2022-10-26T06:23:42.879Z"
   },
   {
    "duration": 5,
    "start_time": "2022-10-26T06:23:42.911Z"
   },
   {
    "duration": 18,
    "start_time": "2022-10-26T06:23:42.917Z"
   },
   {
    "duration": 7,
    "start_time": "2022-10-26T06:23:42.937Z"
   },
   {
    "duration": 390,
    "start_time": "2022-10-26T06:23:42.945Z"
   },
   {
    "duration": 101,
    "start_time": "2022-10-26T06:23:43.337Z"
   },
   {
    "duration": 176,
    "start_time": "2022-10-26T06:23:43.443Z"
   },
   {
    "duration": 15,
    "start_time": "2022-10-26T06:23:43.620Z"
   },
   {
    "duration": 249,
    "start_time": "2022-10-26T06:23:43.636Z"
   },
   {
    "duration": 359,
    "start_time": "2022-10-26T06:23:43.886Z"
   },
   {
    "duration": 331,
    "start_time": "2022-10-26T06:23:44.246Z"
   },
   {
    "duration": 282,
    "start_time": "2022-10-26T06:23:44.578Z"
   },
   {
    "duration": 166,
    "start_time": "2022-10-26T06:23:44.862Z"
   },
   {
    "duration": 168,
    "start_time": "2022-10-26T06:23:45.030Z"
   },
   {
    "duration": 3,
    "start_time": "2022-10-26T06:23:45.199Z"
   },
   {
    "duration": 197,
    "start_time": "2022-10-26T06:23:45.208Z"
   },
   {
    "duration": 201,
    "start_time": "2022-10-26T06:23:45.409Z"
   },
   {
    "duration": 227,
    "start_time": "2022-10-26T06:23:45.612Z"
   },
   {
    "duration": 3,
    "start_time": "2022-10-26T06:23:45.841Z"
   },
   {
    "duration": 25,
    "start_time": "2022-10-26T06:23:45.846Z"
   },
   {
    "duration": 8,
    "start_time": "2022-10-26T06:23:45.873Z"
   },
   {
    "duration": 163,
    "start_time": "2022-10-26T06:25:01.516Z"
   },
   {
    "duration": 173,
    "start_time": "2022-10-26T06:26:27.608Z"
   },
   {
    "duration": 252,
    "start_time": "2022-10-26T06:26:56.573Z"
   },
   {
    "duration": 159,
    "start_time": "2022-10-26T06:27:11.621Z"
   },
   {
    "duration": 170,
    "start_time": "2022-10-26T06:27:54.636Z"
   },
   {
    "duration": 152,
    "start_time": "2022-10-26T06:28:32.848Z"
   },
   {
    "duration": 183,
    "start_time": "2022-10-26T06:36:36.504Z"
   },
   {
    "duration": 238,
    "start_time": "2022-10-26T06:36:53.731Z"
   },
   {
    "duration": 144,
    "start_time": "2022-10-26T06:37:59.045Z"
   },
   {
    "duration": 176,
    "start_time": "2022-10-26T06:38:25.724Z"
   },
   {
    "duration": 164,
    "start_time": "2022-10-26T06:39:12.948Z"
   },
   {
    "duration": 155,
    "start_time": "2022-10-26T06:39:21.142Z"
   },
   {
    "duration": 164,
    "start_time": "2022-10-26T06:40:22.686Z"
   },
   {
    "duration": 135,
    "start_time": "2022-10-26T06:40:27.436Z"
   },
   {
    "duration": 166,
    "start_time": "2022-10-26T06:54:20.623Z"
   },
   {
    "duration": 205,
    "start_time": "2022-10-26T06:55:56.731Z"
   },
   {
    "duration": 204,
    "start_time": "2022-10-26T06:57:03.695Z"
   },
   {
    "duration": 323,
    "start_time": "2022-10-26T06:57:17.777Z"
   },
   {
    "duration": 214,
    "start_time": "2022-10-26T06:57:29.375Z"
   },
   {
    "duration": 202,
    "start_time": "2022-10-26T06:57:40.077Z"
   },
   {
    "duration": 265,
    "start_time": "2022-10-26T07:00:31.084Z"
   },
   {
    "duration": 171,
    "start_time": "2022-10-26T07:08:01.130Z"
   },
   {
    "duration": 196,
    "start_time": "2022-10-26T07:08:14.208Z"
   },
   {
    "duration": 176,
    "start_time": "2022-10-26T07:08:59.303Z"
   },
   {
    "duration": 185,
    "start_time": "2022-10-26T07:09:12.834Z"
   },
   {
    "duration": 201,
    "start_time": "2022-10-26T07:09:52.855Z"
   },
   {
    "duration": 168,
    "start_time": "2022-10-26T07:15:53.751Z"
   },
   {
    "duration": 182,
    "start_time": "2022-10-26T07:19:51.443Z"
   },
   {
    "duration": 177,
    "start_time": "2022-10-26T07:20:05.670Z"
   },
   {
    "duration": 199,
    "start_time": "2022-10-26T07:22:45.702Z"
   },
   {
    "duration": 310,
    "start_time": "2022-10-26T07:24:15.788Z"
   },
   {
    "duration": 409,
    "start_time": "2022-10-26T07:32:20.172Z"
   },
   {
    "duration": 843,
    "start_time": "2022-10-26T07:32:20.583Z"
   },
   {
    "duration": 10,
    "start_time": "2022-10-26T07:32:21.428Z"
   },
   {
    "duration": 57,
    "start_time": "2022-10-26T07:32:21.440Z"
   },
   {
    "duration": 99,
    "start_time": "2022-10-26T07:32:21.499Z"
   },
   {
    "duration": 37,
    "start_time": "2022-10-26T07:32:21.600Z"
   },
   {
    "duration": 46,
    "start_time": "2022-10-26T07:32:21.639Z"
   },
   {
    "duration": 97,
    "start_time": "2022-10-26T07:32:21.686Z"
   },
   {
    "duration": 4,
    "start_time": "2022-10-26T07:32:21.784Z"
   },
   {
    "duration": 22,
    "start_time": "2022-10-26T07:32:21.790Z"
   },
   {
    "duration": 71,
    "start_time": "2022-10-26T07:32:21.813Z"
   },
   {
    "duration": 79,
    "start_time": "2022-10-26T07:32:21.885Z"
   },
   {
    "duration": 56,
    "start_time": "2022-10-26T07:32:21.966Z"
   },
   {
    "duration": 142,
    "start_time": "2022-10-26T07:32:22.023Z"
   },
   {
    "duration": 9,
    "start_time": "2022-10-26T07:32:22.167Z"
   },
   {
    "duration": 95,
    "start_time": "2022-10-26T07:32:22.178Z"
   },
   {
    "duration": 66,
    "start_time": "2022-10-26T07:32:22.274Z"
   },
   {
    "duration": 47,
    "start_time": "2022-10-26T07:32:22.342Z"
   },
   {
    "duration": 261,
    "start_time": "2022-10-26T07:32:22.390Z"
   },
   {
    "duration": 15,
    "start_time": "2022-10-26T07:32:22.653Z"
   },
   {
    "duration": 129,
    "start_time": "2022-10-26T07:32:22.670Z"
   },
   {
    "duration": 21,
    "start_time": "2022-10-26T07:32:22.801Z"
   },
   {
    "duration": 43,
    "start_time": "2022-10-26T07:32:22.824Z"
   },
   {
    "duration": 59,
    "start_time": "2022-10-26T07:32:22.869Z"
   },
   {
    "duration": 51,
    "start_time": "2022-10-26T07:32:22.929Z"
   },
   {
    "duration": 526,
    "start_time": "2022-10-26T07:32:22.982Z"
   },
   {
    "duration": 123,
    "start_time": "2022-10-26T07:32:23.520Z"
   },
   {
    "duration": 218,
    "start_time": "2022-10-26T07:32:23.651Z"
   },
   {
    "duration": 16,
    "start_time": "2022-10-26T07:32:23.871Z"
   },
   {
    "duration": 368,
    "start_time": "2022-10-26T07:32:23.888Z"
   },
   {
    "duration": 521,
    "start_time": "2022-10-26T07:32:24.258Z"
   },
   {
    "duration": 390,
    "start_time": "2022-10-26T07:32:24.783Z"
   },
   {
    "duration": 325,
    "start_time": "2022-10-26T07:32:25.175Z"
   },
   {
    "duration": 207,
    "start_time": "2022-10-26T07:32:25.501Z"
   },
   {
    "duration": 217,
    "start_time": "2022-10-26T07:32:25.712Z"
   },
   {
    "duration": 189,
    "start_time": "2022-10-26T07:32:25.931Z"
   },
   {
    "duration": 199,
    "start_time": "2022-10-26T07:32:26.122Z"
   },
   {
    "duration": 245,
    "start_time": "2022-10-26T07:32:26.324Z"
   },
   {
    "duration": 3,
    "start_time": "2022-10-26T07:32:26.571Z"
   },
   {
    "duration": 284,
    "start_time": "2022-10-26T07:32:26.576Z"
   },
   {
    "duration": 297,
    "start_time": "2022-10-26T07:32:26.861Z"
   },
   {
    "duration": 451,
    "start_time": "2022-10-26T07:32:27.161Z"
   },
   {
    "duration": 3,
    "start_time": "2022-10-26T07:32:27.613Z"
   },
   {
    "duration": 25,
    "start_time": "2022-10-26T07:32:27.617Z"
   },
   {
    "duration": 73,
    "start_time": "2022-10-26T07:32:27.644Z"
   },
   {
    "duration": 312,
    "start_time": "2022-10-26T08:06:19.782Z"
   },
   {
    "duration": 227,
    "start_time": "2022-10-26T08:06:44.541Z"
   },
   {
    "duration": 266,
    "start_time": "2022-10-26T08:07:48.700Z"
   },
   {
    "duration": 261,
    "start_time": "2022-10-26T08:10:00.492Z"
   },
   {
    "duration": 18,
    "start_time": "2022-10-26T08:11:57.280Z"
   },
   {
    "duration": 270,
    "start_time": "2022-10-26T08:12:30.696Z"
   },
   {
    "duration": 255,
    "start_time": "2022-10-26T08:12:52.795Z"
   },
   {
    "duration": 193,
    "start_time": "2022-10-26T08:26:07.973Z"
   },
   {
    "duration": 236,
    "start_time": "2022-10-26T08:26:13.896Z"
   },
   {
    "duration": 219,
    "start_time": "2022-10-26T09:08:47.581Z"
   },
   {
    "duration": 221,
    "start_time": "2022-10-26T09:11:33.858Z"
   },
   {
    "duration": 211,
    "start_time": "2022-10-26T09:12:13.786Z"
   },
   {
    "duration": 230,
    "start_time": "2022-10-26T09:13:00.738Z"
   },
   {
    "duration": 9,
    "start_time": "2022-10-26T09:14:22.237Z"
   },
   {
    "duration": 266,
    "start_time": "2022-10-26T09:24:05.072Z"
   },
   {
    "duration": 198,
    "start_time": "2022-10-26T09:25:01.969Z"
   },
   {
    "duration": 197,
    "start_time": "2022-10-26T09:25:24.175Z"
   },
   {
    "duration": 15,
    "start_time": "2022-10-26T09:27:09.948Z"
   },
   {
    "duration": 221,
    "start_time": "2022-10-26T09:27:58.532Z"
   },
   {
    "duration": 221,
    "start_time": "2022-10-26T09:29:36.437Z"
   },
   {
    "duration": 299,
    "start_time": "2022-10-26T10:33:07.794Z"
   },
   {
    "duration": 207,
    "start_time": "2022-10-26T10:34:18.517Z"
   },
   {
    "duration": 204,
    "start_time": "2022-10-26T10:34:27.570Z"
   },
   {
    "duration": 203,
    "start_time": "2022-10-26T10:37:29.593Z"
   },
   {
    "duration": 49,
    "start_time": "2022-10-26T12:13:11.417Z"
   },
   {
    "duration": 51,
    "start_time": "2022-10-26T12:13:17.911Z"
   },
   {
    "duration": 398,
    "start_time": "2022-10-26T12:13:25.429Z"
   },
   {
    "duration": 764,
    "start_time": "2022-10-26T12:13:25.829Z"
   },
   {
    "duration": 3,
    "start_time": "2022-10-26T12:13:26.595Z"
   },
   {
    "duration": 9,
    "start_time": "2022-10-26T12:13:26.600Z"
   },
   {
    "duration": 58,
    "start_time": "2022-10-26T12:13:26.612Z"
   },
   {
    "duration": 17,
    "start_time": "2022-10-26T12:13:26.672Z"
   },
   {
    "duration": 15,
    "start_time": "2022-10-26T12:13:26.691Z"
   },
   {
    "duration": 26,
    "start_time": "2022-10-26T12:13:26.707Z"
   },
   {
    "duration": 3,
    "start_time": "2022-10-26T12:13:26.735Z"
   },
   {
    "duration": 10,
    "start_time": "2022-10-26T12:13:26.740Z"
   },
   {
    "duration": 6,
    "start_time": "2022-10-26T12:13:26.752Z"
   },
   {
    "duration": 12,
    "start_time": "2022-10-26T12:13:26.760Z"
   },
   {
    "duration": 45,
    "start_time": "2022-10-26T12:13:26.774Z"
   },
   {
    "duration": 53,
    "start_time": "2022-10-26T12:13:26.823Z"
   },
   {
    "duration": 32,
    "start_time": "2022-10-26T12:13:26.878Z"
   },
   {
    "duration": 12,
    "start_time": "2022-10-26T12:13:26.912Z"
   },
   {
    "duration": 9,
    "start_time": "2022-10-26T12:13:26.927Z"
   },
   {
    "duration": 11,
    "start_time": "2022-10-26T12:13:26.937Z"
   },
   {
    "duration": 90,
    "start_time": "2022-10-26T12:13:26.950Z"
   },
   {
    "duration": 9,
    "start_time": "2022-10-26T12:13:27.042Z"
   },
   {
    "duration": 68,
    "start_time": "2022-10-26T12:13:27.054Z"
   },
   {
    "duration": 8,
    "start_time": "2022-10-26T12:13:27.124Z"
   },
   {
    "duration": 9,
    "start_time": "2022-10-26T12:13:27.133Z"
   },
   {
    "duration": 16,
    "start_time": "2022-10-26T12:13:27.144Z"
   },
   {
    "duration": 14,
    "start_time": "2022-10-26T12:13:27.161Z"
   },
   {
    "duration": 375,
    "start_time": "2022-10-26T12:13:27.176Z"
   },
   {
    "duration": 75,
    "start_time": "2022-10-26T12:13:27.553Z"
   },
   {
    "duration": 183,
    "start_time": "2022-10-26T12:13:27.630Z"
   },
   {
    "duration": 16,
    "start_time": "2022-10-26T12:13:27.814Z"
   },
   {
    "duration": 292,
    "start_time": "2022-10-26T12:13:27.832Z"
   },
   {
    "duration": 383,
    "start_time": "2022-10-26T12:13:28.126Z"
   },
   {
    "duration": 286,
    "start_time": "2022-10-26T12:13:28.511Z"
   },
   {
    "duration": 276,
    "start_time": "2022-10-26T12:13:28.798Z"
   },
   {
    "duration": 178,
    "start_time": "2022-10-26T12:13:29.076Z"
   },
   {
    "duration": 190,
    "start_time": "2022-10-26T12:13:29.255Z"
   },
   {
    "duration": 166,
    "start_time": "2022-10-26T12:13:29.447Z"
   },
   {
    "duration": 163,
    "start_time": "2022-10-26T12:13:29.615Z"
   },
   {
    "duration": 190,
    "start_time": "2022-10-26T12:13:29.779Z"
   },
   {
    "duration": 182,
    "start_time": "2022-10-26T12:13:29.971Z"
   },
   {
    "duration": 187,
    "start_time": "2022-10-26T12:13:30.155Z"
   },
   {
    "duration": 318,
    "start_time": "2022-10-26T12:13:30.347Z"
   },
   {
    "duration": 2,
    "start_time": "2022-10-26T12:13:30.667Z"
   },
   {
    "duration": 38,
    "start_time": "2022-10-26T12:13:30.671Z"
   },
   {
    "duration": 43,
    "start_time": "2022-10-26T12:13:30.711Z"
   },
   {
    "duration": 46,
    "start_time": "2022-10-26T12:13:54.802Z"
   },
   {
    "duration": 22,
    "start_time": "2022-10-26T12:56:34.898Z"
   },
   {
    "duration": 23,
    "start_time": "2022-10-26T12:56:44.434Z"
   },
   {
    "duration": 9,
    "start_time": "2022-10-26T12:56:46.021Z"
   },
   {
    "duration": 16,
    "start_time": "2022-10-26T12:56:51.829Z"
   },
   {
    "duration": 20,
    "start_time": "2022-10-26T13:10:10.508Z"
   },
   {
    "duration": 8,
    "start_time": "2022-10-26T13:29:20.121Z"
   },
   {
    "duration": 9,
    "start_time": "2022-10-26T13:32:46.183Z"
   },
   {
    "duration": 17,
    "start_time": "2022-10-26T13:45:17.138Z"
   },
   {
    "duration": 17,
    "start_time": "2022-10-26T13:45:32.918Z"
   },
   {
    "duration": 8,
    "start_time": "2022-10-26T13:46:07.034Z"
   },
   {
    "duration": 367,
    "start_time": "2022-10-26T14:20:56.565Z"
   },
   {
    "duration": 717,
    "start_time": "2022-10-26T14:20:56.934Z"
   },
   {
    "duration": 3,
    "start_time": "2022-10-26T14:20:57.653Z"
   },
   {
    "duration": 7,
    "start_time": "2022-10-26T14:20:57.658Z"
   },
   {
    "duration": 54,
    "start_time": "2022-10-26T14:20:57.667Z"
   },
   {
    "duration": 15,
    "start_time": "2022-10-26T14:20:57.723Z"
   },
   {
    "duration": 19,
    "start_time": "2022-10-26T14:20:57.740Z"
   },
   {
    "duration": 26,
    "start_time": "2022-10-26T14:20:57.761Z"
   },
   {
    "duration": 2,
    "start_time": "2022-10-26T14:20:57.789Z"
   },
   {
    "duration": 9,
    "start_time": "2022-10-26T14:20:57.810Z"
   },
   {
    "duration": 5,
    "start_time": "2022-10-26T14:20:57.820Z"
   },
   {
    "duration": 11,
    "start_time": "2022-10-26T14:20:57.827Z"
   },
   {
    "duration": 17,
    "start_time": "2022-10-26T14:20:57.839Z"
   },
   {
    "duration": 80,
    "start_time": "2022-10-26T14:20:57.858Z"
   },
   {
    "duration": 8,
    "start_time": "2022-10-26T14:20:57.940Z"
   },
   {
    "duration": 15,
    "start_time": "2022-10-26T14:20:57.949Z"
   },
   {
    "duration": 4,
    "start_time": "2022-10-26T14:20:57.966Z"
   },
   {
    "duration": 10,
    "start_time": "2022-10-26T14:20:57.972Z"
   },
   {
    "duration": 80,
    "start_time": "2022-10-26T14:20:57.983Z"
   },
   {
    "duration": 8,
    "start_time": "2022-10-26T14:20:58.065Z"
   },
   {
    "duration": 56,
    "start_time": "2022-10-26T14:20:58.074Z"
   },
   {
    "duration": 8,
    "start_time": "2022-10-26T14:20:58.132Z"
   },
   {
    "duration": 6,
    "start_time": "2022-10-26T14:20:58.141Z"
   },
   {
    "duration": 21,
    "start_time": "2022-10-26T14:20:58.148Z"
   },
   {
    "duration": 7,
    "start_time": "2022-10-26T14:20:58.172Z"
   },
   {
    "duration": 368,
    "start_time": "2022-10-26T14:20:58.180Z"
   },
   {
    "duration": 62,
    "start_time": "2022-10-26T14:20:58.550Z"
   },
   {
    "duration": 183,
    "start_time": "2022-10-26T14:20:58.615Z"
   },
   {
    "duration": 21,
    "start_time": "2022-10-26T14:20:58.800Z"
   },
   {
    "duration": 269,
    "start_time": "2022-10-26T14:20:58.823Z"
   },
   {
    "duration": 380,
    "start_time": "2022-10-26T14:20:59.094Z"
   },
   {
    "duration": 288,
    "start_time": "2022-10-26T14:20:59.475Z"
   },
   {
    "duration": 276,
    "start_time": "2022-10-26T14:20:59.765Z"
   },
   {
    "duration": 182,
    "start_time": "2022-10-26T14:21:00.043Z"
   },
   {
    "duration": 189,
    "start_time": "2022-10-26T14:21:00.226Z"
   },
   {
    "duration": 160,
    "start_time": "2022-10-26T14:21:00.417Z"
   },
   {
    "duration": 174,
    "start_time": "2022-10-26T14:21:00.579Z"
   },
   {
    "duration": 184,
    "start_time": "2022-10-26T14:21:00.755Z"
   },
   {
    "duration": 192,
    "start_time": "2022-10-26T14:21:00.941Z"
   },
   {
    "duration": 195,
    "start_time": "2022-10-26T14:21:01.135Z"
   },
   {
    "duration": 310,
    "start_time": "2022-10-26T14:21:01.331Z"
   },
   {
    "duration": 17,
    "start_time": "2022-10-26T14:21:01.642Z"
   },
   {
    "duration": 9,
    "start_time": "2022-10-26T14:21:01.661Z"
   },
   {
    "duration": 272,
    "start_time": "2022-10-26T14:21:35.158Z"
   },
   {
    "duration": 361,
    "start_time": "2022-10-26T18:25:20.027Z"
   },
   {
    "duration": 653,
    "start_time": "2022-10-26T18:25:20.432Z"
   },
   {
    "duration": 2,
    "start_time": "2022-10-26T18:25:21.086Z"
   },
   {
    "duration": 2,
    "start_time": "2022-10-26T18:25:21.205Z"
   },
   {
    "duration": 94,
    "start_time": "2022-10-26T18:25:29.278Z"
   },
   {
    "duration": 2,
    "start_time": "2022-10-26T18:25:36.583Z"
   },
   {
    "duration": 3,
    "start_time": "2022-10-26T18:25:36.852Z"
   },
   {
    "duration": 2,
    "start_time": "2022-10-26T18:25:37.068Z"
   },
   {
    "duration": 3,
    "start_time": "2022-10-26T18:25:37.312Z"
   },
   {
    "duration": 50,
    "start_time": "2022-10-26T18:25:37.541Z"
   },
   {
    "duration": 16,
    "start_time": "2022-10-26T18:25:38.656Z"
   },
   {
    "duration": 14,
    "start_time": "2022-10-26T18:25:39.319Z"
   },
   {
    "duration": 17,
    "start_time": "2022-10-26T18:25:41.671Z"
   },
   {
    "duration": 25,
    "start_time": "2022-10-26T18:25:49.448Z"
   },
   {
    "duration": 3,
    "start_time": "2022-10-26T18:25:49.932Z"
   },
   {
    "duration": 8,
    "start_time": "2022-10-26T18:25:50.093Z"
   },
   {
    "duration": 4,
    "start_time": "2022-10-26T18:25:50.261Z"
   },
   {
    "duration": 9,
    "start_time": "2022-10-26T18:25:50.429Z"
   },
   {
    "duration": 18,
    "start_time": "2022-10-26T18:25:50.849Z"
   },
   {
    "duration": 46,
    "start_time": "2022-10-26T18:25:51.012Z"
   },
   {
    "duration": 8,
    "start_time": "2022-10-26T18:25:51.365Z"
   },
   {
    "duration": 12,
    "start_time": "2022-10-26T18:25:51.541Z"
   },
   {
    "duration": 5,
    "start_time": "2022-10-26T18:25:51.715Z"
   },
   {
    "duration": 8,
    "start_time": "2022-10-26T18:25:51.892Z"
   },
   {
    "duration": 55,
    "start_time": "2022-10-26T18:25:52.072Z"
   },
   {
    "duration": 8,
    "start_time": "2022-10-26T18:25:52.248Z"
   },
   {
    "duration": 39,
    "start_time": "2022-10-26T18:25:52.421Z"
   },
   {
    "duration": 8,
    "start_time": "2022-10-26T18:25:52.605Z"
   },
   {
    "duration": 4,
    "start_time": "2022-10-26T18:25:52.789Z"
   },
   {
    "duration": 15,
    "start_time": "2022-10-26T18:25:52.983Z"
   },
   {
    "duration": 19,
    "start_time": "2022-10-26T18:26:02.156Z"
   },
   {
    "duration": 5,
    "start_time": "2022-10-26T18:29:23.013Z"
   },
   {
    "duration": 15,
    "start_time": "2022-10-26T18:29:23.475Z"
   },
   {
    "duration": 6,
    "start_time": "2022-10-26T18:29:23.833Z"
   },
   {
    "duration": 344,
    "start_time": "2022-10-26T18:29:23.994Z"
   },
   {
    "duration": 84,
    "start_time": "2022-10-26T18:29:28.851Z"
   },
   {
    "duration": 175,
    "start_time": "2022-10-26T18:29:29.771Z"
   },
   {
    "duration": 55,
    "start_time": "2022-10-26T18:30:32.111Z"
   },
   {
    "duration": 15,
    "start_time": "2022-10-26T18:30:35.278Z"
   },
   {
    "duration": 252,
    "start_time": "2022-10-26T18:30:35.583Z"
   },
   {
    "duration": 4,
    "start_time": "2022-10-26T18:30:42.792Z"
   },
   {
    "duration": 52,
    "start_time": "2022-10-26T18:30:47.973Z"
   },
   {
    "duration": 4,
    "start_time": "2022-10-26T18:30:52.966Z"
   },
   {
    "duration": 291,
    "start_time": "2022-10-26T18:30:59.585Z"
   },
   {
    "duration": 43,
    "start_time": "2022-10-26T18:31:07.887Z"
   },
   {
    "duration": 50,
    "start_time": "2022-10-26T18:31:13.992Z"
   },
   {
    "duration": 66,
    "start_time": "2022-10-26T18:31:21.264Z"
   },
   {
    "duration": 221,
    "start_time": "2022-10-26T18:31:34.052Z"
   },
   {
    "duration": 251,
    "start_time": "2022-10-26T18:31:53.124Z"
   },
   {
    "duration": 210,
    "start_time": "2022-10-26T18:32:00.935Z"
   },
   {
    "duration": 198,
    "start_time": "2022-10-26T18:32:22.591Z"
   },
   {
    "duration": 241,
    "start_time": "2022-10-26T18:32:27.531Z"
   },
   {
    "duration": 205,
    "start_time": "2022-10-26T18:32:32.755Z"
   },
   {
    "duration": 216,
    "start_time": "2022-10-26T18:32:39.228Z"
   },
   {
    "duration": 266,
    "start_time": "2022-10-26T18:34:42.775Z"
   },
   {
    "duration": 263,
    "start_time": "2022-10-26T18:34:43.173Z"
   },
   {
    "duration": 353,
    "start_time": "2022-10-26T18:34:46.233Z"
   },
   {
    "duration": 43,
    "start_time": "2022-10-26T18:36:54.589Z"
   },
   {
    "duration": 14,
    "start_time": "2022-10-26T18:43:39.453Z"
   },
   {
    "duration": 211,
    "start_time": "2022-10-26T18:43:39.610Z"
   },
   {
    "duration": 255,
    "start_time": "2022-10-26T18:43:40.274Z"
   },
   {
    "duration": 253,
    "start_time": "2022-10-26T18:43:40.530Z"
   },
   {
    "duration": 239,
    "start_time": "2022-10-26T18:43:40.785Z"
   },
   {
    "duration": 162,
    "start_time": "2022-10-26T18:43:41.274Z"
   },
   {
    "duration": 168,
    "start_time": "2022-10-26T18:43:41.635Z"
   },
   {
    "duration": 139,
    "start_time": "2022-10-26T18:43:41.968Z"
   },
   {
    "duration": 139,
    "start_time": "2022-10-26T18:43:42.156Z"
   },
   {
    "duration": 158,
    "start_time": "2022-10-26T18:43:42.524Z"
   },
   {
    "duration": 164,
    "start_time": "2022-10-26T18:43:42.843Z"
   },
   {
    "duration": 266,
    "start_time": "2022-10-26T18:43:43.224Z"
   },
   {
    "duration": 186,
    "start_time": "2022-10-26T18:43:43.573Z"
   },
   {
    "duration": 171,
    "start_time": "2022-10-26T18:44:05.701Z"
   },
   {
    "duration": 167,
    "start_time": "2022-10-26T18:44:12.735Z"
   },
   {
    "duration": 180,
    "start_time": "2022-10-26T18:52:52.653Z"
   },
   {
    "duration": 169,
    "start_time": "2022-10-26T18:52:59.891Z"
   },
   {
    "duration": 172,
    "start_time": "2022-10-26T18:53:05.971Z"
   },
   {
    "duration": 390,
    "start_time": "2022-10-27T05:30:37.001Z"
   },
   {
    "duration": 3,
    "start_time": "2022-10-27T05:57:11.016Z"
   },
   {
    "duration": 79,
    "start_time": "2022-10-27T05:57:14.084Z"
   },
   {
    "duration": 389,
    "start_time": "2022-10-27T05:59:45.964Z"
   },
   {
    "duration": 990,
    "start_time": "2022-10-27T05:59:46.357Z"
   },
   {
    "duration": 3,
    "start_time": "2022-10-27T05:59:47.349Z"
   },
   {
    "duration": 4,
    "start_time": "2022-10-27T05:59:47.354Z"
   },
   {
    "duration": 198,
    "start_time": "2022-10-27T05:59:47.359Z"
   },
   {
    "duration": 20,
    "start_time": "2022-10-27T05:59:47.558Z"
   },
   {
    "duration": 14,
    "start_time": "2022-10-27T05:59:47.580Z"
   },
   {
    "duration": 36,
    "start_time": "2022-10-27T05:59:47.596Z"
   },
   {
    "duration": 3,
    "start_time": "2022-10-27T05:59:47.634Z"
   },
   {
    "duration": 17,
    "start_time": "2022-10-27T05:59:47.639Z"
   },
   {
    "duration": 11,
    "start_time": "2022-10-27T05:59:47.658Z"
   },
   {
    "duration": 34,
    "start_time": "2022-10-27T05:59:47.671Z"
   },
   {
    "duration": 23,
    "start_time": "2022-10-27T05:59:47.706Z"
   },
   {
    "duration": 75,
    "start_time": "2022-10-27T05:59:47.731Z"
   },
   {
    "duration": 11,
    "start_time": "2022-10-27T05:59:47.808Z"
   },
   {
    "duration": 24,
    "start_time": "2022-10-27T05:59:47.821Z"
   },
   {
    "duration": 7,
    "start_time": "2022-10-27T05:59:47.847Z"
   },
   {
    "duration": 27,
    "start_time": "2022-10-27T05:59:47.856Z"
   },
   {
    "duration": 66,
    "start_time": "2022-10-27T05:59:47.885Z"
   },
   {
    "duration": 12,
    "start_time": "2022-10-27T05:59:47.953Z"
   },
   {
    "duration": 24,
    "start_time": "2022-10-27T05:59:47.967Z"
   },
   {
    "duration": 14,
    "start_time": "2022-10-27T05:59:47.993Z"
   },
   {
    "duration": 27,
    "start_time": "2022-10-27T05:59:48.008Z"
   },
   {
    "duration": 20,
    "start_time": "2022-10-27T05:59:48.037Z"
   },
   {
    "duration": 25,
    "start_time": "2022-10-27T05:59:48.059Z"
   },
   {
    "duration": 18,
    "start_time": "2022-10-27T05:59:48.086Z"
   },
   {
    "duration": 372,
    "start_time": "2022-10-27T05:59:48.106Z"
   },
   {
    "duration": 88,
    "start_time": "2022-10-27T05:59:48.482Z"
   },
   {
    "duration": 189,
    "start_time": "2022-10-27T05:59:48.572Z"
   },
   {
    "duration": 33,
    "start_time": "2022-10-27T05:59:48.763Z"
   },
   {
    "duration": 282,
    "start_time": "2022-10-27T05:59:48.798Z"
   },
   {
    "duration": 478,
    "start_time": "2022-10-27T05:59:49.083Z"
   },
   {
    "duration": 311,
    "start_time": "2022-10-27T05:59:49.563Z"
   },
   {
    "duration": 314,
    "start_time": "2022-10-27T05:59:49.876Z"
   },
   {
    "duration": 216,
    "start_time": "2022-10-27T05:59:50.192Z"
   },
   {
    "duration": 241,
    "start_time": "2022-10-27T05:59:50.410Z"
   },
   {
    "duration": 178,
    "start_time": "2022-10-27T05:59:50.653Z"
   },
   {
    "duration": 177,
    "start_time": "2022-10-27T05:59:50.834Z"
   },
   {
    "duration": 206,
    "start_time": "2022-10-27T05:59:51.013Z"
   },
   {
    "duration": 221,
    "start_time": "2022-10-27T05:59:51.221Z"
   },
   {
    "duration": 213,
    "start_time": "2022-10-27T05:59:51.444Z"
   },
   {
    "duration": 327,
    "start_time": "2022-10-27T05:59:51.659Z"
   },
   {
    "duration": 24,
    "start_time": "2022-10-27T05:59:51.999Z"
   },
   {
    "duration": 14,
    "start_time": "2022-10-27T05:59:52.025Z"
   },
   {
    "duration": 7,
    "start_time": "2022-10-27T06:00:10.170Z"
   },
   {
    "duration": 14,
    "start_time": "2022-10-27T06:22:30.125Z"
   },
   {
    "duration": 81,
    "start_time": "2022-10-27T06:23:00.271Z"
   },
   {
    "duration": 200,
    "start_time": "2022-10-27T06:23:50.072Z"
   },
   {
    "duration": 26,
    "start_time": "2022-10-27T06:24:59.976Z"
   },
   {
    "duration": 5,
    "start_time": "2022-10-27T06:25:14.808Z"
   },
   {
    "duration": 244,
    "start_time": "2022-10-27T06:28:05.554Z"
   },
   {
    "duration": 305,
    "start_time": "2022-10-27T06:29:45.319Z"
   },
   {
    "duration": 318,
    "start_time": "2022-10-27T06:30:30.417Z"
   },
   {
    "duration": 344,
    "start_time": "2022-10-27T06:31:29.338Z"
   },
   {
    "duration": 308,
    "start_time": "2022-10-27T06:32:06.667Z"
   },
   {
    "duration": 349,
    "start_time": "2022-10-27T06:32:56.546Z"
   },
   {
    "duration": 288,
    "start_time": "2022-10-27T06:33:42.895Z"
   },
   {
    "duration": 299,
    "start_time": "2022-10-27T06:33:57.302Z"
   },
   {
    "duration": 343,
    "start_time": "2022-10-27T06:34:17.349Z"
   },
   {
    "duration": 498,
    "start_time": "2022-10-27T06:34:34.277Z"
   },
   {
    "duration": 310,
    "start_time": "2022-10-27T06:34:51.461Z"
   },
   {
    "duration": 334,
    "start_time": "2022-10-27T06:35:08.669Z"
   },
   {
    "duration": 316,
    "start_time": "2022-10-27T06:35:20.461Z"
   },
   {
    "duration": 296,
    "start_time": "2022-10-27T06:35:27.700Z"
   },
   {
    "duration": 422,
    "start_time": "2022-10-27T06:43:46.537Z"
   },
   {
    "duration": 289,
    "start_time": "2022-10-27T06:44:49.020Z"
   },
   {
    "duration": 288,
    "start_time": "2022-10-27T06:45:52.023Z"
   },
   {
    "duration": 267,
    "start_time": "2022-10-27T06:46:11.951Z"
   },
   {
    "duration": 274,
    "start_time": "2022-10-27T06:46:20.009Z"
   },
   {
    "duration": 279,
    "start_time": "2022-10-27T06:46:31.432Z"
   },
   {
    "duration": 396,
    "start_time": "2022-10-27T06:46:44.922Z"
   },
   {
    "duration": 261,
    "start_time": "2022-10-27T06:47:59.255Z"
   },
   {
    "duration": 493,
    "start_time": "2022-10-27T06:51:02.765Z"
   },
   {
    "duration": 420,
    "start_time": "2022-10-27T06:51:36.024Z"
   },
   {
    "duration": 198,
    "start_time": "2022-10-27T06:55:35.007Z"
   },
   {
    "duration": 169,
    "start_time": "2022-10-27T06:55:49.906Z"
   },
   {
    "duration": 200,
    "start_time": "2022-10-27T06:57:01.012Z"
   },
   {
    "duration": 156,
    "start_time": "2022-10-27T06:57:30.809Z"
   },
   {
    "duration": 214,
    "start_time": "2022-10-27T06:58:10.249Z"
   },
   {
    "duration": 152,
    "start_time": "2022-10-27T06:58:30.713Z"
   },
   {
    "duration": 173,
    "start_time": "2022-10-27T06:58:59.210Z"
   },
   {
    "duration": 645,
    "start_time": "2022-10-27T07:02:12.356Z"
   },
   {
    "duration": 490,
    "start_time": "2022-10-27T07:09:30.725Z"
   },
   {
    "duration": 451,
    "start_time": "2022-10-27T07:09:42.802Z"
   },
   {
    "duration": 461,
    "start_time": "2022-10-27T07:09:52.224Z"
   },
   {
    "duration": 587,
    "start_time": "2022-10-27T07:10:22.319Z"
   },
   {
    "duration": 648,
    "start_time": "2022-10-27T07:10:45.939Z"
   },
   {
    "duration": 529,
    "start_time": "2022-10-27T07:10:57.841Z"
   },
   {
    "duration": 422,
    "start_time": "2022-10-27T07:11:17.908Z"
   },
   {
    "duration": 552,
    "start_time": "2022-10-27T07:11:38.162Z"
   },
   {
    "duration": 462,
    "start_time": "2022-10-27T07:11:50.037Z"
   },
   {
    "duration": 499,
    "start_time": "2022-10-27T07:12:03.242Z"
   },
   {
    "duration": 309,
    "start_time": "2022-10-27T08:22:34.960Z"
   },
   {
    "duration": 437,
    "start_time": "2022-10-27T08:23:25.568Z"
   },
   {
    "duration": 83,
    "start_time": "2022-10-27T08:50:34.495Z"
   },
   {
    "duration": 79,
    "start_time": "2022-10-27T08:56:22.275Z"
   },
   {
    "duration": 12,
    "start_time": "2022-10-27T10:23:56.009Z"
   },
   {
    "duration": 18,
    "start_time": "2022-10-27T10:26:26.162Z"
   },
   {
    "duration": 151,
    "start_time": "2022-10-27T10:28:56.077Z"
   },
   {
    "duration": 156,
    "start_time": "2022-10-27T10:29:08.622Z"
   },
   {
    "duration": 263,
    "start_time": "2022-10-27T10:29:45.112Z"
   },
   {
    "duration": 156,
    "start_time": "2022-10-27T10:36:21.785Z"
   },
   {
    "duration": 11,
    "start_time": "2022-10-27T10:36:36.729Z"
   },
   {
    "duration": 10,
    "start_time": "2022-10-27T10:36:38.833Z"
   },
   {
    "duration": 150,
    "start_time": "2022-10-27T10:37:50.526Z"
   },
   {
    "duration": 425,
    "start_time": "2022-10-27T10:49:30.200Z"
   },
   {
    "duration": 734,
    "start_time": "2022-10-27T10:49:30.627Z"
   },
   {
    "duration": 3,
    "start_time": "2022-10-27T10:49:31.362Z"
   },
   {
    "duration": 12,
    "start_time": "2022-10-27T10:49:31.366Z"
   },
   {
    "duration": 63,
    "start_time": "2022-10-27T10:49:31.380Z"
   },
   {
    "duration": 18,
    "start_time": "2022-10-27T10:49:31.445Z"
   },
   {
    "duration": 23,
    "start_time": "2022-10-27T10:49:31.465Z"
   },
   {
    "duration": 41,
    "start_time": "2022-10-27T10:49:31.489Z"
   },
   {
    "duration": 2,
    "start_time": "2022-10-27T10:49:31.532Z"
   },
   {
    "duration": 39,
    "start_time": "2022-10-27T10:49:31.536Z"
   },
   {
    "duration": 15,
    "start_time": "2022-10-27T10:49:31.577Z"
   },
   {
    "duration": 25,
    "start_time": "2022-10-27T10:49:31.594Z"
   },
   {
    "duration": 23,
    "start_time": "2022-10-27T10:49:31.620Z"
   },
   {
    "duration": 53,
    "start_time": "2022-10-27T10:49:31.646Z"
   },
   {
    "duration": 8,
    "start_time": "2022-10-27T10:49:31.700Z"
   },
   {
    "duration": 26,
    "start_time": "2022-10-27T10:49:31.710Z"
   },
   {
    "duration": 29,
    "start_time": "2022-10-27T10:49:31.739Z"
   },
   {
    "duration": 28,
    "start_time": "2022-10-27T10:49:31.769Z"
   },
   {
    "duration": 75,
    "start_time": "2022-10-27T10:49:31.799Z"
   },
   {
    "duration": 8,
    "start_time": "2022-10-27T10:49:31.876Z"
   },
   {
    "duration": 20,
    "start_time": "2022-10-27T10:49:31.891Z"
   },
   {
    "duration": 20,
    "start_time": "2022-10-27T10:49:31.912Z"
   },
   {
    "duration": 18,
    "start_time": "2022-10-27T10:49:31.933Z"
   },
   {
    "duration": 48,
    "start_time": "2022-10-27T10:49:31.953Z"
   },
   {
    "duration": 26,
    "start_time": "2022-10-27T10:49:32.003Z"
   },
   {
    "duration": 279,
    "start_time": "2022-10-27T10:49:32.031Z"
   },
   {
    "duration": 65,
    "start_time": "2022-10-27T10:49:32.313Z"
   },
   {
    "duration": 192,
    "start_time": "2022-10-27T10:49:32.379Z"
   },
   {
    "duration": 23,
    "start_time": "2022-10-27T10:49:32.573Z"
   },
   {
    "duration": 274,
    "start_time": "2022-10-27T10:49:32.598Z"
   },
   {
    "duration": 266,
    "start_time": "2022-10-27T10:49:32.874Z"
   },
   {
    "duration": 365,
    "start_time": "2022-10-27T10:49:33.141Z"
   },
   {
    "duration": 414,
    "start_time": "2022-10-27T10:49:33.508Z"
   },
   {
    "duration": 157,
    "start_time": "2022-10-27T10:49:33.924Z"
   },
   {
    "duration": 169,
    "start_time": "2022-10-27T10:49:34.083Z"
   },
   {
    "duration": 164,
    "start_time": "2022-10-27T10:49:34.254Z"
   },
   {
    "duration": 203,
    "start_time": "2022-10-27T10:49:34.420Z"
   },
   {
    "duration": 453,
    "start_time": "2022-10-27T10:49:34.625Z"
   },
   {
    "duration": 148,
    "start_time": "2022-10-27T10:49:35.080Z"
   },
   {
    "duration": 0,
    "start_time": "2022-10-27T10:49:35.230Z"
   },
   {
    "duration": 0,
    "start_time": "2022-10-27T10:49:35.232Z"
   },
   {
    "duration": 0,
    "start_time": "2022-10-27T10:49:35.234Z"
   },
   {
    "duration": 0,
    "start_time": "2022-10-27T10:49:35.235Z"
   },
   {
    "duration": 0,
    "start_time": "2022-10-27T10:49:35.237Z"
   },
   {
    "duration": 9,
    "start_time": "2022-10-27T11:13:49.132Z"
   },
   {
    "duration": 1334,
    "start_time": "2022-10-27T11:14:28.987Z"
   },
   {
    "duration": 402,
    "start_time": "2022-10-27T11:14:40.508Z"
   },
   {
    "duration": 718,
    "start_time": "2022-10-27T11:14:40.912Z"
   },
   {
    "duration": 3,
    "start_time": "2022-10-27T11:14:41.632Z"
   },
   {
    "duration": 4,
    "start_time": "2022-10-27T11:14:41.637Z"
   },
   {
    "duration": 55,
    "start_time": "2022-10-27T11:14:41.643Z"
   },
   {
    "duration": 21,
    "start_time": "2022-10-27T11:14:41.700Z"
   },
   {
    "duration": 16,
    "start_time": "2022-10-27T11:14:41.723Z"
   },
   {
    "duration": 28,
    "start_time": "2022-10-27T11:14:41.741Z"
   },
   {
    "duration": 3,
    "start_time": "2022-10-27T11:14:41.791Z"
   },
   {
    "duration": 11,
    "start_time": "2022-10-27T11:14:41.797Z"
   },
   {
    "duration": 4,
    "start_time": "2022-10-27T11:14:41.810Z"
   },
   {
    "duration": 11,
    "start_time": "2022-10-27T11:14:41.816Z"
   },
   {
    "duration": 20,
    "start_time": "2022-10-27T11:14:41.829Z"
   },
   {
    "duration": 80,
    "start_time": "2022-10-27T11:14:41.850Z"
   },
   {
    "duration": 9,
    "start_time": "2022-10-27T11:14:41.931Z"
   },
   {
    "duration": 13,
    "start_time": "2022-10-27T11:14:41.941Z"
   },
   {
    "duration": 5,
    "start_time": "2022-10-27T11:14:41.956Z"
   },
   {
    "duration": 30,
    "start_time": "2022-10-27T11:14:41.962Z"
   },
   {
    "duration": 63,
    "start_time": "2022-10-27T11:14:41.993Z"
   },
   {
    "duration": 10,
    "start_time": "2022-10-27T11:14:42.058Z"
   },
   {
    "duration": 24,
    "start_time": "2022-10-27T11:14:42.070Z"
   },
   {
    "duration": 9,
    "start_time": "2022-10-27T11:14:42.096Z"
   },
   {
    "duration": 4,
    "start_time": "2022-10-27T11:14:42.107Z"
   },
   {
    "duration": 18,
    "start_time": "2022-10-27T11:14:42.112Z"
   },
   {
    "duration": 8,
    "start_time": "2022-10-27T11:14:42.131Z"
   },
   {
    "duration": 245,
    "start_time": "2022-10-27T11:14:42.141Z"
   },
   {
    "duration": 65,
    "start_time": "2022-10-27T11:14:42.391Z"
   },
   {
    "duration": 185,
    "start_time": "2022-10-27T11:14:42.460Z"
   },
   {
    "duration": 16,
    "start_time": "2022-10-27T11:14:42.647Z"
   },
   {
    "duration": 291,
    "start_time": "2022-10-27T11:14:42.665Z"
   },
   {
    "duration": 268,
    "start_time": "2022-10-27T11:14:42.959Z"
   },
   {
    "duration": 375,
    "start_time": "2022-10-27T11:14:43.229Z"
   },
   {
    "duration": 411,
    "start_time": "2022-10-27T11:14:43.605Z"
   },
   {
    "duration": 175,
    "start_time": "2022-10-27T11:14:44.017Z"
   },
   {
    "duration": 171,
    "start_time": "2022-10-27T11:14:44.194Z"
   },
   {
    "duration": 177,
    "start_time": "2022-10-27T11:14:44.367Z"
   },
   {
    "duration": 168,
    "start_time": "2022-10-27T11:14:44.546Z"
   },
   {
    "duration": 459,
    "start_time": "2022-10-27T11:14:44.716Z"
   },
   {
    "duration": 146,
    "start_time": "2022-10-27T11:14:45.177Z"
   },
   {
    "duration": 0,
    "start_time": "2022-10-27T11:14:45.325Z"
   },
   {
    "duration": 0,
    "start_time": "2022-10-27T11:14:45.327Z"
   },
   {
    "duration": 0,
    "start_time": "2022-10-27T11:14:45.328Z"
   },
   {
    "duration": 0,
    "start_time": "2022-10-27T11:14:45.329Z"
   },
   {
    "duration": 0,
    "start_time": "2022-10-27T11:14:45.330Z"
   },
   {
    "duration": 15,
    "start_time": "2022-10-27T11:14:55.020Z"
   },
   {
    "duration": 13,
    "start_time": "2022-10-27T11:15:54.799Z"
   },
   {
    "duration": 415,
    "start_time": "2022-10-27T11:16:00.381Z"
   },
   {
    "duration": 850,
    "start_time": "2022-10-27T11:16:00.799Z"
   },
   {
    "duration": 3,
    "start_time": "2022-10-27T11:16:01.650Z"
   },
   {
    "duration": 17,
    "start_time": "2022-10-27T11:16:01.655Z"
   },
   {
    "duration": 59,
    "start_time": "2022-10-27T11:16:01.674Z"
   },
   {
    "duration": 18,
    "start_time": "2022-10-27T11:16:01.735Z"
   },
   {
    "duration": 15,
    "start_time": "2022-10-27T11:16:01.754Z"
   },
   {
    "duration": 35,
    "start_time": "2022-10-27T11:16:01.770Z"
   },
   {
    "duration": 5,
    "start_time": "2022-10-27T11:16:01.807Z"
   },
   {
    "duration": 10,
    "start_time": "2022-10-27T11:16:01.814Z"
   },
   {
    "duration": 4,
    "start_time": "2022-10-27T11:16:01.826Z"
   },
   {
    "duration": 13,
    "start_time": "2022-10-27T11:16:01.831Z"
   },
   {
    "duration": 19,
    "start_time": "2022-10-27T11:16:01.846Z"
   },
   {
    "duration": 60,
    "start_time": "2022-10-27T11:16:01.890Z"
   },
   {
    "duration": 8,
    "start_time": "2022-10-27T11:16:01.952Z"
   },
   {
    "duration": 34,
    "start_time": "2022-10-27T11:16:01.962Z"
   },
   {
    "duration": 5,
    "start_time": "2022-10-27T11:16:02.002Z"
   },
   {
    "duration": 21,
    "start_time": "2022-10-27T11:16:02.009Z"
   },
   {
    "duration": 67,
    "start_time": "2022-10-27T11:16:02.031Z"
   },
   {
    "duration": 11,
    "start_time": "2022-10-27T11:16:02.099Z"
   },
   {
    "duration": 30,
    "start_time": "2022-10-27T11:16:02.112Z"
   },
   {
    "duration": 11,
    "start_time": "2022-10-27T11:16:02.143Z"
   },
   {
    "duration": 5,
    "start_time": "2022-10-27T11:16:02.155Z"
   },
   {
    "duration": 17,
    "start_time": "2022-10-27T11:16:02.162Z"
   },
   {
    "duration": 11,
    "start_time": "2022-10-27T11:16:02.180Z"
   },
   {
    "duration": 235,
    "start_time": "2022-10-27T11:16:02.193Z"
   },
   {
    "duration": 82,
    "start_time": "2022-10-27T11:16:02.430Z"
   },
   {
    "duration": 196,
    "start_time": "2022-10-27T11:16:02.515Z"
   },
   {
    "duration": 17,
    "start_time": "2022-10-27T11:16:02.712Z"
   },
   {
    "duration": 313,
    "start_time": "2022-10-27T11:16:02.731Z"
   },
   {
    "duration": 266,
    "start_time": "2022-10-27T11:16:03.046Z"
   },
   {
    "duration": 416,
    "start_time": "2022-10-27T11:16:03.314Z"
   },
   {
    "duration": 434,
    "start_time": "2022-10-27T11:16:03.732Z"
   },
   {
    "duration": 166,
    "start_time": "2022-10-27T11:16:04.168Z"
   },
   {
    "duration": 214,
    "start_time": "2022-10-27T11:16:04.336Z"
   },
   {
    "duration": 163,
    "start_time": "2022-10-27T11:16:04.551Z"
   },
   {
    "duration": 188,
    "start_time": "2022-10-27T11:16:04.716Z"
   },
   {
    "duration": 460,
    "start_time": "2022-10-27T11:16:04.907Z"
   },
   {
    "duration": 157,
    "start_time": "2022-10-27T11:16:05.369Z"
   },
   {
    "duration": 0,
    "start_time": "2022-10-27T11:16:05.527Z"
   },
   {
    "duration": 0,
    "start_time": "2022-10-27T11:16:05.528Z"
   },
   {
    "duration": 0,
    "start_time": "2022-10-27T11:16:05.529Z"
   },
   {
    "duration": 0,
    "start_time": "2022-10-27T11:16:05.531Z"
   },
   {
    "duration": 0,
    "start_time": "2022-10-27T11:16:05.532Z"
   },
   {
    "duration": 3,
    "start_time": "2022-10-27T11:16:30.333Z"
   },
   {
    "duration": 3,
    "start_time": "2022-10-27T11:16:30.961Z"
   },
   {
    "duration": 3,
    "start_time": "2022-10-27T11:16:31.406Z"
   },
   {
    "duration": 4,
    "start_time": "2022-10-27T11:16:31.863Z"
   },
   {
    "duration": 71,
    "start_time": "2022-10-27T11:16:32.379Z"
   },
   {
    "duration": 21,
    "start_time": "2022-10-27T11:16:40.896Z"
   },
   {
    "duration": 14,
    "start_time": "2022-10-27T11:16:42.374Z"
   },
   {
    "duration": 32,
    "start_time": "2022-10-27T11:16:45.923Z"
   },
   {
    "duration": 4,
    "start_time": "2022-10-27T11:16:48.172Z"
   },
   {
    "duration": 10,
    "start_time": "2022-10-27T11:16:48.915Z"
   },
   {
    "duration": 4,
    "start_time": "2022-10-27T11:16:57.220Z"
   },
   {
    "duration": 15,
    "start_time": "2022-10-27T11:16:58.042Z"
   },
   {
    "duration": 19,
    "start_time": "2022-10-27T11:16:59.115Z"
   },
   {
    "duration": 54,
    "start_time": "2022-10-27T11:16:59.792Z"
   },
   {
    "duration": 5,
    "start_time": "2022-10-27T11:17:19.963Z"
   },
   {
    "duration": 9,
    "start_time": "2022-10-27T11:17:24.376Z"
   },
   {
    "duration": 9,
    "start_time": "2022-10-27T11:17:43.337Z"
   },
   {
    "duration": 65,
    "start_time": "2022-10-27T11:17:50.618Z"
   },
   {
    "duration": 13,
    "start_time": "2022-10-27T11:18:04.421Z"
   },
   {
    "duration": 5,
    "start_time": "2022-10-27T11:18:13.019Z"
   },
   {
    "duration": 9,
    "start_time": "2022-10-27T11:18:17.650Z"
   },
   {
    "duration": 5,
    "start_time": "2022-10-27T11:18:26.035Z"
   },
   {
    "duration": 16,
    "start_time": "2022-10-27T11:18:38.033Z"
   },
   {
    "duration": 6,
    "start_time": "2022-10-27T11:18:43.260Z"
   },
   {
    "duration": 22,
    "start_time": "2022-10-27T11:19:23.160Z"
   },
   {
    "duration": 9,
    "start_time": "2022-10-27T11:19:35.338Z"
   },
   {
    "duration": 5,
    "start_time": "2022-10-27T11:19:54.834Z"
   },
   {
    "duration": 8,
    "start_time": "2022-10-27T11:19:58.162Z"
   },
   {
    "duration": 49,
    "start_time": "2022-10-27T11:20:03.501Z"
   },
   {
    "duration": 10,
    "start_time": "2022-10-27T11:20:07.250Z"
   },
   {
    "duration": 4,
    "start_time": "2022-10-27T11:20:11.846Z"
   },
   {
    "duration": 10,
    "start_time": "2022-10-27T11:20:21.398Z"
   },
   {
    "duration": 5,
    "start_time": "2022-10-27T11:20:25.047Z"
   },
   {
    "duration": 370,
    "start_time": "2022-10-27T11:20:32.150Z"
   },
   {
    "duration": 798,
    "start_time": "2022-10-27T11:20:32.523Z"
   },
   {
    "duration": 3,
    "start_time": "2022-10-27T11:20:33.323Z"
   },
   {
    "duration": 6,
    "start_time": "2022-10-27T11:20:33.328Z"
   },
   {
    "duration": 56,
    "start_time": "2022-10-27T11:20:33.336Z"
   },
   {
    "duration": 18,
    "start_time": "2022-10-27T11:20:33.394Z"
   },
   {
    "duration": 15,
    "start_time": "2022-10-27T11:20:33.414Z"
   },
   {
    "duration": 34,
    "start_time": "2022-10-27T11:20:33.430Z"
   },
   {
    "duration": 27,
    "start_time": "2022-10-27T11:20:33.466Z"
   },
   {
    "duration": 14,
    "start_time": "2022-10-27T11:20:33.496Z"
   },
   {
    "duration": 5,
    "start_time": "2022-10-27T11:20:33.512Z"
   },
   {
    "duration": 14,
    "start_time": "2022-10-27T11:20:33.518Z"
   },
   {
    "duration": 21,
    "start_time": "2022-10-27T11:20:33.533Z"
   },
   {
    "duration": 82,
    "start_time": "2022-10-27T11:20:33.555Z"
   },
   {
    "duration": 9,
    "start_time": "2022-10-27T11:20:33.639Z"
   },
   {
    "duration": 16,
    "start_time": "2022-10-27T11:20:33.649Z"
   },
   {
    "duration": 24,
    "start_time": "2022-10-27T11:20:33.667Z"
   },
   {
    "duration": 10,
    "start_time": "2022-10-27T11:20:33.693Z"
   },
   {
    "duration": 65,
    "start_time": "2022-10-27T11:20:33.705Z"
   },
   {
    "duration": 10,
    "start_time": "2022-10-27T11:20:33.794Z"
   },
   {
    "duration": 5,
    "start_time": "2022-10-27T11:20:33.805Z"
   },
   {
    "duration": 14,
    "start_time": "2022-10-27T11:20:33.812Z"
   },
   {
    "duration": 5,
    "start_time": "2022-10-27T11:20:33.828Z"
   },
   {
    "duration": 20,
    "start_time": "2022-10-27T11:20:33.834Z"
   },
   {
    "duration": 37,
    "start_time": "2022-10-27T11:20:33.855Z"
   },
   {
    "duration": 245,
    "start_time": "2022-10-27T11:20:33.894Z"
   },
   {
    "duration": 74,
    "start_time": "2022-10-27T11:20:34.140Z"
   },
   {
    "duration": 184,
    "start_time": "2022-10-27T11:20:34.218Z"
   },
   {
    "duration": 21,
    "start_time": "2022-10-27T11:20:34.404Z"
   },
   {
    "duration": 326,
    "start_time": "2022-10-27T11:20:34.426Z"
   },
   {
    "duration": 276,
    "start_time": "2022-10-27T11:20:34.754Z"
   },
   {
    "duration": 365,
    "start_time": "2022-10-27T11:20:35.032Z"
   },
   {
    "duration": 453,
    "start_time": "2022-10-27T11:20:35.398Z"
   },
   {
    "duration": 180,
    "start_time": "2022-10-27T11:20:35.853Z"
   },
   {
    "duration": 199,
    "start_time": "2022-10-27T11:20:36.035Z"
   },
   {
    "duration": 168,
    "start_time": "2022-10-27T11:20:36.236Z"
   },
   {
    "duration": 235,
    "start_time": "2022-10-27T11:20:36.406Z"
   },
   {
    "duration": 518,
    "start_time": "2022-10-27T11:20:36.644Z"
   },
   {
    "duration": 163,
    "start_time": "2022-10-27T11:20:37.163Z"
   },
   {
    "duration": 0,
    "start_time": "2022-10-27T11:20:37.328Z"
   },
   {
    "duration": 0,
    "start_time": "2022-10-27T11:20:37.330Z"
   },
   {
    "duration": 0,
    "start_time": "2022-10-27T11:20:37.332Z"
   },
   {
    "duration": 0,
    "start_time": "2022-10-27T11:20:37.333Z"
   },
   {
    "duration": 0,
    "start_time": "2022-10-27T11:20:37.335Z"
   },
   {
    "duration": 264,
    "start_time": "2022-10-27T11:26:08.480Z"
   },
   {
    "duration": 248,
    "start_time": "2022-10-27T11:26:38.829Z"
   },
   {
    "duration": 505,
    "start_time": "2022-10-27T11:27:22.416Z"
   },
   {
    "duration": 191,
    "start_time": "2022-10-27T11:32:31.038Z"
   },
   {
    "duration": 194,
    "start_time": "2022-10-27T11:32:40.231Z"
   },
   {
    "duration": 209,
    "start_time": "2022-10-27T11:32:47.036Z"
   },
   {
    "duration": 201,
    "start_time": "2022-10-27T11:41:35.099Z"
   },
   {
    "duration": 201,
    "start_time": "2022-10-27T11:42:11.192Z"
   },
   {
    "duration": 12,
    "start_time": "2022-10-27T11:52:46.109Z"
   },
   {
    "duration": 15,
    "start_time": "2022-10-27T11:54:01.114Z"
   },
   {
    "duration": 10,
    "start_time": "2022-10-27T12:12:37.798Z"
   },
   {
    "duration": 170,
    "start_time": "2022-10-27T12:13:56.683Z"
   },
   {
    "duration": 435,
    "start_time": "2022-10-27T12:32:24.877Z"
   },
   {
    "duration": 769,
    "start_time": "2022-10-27T12:32:25.316Z"
   },
   {
    "duration": 9,
    "start_time": "2022-10-27T12:32:26.087Z"
   },
   {
    "duration": 44,
    "start_time": "2022-10-27T12:32:26.099Z"
   },
   {
    "duration": 100,
    "start_time": "2022-10-27T12:32:26.146Z"
   },
   {
    "duration": 19,
    "start_time": "2022-10-27T12:32:26.248Z"
   },
   {
    "duration": 22,
    "start_time": "2022-10-27T12:32:26.269Z"
   },
   {
    "duration": 36,
    "start_time": "2022-10-27T12:32:26.297Z"
   },
   {
    "duration": 3,
    "start_time": "2022-10-27T12:32:26.334Z"
   },
   {
    "duration": 31,
    "start_time": "2022-10-27T12:32:26.339Z"
   },
   {
    "duration": 28,
    "start_time": "2022-10-27T12:32:26.371Z"
   },
   {
    "duration": 37,
    "start_time": "2022-10-27T12:32:26.401Z"
   },
   {
    "duration": 37,
    "start_time": "2022-10-27T12:32:26.440Z"
   },
   {
    "duration": 64,
    "start_time": "2022-10-27T12:32:26.480Z"
   },
   {
    "duration": 13,
    "start_time": "2022-10-27T12:32:26.546Z"
   },
   {
    "duration": 44,
    "start_time": "2022-10-27T12:32:26.562Z"
   },
   {
    "duration": 24,
    "start_time": "2022-10-27T12:32:26.608Z"
   },
   {
    "duration": 29,
    "start_time": "2022-10-27T12:32:26.634Z"
   },
   {
    "duration": 79,
    "start_time": "2022-10-27T12:32:26.667Z"
   },
   {
    "duration": 11,
    "start_time": "2022-10-27T12:32:26.748Z"
   },
   {
    "duration": 39,
    "start_time": "2022-10-27T12:32:26.762Z"
   },
   {
    "duration": 39,
    "start_time": "2022-10-27T12:32:26.802Z"
   },
   {
    "duration": 6,
    "start_time": "2022-10-27T12:32:26.843Z"
   },
   {
    "duration": 26,
    "start_time": "2022-10-27T12:32:26.851Z"
   },
   {
    "duration": 10,
    "start_time": "2022-10-27T12:32:26.879Z"
   },
   {
    "duration": 252,
    "start_time": "2022-10-27T12:32:26.891Z"
   },
   {
    "duration": 117,
    "start_time": "2022-10-27T12:32:27.145Z"
   },
   {
    "duration": 198,
    "start_time": "2022-10-27T12:32:27.264Z"
   },
   {
    "duration": 30,
    "start_time": "2022-10-27T12:32:27.464Z"
   },
   {
    "duration": 288,
    "start_time": "2022-10-27T12:32:27.507Z"
   },
   {
    "duration": 282,
    "start_time": "2022-10-27T12:32:27.796Z"
   },
   {
    "duration": 392,
    "start_time": "2022-10-27T12:32:28.079Z"
   },
   {
    "duration": 460,
    "start_time": "2022-10-27T12:32:28.473Z"
   },
   {
    "duration": 176,
    "start_time": "2022-10-27T12:32:28.935Z"
   },
   {
    "duration": 189,
    "start_time": "2022-10-27T12:32:29.113Z"
   },
   {
    "duration": 167,
    "start_time": "2022-10-27T12:32:29.311Z"
   },
   {
    "duration": 187,
    "start_time": "2022-10-27T12:32:29.480Z"
   },
   {
    "duration": 490,
    "start_time": "2022-10-27T12:32:29.669Z"
   },
   {
    "duration": 210,
    "start_time": "2022-10-27T12:32:30.161Z"
   },
   {
    "duration": 242,
    "start_time": "2022-10-27T12:32:30.373Z"
   },
   {
    "duration": 325,
    "start_time": "2022-10-27T12:32:30.618Z"
   },
   {
    "duration": 10,
    "start_time": "2022-10-27T12:32:30.945Z"
   },
   {
    "duration": 21,
    "start_time": "2022-10-27T12:32:30.956Z"
   }
  ],
  "kernelspec": {
   "display_name": "Python 3 (ipykernel)",
   "language": "python",
   "name": "python3"
  },
  "language_info": {
   "codemirror_mode": {
    "name": "ipython",
    "version": 3
   },
   "file_extension": ".py",
   "mimetype": "text/x-python",
   "name": "python",
   "nbconvert_exporter": "python",
   "pygments_lexer": "ipython3",
   "version": "3.9.5"
  },
  "toc": {
   "base_numbering": 1,
   "nav_menu": {},
   "number_sections": true,
   "sideBar": true,
   "skip_h1_title": true,
   "title_cell": "Table of Contents",
   "title_sidebar": "Contents",
   "toc_cell": false,
   "toc_position": {},
   "toc_section_display": true,
   "toc_window_display": false
  }
 },
 "nbformat": 4,
 "nbformat_minor": 2
}
